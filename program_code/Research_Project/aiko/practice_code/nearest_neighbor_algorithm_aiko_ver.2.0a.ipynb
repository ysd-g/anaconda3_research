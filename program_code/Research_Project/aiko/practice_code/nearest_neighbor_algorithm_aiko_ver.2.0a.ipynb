{
 "cells": [
  {
   "cell_type": "code",
   "execution_count": 627,
   "metadata": {},
   "outputs": [],
   "source": [
    "#k最近傍法（2018年12月〜2019年6月中旬までの糖度を予測）"
   ]
  },
  {
   "cell_type": "code",
   "execution_count": 691,
   "metadata": {},
   "outputs": [],
   "source": [
    "%matplotlib inline\n",
    "import sys\n",
    "sys.path.append('/home/yoshida/.pyenv/versions/3.6.6/lib/python3.6/site-packages')\n",
    "\n",
    "import numpy as np\n",
    "import pandas as pd\n",
    "import matplotlib.pyplot as plt\n",
    "import matplotlib.pyplot as plt\n",
    "import seaborn as sns\n",
    "plt.style.use('ggplot')\n",
    "\n",
    "from sklearn.neighbors import KNeighborsClassifier\n",
    "from sklearn.model_selection import train_test_split"
   ]
  },
  {
   "cell_type": "code",
   "execution_count": 692,
   "metadata": {},
   "outputs": [],
   "source": [
    "# データの読み込み\n",
    "data = pd.read_csv(\"../src/Aiko_normalization_ver3_aaa.csv\")\n",
    "df = pd.DataFrame(data)"
   ]
  },
  {
   "cell_type": "code",
   "execution_count": 693,
   "metadata": {},
   "outputs": [],
   "source": [
    "df.drop(['No','width','height','seed_date','house','url', 'COL_21'], axis=1, inplace=True) #対象の列を削除"
   ]
  },
  {
   "cell_type": "code",
   "execution_count": 694,
   "metadata": {},
   "outputs": [
    {
     "name": "stdout",
     "output_type": "stream",
     "text": [
      "<class 'pandas.core.frame.DataFrame'>\n",
      "RangeIndex: 2176 entries, 0 to 2175\n",
      "Data columns (total 14 columns):\n",
      "current_date      2176 non-null object\n",
      "sweet             2176 non-null float64\n",
      "sweet_category    2176 non-null int64\n",
      "size              2176 non-null float64\n",
      "AveCO2_7          2176 non-null float64\n",
      "AveSatu_7         2176 non-null float64\n",
      "AveHum_7          2176 non-null float64\n",
      "AveTemp_7         2176 non-null float64\n",
      "AveMaxTemp_7      2176 non-null float64\n",
      "AveMinTemp_7      2176 non-null float64\n",
      "AveDiffTemp_7     2176 non-null float64\n",
      "SumMaxTemp_7      2176 non-null float64\n",
      "SumMinTemp_7      2176 non-null float64\n",
      "SumDiffTemp_7     2176 non-null float64\n",
      "dtypes: float64(12), int64(1), object(1)\n",
      "memory usage: 238.1+ KB\n"
     ]
    }
   ],
   "source": [
    "df.info()"
   ]
  },
  {
   "cell_type": "code",
   "execution_count": 695,
   "metadata": {},
   "outputs": [],
   "source": [
    "# AveDiffTemp_7、AveSatu_7、monthを対象としたい時\n",
    "#df.drop(['AveCO2_7', 'AveSatu_7', 'AveTemp_7', 'AveHum_7', 'AveMinTemp_7', 'AveDiffTemp_7', 'SumMaxTemp_7','SumMinTemp_7','SumDiffTemp_7'], axis=1, inplace=True)"
   ]
  },
  {
   "cell_type": "code",
   "execution_count": 696,
   "metadata": {},
   "outputs": [
    {
     "data": {
      "text/html": [
       "<div>\n",
       "<style scoped>\n",
       "    .dataframe tbody tr th:only-of-type {\n",
       "        vertical-align: middle;\n",
       "    }\n",
       "\n",
       "    .dataframe tbody tr th {\n",
       "        vertical-align: top;\n",
       "    }\n",
       "\n",
       "    .dataframe thead th {\n",
       "        text-align: right;\n",
       "    }\n",
       "</style>\n",
       "<table border=\"1\" class=\"dataframe\">\n",
       "  <thead>\n",
       "    <tr style=\"text-align: right;\">\n",
       "      <th></th>\n",
       "      <th>current_date</th>\n",
       "      <th>sweet</th>\n",
       "      <th>sweet_category</th>\n",
       "      <th>size</th>\n",
       "      <th>AveCO2_7</th>\n",
       "      <th>AveSatu_7</th>\n",
       "      <th>AveHum_7</th>\n",
       "      <th>AveTemp_7</th>\n",
       "      <th>AveMaxTemp_7</th>\n",
       "      <th>AveMinTemp_7</th>\n",
       "      <th>AveDiffTemp_7</th>\n",
       "      <th>SumMaxTemp_7</th>\n",
       "      <th>SumMinTemp_7</th>\n",
       "      <th>SumDiffTemp_7</th>\n",
       "    </tr>\n",
       "  </thead>\n",
       "  <tbody>\n",
       "    <tr>\n",
       "      <th>0</th>\n",
       "      <td>11月28日</td>\n",
       "      <td>4.3</td>\n",
       "      <td>2</td>\n",
       "      <td>7.54</td>\n",
       "      <td>614.28</td>\n",
       "      <td>6.17</td>\n",
       "      <td>66.84</td>\n",
       "      <td>21.14</td>\n",
       "      <td>26.24</td>\n",
       "      <td>18.83</td>\n",
       "      <td>7.41</td>\n",
       "      <td>183.7</td>\n",
       "      <td>131.8</td>\n",
       "      <td>51.9</td>\n",
       "    </tr>\n",
       "    <tr>\n",
       "      <th>1</th>\n",
       "      <td>11月28日</td>\n",
       "      <td>4.5</td>\n",
       "      <td>2</td>\n",
       "      <td>6.48</td>\n",
       "      <td>614.28</td>\n",
       "      <td>6.17</td>\n",
       "      <td>66.84</td>\n",
       "      <td>21.14</td>\n",
       "      <td>26.24</td>\n",
       "      <td>18.83</td>\n",
       "      <td>7.41</td>\n",
       "      <td>183.7</td>\n",
       "      <td>131.8</td>\n",
       "      <td>51.9</td>\n",
       "    </tr>\n",
       "    <tr>\n",
       "      <th>2</th>\n",
       "      <td>11月28日</td>\n",
       "      <td>4.0</td>\n",
       "      <td>1</td>\n",
       "      <td>8.68</td>\n",
       "      <td>614.28</td>\n",
       "      <td>6.17</td>\n",
       "      <td>66.84</td>\n",
       "      <td>21.14</td>\n",
       "      <td>26.24</td>\n",
       "      <td>18.83</td>\n",
       "      <td>7.41</td>\n",
       "      <td>183.7</td>\n",
       "      <td>131.8</td>\n",
       "      <td>51.9</td>\n",
       "    </tr>\n",
       "    <tr>\n",
       "      <th>3</th>\n",
       "      <td>11月28日</td>\n",
       "      <td>3.5</td>\n",
       "      <td>1</td>\n",
       "      <td>10.50</td>\n",
       "      <td>614.28</td>\n",
       "      <td>6.17</td>\n",
       "      <td>66.84</td>\n",
       "      <td>21.14</td>\n",
       "      <td>26.24</td>\n",
       "      <td>18.83</td>\n",
       "      <td>7.41</td>\n",
       "      <td>183.7</td>\n",
       "      <td>131.8</td>\n",
       "      <td>51.9</td>\n",
       "    </tr>\n",
       "    <tr>\n",
       "      <th>4</th>\n",
       "      <td>11月28日</td>\n",
       "      <td>4.3</td>\n",
       "      <td>2</td>\n",
       "      <td>7.00</td>\n",
       "      <td>614.28</td>\n",
       "      <td>6.17</td>\n",
       "      <td>66.84</td>\n",
       "      <td>21.14</td>\n",
       "      <td>26.24</td>\n",
       "      <td>18.83</td>\n",
       "      <td>7.41</td>\n",
       "      <td>183.7</td>\n",
       "      <td>131.8</td>\n",
       "      <td>51.9</td>\n",
       "    </tr>\n",
       "  </tbody>\n",
       "</table>\n",
       "</div>"
      ],
      "text/plain": [
       "  current_date  sweet  sweet_category   size  AveCO2_7  AveSatu_7  AveHum_7  \\\n",
       "0       11月28日    4.3               2   7.54    614.28       6.17     66.84   \n",
       "1       11月28日    4.5               2   6.48    614.28       6.17     66.84   \n",
       "2       11月28日    4.0               1   8.68    614.28       6.17     66.84   \n",
       "3       11月28日    3.5               1  10.50    614.28       6.17     66.84   \n",
       "4       11月28日    4.3               2   7.00    614.28       6.17     66.84   \n",
       "\n",
       "   AveTemp_7  AveMaxTemp_7  AveMinTemp_7  AveDiffTemp_7  SumMaxTemp_7  \\\n",
       "0      21.14         26.24         18.83           7.41         183.7   \n",
       "1      21.14         26.24         18.83           7.41         183.7   \n",
       "2      21.14         26.24         18.83           7.41         183.7   \n",
       "3      21.14         26.24         18.83           7.41         183.7   \n",
       "4      21.14         26.24         18.83           7.41         183.7   \n",
       "\n",
       "   SumMinTemp_7  SumDiffTemp_7  \n",
       "0         131.8           51.9  \n",
       "1         131.8           51.9  \n",
       "2         131.8           51.9  \n",
       "3         131.8           51.9  \n",
       "4         131.8           51.9  "
      ]
     },
     "execution_count": 696,
     "metadata": {},
     "output_type": "execute_result"
    }
   ],
   "source": [
    "df.head()"
   ]
  },
  {
   "cell_type": "code",
   "execution_count": 697,
   "metadata": {},
   "outputs": [],
   "source": [
    "# 'AveCO2_7', 'AveSatu_7', 'AveHum_7', 'AveTemp_7', 'AveMaxTemp_7', 'AveMinTemp_7','AveDiffTemp_7','SumMaxTemp_7','SumMinTemp_7','SumDiffTemp_7'"
   ]
  },
  {
   "cell_type": "code",
   "execution_count": 698,
   "metadata": {},
   "outputs": [
    {
     "name": "stdout",
     "output_type": "stream",
     "text": [
      "(2176, 14)\n"
     ]
    }
   ],
   "source": [
    "df['month'] = df['current_date'].str[:2] # \"11月28日\"とか\"4月3日\"の月日の先頭2文字だけ抽出\n",
    "df['month'] = df['month'].str.strip('月') # このままだと\"4月\"のように\"月\"が入っているので、\"月\"を削除する\n",
    "# 参考：https://deepage.net/features/pandas-str-extract.html\n",
    "# 参考：https://deepage.net/features/pandas-str-replace.html\n",
    "df['month'].isnull().sum() # 欠損値がないかを確認\n",
    "\n",
    "df.drop(['current_date'], axis=1, inplace=True) # current_dateはもう使わない\n",
    "print(df.shape)"
   ]
  },
  {
   "cell_type": "code",
   "execution_count": 699,
   "metadata": {},
   "outputs": [],
   "source": [
    "# 四半期を求める(4~6月:1st、7~9月:2nd、10~12月:3rd、1~3月:4th)(＊＊＊＊使うか使わないか＊＊＊＊)\n",
    "df['quarter'] = df['month'].replace({'4': '1st', '5': '1st', '6': '1st', \n",
    "                                     '7': '2nd', '8': '2nd', '9': '2nd', \n",
    "                                     '10': '3rd', '11': '3rd', '12': '3rd', \n",
    "                                     '1': '4th', '2': '4th', '3': '4th'\n",
    "                                    })"
   ]
  },
  {
   "cell_type": "code",
   "execution_count": 700,
   "metadata": {},
   "outputs": [],
   "source": [
    "# ダミー変数の作成\n",
    "df = pd.get_dummies(df, columns=['quarter'], drop_first=True)"
   ]
  },
  {
   "cell_type": "code",
   "execution_count": 701,
   "metadata": {},
   "outputs": [],
   "source": [
    "df.drop(['month'], axis=1, inplace=True)"
   ]
  },
  {
   "cell_type": "code",
   "execution_count": 702,
   "metadata": {},
   "outputs": [],
   "source": [
    "y = df[\"sweet_category\"] #目的変数\n",
    "df.drop(['sweet_category'], axis=1, inplace=True) #目的変数の列を削除"
   ]
  },
  {
   "cell_type": "code",
   "execution_count": 703,
   "metadata": {},
   "outputs": [],
   "source": [
    "# 検証データとテストデータに分割\n",
    "#stratify は母集団のカテゴリの割合を保って分割するもので、目的変数を指定するのが一般的\n",
    "from sklearn.model_selection import train_test_split\n",
    "X_trainval, X_test, y_trainval, y_test = train_test_split(df, y, test_size=0.3, random_state=0, stratify=y)"
   ]
  },
  {
   "cell_type": "code",
   "execution_count": 704,
   "metadata": {},
   "outputs": [
    {
     "data": {
      "text/html": [
       "<div>\n",
       "<style scoped>\n",
       "    .dataframe tbody tr th:only-of-type {\n",
       "        vertical-align: middle;\n",
       "    }\n",
       "\n",
       "    .dataframe tbody tr th {\n",
       "        vertical-align: top;\n",
       "    }\n",
       "\n",
       "    .dataframe thead th {\n",
       "        text-align: right;\n",
       "    }\n",
       "</style>\n",
       "<table border=\"1\" class=\"dataframe\">\n",
       "  <thead>\n",
       "    <tr style=\"text-align: right;\">\n",
       "      <th></th>\n",
       "      <th>sweet</th>\n",
       "      <th>size</th>\n",
       "      <th>AveCO2_7</th>\n",
       "      <th>AveSatu_7</th>\n",
       "      <th>AveHum_7</th>\n",
       "      <th>AveTemp_7</th>\n",
       "      <th>AveMaxTemp_7</th>\n",
       "      <th>AveMinTemp_7</th>\n",
       "      <th>AveDiffTemp_7</th>\n",
       "      <th>SumMaxTemp_7</th>\n",
       "      <th>SumMinTemp_7</th>\n",
       "      <th>SumDiffTemp_7</th>\n",
       "      <th>quarter_3rd</th>\n",
       "      <th>quarter_4th</th>\n",
       "    </tr>\n",
       "  </thead>\n",
       "  <tbody>\n",
       "    <tr>\n",
       "      <th>680</th>\n",
       "      <td>4.9</td>\n",
       "      <td>6.24</td>\n",
       "      <td>689.22</td>\n",
       "      <td>7.27</td>\n",
       "      <td>59.69</td>\n",
       "      <td>20.39</td>\n",
       "      <td>26.80</td>\n",
       "      <td>17.56</td>\n",
       "      <td>9.24</td>\n",
       "      <td>187.6</td>\n",
       "      <td>122.9</td>\n",
       "      <td>64.7</td>\n",
       "      <td>0</td>\n",
       "      <td>1</td>\n",
       "    </tr>\n",
       "    <tr>\n",
       "      <th>1528</th>\n",
       "      <td>4.7</td>\n",
       "      <td>7.56</td>\n",
       "      <td>480.53</td>\n",
       "      <td>9.33</td>\n",
       "      <td>58.27</td>\n",
       "      <td>23.35</td>\n",
       "      <td>29.89</td>\n",
       "      <td>13.66</td>\n",
       "      <td>16.23</td>\n",
       "      <td>209.2</td>\n",
       "      <td>95.6</td>\n",
       "      <td>113.6</td>\n",
       "      <td>0</td>\n",
       "      <td>0</td>\n",
       "    </tr>\n",
       "    <tr>\n",
       "      <th>1552</th>\n",
       "      <td>4.8</td>\n",
       "      <td>7.28</td>\n",
       "      <td>480.53</td>\n",
       "      <td>9.33</td>\n",
       "      <td>58.27</td>\n",
       "      <td>23.35</td>\n",
       "      <td>29.89</td>\n",
       "      <td>13.66</td>\n",
       "      <td>16.23</td>\n",
       "      <td>209.2</td>\n",
       "      <td>95.6</td>\n",
       "      <td>113.6</td>\n",
       "      <td>0</td>\n",
       "      <td>0</td>\n",
       "    </tr>\n",
       "    <tr>\n",
       "      <th>1607</th>\n",
       "      <td>5.5</td>\n",
       "      <td>4.80</td>\n",
       "      <td>481.18</td>\n",
       "      <td>9.62</td>\n",
       "      <td>60.48</td>\n",
       "      <td>23.74</td>\n",
       "      <td>33.84</td>\n",
       "      <td>19.31</td>\n",
       "      <td>14.53</td>\n",
       "      <td>236.9</td>\n",
       "      <td>135.2</td>\n",
       "      <td>101.7</td>\n",
       "      <td>0</td>\n",
       "      <td>0</td>\n",
       "    </tr>\n",
       "    <tr>\n",
       "      <th>1979</th>\n",
       "      <td>4.6</td>\n",
       "      <td>6.21</td>\n",
       "      <td>421.50</td>\n",
       "      <td>7.36</td>\n",
       "      <td>67.02</td>\n",
       "      <td>23.02</td>\n",
       "      <td>30.74</td>\n",
       "      <td>17.27</td>\n",
       "      <td>13.47</td>\n",
       "      <td>215.2</td>\n",
       "      <td>120.9</td>\n",
       "      <td>94.3</td>\n",
       "      <td>0</td>\n",
       "      <td>0</td>\n",
       "    </tr>\n",
       "  </tbody>\n",
       "</table>\n",
       "</div>"
      ],
      "text/plain": [
       "      sweet  size  AveCO2_7  AveSatu_7  AveHum_7  AveTemp_7  AveMaxTemp_7  \\\n",
       "680     4.9  6.24    689.22       7.27     59.69      20.39         26.80   \n",
       "1528    4.7  7.56    480.53       9.33     58.27      23.35         29.89   \n",
       "1552    4.8  7.28    480.53       9.33     58.27      23.35         29.89   \n",
       "1607    5.5  4.80    481.18       9.62     60.48      23.74         33.84   \n",
       "1979    4.6  6.21    421.50       7.36     67.02      23.02         30.74   \n",
       "\n",
       "      AveMinTemp_7  AveDiffTemp_7  SumMaxTemp_7  SumMinTemp_7  SumDiffTemp_7  \\\n",
       "680          17.56           9.24         187.6         122.9           64.7   \n",
       "1528         13.66          16.23         209.2          95.6          113.6   \n",
       "1552         13.66          16.23         209.2          95.6          113.6   \n",
       "1607         19.31          14.53         236.9         135.2          101.7   \n",
       "1979         17.27          13.47         215.2         120.9           94.3   \n",
       "\n",
       "      quarter_3rd  quarter_4th  \n",
       "680             0            1  \n",
       "1528            0            0  \n",
       "1552            0            0  \n",
       "1607            0            0  \n",
       "1979            0            0  "
      ]
     },
     "execution_count": 704,
     "metadata": {},
     "output_type": "execute_result"
    }
   ],
   "source": [
    "X_trainval.head()"
   ]
  },
  {
   "cell_type": "code",
   "execution_count": 705,
   "metadata": {},
   "outputs": [
    {
     "data": {
      "text/plain": [
       "680     3\n",
       "1528    3\n",
       "1552    3\n",
       "1607    4\n",
       "1979    3\n",
       "Name: sweet_category, dtype: int64"
      ]
     },
     "execution_count": 705,
     "metadata": {},
     "output_type": "execute_result"
    }
   ],
   "source": [
    "y_trainval.head()"
   ]
  },
  {
   "cell_type": "code",
   "execution_count": 706,
   "metadata": {},
   "outputs": [],
   "source": [
    "# indexのリストを取得\n",
    "a = X_trainval.index.values"
   ]
  },
  {
   "cell_type": "code",
   "execution_count": 707,
   "metadata": {},
   "outputs": [],
   "source": [
    "# y_trainvalの型を見る\n",
    "type(y_trainval)\n",
    "# 説明変数と目的変数を再度合体\n",
    "df_trainval = pd.concat([X_trainval, y_trainval], axis=1)"
   ]
  },
  {
   "cell_type": "code",
   "execution_count": 708,
   "metadata": {},
   "outputs": [
    {
     "data": {
      "text/plain": [
       "<matplotlib.axes._subplots.AxesSubplot at 0x7f9b477a3c88>"
      ]
     },
     "execution_count": 708,
     "metadata": {},
     "output_type": "execute_result"
    },
    {
     "data": {
      "image/png": "[encoded data removed]",
      "text/plain": [
       "<Figure size 864x576 with 1 Axes>"
      ]
     },
     "metadata": {},
     "output_type": "display_data"
    }
   ],
   "source": [
    "# df_trainvalの前処理を行う\n",
    "plt.figure(figsize=(12, 8))\n",
    "sns.distplot(df_trainval['sweet'])"
   ]
  },
  {
   "cell_type": "code",
   "execution_count": 709,
   "metadata": {},
   "outputs": [
    {
     "data": {
      "text/html": [
       "<div>\n",
       "<style scoped>\n",
       "    .dataframe tbody tr th:only-of-type {\n",
       "        vertical-align: middle;\n",
       "    }\n",
       "\n",
       "    .dataframe tbody tr th {\n",
       "        vertical-align: top;\n",
       "    }\n",
       "\n",
       "    .dataframe thead th {\n",
       "        text-align: right;\n",
       "    }\n",
       "</style>\n",
       "<table border=\"1\" class=\"dataframe\">\n",
       "  <thead>\n",
       "    <tr style=\"text-align: right;\">\n",
       "      <th></th>\n",
       "      <th>sweet</th>\n",
       "      <th>size</th>\n",
       "      <th>AveCO2_7</th>\n",
       "      <th>AveSatu_7</th>\n",
       "      <th>AveHum_7</th>\n",
       "      <th>AveTemp_7</th>\n",
       "      <th>AveMaxTemp_7</th>\n",
       "      <th>AveMinTemp_7</th>\n",
       "      <th>AveDiffTemp_7</th>\n",
       "      <th>SumMaxTemp_7</th>\n",
       "      <th>SumMinTemp_7</th>\n",
       "      <th>SumDiffTemp_7</th>\n",
       "      <th>quarter_3rd</th>\n",
       "      <th>quarter_4th</th>\n",
       "      <th>sweet_category</th>\n",
       "    </tr>\n",
       "  </thead>\n",
       "  <tbody>\n",
       "    <tr>\n",
       "      <th>680</th>\n",
       "      <td>4.9</td>\n",
       "      <td>6.24</td>\n",
       "      <td>689.22</td>\n",
       "      <td>7.27</td>\n",
       "      <td>59.69</td>\n",
       "      <td>20.39</td>\n",
       "      <td>26.80</td>\n",
       "      <td>17.56</td>\n",
       "      <td>9.24</td>\n",
       "      <td>187.6</td>\n",
       "      <td>122.9</td>\n",
       "      <td>64.7</td>\n",
       "      <td>0</td>\n",
       "      <td>1</td>\n",
       "      <td>3</td>\n",
       "    </tr>\n",
       "    <tr>\n",
       "      <th>1528</th>\n",
       "      <td>4.7</td>\n",
       "      <td>7.56</td>\n",
       "      <td>480.53</td>\n",
       "      <td>9.33</td>\n",
       "      <td>58.27</td>\n",
       "      <td>23.35</td>\n",
       "      <td>29.89</td>\n",
       "      <td>13.66</td>\n",
       "      <td>16.23</td>\n",
       "      <td>209.2</td>\n",
       "      <td>95.6</td>\n",
       "      <td>113.6</td>\n",
       "      <td>0</td>\n",
       "      <td>0</td>\n",
       "      <td>3</td>\n",
       "    </tr>\n",
       "    <tr>\n",
       "      <th>1552</th>\n",
       "      <td>4.8</td>\n",
       "      <td>7.28</td>\n",
       "      <td>480.53</td>\n",
       "      <td>9.33</td>\n",
       "      <td>58.27</td>\n",
       "      <td>23.35</td>\n",
       "      <td>29.89</td>\n",
       "      <td>13.66</td>\n",
       "      <td>16.23</td>\n",
       "      <td>209.2</td>\n",
       "      <td>95.6</td>\n",
       "      <td>113.6</td>\n",
       "      <td>0</td>\n",
       "      <td>0</td>\n",
       "      <td>3</td>\n",
       "    </tr>\n",
       "    <tr>\n",
       "      <th>1607</th>\n",
       "      <td>5.5</td>\n",
       "      <td>4.80</td>\n",
       "      <td>481.18</td>\n",
       "      <td>9.62</td>\n",
       "      <td>60.48</td>\n",
       "      <td>23.74</td>\n",
       "      <td>33.84</td>\n",
       "      <td>19.31</td>\n",
       "      <td>14.53</td>\n",
       "      <td>236.9</td>\n",
       "      <td>135.2</td>\n",
       "      <td>101.7</td>\n",
       "      <td>0</td>\n",
       "      <td>0</td>\n",
       "      <td>4</td>\n",
       "    </tr>\n",
       "    <tr>\n",
       "      <th>1979</th>\n",
       "      <td>4.6</td>\n",
       "      <td>6.21</td>\n",
       "      <td>421.50</td>\n",
       "      <td>7.36</td>\n",
       "      <td>67.02</td>\n",
       "      <td>23.02</td>\n",
       "      <td>30.74</td>\n",
       "      <td>17.27</td>\n",
       "      <td>13.47</td>\n",
       "      <td>215.2</td>\n",
       "      <td>120.9</td>\n",
       "      <td>94.3</td>\n",
       "      <td>0</td>\n",
       "      <td>0</td>\n",
       "      <td>3</td>\n",
       "    </tr>\n",
       "  </tbody>\n",
       "</table>\n",
       "</div>"
      ],
      "text/plain": [
       "      sweet  size  AveCO2_7  AveSatu_7  AveHum_7  AveTemp_7  AveMaxTemp_7  \\\n",
       "680     4.9  6.24    689.22       7.27     59.69      20.39         26.80   \n",
       "1528    4.7  7.56    480.53       9.33     58.27      23.35         29.89   \n",
       "1552    4.8  7.28    480.53       9.33     58.27      23.35         29.89   \n",
       "1607    5.5  4.80    481.18       9.62     60.48      23.74         33.84   \n",
       "1979    4.6  6.21    421.50       7.36     67.02      23.02         30.74   \n",
       "\n",
       "      AveMinTemp_7  AveDiffTemp_7  SumMaxTemp_7  SumMinTemp_7  SumDiffTemp_7  \\\n",
       "680          17.56           9.24         187.6         122.9           64.7   \n",
       "1528         13.66          16.23         209.2          95.6          113.6   \n",
       "1552         13.66          16.23         209.2          95.6          113.6   \n",
       "1607         19.31          14.53         236.9         135.2          101.7   \n",
       "1979         17.27          13.47         215.2         120.9           94.3   \n",
       "\n",
       "      quarter_3rd  quarter_4th  sweet_category  \n",
       "680             0            1               3  \n",
       "1528            0            0               3  \n",
       "1552            0            0               3  \n",
       "1607            0            0               4  \n",
       "1979            0            0               3  "
      ]
     },
     "execution_count": 709,
     "metadata": {},
     "output_type": "execute_result"
    }
   ],
   "source": [
    "df_trainval.head()"
   ]
  },
  {
   "cell_type": "code",
   "execution_count": 710,
   "metadata": {},
   "outputs": [],
   "source": [
    "# sweet_categoryが1のものについて\n",
    "df_trainval_1 = df_trainval[(df_trainval['sweet_category'] == 1)]"
   ]
  },
  {
   "cell_type": "code",
   "execution_count": 711,
   "metadata": {},
   "outputs": [
    {
     "data": {
      "text/plain": [
       "<matplotlib.axes._subplots.AxesSubplot at 0x7f9b463934e0>"
      ]
     },
     "execution_count": 711,
     "metadata": {},
     "output_type": "execute_result"
    },
    {
     "data": {
      "image/png": "[encoded data removed]",
      "text/plain": [
       "<Figure size 720x720 with 1 Axes>"
      ]
     },
     "metadata": {},
     "output_type": "display_data"
    }
   ],
   "source": [
    "# 箱ひげ図\n",
    "plt.figure(figsize=(10, 10))\n",
    "sns.boxplot(df_trainval_1['sweet'], orient='v', width=0.5)"
   ]
  },
  {
   "cell_type": "code",
   "execution_count": 712,
   "metadata": {},
   "outputs": [
    {
     "data": {
      "text/plain": [
       "<matplotlib.axes._subplots.AxesSubplot at 0x7f9b4707df28>"
      ]
     },
     "execution_count": 712,
     "metadata": {},
     "output_type": "execute_result"
    },
    {
     "data": {
      "image/png": "[encoded data removed]",
      "text/plain": [
       "<Figure size 864x576 with 1 Axes>"
      ]
     },
     "metadata": {},
     "output_type": "display_data"
    }
   ],
   "source": [
    "# ヒストグラム\n",
    "plt.figure(figsize=(12, 8))\n",
    "sns.distplot(df_trainval_1['sweet'])"
   ]
  },
  {
   "cell_type": "code",
   "execution_count": 713,
   "metadata": {},
   "outputs": [],
   "source": [
    "# 四分位数\n",
    "def outlier_iqr(df, columns=None):\n",
    "    if columns == None:\n",
    "        columns = df.columns\n",
    "    for col in columns:\n",
    "        q1 = df[col].describe()['25%']\n",
    "        q3 = df[col].describe()['75%']\n",
    "        # 四分位範囲\n",
    "        iqr = q3 - q1\n",
    "        outlier_min = q1 - iqr * 1.5\n",
    "        outlier_max = q3 + iqr * 1.5\n",
    "        # 範囲から外れている値を除く\n",
    "        df = df[(df[col] >= outlier_min) & (df[col] <= outlier_max)]\n",
    "    return df"
   ]
  },
  {
   "cell_type": "code",
   "execution_count": 714,
   "metadata": {},
   "outputs": [],
   "source": [
    "# 標準偏差\n",
    "def outlier_std(df, thresh=3, columns=None):\n",
    "    if columns == None:\n",
    "        columns = df.columns\n",
    "    print(thresh)\n",
    "    for col in columns:\n",
    "        mean = df[col].mean()\n",
    "        std = df[col].std()\n",
    "        # 平均値から標準偏差の何倍離れているかを計算\n",
    "        border = (np.abs(df[col] - mean)) / std # absは絶対値\n",
    "        # 標準偏差の3倍以上離れているデータを除外\n",
    "        df = df[(border < 3)]\n",
    "    return df"
   ]
  },
  {
   "cell_type": "code",
   "execution_count": 715,
   "metadata": {},
   "outputs": [
    {
     "name": "stdout",
     "output_type": "stream",
     "text": [
      "before (180, 15)\n",
      "after (164, 15)\n"
     ]
    }
   ],
   "source": [
    "print(\"before\", df_trainval_1.shape)\n",
    "df_trainval_1 = outlier_iqr(df_trainval_1, ['sweet'])\n",
    "print(\"after\", df_trainval_1.shape)"
   ]
  },
  {
   "cell_type": "code",
   "execution_count": 716,
   "metadata": {},
   "outputs": [
    {
     "data": {
      "text/plain": [
       "<matplotlib.axes._subplots.AxesSubplot at 0x7f9b471291d0>"
      ]
     },
     "execution_count": 716,
     "metadata": {},
     "output_type": "execute_result"
    },
    {
     "data": {
      "image/png": "[encoded data removed]",
      "text/plain": [
       "<Figure size 864x576 with 1 Axes>"
      ]
     },
     "metadata": {},
     "output_type": "display_data"
    }
   ],
   "source": [
    "# ヒストグラム\n",
    "plt.figure(figsize=(12, 8))\n",
    "sns.distplot(df_trainval_1['sweet'])"
   ]
  },
  {
   "cell_type": "code",
   "execution_count": 717,
   "metadata": {},
   "outputs": [
    {
     "data": {
      "text/plain": [
       "1990    1.526056\n",
       "153     1.504077\n",
       "1476    1.609438\n",
       "1517    1.609438\n",
       "1357    1.609438\n",
       "Name: sweet, dtype: float64"
      ]
     },
     "execution_count": 717,
     "metadata": {},
     "output_type": "execute_result"
    }
   ],
   "source": [
    "df_trainval_1['sweet'] = np.log1p(df_trainval_1['sweet'])\n",
    "df_trainval_1['sweet'].head()"
   ]
  },
  {
   "cell_type": "code",
   "execution_count": 718,
   "metadata": {},
   "outputs": [
    {
     "data": {
      "text/plain": [
       "<matplotlib.axes._subplots.AxesSubplot at 0x7f9b46f96898>"
      ]
     },
     "execution_count": 718,
     "metadata": {},
     "output_type": "execute_result"
    },
    {
     "data": {
      "image/png": "[encoded data removed]",
      "text/plain": [
       "<Figure size 864x576 with 1 Axes>"
      ]
     },
     "metadata": {},
     "output_type": "display_data"
    }
   ],
   "source": [
    "# ヒストグラム\n",
    "plt.figure(figsize=(12, 8))\n",
    "sns.distplot(df_trainval_1['sweet'])"
   ]
  },
  {
   "cell_type": "code",
   "execution_count": 719,
   "metadata": {},
   "outputs": [],
   "source": [
    "# sweet_categoryが3のものについて\n",
    "df_trainval_2 = df_trainval[(df_trainval['sweet_category'] == 2)]"
   ]
  },
  {
   "cell_type": "code",
   "execution_count": 720,
   "metadata": {},
   "outputs": [
    {
     "data": {
      "text/plain": [
       "<matplotlib.axes._subplots.AxesSubplot at 0x7f9b46f54ac8>"
      ]
     },
     "execution_count": 720,
     "metadata": {},
     "output_type": "execute_result"
    },
    {
     "data": {
      "image/png": "[encoded data removed]",
      "text/plain": [
       "<Figure size 720x720 with 1 Axes>"
      ]
     },
     "metadata": {},
     "output_type": "display_data"
    }
   ],
   "source": [
    "# 箱ひげ図\n",
    "plt.figure(figsize=(10, 10))\n",
    "sns.boxplot(df_trainval_2['sweet'], orient='v', width=0.5)"
   ]
  },
  {
   "cell_type": "code",
   "execution_count": 721,
   "metadata": {},
   "outputs": [
    {
     "data": {
      "text/plain": [
       "<matplotlib.axes._subplots.AxesSubplot at 0x7f9b47488048>"
      ]
     },
     "execution_count": 721,
     "metadata": {},
     "output_type": "execute_result"
    },
    {
     "data": {
      "image/png": "[encoded data removed]",
      "text/plain": [
       "<Figure size 864x576 with 1 Axes>"
      ]
     },
     "metadata": {},
     "output_type": "display_data"
    }
   ],
   "source": [
    "# ヒストグラム\n",
    "plt.figure(figsize=(12, 8))\n",
    "sns.distplot(df_trainval_2['sweet'])"
   ]
  },
  {
   "cell_type": "code",
   "execution_count": 722,
   "metadata": {},
   "outputs": [
    {
     "name": "stdout",
     "output_type": "stream",
     "text": [
      "before (396, 15)\n",
      "after (396, 15)\n"
     ]
    }
   ],
   "source": [
    "print(\"before\", df_trainval_2.shape)\n",
    "df_trainval_2 = outlier_iqr(df_trainval_2, ['sweet'])\n",
    "print(\"after\", df_trainval_2.shape)"
   ]
  },
  {
   "cell_type": "code",
   "execution_count": 723,
   "metadata": {},
   "outputs": [
    {
     "data": {
      "text/plain": [
       "788     1.629241\n",
       "1637    1.629241\n",
       "2128    1.667707\n",
       "538     1.648659\n",
       "1093    1.686399\n",
       "Name: sweet, dtype: float64"
      ]
     },
     "execution_count": 723,
     "metadata": {},
     "output_type": "execute_result"
    }
   ],
   "source": [
    "df_trainval_2['sweet'] = np.log1p(df_trainval_2['sweet'])\n",
    "df_trainval_2['sweet'].head()"
   ]
  },
  {
   "cell_type": "code",
   "execution_count": 724,
   "metadata": {},
   "outputs": [
    {
     "data": {
      "text/plain": [
       "<matplotlib.axes._subplots.AxesSubplot at 0x7f9b46df5780>"
      ]
     },
     "execution_count": 724,
     "metadata": {},
     "output_type": "execute_result"
    },
    {
     "data": {
      "image/png": "[encoded data removed]",
      "text/plain": [
       "<Figure size 864x576 with 1 Axes>"
      ]
     },
     "metadata": {},
     "output_type": "display_data"
    }
   ],
   "source": [
    "# ヒストグラム\n",
    "plt.figure(figsize=(12, 8))\n",
    "sns.distplot(df_trainval_2['sweet'])"
   ]
  },
  {
   "cell_type": "code",
   "execution_count": 725,
   "metadata": {},
   "outputs": [],
   "source": [
    "# sweet_categoryが3のものについて\n",
    "df_trainval_3 = df_trainval[(df_trainval['sweet_category'] == 3)]"
   ]
  },
  {
   "cell_type": "code",
   "execution_count": 726,
   "metadata": {},
   "outputs": [
    {
     "data": {
      "text/plain": [
       "<matplotlib.axes._subplots.AxesSubplot at 0x7f9b46d76d68>"
      ]
     },
     "execution_count": 726,
     "metadata": {},
     "output_type": "execute_result"
    },
    {
     "data": {
      "image/png": "[encoded data removed]",
      "text/plain": [
       "<Figure size 720x720 with 1 Axes>"
      ]
     },
     "metadata": {},
     "output_type": "display_data"
    }
   ],
   "source": [
    "# 箱ひげ図\n",
    "plt.figure(figsize=(10, 10))\n",
    "sns.boxplot(df_trainval_3['sweet'], orient='v', width=0.5)"
   ]
  },
  {
   "cell_type": "code",
   "execution_count": 727,
   "metadata": {},
   "outputs": [
    {
     "data": {
      "text/plain": [
       "<matplotlib.axes._subplots.AxesSubplot at 0x7f9b46d38dd8>"
      ]
     },
     "execution_count": 727,
     "metadata": {},
     "output_type": "execute_result"
    },
    {
     "data": {
      "image/png": "[encoded data removed]",
      "text/plain": [
       "<Figure size 864x576 with 1 Axes>"
      ]
     },
     "metadata": {},
     "output_type": "display_data"
    }
   ],
   "source": [
    "# ヒストグラム\n",
    "plt.figure(figsize=(12, 8))\n",
    "sns.distplot(df_trainval_3['sweet'])"
   ]
  },
  {
   "cell_type": "code",
   "execution_count": 728,
   "metadata": {},
   "outputs": [
    {
     "name": "stdout",
     "output_type": "stream",
     "text": [
      "before (531, 15)\n",
      "after (531, 15)\n"
     ]
    }
   ],
   "source": [
    "print(\"before\", df_trainval_3.shape)\n",
    "df_trainval_3 = outlier_iqr(df_trainval_3, ['sweet'])\n",
    "print(\"after\", df_trainval_3.shape)"
   ]
  },
  {
   "cell_type": "code",
   "execution_count": 729,
   "metadata": {},
   "outputs": [
    {
     "data": {
      "text/plain": [
       "680     1.774952\n",
       "1528    1.740466\n",
       "1552    1.757858\n",
       "1979    1.722767\n",
       "771     1.791759\n",
       "Name: sweet, dtype: float64"
      ]
     },
     "execution_count": 729,
     "metadata": {},
     "output_type": "execute_result"
    }
   ],
   "source": [
    "df_trainval_3['sweet'] = np.log1p(df_trainval_3['sweet'])\n",
    "df_trainval_3['sweet'].head()"
   ]
  },
  {
   "cell_type": "code",
   "execution_count": 730,
   "metadata": {},
   "outputs": [
    {
     "data": {
      "text/plain": [
       "<matplotlib.axes._subplots.AxesSubplot at 0x7f9b47398dd8>"
      ]
     },
     "execution_count": 730,
     "metadata": {},
     "output_type": "execute_result"
    },
    {
     "data": {
      "image/png": "[encoded data removed]",
      "text/plain": [
       "<Figure size 864x576 with 1 Axes>"
      ]
     },
     "metadata": {},
     "output_type": "display_data"
    }
   ],
   "source": [
    "# ヒストグラム\n",
    "plt.figure(figsize=(12, 8))\n",
    "sns.distplot(df_trainval_3['sweet'])"
   ]
  },
  {
   "cell_type": "code",
   "execution_count": 731,
   "metadata": {},
   "outputs": [],
   "source": [
    "# sweet_categoryが4のものについて\n",
    "df_trainval_4 = df_trainval[(df_trainval['sweet_category'] == 4)]"
   ]
  },
  {
   "cell_type": "code",
   "execution_count": 732,
   "metadata": {},
   "outputs": [
    {
     "data": {
      "text/plain": [
       "<matplotlib.axes._subplots.AxesSubplot at 0x7f9b46bcb550>"
      ]
     },
     "execution_count": 732,
     "metadata": {},
     "output_type": "execute_result"
    },
    {
     "data": {
      "image/png": "[encoded data removed]",
      "text/plain": [
       "<Figure size 720x720 with 1 Axes>"
      ]
     },
     "metadata": {},
     "output_type": "display_data"
    }
   ],
   "source": [
    "# 箱ひげ図\n",
    "plt.figure(figsize=(10, 10))\n",
    "sns.boxplot(df_trainval_4['sweet'], orient='v', width=0.5)"
   ]
  },
  {
   "cell_type": "code",
   "execution_count": 733,
   "metadata": {},
   "outputs": [
    {
     "data": {
      "text/plain": [
       "<matplotlib.axes._subplots.AxesSubplot at 0x7f9b46b85780>"
      ]
     },
     "execution_count": 733,
     "metadata": {},
     "output_type": "execute_result"
    },
    {
     "data": {
      "image/png": "[encoded data removed]",
      "text/plain": [
       "<Figure size 864x576 with 1 Axes>"
      ]
     },
     "metadata": {},
     "output_type": "display_data"
    }
   ],
   "source": [
    "# ヒストグラム\n",
    "plt.figure(figsize=(12, 8))\n",
    "sns.distplot(df_trainval_4['sweet'])"
   ]
  },
  {
   "cell_type": "code",
   "execution_count": 734,
   "metadata": {},
   "outputs": [
    {
     "name": "stdout",
     "output_type": "stream",
     "text": [
      "before (416, 15)\n",
      "after (402, 15)\n"
     ]
    }
   ],
   "source": [
    "print(\"before\", df_trainval_4.shape)\n",
    "df_trainval_4 = outlier_iqr(df_trainval_4, ['sweet'])\n",
    "print(\"after\", df_trainval_4.shape)"
   ]
  },
  {
   "cell_type": "code",
   "execution_count": 735,
   "metadata": {},
   "outputs": [
    {
     "data": {
      "text/plain": [
       "1607    1.871802\n",
       "518     1.902108\n",
       "368     1.840550\n",
       "1287    1.887070\n",
       "1591    1.824549\n",
       "Name: sweet, dtype: float64"
      ]
     },
     "execution_count": 735,
     "metadata": {},
     "output_type": "execute_result"
    }
   ],
   "source": [
    "df_trainval_4['sweet'] = np.log1p(df_trainval_4['sweet'])\n",
    "df_trainval_4['sweet'].head()"
   ]
  },
  {
   "cell_type": "code",
   "execution_count": 736,
   "metadata": {},
   "outputs": [
    {
     "data": {
      "text/plain": [
       "<matplotlib.axes._subplots.AxesSubplot at 0x7f9b46b27d68>"
      ]
     },
     "execution_count": 736,
     "metadata": {},
     "output_type": "execute_result"
    },
    {
     "data": {
      "image/png": "[encoded data removed]",
      "text/plain": [
       "<Figure size 864x576 with 1 Axes>"
      ]
     },
     "metadata": {},
     "output_type": "display_data"
    }
   ],
   "source": [
    "plt.figure(figsize=(12, 8))\n",
    "sns.distplot(df_trainval_4['sweet'])"
   ]
  },
  {
   "cell_type": "code",
   "execution_count": 737,
   "metadata": {},
   "outputs": [],
   "source": [
    "# 4つのデータフレームを結合\n",
    "df_trainval_new = pd.concat([df_trainval_1, df_trainval_2, df_trainval_3, df_trainval_4])\n",
    "# ランダムに並び替える＆indexを再振り\n",
    "df_trainval_new = df_trainval_new.sample(frac=1).reset_index(drop=True)"
   ]
  },
  {
   "cell_type": "code",
   "execution_count": 738,
   "metadata": {},
   "outputs": [
    {
     "data": {
      "text/plain": [
       "<matplotlib.axes._subplots.AxesSubplot at 0x7f9b471fe438>"
      ]
     },
     "execution_count": 738,
     "metadata": {},
     "output_type": "execute_result"
    },
    {
     "data": {
      "image/png": "[encoded data removed]",
      "text/plain": [
       "<Figure size 864x576 with 1 Axes>"
      ]
     },
     "metadata": {},
     "output_type": "display_data"
    }
   ],
   "source": [
    "plt.figure(figsize=(12, 8))\n",
    "sns.distplot(df_trainval_new['sweet'])"
   ]
  },
  {
   "cell_type": "code",
   "execution_count": 739,
   "metadata": {},
   "outputs": [],
   "source": [
    "y_trainval = df_trainval_new[\"sweet_category\"] #目的変数\n",
    "df_trainval_new.drop(['sweet','sweet_category'], axis=1, inplace=True) #目的変数の列を削除"
   ]
  },
  {
   "cell_type": "code",
   "execution_count": 740,
   "metadata": {},
   "outputs": [
    {
     "data": {
      "text/html": [
       "<div>\n",
       "<style scoped>\n",
       "    .dataframe tbody tr th:only-of-type {\n",
       "        vertical-align: middle;\n",
       "    }\n",
       "\n",
       "    .dataframe tbody tr th {\n",
       "        vertical-align: top;\n",
       "    }\n",
       "\n",
       "    .dataframe thead th {\n",
       "        text-align: right;\n",
       "    }\n",
       "</style>\n",
       "<table border=\"1\" class=\"dataframe\">\n",
       "  <thead>\n",
       "    <tr style=\"text-align: right;\">\n",
       "      <th></th>\n",
       "      <th>size</th>\n",
       "      <th>AveCO2_7</th>\n",
       "      <th>AveSatu_7</th>\n",
       "      <th>AveHum_7</th>\n",
       "      <th>AveTemp_7</th>\n",
       "      <th>AveMaxTemp_7</th>\n",
       "      <th>AveMinTemp_7</th>\n",
       "      <th>AveDiffTemp_7</th>\n",
       "      <th>SumMaxTemp_7</th>\n",
       "      <th>SumMinTemp_7</th>\n",
       "      <th>SumDiffTemp_7</th>\n",
       "      <th>quarter_3rd</th>\n",
       "      <th>quarter_4th</th>\n",
       "    </tr>\n",
       "  </thead>\n",
       "  <tbody>\n",
       "    <tr>\n",
       "      <th>0</th>\n",
       "      <td>5.75</td>\n",
       "      <td>509.50</td>\n",
       "      <td>7.43</td>\n",
       "      <td>61.02</td>\n",
       "      <td>21.20</td>\n",
       "      <td>26.34</td>\n",
       "      <td>18.27</td>\n",
       "      <td>8.07</td>\n",
       "      <td>184.4</td>\n",
       "      <td>127.9</td>\n",
       "      <td>56.5</td>\n",
       "      <td>0</td>\n",
       "      <td>1</td>\n",
       "    </tr>\n",
       "    <tr>\n",
       "      <th>1</th>\n",
       "      <td>7.02</td>\n",
       "      <td>481.85</td>\n",
       "      <td>7.16</td>\n",
       "      <td>61.83</td>\n",
       "      <td>21.26</td>\n",
       "      <td>25.86</td>\n",
       "      <td>17.66</td>\n",
       "      <td>8.20</td>\n",
       "      <td>181.0</td>\n",
       "      <td>123.6</td>\n",
       "      <td>57.4</td>\n",
       "      <td>0</td>\n",
       "      <td>0</td>\n",
       "    </tr>\n",
       "    <tr>\n",
       "      <th>2</th>\n",
       "      <td>4.60</td>\n",
       "      <td>650.12</td>\n",
       "      <td>6.17</td>\n",
       "      <td>65.38</td>\n",
       "      <td>20.48</td>\n",
       "      <td>24.54</td>\n",
       "      <td>18.23</td>\n",
       "      <td>6.31</td>\n",
       "      <td>171.8</td>\n",
       "      <td>127.6</td>\n",
       "      <td>44.2</td>\n",
       "      <td>0</td>\n",
       "      <td>1</td>\n",
       "    </tr>\n",
       "    <tr>\n",
       "      <th>3</th>\n",
       "      <td>5.28</td>\n",
       "      <td>542.05</td>\n",
       "      <td>7.38</td>\n",
       "      <td>61.33</td>\n",
       "      <td>21.40</td>\n",
       "      <td>26.60</td>\n",
       "      <td>18.40</td>\n",
       "      <td>8.20</td>\n",
       "      <td>186.2</td>\n",
       "      <td>128.8</td>\n",
       "      <td>57.4</td>\n",
       "      <td>0</td>\n",
       "      <td>0</td>\n",
       "    </tr>\n",
       "    <tr>\n",
       "      <th>4</th>\n",
       "      <td>4.83</td>\n",
       "      <td>477.85</td>\n",
       "      <td>8.05</td>\n",
       "      <td>58.34</td>\n",
       "      <td>21.53</td>\n",
       "      <td>26.14</td>\n",
       "      <td>18.21</td>\n",
       "      <td>7.93</td>\n",
       "      <td>183.0</td>\n",
       "      <td>127.5</td>\n",
       "      <td>55.5</td>\n",
       "      <td>0</td>\n",
       "      <td>0</td>\n",
       "    </tr>\n",
       "  </tbody>\n",
       "</table>\n",
       "</div>"
      ],
      "text/plain": [
       "   size  AveCO2_7  AveSatu_7  AveHum_7  AveTemp_7  AveMaxTemp_7  AveMinTemp_7  \\\n",
       "0  5.75    509.50       7.43     61.02      21.20         26.34         18.27   \n",
       "1  7.02    481.85       7.16     61.83      21.26         25.86         17.66   \n",
       "2  4.60    650.12       6.17     65.38      20.48         24.54         18.23   \n",
       "3  5.28    542.05       7.38     61.33      21.40         26.60         18.40   \n",
       "4  4.83    477.85       8.05     58.34      21.53         26.14         18.21   \n",
       "\n",
       "   AveDiffTemp_7  SumMaxTemp_7  SumMinTemp_7  SumDiffTemp_7  quarter_3rd  \\\n",
       "0           8.07         184.4         127.9           56.5            0   \n",
       "1           8.20         181.0         123.6           57.4            0   \n",
       "2           6.31         171.8         127.6           44.2            0   \n",
       "3           8.20         186.2         128.8           57.4            0   \n",
       "4           7.93         183.0         127.5           55.5            0   \n",
       "\n",
       "   quarter_4th  \n",
       "0            1  \n",
       "1            0  \n",
       "2            1  \n",
       "3            0  \n",
       "4            0  "
      ]
     },
     "execution_count": 740,
     "metadata": {},
     "output_type": "execute_result"
    }
   ],
   "source": [
    "df_trainval_new.head()"
   ]
  },
  {
   "cell_type": "code",
   "execution_count": 741,
   "metadata": {},
   "outputs": [],
   "source": [
    "df_trainval_new.drop(['AveCO2_7', 'AveSatu_7', 'AveTemp_7', 'AveMinTemp_7', 'AveDiffTemp_7', 'SumMaxTemp_7', 'SumMinTemp_7', 'SumDiffTemp_7'], axis=1, inplace=True) #対象の列を削除"
   ]
  },
  {
   "cell_type": "code",
   "execution_count": 742,
   "metadata": {},
   "outputs": [
    {
     "data": {
      "text/html": [
       "<div>\n",
       "<style scoped>\n",
       "    .dataframe tbody tr th:only-of-type {\n",
       "        vertical-align: middle;\n",
       "    }\n",
       "\n",
       "    .dataframe tbody tr th {\n",
       "        vertical-align: top;\n",
       "    }\n",
       "\n",
       "    .dataframe thead th {\n",
       "        text-align: right;\n",
       "    }\n",
       "</style>\n",
       "<table border=\"1\" class=\"dataframe\">\n",
       "  <thead>\n",
       "    <tr style=\"text-align: right;\">\n",
       "      <th></th>\n",
       "      <th>size</th>\n",
       "      <th>AveHum_7</th>\n",
       "      <th>AveMaxTemp_7</th>\n",
       "      <th>quarter_3rd</th>\n",
       "      <th>quarter_4th</th>\n",
       "    </tr>\n",
       "  </thead>\n",
       "  <tbody>\n",
       "    <tr>\n",
       "      <th>0</th>\n",
       "      <td>5.75</td>\n",
       "      <td>61.02</td>\n",
       "      <td>26.34</td>\n",
       "      <td>0</td>\n",
       "      <td>1</td>\n",
       "    </tr>\n",
       "    <tr>\n",
       "      <th>1</th>\n",
       "      <td>7.02</td>\n",
       "      <td>61.83</td>\n",
       "      <td>25.86</td>\n",
       "      <td>0</td>\n",
       "      <td>0</td>\n",
       "    </tr>\n",
       "    <tr>\n",
       "      <th>2</th>\n",
       "      <td>4.60</td>\n",
       "      <td>65.38</td>\n",
       "      <td>24.54</td>\n",
       "      <td>0</td>\n",
       "      <td>1</td>\n",
       "    </tr>\n",
       "    <tr>\n",
       "      <th>3</th>\n",
       "      <td>5.28</td>\n",
       "      <td>61.33</td>\n",
       "      <td>26.60</td>\n",
       "      <td>0</td>\n",
       "      <td>0</td>\n",
       "    </tr>\n",
       "    <tr>\n",
       "      <th>4</th>\n",
       "      <td>4.83</td>\n",
       "      <td>58.34</td>\n",
       "      <td>26.14</td>\n",
       "      <td>0</td>\n",
       "      <td>0</td>\n",
       "    </tr>\n",
       "  </tbody>\n",
       "</table>\n",
       "</div>"
      ],
      "text/plain": [
       "   size  AveHum_7  AveMaxTemp_7  quarter_3rd  quarter_4th\n",
       "0  5.75     61.02         26.34            0            1\n",
       "1  7.02     61.83         25.86            0            0\n",
       "2  4.60     65.38         24.54            0            1\n",
       "3  5.28     61.33         26.60            0            0\n",
       "4  4.83     58.34         26.14            0            0"
      ]
     },
     "execution_count": 742,
     "metadata": {},
     "output_type": "execute_result"
    }
   ],
   "source": [
    "df_trainval_new.head()"
   ]
  },
  {
   "cell_type": "code",
   "execution_count": 743,
   "metadata": {},
   "outputs": [],
   "source": [
    "df_trainval_new['size_2'] = df_trainval_new['size']**3\n",
    "#df_trainval_new['size_3'] = df_trainval_new['size']**3\n",
    "df_trainval_new['AveHum_7_2'] = df_trainval_new['AveHum_7']**2\n",
    "df_trainval_new['AveMaxTemp_7_2'] = df_trainval_new['AveMaxTemp_7']**2"
   ]
  },
  {
   "cell_type": "code",
   "execution_count": 744,
   "metadata": {},
   "outputs": [],
   "source": [
    "df_trainval_new.drop(['size','AveHum_7', 'AveMaxTemp_7'], axis=1, inplace=True) #対象の列を削除"
   ]
  },
  {
   "cell_type": "code",
   "execution_count": 745,
   "metadata": {},
   "outputs": [
    {
     "data": {
      "text/html": [
       "<div>\n",
       "<style scoped>\n",
       "    .dataframe tbody tr th:only-of-type {\n",
       "        vertical-align: middle;\n",
       "    }\n",
       "\n",
       "    .dataframe tbody tr th {\n",
       "        vertical-align: top;\n",
       "    }\n",
       "\n",
       "    .dataframe thead th {\n",
       "        text-align: right;\n",
       "    }\n",
       "</style>\n",
       "<table border=\"1\" class=\"dataframe\">\n",
       "  <thead>\n",
       "    <tr style=\"text-align: right;\">\n",
       "      <th></th>\n",
       "      <th>quarter_3rd</th>\n",
       "      <th>quarter_4th</th>\n",
       "      <th>size_2</th>\n",
       "      <th>AveHum_7_2</th>\n",
       "      <th>AveMaxTemp_7_2</th>\n",
       "    </tr>\n",
       "  </thead>\n",
       "  <tbody>\n",
       "    <tr>\n",
       "      <th>0</th>\n",
       "      <td>0</td>\n",
       "      <td>1</td>\n",
       "      <td>190.109375</td>\n",
       "      <td>3723.4404</td>\n",
       "      <td>693.7956</td>\n",
       "    </tr>\n",
       "    <tr>\n",
       "      <th>1</th>\n",
       "      <td>0</td>\n",
       "      <td>0</td>\n",
       "      <td>345.948408</td>\n",
       "      <td>3822.9489</td>\n",
       "      <td>668.7396</td>\n",
       "    </tr>\n",
       "    <tr>\n",
       "      <th>2</th>\n",
       "      <td>0</td>\n",
       "      <td>1</td>\n",
       "      <td>97.336000</td>\n",
       "      <td>4274.5444</td>\n",
       "      <td>602.2116</td>\n",
       "    </tr>\n",
       "    <tr>\n",
       "      <th>3</th>\n",
       "      <td>0</td>\n",
       "      <td>0</td>\n",
       "      <td>147.197952</td>\n",
       "      <td>3761.3689</td>\n",
       "      <td>707.5600</td>\n",
       "    </tr>\n",
       "    <tr>\n",
       "      <th>4</th>\n",
       "      <td>0</td>\n",
       "      <td>0</td>\n",
       "      <td>112.678587</td>\n",
       "      <td>3403.5556</td>\n",
       "      <td>683.2996</td>\n",
       "    </tr>\n",
       "  </tbody>\n",
       "</table>\n",
       "</div>"
      ],
      "text/plain": [
       "   quarter_3rd  quarter_4th      size_2  AveHum_7_2  AveMaxTemp_7_2\n",
       "0            0            1  190.109375   3723.4404        693.7956\n",
       "1            0            0  345.948408   3822.9489        668.7396\n",
       "2            0            1   97.336000   4274.5444        602.2116\n",
       "3            0            0  147.197952   3761.3689        707.5600\n",
       "4            0            0  112.678587   3403.5556        683.2996"
      ]
     },
     "execution_count": 745,
     "metadata": {},
     "output_type": "execute_result"
    }
   ],
   "source": [
    "df_trainval_new.head()"
   ]
  },
  {
   "cell_type": "code",
   "execution_count": 746,
   "metadata": {},
   "outputs": [],
   "source": [
    "# ハイパーパラメータを辞書型\n",
    "params_grid = {'weights': ['uniform', 'distance'], 'n_neighbors':[3,4,5,6,7,8,9,10,11,12,13,14,15,16,17,18,19,20,21]}"
   ]
  },
  {
   "cell_type": "code",
   "execution_count": 747,
   "metadata": {},
   "outputs": [],
   "source": [
    "from sklearn.model_selection import GridSearchCV\n",
    "from sklearn.neighbors import KNeighborsClassifier"
   ]
  },
  {
   "cell_type": "code",
   "execution_count": 748,
   "metadata": {},
   "outputs": [],
   "source": [
    "grid_search = GridSearchCV(KNeighborsClassifier(), params_grid, scoring=\"accuracy\",cv=10, n_jobs=-1)# 上記で用意したパラメーターごとに交差検証を実施"
   ]
  },
  {
   "cell_type": "code",
   "execution_count": 749,
   "metadata": {},
   "outputs": [
    {
     "data": {
      "text/plain": [
       "GridSearchCV(cv=10, error_score='raise-deprecating',\n",
       "       estimator=KNeighborsClassifier(algorithm='auto', leaf_size=30, metric='minkowski',\n",
       "           metric_params=None, n_jobs=None, n_neighbors=5, p=2,\n",
       "           weights='uniform'),\n",
       "       fit_params=None, iid='warn', n_jobs=-1,\n",
       "       param_grid={'weights': ['uniform', 'distance'], 'n_neighbors': [3, 4, 5, 6, 7, 8, 9, 10, 11, 12, 13, 14, 15, 16, 17, 18, 19, 20, 21]},\n",
       "       pre_dispatch='2*n_jobs', refit=True, return_train_score='warn',\n",
       "       scoring='accuracy', verbose=0)"
      ]
     },
     "execution_count": 749,
     "metadata": {},
     "output_type": "execute_result"
    }
   ],
   "source": [
    "grid_search.fit(df_trainval_new, y_trainval) # 学習"
   ]
  },
  {
   "cell_type": "code",
   "execution_count": 750,
   "metadata": {},
   "outputs": [
    {
     "name": "stdout",
     "output_type": "stream",
     "text": [
      "Best cross-validation: 0.749\n",
      "Best parameters : {'n_neighbors': 5, 'weights': 'uniform'}\n"
     ]
    }
   ],
   "source": [
    "# グリッドサーチの結果\n",
    "print('Best cross-validation: {}'.format(round(grid_search.best_score_, 3)))\n",
    "print('Best parameters : {}'.format(grid_search.best_params_))"
   ]
  },
  {
   "cell_type": "code",
   "execution_count": 751,
   "metadata": {},
   "outputs": [
    {
     "data": {
      "text/html": [
       "<div>\n",
       "<style scoped>\n",
       "    .dataframe tbody tr th:only-of-type {\n",
       "        vertical-align: middle;\n",
       "    }\n",
       "\n",
       "    .dataframe tbody tr th {\n",
       "        vertical-align: top;\n",
       "    }\n",
       "\n",
       "    .dataframe thead th {\n",
       "        text-align: right;\n",
       "    }\n",
       "</style>\n",
       "<table border=\"1\" class=\"dataframe\">\n",
       "  <thead>\n",
       "    <tr style=\"text-align: right;\">\n",
       "      <th></th>\n",
       "      <th>sweet</th>\n",
       "      <th>size</th>\n",
       "      <th>AveCO2_7</th>\n",
       "      <th>AveSatu_7</th>\n",
       "      <th>AveHum_7</th>\n",
       "      <th>AveTemp_7</th>\n",
       "      <th>AveMaxTemp_7</th>\n",
       "      <th>AveMinTemp_7</th>\n",
       "      <th>AveDiffTemp_7</th>\n",
       "      <th>SumMaxTemp_7</th>\n",
       "      <th>SumMinTemp_7</th>\n",
       "      <th>SumDiffTemp_7</th>\n",
       "      <th>quarter_3rd</th>\n",
       "      <th>quarter_4th</th>\n",
       "    </tr>\n",
       "  </thead>\n",
       "  <tbody>\n",
       "    <tr>\n",
       "      <th>567</th>\n",
       "      <td>5.8</td>\n",
       "      <td>4.20</td>\n",
       "      <td>712.07</td>\n",
       "      <td>6.64</td>\n",
       "      <td>62.71</td>\n",
       "      <td>20.37</td>\n",
       "      <td>24.66</td>\n",
       "      <td>17.94</td>\n",
       "      <td>6.71</td>\n",
       "      <td>172.6</td>\n",
       "      <td>125.6</td>\n",
       "      <td>47.0</td>\n",
       "      <td>0</td>\n",
       "      <td>1</td>\n",
       "    </tr>\n",
       "    <tr>\n",
       "      <th>1456</th>\n",
       "      <td>5.2</td>\n",
       "      <td>4.84</td>\n",
       "      <td>443.18</td>\n",
       "      <td>8.95</td>\n",
       "      <td>56.66</td>\n",
       "      <td>22.49</td>\n",
       "      <td>27.03</td>\n",
       "      <td>18.87</td>\n",
       "      <td>8.16</td>\n",
       "      <td>189.2</td>\n",
       "      <td>132.1</td>\n",
       "      <td>57.1</td>\n",
       "      <td>0</td>\n",
       "      <td>0</td>\n",
       "    </tr>\n",
       "    <tr>\n",
       "      <th>2159</th>\n",
       "      <td>4.4</td>\n",
       "      <td>8.64</td>\n",
       "      <td>400.77</td>\n",
       "      <td>7.73</td>\n",
       "      <td>66.55</td>\n",
       "      <td>22.04</td>\n",
       "      <td>32.10</td>\n",
       "      <td>15.06</td>\n",
       "      <td>17.04</td>\n",
       "      <td>224.7</td>\n",
       "      <td>105.4</td>\n",
       "      <td>119.3</td>\n",
       "      <td>0</td>\n",
       "      <td>0</td>\n",
       "    </tr>\n",
       "    <tr>\n",
       "      <th>1135</th>\n",
       "      <td>4.8</td>\n",
       "      <td>6.25</td>\n",
       "      <td>493.00</td>\n",
       "      <td>7.37</td>\n",
       "      <td>59.39</td>\n",
       "      <td>20.61</td>\n",
       "      <td>26.09</td>\n",
       "      <td>17.37</td>\n",
       "      <td>8.71</td>\n",
       "      <td>182.6</td>\n",
       "      <td>121.6</td>\n",
       "      <td>61.0</td>\n",
       "      <td>0</td>\n",
       "      <td>0</td>\n",
       "    </tr>\n",
       "    <tr>\n",
       "      <th>1437</th>\n",
       "      <td>4.0</td>\n",
       "      <td>10.15</td>\n",
       "      <td>443.18</td>\n",
       "      <td>8.95</td>\n",
       "      <td>56.66</td>\n",
       "      <td>22.49</td>\n",
       "      <td>27.03</td>\n",
       "      <td>18.87</td>\n",
       "      <td>8.16</td>\n",
       "      <td>189.2</td>\n",
       "      <td>132.1</td>\n",
       "      <td>57.1</td>\n",
       "      <td>0</td>\n",
       "      <td>0</td>\n",
       "    </tr>\n",
       "  </tbody>\n",
       "</table>\n",
       "</div>"
      ],
      "text/plain": [
       "      sweet   size  AveCO2_7  AveSatu_7  AveHum_7  AveTemp_7  AveMaxTemp_7  \\\n",
       "567     5.8   4.20    712.07       6.64     62.71      20.37         24.66   \n",
       "1456    5.2   4.84    443.18       8.95     56.66      22.49         27.03   \n",
       "2159    4.4   8.64    400.77       7.73     66.55      22.04         32.10   \n",
       "1135    4.8   6.25    493.00       7.37     59.39      20.61         26.09   \n",
       "1437    4.0  10.15    443.18       8.95     56.66      22.49         27.03   \n",
       "\n",
       "      AveMinTemp_7  AveDiffTemp_7  SumMaxTemp_7  SumMinTemp_7  SumDiffTemp_7  \\\n",
       "567          17.94           6.71         172.6         125.6           47.0   \n",
       "1456         18.87           8.16         189.2         132.1           57.1   \n",
       "2159         15.06          17.04         224.7         105.4          119.3   \n",
       "1135         17.37           8.71         182.6         121.6           61.0   \n",
       "1437         18.87           8.16         189.2         132.1           57.1   \n",
       "\n",
       "      quarter_3rd  quarter_4th  \n",
       "567             0            1  \n",
       "1456            0            0  \n",
       "2159            0            0  \n",
       "1135            0            0  \n",
       "1437            0            0  "
      ]
     },
     "execution_count": 751,
     "metadata": {},
     "output_type": "execute_result"
    }
   ],
   "source": [
    "X_test.head()"
   ]
  },
  {
   "cell_type": "code",
   "execution_count": 752,
   "metadata": {},
   "outputs": [
    {
     "name": "stderr",
     "output_type": "stream",
     "text": [
      "/home/yoshida/.pyenv/versions/3.6.6/lib/python3.6/site-packages/pandas/core/frame.py:3697: SettingWithCopyWarning: \n",
      "A value is trying to be set on a copy of a slice from a DataFrame\n",
      "\n",
      "See the caveats in the documentation: http://pandas.pydata.org/pandas-docs/stable/indexing.html#indexing-view-versus-copy\n",
      "  errors=errors)\n"
     ]
    }
   ],
   "source": [
    "X_test.drop(['AveCO2_7', 'AveSatu_7', 'AveTemp_7', 'AveMinTemp_7', 'AveDiffTemp_7', 'SumMaxTemp_7', 'SumMinTemp_7', 'SumDiffTemp_7'], axis=1, inplace=True) #対象の列を削除"
   ]
  },
  {
   "cell_type": "code",
   "execution_count": 754,
   "metadata": {},
   "outputs": [],
   "source": [
    "X_test.drop(['sweet'], axis=1, inplace=True) #対象の列を削除"
   ]
  },
  {
   "cell_type": "code",
   "execution_count": 755,
   "metadata": {},
   "outputs": [
    {
     "data": {
      "text/html": [
       "<div>\n",
       "<style scoped>\n",
       "    .dataframe tbody tr th:only-of-type {\n",
       "        vertical-align: middle;\n",
       "    }\n",
       "\n",
       "    .dataframe tbody tr th {\n",
       "        vertical-align: top;\n",
       "    }\n",
       "\n",
       "    .dataframe thead th {\n",
       "        text-align: right;\n",
       "    }\n",
       "</style>\n",
       "<table border=\"1\" class=\"dataframe\">\n",
       "  <thead>\n",
       "    <tr style=\"text-align: right;\">\n",
       "      <th></th>\n",
       "      <th>size</th>\n",
       "      <th>AveHum_7</th>\n",
       "      <th>AveMaxTemp_7</th>\n",
       "      <th>quarter_3rd</th>\n",
       "      <th>quarter_4th</th>\n",
       "    </tr>\n",
       "  </thead>\n",
       "  <tbody>\n",
       "    <tr>\n",
       "      <th>567</th>\n",
       "      <td>4.20</td>\n",
       "      <td>62.71</td>\n",
       "      <td>24.66</td>\n",
       "      <td>0</td>\n",
       "      <td>1</td>\n",
       "    </tr>\n",
       "    <tr>\n",
       "      <th>1456</th>\n",
       "      <td>4.84</td>\n",
       "      <td>56.66</td>\n",
       "      <td>27.03</td>\n",
       "      <td>0</td>\n",
       "      <td>0</td>\n",
       "    </tr>\n",
       "    <tr>\n",
       "      <th>2159</th>\n",
       "      <td>8.64</td>\n",
       "      <td>66.55</td>\n",
       "      <td>32.10</td>\n",
       "      <td>0</td>\n",
       "      <td>0</td>\n",
       "    </tr>\n",
       "    <tr>\n",
       "      <th>1135</th>\n",
       "      <td>6.25</td>\n",
       "      <td>59.39</td>\n",
       "      <td>26.09</td>\n",
       "      <td>0</td>\n",
       "      <td>0</td>\n",
       "    </tr>\n",
       "    <tr>\n",
       "      <th>1437</th>\n",
       "      <td>10.15</td>\n",
       "      <td>56.66</td>\n",
       "      <td>27.03</td>\n",
       "      <td>0</td>\n",
       "      <td>0</td>\n",
       "    </tr>\n",
       "  </tbody>\n",
       "</table>\n",
       "</div>"
      ],
      "text/plain": [
       "       size  AveHum_7  AveMaxTemp_7  quarter_3rd  quarter_4th\n",
       "567    4.20     62.71         24.66            0            1\n",
       "1456   4.84     56.66         27.03            0            0\n",
       "2159   8.64     66.55         32.10            0            0\n",
       "1135   6.25     59.39         26.09            0            0\n",
       "1437  10.15     56.66         27.03            0            0"
      ]
     },
     "execution_count": 755,
     "metadata": {},
     "output_type": "execute_result"
    }
   ],
   "source": [
    "X_test.head()"
   ]
  },
  {
   "cell_type": "code",
   "execution_count": 756,
   "metadata": {},
   "outputs": [
    {
     "name": "stderr",
     "output_type": "stream",
     "text": [
      "/home/yoshida/anaconda3/lib/python3.6/site-packages/ipykernel_launcher.py:1: SettingWithCopyWarning: \n",
      "A value is trying to be set on a copy of a slice from a DataFrame.\n",
      "Try using .loc[row_indexer,col_indexer] = value instead\n",
      "\n",
      "See the caveats in the documentation: http://pandas.pydata.org/pandas-docs/stable/indexing.html#indexing-view-versus-copy\n",
      "  \"\"\"Entry point for launching an IPython kernel.\n",
      "/home/yoshida/anaconda3/lib/python3.6/site-packages/ipykernel_launcher.py:3: SettingWithCopyWarning: \n",
      "A value is trying to be set on a copy of a slice from a DataFrame.\n",
      "Try using .loc[row_indexer,col_indexer] = value instead\n",
      "\n",
      "See the caveats in the documentation: http://pandas.pydata.org/pandas-docs/stable/indexing.html#indexing-view-versus-copy\n",
      "  This is separate from the ipykernel package so we can avoid doing imports until\n",
      "/home/yoshida/anaconda3/lib/python3.6/site-packages/ipykernel_launcher.py:4: SettingWithCopyWarning: \n",
      "A value is trying to be set on a copy of a slice from a DataFrame.\n",
      "Try using .loc[row_indexer,col_indexer] = value instead\n",
      "\n",
      "See the caveats in the documentation: http://pandas.pydata.org/pandas-docs/stable/indexing.html#indexing-view-versus-copy\n",
      "  after removing the cwd from sys.path.\n"
     ]
    }
   ],
   "source": [
    "X_test['size_2'] = X_test['size']**2\n",
    "#df_test_new['size_3'] = df_test_new['size']**3\n",
    "X_test['AveHum_7_2'] = X_test['AveHum_7']**2\n",
    "X_test['AveMaxTemp_7_2'] = X_test['AveMaxTemp_7']**2"
   ]
  },
  {
   "cell_type": "code",
   "execution_count": 757,
   "metadata": {},
   "outputs": [
    {
     "data": {
      "text/html": [
       "<div>\n",
       "<style scoped>\n",
       "    .dataframe tbody tr th:only-of-type {\n",
       "        vertical-align: middle;\n",
       "    }\n",
       "\n",
       "    .dataframe tbody tr th {\n",
       "        vertical-align: top;\n",
       "    }\n",
       "\n",
       "    .dataframe thead th {\n",
       "        text-align: right;\n",
       "    }\n",
       "</style>\n",
       "<table border=\"1\" class=\"dataframe\">\n",
       "  <thead>\n",
       "    <tr style=\"text-align: right;\">\n",
       "      <th></th>\n",
       "      <th>size</th>\n",
       "      <th>AveHum_7</th>\n",
       "      <th>AveMaxTemp_7</th>\n",
       "      <th>quarter_3rd</th>\n",
       "      <th>quarter_4th</th>\n",
       "      <th>size_2</th>\n",
       "      <th>AveHum_7_2</th>\n",
       "      <th>AveMaxTemp_7_2</th>\n",
       "    </tr>\n",
       "  </thead>\n",
       "  <tbody>\n",
       "    <tr>\n",
       "      <th>567</th>\n",
       "      <td>4.20</td>\n",
       "      <td>62.71</td>\n",
       "      <td>24.66</td>\n",
       "      <td>0</td>\n",
       "      <td>1</td>\n",
       "      <td>17.6400</td>\n",
       "      <td>3932.5441</td>\n",
       "      <td>608.1156</td>\n",
       "    </tr>\n",
       "    <tr>\n",
       "      <th>1456</th>\n",
       "      <td>4.84</td>\n",
       "      <td>56.66</td>\n",
       "      <td>27.03</td>\n",
       "      <td>0</td>\n",
       "      <td>0</td>\n",
       "      <td>23.4256</td>\n",
       "      <td>3210.3556</td>\n",
       "      <td>730.6209</td>\n",
       "    </tr>\n",
       "    <tr>\n",
       "      <th>2159</th>\n",
       "      <td>8.64</td>\n",
       "      <td>66.55</td>\n",
       "      <td>32.10</td>\n",
       "      <td>0</td>\n",
       "      <td>0</td>\n",
       "      <td>74.6496</td>\n",
       "      <td>4428.9025</td>\n",
       "      <td>1030.4100</td>\n",
       "    </tr>\n",
       "    <tr>\n",
       "      <th>1135</th>\n",
       "      <td>6.25</td>\n",
       "      <td>59.39</td>\n",
       "      <td>26.09</td>\n",
       "      <td>0</td>\n",
       "      <td>0</td>\n",
       "      <td>39.0625</td>\n",
       "      <td>3527.1721</td>\n",
       "      <td>680.6881</td>\n",
       "    </tr>\n",
       "    <tr>\n",
       "      <th>1437</th>\n",
       "      <td>10.15</td>\n",
       "      <td>56.66</td>\n",
       "      <td>27.03</td>\n",
       "      <td>0</td>\n",
       "      <td>0</td>\n",
       "      <td>103.0225</td>\n",
       "      <td>3210.3556</td>\n",
       "      <td>730.6209</td>\n",
       "    </tr>\n",
       "  </tbody>\n",
       "</table>\n",
       "</div>"
      ],
      "text/plain": [
       "       size  AveHum_7  AveMaxTemp_7  quarter_3rd  quarter_4th    size_2  \\\n",
       "567    4.20     62.71         24.66            0            1   17.6400   \n",
       "1456   4.84     56.66         27.03            0            0   23.4256   \n",
       "2159   8.64     66.55         32.10            0            0   74.6496   \n",
       "1135   6.25     59.39         26.09            0            0   39.0625   \n",
       "1437  10.15     56.66         27.03            0            0  103.0225   \n",
       "\n",
       "      AveHum_7_2  AveMaxTemp_7_2  \n",
       "567    3932.5441        608.1156  \n",
       "1456   3210.3556        730.6209  \n",
       "2159   4428.9025       1030.4100  \n",
       "1135   3527.1721        680.6881  \n",
       "1437   3210.3556        730.6209  "
      ]
     },
     "execution_count": 757,
     "metadata": {},
     "output_type": "execute_result"
    }
   ],
   "source": [
    "X_test.head()"
   ]
  },
  {
   "cell_type": "code",
   "execution_count": 758,
   "metadata": {},
   "outputs": [],
   "source": [
    "X_test.drop(['size','AveHum_7', 'AveMaxTemp_7'], axis=1, inplace=True) #対象の列を削除"
   ]
  },
  {
   "cell_type": "code",
   "execution_count": 759,
   "metadata": {},
   "outputs": [
    {
     "data": {
      "text/html": [
       "<div>\n",
       "<style scoped>\n",
       "    .dataframe tbody tr th:only-of-type {\n",
       "        vertical-align: middle;\n",
       "    }\n",
       "\n",
       "    .dataframe tbody tr th {\n",
       "        vertical-align: top;\n",
       "    }\n",
       "\n",
       "    .dataframe thead th {\n",
       "        text-align: right;\n",
       "    }\n",
       "</style>\n",
       "<table border=\"1\" class=\"dataframe\">\n",
       "  <thead>\n",
       "    <tr style=\"text-align: right;\">\n",
       "      <th></th>\n",
       "      <th>quarter_3rd</th>\n",
       "      <th>quarter_4th</th>\n",
       "      <th>size_2</th>\n",
       "      <th>AveHum_7_2</th>\n",
       "      <th>AveMaxTemp_7_2</th>\n",
       "    </tr>\n",
       "  </thead>\n",
       "  <tbody>\n",
       "    <tr>\n",
       "      <th>567</th>\n",
       "      <td>0</td>\n",
       "      <td>1</td>\n",
       "      <td>17.6400</td>\n",
       "      <td>3932.5441</td>\n",
       "      <td>608.1156</td>\n",
       "    </tr>\n",
       "    <tr>\n",
       "      <th>1456</th>\n",
       "      <td>0</td>\n",
       "      <td>0</td>\n",
       "      <td>23.4256</td>\n",
       "      <td>3210.3556</td>\n",
       "      <td>730.6209</td>\n",
       "    </tr>\n",
       "    <tr>\n",
       "      <th>2159</th>\n",
       "      <td>0</td>\n",
       "      <td>0</td>\n",
       "      <td>74.6496</td>\n",
       "      <td>4428.9025</td>\n",
       "      <td>1030.4100</td>\n",
       "    </tr>\n",
       "    <tr>\n",
       "      <th>1135</th>\n",
       "      <td>0</td>\n",
       "      <td>0</td>\n",
       "      <td>39.0625</td>\n",
       "      <td>3527.1721</td>\n",
       "      <td>680.6881</td>\n",
       "    </tr>\n",
       "    <tr>\n",
       "      <th>1437</th>\n",
       "      <td>0</td>\n",
       "      <td>0</td>\n",
       "      <td>103.0225</td>\n",
       "      <td>3210.3556</td>\n",
       "      <td>730.6209</td>\n",
       "    </tr>\n",
       "  </tbody>\n",
       "</table>\n",
       "</div>"
      ],
      "text/plain": [
       "      quarter_3rd  quarter_4th    size_2  AveHum_7_2  AveMaxTemp_7_2\n",
       "567             0            1   17.6400   3932.5441        608.1156\n",
       "1456            0            0   23.4256   3210.3556        730.6209\n",
       "2159            0            0   74.6496   4428.9025       1030.4100\n",
       "1135            0            0   39.0625   3527.1721        680.6881\n",
       "1437            0            0  103.0225   3210.3556        730.6209"
      ]
     },
     "execution_count": 759,
     "metadata": {},
     "output_type": "execute_result"
    }
   ],
   "source": [
    "X_test.head()"
   ]
  },
  {
   "cell_type": "code",
   "execution_count": 760,
   "metadata": {},
   "outputs": [
    {
     "name": "stdout",
     "output_type": "stream",
     "text": [
      "Test set score : 0.3\n"
     ]
    }
   ],
   "source": [
    "print('Test set score : {}'.format(round(grid_search.score(X_test, y_test), 3)))"
   ]
  },
  {
   "cell_type": "code",
   "execution_count": 761,
   "metadata": {},
   "outputs": [
    {
     "name": "stdout",
     "output_type": "stream",
     "text": [
      "[[  0   0  23  54]\n",
      " [  0   0  28 142]\n",
      " [  0   0  18 210]\n",
      " [  0   0   0 178]]\n"
     ]
    }
   ],
   "source": [
    "# 多クラス混合行列\n",
    "from sklearn.metrics import confusion_matrix\n",
    "clf = grid_search.best_estimator_\n",
    "pred = clf.predict(X_test)\n",
    "print(confusion_matrix(y_test, pred))"
   ]
  },
  {
   "cell_type": "code",
   "execution_count": null,
   "metadata": {},
   "outputs": [],
   "source": []
  },
  {
   "cell_type": "code",
   "execution_count": null,
   "metadata": {},
   "outputs": [],
   "source": []
  },
  {
   "cell_type": "code",
   "execution_count": null,
   "metadata": {},
   "outputs": [],
   "source": []
  },
  {
   "cell_type": "code",
   "execution_count": null,
   "metadata": {},
   "outputs": [],
   "source": []
  },
  {
   "cell_type": "code",
   "execution_count": null,
   "metadata": {},
   "outputs": [],
   "source": []
  },
  {
   "cell_type": "code",
   "execution_count": null,
   "metadata": {},
   "outputs": [],
   "source": []
  },
  {
   "cell_type": "code",
   "execution_count": null,
   "metadata": {},
   "outputs": [],
   "source": []
  },
  {
   "cell_type": "code",
   "execution_count": null,
   "metadata": {},
   "outputs": [],
   "source": []
  },
  {
   "cell_type": "code",
   "execution_count": null,
   "metadata": {},
   "outputs": [],
   "source": []
  },
  {
   "cell_type": "code",
   "execution_count": null,
   "metadata": {},
   "outputs": [],
   "source": []
  },
  {
   "cell_type": "code",
   "execution_count": null,
   "metadata": {},
   "outputs": [],
   "source": []
  },
  {
   "cell_type": "code",
   "execution_count": null,
   "metadata": {},
   "outputs": [],
   "source": []
  },
  {
   "cell_type": "code",
   "execution_count": null,
   "metadata": {},
   "outputs": [],
   "source": []
  },
  {
   "cell_type": "code",
   "execution_count": 625,
   "metadata": {},
   "outputs": [
    {
     "name": "stdout",
     "output_type": "stream",
     "text": [
      "before (75, 15)\n",
      "after (18, 15)\n",
      "before (170, 15)\n",
      "after (52, 15)\n",
      "before (228, 15)\n",
      "after (75, 15)\n",
      "before (167, 15)\n",
      "after (57, 15)\n"
     ]
    }
   ],
   "source": [
    "# テストデータに対して\n",
    "df_test = pd.concat([X_test, y_test], axis=1)\n",
    "\n",
    "\n",
    "df_test_1 = df_test[(df_test['sweet_category'] == 1)]\n",
    "print(\"before\", df_test_1.shape)\n",
    "df_test_1 = outlier_iqr(df_test_1, ['sweet'])\n",
    "print(\"after\", df_test_1.shape)\n",
    "df_test_1['sweet'] = np.log1p(df_test_1['sweet'])\n",
    "\n",
    "\n",
    "df_test_2 = df_test[(df_test['sweet_category'] == 2)]\n",
    "print(\"before\", df_test_2.shape)\n",
    "df_test_2 = outlier_iqr(df_test_2, ['sweet'])\n",
    "print(\"after\", df_test_2.shape)\n",
    "df_test_2['sweet'] = np.log1p(df_test_2['sweet'])\n",
    "\n",
    "\n",
    "df_test_3 = df_test[(df_test['sweet_category'] == 3)]\n",
    "print(\"before\", df_test_3.shape)\n",
    "df_test_3 = outlier_iqr(df_test_3, ['sweet'])\n",
    "print(\"after\", df_test_3.shape)\n",
    "df_test_3['sweet'] = np.log1p(df_test_3['sweet'])\n",
    "\n",
    "\n",
    "df_test_4 = df_test[(df_test['sweet_category'] == 4)]\n",
    "print(\"before\", df_test_4.shape)\n",
    "df_test_4 = outlier_iqr(df_test_4, ['sweet'])\n",
    "print(\"after\", df_test_4.shape)\n",
    "df_test_4['sweet'] = np.log1p(df_test_4['sweet'])\n",
    "\n",
    "\n",
    "# 4つのデータフレームを結合\n",
    "df_test_new = pd.concat([df_test_1, df_test_2, df_test_3, df_test_4])\n",
    "# ランダムに並び替える＆indexを再振り\n",
    "df_test_new = df_test_new.sample(frac=1).reset_index(drop=True)\n",
    "\n",
    "\n",
    "y_test = df_test_new[\"sweet_category\"] #目的変数\n",
    "df_test_new.drop(['sweet','sweet_category'], axis=1, inplace=True) #目的変数の列を削除\n",
    "\n",
    "\n",
    "df_test_new.drop(['AveCO2_7', 'AveSatu_7', 'AveTemp_7', 'AveMinTemp_7', 'AveDiffTemp_7', 'SumMaxTemp_7', 'SumMinTemp_7', 'SumDiffTemp_7'], axis=1, inplace=True) #対象の列を削除\n",
    "\n",
    "\n",
    "df_test_new['size_2'] = df_test_new['size']**2\n",
    "#df_test_new['size_3'] = df_test_new['size']**3\n",
    "df_test_new['AveHum_7_2'] = df_test_new['AveHum_7']**2\n",
    "df_test_new['AveMaxTemp_7_2'] = df_test_new['AveMaxTemp_7']**2\n",
    "\n",
    "df_test_new.drop(['size','AveHum_7', 'AveMaxTemp_7'], axis=1, inplace=True) #対象の列を削除"
   ]
  },
  {
   "cell_type": "code",
   "execution_count": 626,
   "metadata": {
    "scrolled": true
   },
   "outputs": [
    {
     "name": "stdout",
     "output_type": "stream",
     "text": [
      "Test set score : 0.282\n"
     ]
    }
   ],
   "source": [
    "print('Test set score : {}'.format(round(grid_search.score(df_test_new, y_test), 3)))"
   ]
  },
  {
   "cell_type": "code",
   "execution_count": 624,
   "metadata": {},
   "outputs": [
    {
     "name": "stdout",
     "output_type": "stream",
     "text": [
      "[[  0   0  21  54]\n",
      " [  0   0  32 138]\n",
      " [  0   0  19 209]\n",
      " [  0   0   0 167]]\n"
     ]
    }
   ],
   "source": [
    "# 多クラス混合行列\n",
    "from sklearn.metrics import confusion_matrix\n",
    "clf = grid_search.best_estimator_\n",
    "pred = clf.predict(df_test_new)\n",
    "print(confusion_matrix(y_test, pred))"
   ]
  },
  {
   "cell_type": "code",
   "execution_count": null,
   "metadata": {},
   "outputs": [],
   "source": []
  },
  {
   "cell_type": "code",
   "execution_count": null,
   "metadata": {},
   "outputs": [],
   "source": []
  },
  {
   "cell_type": "code",
   "execution_count": null,
   "metadata": {},
   "outputs": [],
   "source": []
  },
  {
   "cell_type": "code",
   "execution_count": null,
   "metadata": {},
   "outputs": [],
   "source": []
  },
  {
   "cell_type": "code",
   "execution_count": null,
   "metadata": {},
   "outputs": [],
   "source": []
  },
  {
   "cell_type": "code",
   "execution_count": null,
   "metadata": {},
   "outputs": [],
   "source": []
  },
  {
   "cell_type": "code",
   "execution_count": null,
   "metadata": {},
   "outputs": [],
   "source": []
  },
  {
   "cell_type": "code",
   "execution_count": null,
   "metadata": {},
   "outputs": [],
   "source": []
  },
  {
   "cell_type": "code",
   "execution_count": null,
   "metadata": {},
   "outputs": [],
   "source": []
  },
  {
   "cell_type": "code",
   "execution_count": null,
   "metadata": {},
   "outputs": [],
   "source": []
  },
  {
   "cell_type": "code",
   "execution_count": null,
   "metadata": {},
   "outputs": [],
   "source": []
  },
  {
   "cell_type": "code",
   "execution_count": null,
   "metadata": {},
   "outputs": [],
   "source": []
  },
  {
   "cell_type": "code",
   "execution_count": null,
   "metadata": {},
   "outputs": [],
   "source": []
  },
  {
   "cell_type": "code",
   "execution_count": null,
   "metadata": {},
   "outputs": [],
   "source": []
  },
  {
   "cell_type": "code",
   "execution_count": null,
   "metadata": {},
   "outputs": [],
   "source": []
  },
  {
   "cell_type": "code",
   "execution_count": null,
   "metadata": {},
   "outputs": [],
   "source": []
  },
  {
   "cell_type": "code",
   "execution_count": null,
   "metadata": {},
   "outputs": [],
   "source": []
  },
  {
   "cell_type": "code",
   "execution_count": null,
   "metadata": {},
   "outputs": [],
   "source": []
  },
  {
   "cell_type": "code",
   "execution_count": null,
   "metadata": {},
   "outputs": [],
   "source": []
  },
  {
   "cell_type": "code",
   "execution_count": null,
   "metadata": {},
   "outputs": [],
   "source": []
  },
  {
   "cell_type": "code",
   "execution_count": null,
   "metadata": {},
   "outputs": [],
   "source": []
  },
  {
   "cell_type": "code",
   "execution_count": null,
   "metadata": {},
   "outputs": [],
   "source": []
  },
  {
   "cell_type": "code",
   "execution_count": null,
   "metadata": {},
   "outputs": [],
   "source": []
  },
  {
   "cell_type": "code",
   "execution_count": null,
   "metadata": {},
   "outputs": [],
   "source": []
  },
  {
   "cell_type": "code",
   "execution_count": null,
   "metadata": {},
   "outputs": [],
   "source": []
  },
  {
   "cell_type": "code",
   "execution_count": null,
   "metadata": {},
   "outputs": [],
   "source": []
  },
  {
   "cell_type": "code",
   "execution_count": null,
   "metadata": {},
   "outputs": [],
   "source": []
  },
  {
   "cell_type": "code",
   "execution_count": null,
   "metadata": {},
   "outputs": [],
   "source": []
  }
 ],
 "metadata": {
  "kernelspec": {
   "display_name": "Python 3",
   "language": "python",
   "name": "python3"
  },
  "language_info": {
   "codemirror_mode": {
    "name": "ipython",
    "version": 3
   },
   "file_extension": ".py",
   "mimetype": "text/x-python",
   "name": "python",
   "nbconvert_exporter": "python",
   "pygments_lexer": "ipython3",
   "version": "3.6.6"
  }
 },
 "nbformat": 4,
 "nbformat_minor": 2
}
