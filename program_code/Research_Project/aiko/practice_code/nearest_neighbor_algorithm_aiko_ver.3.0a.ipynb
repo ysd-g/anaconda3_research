{
 "cells": [
  {
   "cell_type": "code",
   "execution_count": 132,
   "metadata": {},
   "outputs": [],
   "source": [
    "#k最近傍法（2018年12月〜2019年6月中旬までの糖度を予測）"
   ]
  },
  {
   "cell_type": "code",
   "execution_count": 133,
   "metadata": {},
   "outputs": [],
   "source": [
    "%matplotlib inline\n",
    "import sys\n",
    "sys.path.append('/home/yoshida/.pyenv/versions/3.6.6/lib/python3.6/site-packages')\n",
    "\n",
    "import numpy as np\n",
    "import pandas as pd\n",
    "import matplotlib.pyplot as plt\n",
    "import matplotlib.pyplot as plt\n",
    "import seaborn as sns\n",
    "plt.style.use('ggplot')\n",
    "\n",
    "from sklearn.neighbors import KNeighborsClassifier\n",
    "from sklearn.model_selection import train_test_split"
   ]
  },
  {
   "cell_type": "code",
   "execution_count": 134,
   "metadata": {},
   "outputs": [],
   "source": [
    "# データの読み込み\n",
    "data = pd.read_csv(\"../src/Aiko_normalization_ver3_aaa.csv\")\n",
    "df = pd.DataFrame(data)"
   ]
  },
  {
   "cell_type": "code",
   "execution_count": 135,
   "metadata": {},
   "outputs": [],
   "source": [
    "df.drop(['No','current_date','width','height','seed_date','house','url', 'COL_21'], axis=1, inplace=True) #対象の列を削除"
   ]
  },
  {
   "cell_type": "code",
   "execution_count": 136,
   "metadata": {},
   "outputs": [
    {
     "name": "stdout",
     "output_type": "stream",
     "text": [
      "<class 'pandas.core.frame.DataFrame'>\n",
      "RangeIndex: 2176 entries, 0 to 2175\n",
      "Data columns (total 13 columns):\n",
      "sweet             2176 non-null float64\n",
      "sweet_category    2176 non-null int64\n",
      "size              2176 non-null float64\n",
      "AveCO2_7          2176 non-null float64\n",
      "AveSatu_7         2176 non-null float64\n",
      "AveHum_7          2176 non-null float64\n",
      "AveTemp_7         2176 non-null float64\n",
      "AveMaxTemp_7      2176 non-null float64\n",
      "AveMinTemp_7      2176 non-null float64\n",
      "AveDiffTemp_7     2176 non-null float64\n",
      "SumMaxTemp_7      2176 non-null float64\n",
      "SumMinTemp_7      2176 non-null float64\n",
      "SumDiffTemp_7     2176 non-null float64\n",
      "dtypes: float64(12), int64(1)\n",
      "memory usage: 221.1 KB\n"
     ]
    }
   ],
   "source": [
    "df.info()"
   ]
  },
  {
   "cell_type": "code",
   "execution_count": 137,
   "metadata": {},
   "outputs": [],
   "source": [
    "# AveDiffTemp_7、AveSatu_7、monthを対象としたい時\n",
    "#df.drop(['AveCO2_7', 'AveSatu_7', 'AveTemp_7', 'AveHum_7', 'AveMinTemp_7', 'AveDiffTemp_7', 'SumMaxTemp_7','SumMinTemp_7','SumDiffTemp_7'], axis=1, inplace=True)"
   ]
  },
  {
   "cell_type": "code",
   "execution_count": 138,
   "metadata": {},
   "outputs": [
    {
     "data": {
      "text/html": [
       "<div>\n",
       "<style scoped>\n",
       "    .dataframe tbody tr th:only-of-type {\n",
       "        vertical-align: middle;\n",
       "    }\n",
       "\n",
       "    .dataframe tbody tr th {\n",
       "        vertical-align: top;\n",
       "    }\n",
       "\n",
       "    .dataframe thead th {\n",
       "        text-align: right;\n",
       "    }\n",
       "</style>\n",
       "<table border=\"1\" class=\"dataframe\">\n",
       "  <thead>\n",
       "    <tr style=\"text-align: right;\">\n",
       "      <th></th>\n",
       "      <th>sweet</th>\n",
       "      <th>sweet_category</th>\n",
       "      <th>size</th>\n",
       "      <th>AveCO2_7</th>\n",
       "      <th>AveSatu_7</th>\n",
       "      <th>AveHum_7</th>\n",
       "      <th>AveTemp_7</th>\n",
       "      <th>AveMaxTemp_7</th>\n",
       "      <th>AveMinTemp_7</th>\n",
       "      <th>AveDiffTemp_7</th>\n",
       "      <th>SumMaxTemp_7</th>\n",
       "      <th>SumMinTemp_7</th>\n",
       "      <th>SumDiffTemp_7</th>\n",
       "    </tr>\n",
       "  </thead>\n",
       "  <tbody>\n",
       "    <tr>\n",
       "      <th>0</th>\n",
       "      <td>4.3</td>\n",
       "      <td>2</td>\n",
       "      <td>7.54</td>\n",
       "      <td>614.28</td>\n",
       "      <td>6.17</td>\n",
       "      <td>66.84</td>\n",
       "      <td>21.14</td>\n",
       "      <td>26.24</td>\n",
       "      <td>18.83</td>\n",
       "      <td>7.41</td>\n",
       "      <td>183.7</td>\n",
       "      <td>131.8</td>\n",
       "      <td>51.9</td>\n",
       "    </tr>\n",
       "    <tr>\n",
       "      <th>1</th>\n",
       "      <td>4.5</td>\n",
       "      <td>2</td>\n",
       "      <td>6.48</td>\n",
       "      <td>614.28</td>\n",
       "      <td>6.17</td>\n",
       "      <td>66.84</td>\n",
       "      <td>21.14</td>\n",
       "      <td>26.24</td>\n",
       "      <td>18.83</td>\n",
       "      <td>7.41</td>\n",
       "      <td>183.7</td>\n",
       "      <td>131.8</td>\n",
       "      <td>51.9</td>\n",
       "    </tr>\n",
       "    <tr>\n",
       "      <th>2</th>\n",
       "      <td>4.0</td>\n",
       "      <td>1</td>\n",
       "      <td>8.68</td>\n",
       "      <td>614.28</td>\n",
       "      <td>6.17</td>\n",
       "      <td>66.84</td>\n",
       "      <td>21.14</td>\n",
       "      <td>26.24</td>\n",
       "      <td>18.83</td>\n",
       "      <td>7.41</td>\n",
       "      <td>183.7</td>\n",
       "      <td>131.8</td>\n",
       "      <td>51.9</td>\n",
       "    </tr>\n",
       "    <tr>\n",
       "      <th>3</th>\n",
       "      <td>3.5</td>\n",
       "      <td>1</td>\n",
       "      <td>10.50</td>\n",
       "      <td>614.28</td>\n",
       "      <td>6.17</td>\n",
       "      <td>66.84</td>\n",
       "      <td>21.14</td>\n",
       "      <td>26.24</td>\n",
       "      <td>18.83</td>\n",
       "      <td>7.41</td>\n",
       "      <td>183.7</td>\n",
       "      <td>131.8</td>\n",
       "      <td>51.9</td>\n",
       "    </tr>\n",
       "    <tr>\n",
       "      <th>4</th>\n",
       "      <td>4.3</td>\n",
       "      <td>2</td>\n",
       "      <td>7.00</td>\n",
       "      <td>614.28</td>\n",
       "      <td>6.17</td>\n",
       "      <td>66.84</td>\n",
       "      <td>21.14</td>\n",
       "      <td>26.24</td>\n",
       "      <td>18.83</td>\n",
       "      <td>7.41</td>\n",
       "      <td>183.7</td>\n",
       "      <td>131.8</td>\n",
       "      <td>51.9</td>\n",
       "    </tr>\n",
       "  </tbody>\n",
       "</table>\n",
       "</div>"
      ],
      "text/plain": [
       "   sweet  sweet_category   size  AveCO2_7  AveSatu_7  AveHum_7  AveTemp_7  \\\n",
       "0    4.3               2   7.54    614.28       6.17     66.84      21.14   \n",
       "1    4.5               2   6.48    614.28       6.17     66.84      21.14   \n",
       "2    4.0               1   8.68    614.28       6.17     66.84      21.14   \n",
       "3    3.5               1  10.50    614.28       6.17     66.84      21.14   \n",
       "4    4.3               2   7.00    614.28       6.17     66.84      21.14   \n",
       "\n",
       "   AveMaxTemp_7  AveMinTemp_7  AveDiffTemp_7  SumMaxTemp_7  SumMinTemp_7  \\\n",
       "0         26.24         18.83           7.41         183.7         131.8   \n",
       "1         26.24         18.83           7.41         183.7         131.8   \n",
       "2         26.24         18.83           7.41         183.7         131.8   \n",
       "3         26.24         18.83           7.41         183.7         131.8   \n",
       "4         26.24         18.83           7.41         183.7         131.8   \n",
       "\n",
       "   SumDiffTemp_7  \n",
       "0           51.9  \n",
       "1           51.9  \n",
       "2           51.9  \n",
       "3           51.9  \n",
       "4           51.9  "
      ]
     },
     "execution_count": 138,
     "metadata": {},
     "output_type": "execute_result"
    }
   ],
   "source": [
    "df.head()"
   ]
  },
  {
   "cell_type": "code",
   "execution_count": 139,
   "metadata": {},
   "outputs": [],
   "source": [
    "#  <-----------------------------------------\n",
    "df.drop(['AveHum_7', 'AveMaxTemp_7', 'SumDiffTemp_7', 'AveMinTemp_7', 'SumMaxTemp_7', 'SumMinTemp_7', 'AveTemp_7'], axis=1, inplace=True) #対象の列を削除"
   ]
  },
  {
   "cell_type": "code",
   "execution_count": 95,
   "metadata": {},
   "outputs": [
    {
     "data": {
      "text/html": [
       "<div>\n",
       "<style scoped>\n",
       "    .dataframe tbody tr th:only-of-type {\n",
       "        vertical-align: middle;\n",
       "    }\n",
       "\n",
       "    .dataframe tbody tr th {\n",
       "        vertical-align: top;\n",
       "    }\n",
       "\n",
       "    .dataframe thead th {\n",
       "        text-align: right;\n",
       "    }\n",
       "</style>\n",
       "<table border=\"1\" class=\"dataframe\">\n",
       "  <thead>\n",
       "    <tr style=\"text-align: right;\">\n",
       "      <th></th>\n",
       "      <th>sweet</th>\n",
       "      <th>sweet_category</th>\n",
       "      <th>size</th>\n",
       "      <th>AveCO2_7</th>\n",
       "      <th>AveMaxTemp_7</th>\n",
       "      <th>AveDiffTemp_7</th>\n",
       "    </tr>\n",
       "  </thead>\n",
       "  <tbody>\n",
       "    <tr>\n",
       "      <th>0</th>\n",
       "      <td>4.3</td>\n",
       "      <td>2</td>\n",
       "      <td>7.54</td>\n",
       "      <td>614.28</td>\n",
       "      <td>26.24</td>\n",
       "      <td>7.41</td>\n",
       "    </tr>\n",
       "    <tr>\n",
       "      <th>1</th>\n",
       "      <td>4.5</td>\n",
       "      <td>2</td>\n",
       "      <td>6.48</td>\n",
       "      <td>614.28</td>\n",
       "      <td>26.24</td>\n",
       "      <td>7.41</td>\n",
       "    </tr>\n",
       "    <tr>\n",
       "      <th>2</th>\n",
       "      <td>4.0</td>\n",
       "      <td>1</td>\n",
       "      <td>8.68</td>\n",
       "      <td>614.28</td>\n",
       "      <td>26.24</td>\n",
       "      <td>7.41</td>\n",
       "    </tr>\n",
       "    <tr>\n",
       "      <th>3</th>\n",
       "      <td>3.5</td>\n",
       "      <td>1</td>\n",
       "      <td>10.50</td>\n",
       "      <td>614.28</td>\n",
       "      <td>26.24</td>\n",
       "      <td>7.41</td>\n",
       "    </tr>\n",
       "    <tr>\n",
       "      <th>4</th>\n",
       "      <td>4.3</td>\n",
       "      <td>2</td>\n",
       "      <td>7.00</td>\n",
       "      <td>614.28</td>\n",
       "      <td>26.24</td>\n",
       "      <td>7.41</td>\n",
       "    </tr>\n",
       "  </tbody>\n",
       "</table>\n",
       "</div>"
      ],
      "text/plain": [
       "   sweet  sweet_category   size  AveCO2_7  AveMaxTemp_7  AveDiffTemp_7\n",
       "0    4.3               2   7.54    614.28         26.24           7.41\n",
       "1    4.5               2   6.48    614.28         26.24           7.41\n",
       "2    4.0               1   8.68    614.28         26.24           7.41\n",
       "3    3.5               1  10.50    614.28         26.24           7.41\n",
       "4    4.3               2   7.00    614.28         26.24           7.41"
      ]
     },
     "execution_count": 95,
     "metadata": {},
     "output_type": "execute_result"
    }
   ],
   "source": [
    "df.head()"
   ]
  },
  {
   "cell_type": "code",
   "execution_count": 10,
   "metadata": {},
   "outputs": [
    {
     "name": "stdout",
     "output_type": "stream",
     "text": [
      "(2176, 6)\n"
     ]
    }
   ],
   "source": [
    "df['month'] = df['current_date'].str[:2] # \"11月28日\"とか\"4月3日\"の月日の先頭2文字だけ抽出\n",
    "df['month'] = df['month'].str.strip('月') # このままだと\"4月\"のように\"月\"が入っているので、\"月\"を削除する\n",
    "# 参考：https://deepage.net/features/pandas-str-extract.html\n",
    "# 参考：https://deepage.net/features/pandas-str-replace.html\n",
    "df['month'].isnull().sum() # 欠損値がないかを確認\n",
    "\n",
    "df.drop(['current_date'], axis=1, inplace=True) # current_dateはもう使わない\n",
    "print(df.shape)"
   ]
  },
  {
   "cell_type": "code",
   "execution_count": 11,
   "metadata": {},
   "outputs": [],
   "source": [
    "# 四半期を求める(4~6月:1st、7~9月:2nd、10~12月:3rd、1~3月:4th)(＊＊＊＊使うか使わないか＊＊＊＊)\n",
    "df['quarter'] = df['month'].replace({'4': '1st', '5': '1st', '6': '1st', \n",
    "                                     '7': '2nd', '8': '2nd', '9': '2nd', \n",
    "                                     '10': '3rd', '11': '3rd', '12': '3rd', \n",
    "                                     '1': '4th', '2': '4th', '3': '4th'\n",
    "                                    })"
   ]
  },
  {
   "cell_type": "code",
   "execution_count": 12,
   "metadata": {},
   "outputs": [],
   "source": [
    "# ダミー変数の作成\n",
    "df = pd.get_dummies(df, columns=['quarter'], drop_first=True)"
   ]
  },
  {
   "cell_type": "code",
   "execution_count": 13,
   "metadata": {},
   "outputs": [],
   "source": [
    "df.drop(['month'], axis=1, inplace=True)"
   ]
  },
  {
   "cell_type": "code",
   "execution_count": 140,
   "metadata": {},
   "outputs": [
    {
     "data": {
      "text/html": [
       "<div>\n",
       "<style scoped>\n",
       "    .dataframe tbody tr th:only-of-type {\n",
       "        vertical-align: middle;\n",
       "    }\n",
       "\n",
       "    .dataframe tbody tr th {\n",
       "        vertical-align: top;\n",
       "    }\n",
       "\n",
       "    .dataframe thead th {\n",
       "        text-align: right;\n",
       "    }\n",
       "</style>\n",
       "<table border=\"1\" class=\"dataframe\">\n",
       "  <thead>\n",
       "    <tr style=\"text-align: right;\">\n",
       "      <th></th>\n",
       "      <th>sweet</th>\n",
       "      <th>sweet_category</th>\n",
       "      <th>size</th>\n",
       "      <th>AveCO2_7</th>\n",
       "      <th>AveSatu_7</th>\n",
       "      <th>AveDiffTemp_7</th>\n",
       "    </tr>\n",
       "  </thead>\n",
       "  <tbody>\n",
       "    <tr>\n",
       "      <th>0</th>\n",
       "      <td>4.3</td>\n",
       "      <td>2</td>\n",
       "      <td>7.54</td>\n",
       "      <td>614.28</td>\n",
       "      <td>6.17</td>\n",
       "      <td>7.41</td>\n",
       "    </tr>\n",
       "    <tr>\n",
       "      <th>1</th>\n",
       "      <td>4.5</td>\n",
       "      <td>2</td>\n",
       "      <td>6.48</td>\n",
       "      <td>614.28</td>\n",
       "      <td>6.17</td>\n",
       "      <td>7.41</td>\n",
       "    </tr>\n",
       "    <tr>\n",
       "      <th>2</th>\n",
       "      <td>4.0</td>\n",
       "      <td>1</td>\n",
       "      <td>8.68</td>\n",
       "      <td>614.28</td>\n",
       "      <td>6.17</td>\n",
       "      <td>7.41</td>\n",
       "    </tr>\n",
       "    <tr>\n",
       "      <th>3</th>\n",
       "      <td>3.5</td>\n",
       "      <td>1</td>\n",
       "      <td>10.50</td>\n",
       "      <td>614.28</td>\n",
       "      <td>6.17</td>\n",
       "      <td>7.41</td>\n",
       "    </tr>\n",
       "    <tr>\n",
       "      <th>4</th>\n",
       "      <td>4.3</td>\n",
       "      <td>2</td>\n",
       "      <td>7.00</td>\n",
       "      <td>614.28</td>\n",
       "      <td>6.17</td>\n",
       "      <td>7.41</td>\n",
       "    </tr>\n",
       "  </tbody>\n",
       "</table>\n",
       "</div>"
      ],
      "text/plain": [
       "   sweet  sweet_category   size  AveCO2_7  AveSatu_7  AveDiffTemp_7\n",
       "0    4.3               2   7.54    614.28       6.17           7.41\n",
       "1    4.5               2   6.48    614.28       6.17           7.41\n",
       "2    4.0               1   8.68    614.28       6.17           7.41\n",
       "3    3.5               1  10.50    614.28       6.17           7.41\n",
       "4    4.3               2   7.00    614.28       6.17           7.41"
      ]
     },
     "execution_count": 140,
     "metadata": {},
     "output_type": "execute_result"
    }
   ],
   "source": [
    "df.head()"
   ]
  },
  {
   "cell_type": "code",
   "execution_count": 141,
   "metadata": {},
   "outputs": [],
   "source": [
    "df['sweet_category'] = df['sweet_category'].replace({1: 1, 2: 1000, 3: 10000, 4: 20000})"
   ]
  },
  {
   "cell_type": "code",
   "execution_count": 142,
   "metadata": {},
   "outputs": [],
   "source": [
    "# 四分位数\n",
    "def outlier_iqr(df, columns=None):\n",
    "    if columns == None:\n",
    "        columns = df.columns\n",
    "    for col in columns:\n",
    "        q1 = df[col].describe()['25%']\n",
    "        q3 = df[col].describe()['75%']\n",
    "        # 四分位範囲\n",
    "        iqr = q3 - q1\n",
    "        outlier_min = q1 - iqr * 1.5\n",
    "        outlier_max = q3 + iqr * 1.5\n",
    "        # 範囲から外れている値を除く\n",
    "        df = df[(df[col] >= outlier_min) & (df[col] <= outlier_max)]\n",
    "    return df"
   ]
  },
  {
   "cell_type": "code",
   "execution_count": 143,
   "metadata": {},
   "outputs": [
    {
     "name": "stdout",
     "output_type": "stream",
     "text": [
      "before (2176, 6)\n",
      "after (2173, 6)\n"
     ]
    }
   ],
   "source": [
    "print(\"before\", df.shape)\n",
    "df = outlier_iqr(df, ['sweet'])\n",
    "print(\"after\", df.shape)"
   ]
  },
  {
   "cell_type": "code",
   "execution_count": 144,
   "metadata": {},
   "outputs": [
    {
     "data": {
      "text/plain": [
       "<matplotlib.axes._subplots.AxesSubplot at 0x7f2f45f74940>"
      ]
     },
     "execution_count": 144,
     "metadata": {},
     "output_type": "execute_result"
    },
    {
     "data": {
      "image/png": "[encoded data removed]",
      "text/plain": [
       "<Figure size 864x576 with 1 Axes>"
      ]
     },
     "metadata": {},
     "output_type": "display_data"
    }
   ],
   "source": [
    "# ヒストグラム\n",
    "plt.figure(figsize=(12, 8))\n",
    "sns.distplot(df['sweet'])"
   ]
  },
  {
   "cell_type": "code",
   "execution_count": 145,
   "metadata": {},
   "outputs": [],
   "source": [
    "#  <-----------------------------------------\n",
    "\n",
    "#df['size_2'] = df['size']**2\n",
    "df['size_3'] = df['size']**3\n",
    "#df['AveHum_7_2'] = df['AveHum_7']**2.5\n",
    "#df['AveMaxTemp_7_2'] = df['AveMaxTemp_7']**2.5\n",
    "#df['AveMinTemp_7_2'] = df['AveMinTemp_7']**2\n",
    "#df['AveDiffTemp_7_2'] = df['AveDiffTemp_7']**2\n",
    "df['AveDiffTemp_7_3'] = df['AveDiffTemp_7']**3\n",
    "#df['SumDiffTemp_7_2'] = df['SumDiffTemp_7']**2\n",
    "#df['AveTemp_7_3'] = df['AveTemp_7']**2\n",
    "df['AveSatu_7_3'] = df['AveSatu_7']**3\n",
    "#df['SumMaxTemp_7_2'] = df['SumMaxTemp_7']**2\n",
    "#df['SumMinTemp_7_2'] = df['SumMinTemp_7']**2\n",
    "#df['SumAveTemp_7_2'] = df['SumAveTemp_7']**2\n",
    "df['AveCO2_7_1.5'] = df['AveCO2_7']**1.5\n"
   ]
  },
  {
   "cell_type": "code",
   "execution_count": 146,
   "metadata": {},
   "outputs": [
    {
     "data": {
      "text/html": [
       "<div>\n",
       "<style scoped>\n",
       "    .dataframe tbody tr th:only-of-type {\n",
       "        vertical-align: middle;\n",
       "    }\n",
       "\n",
       "    .dataframe tbody tr th {\n",
       "        vertical-align: top;\n",
       "    }\n",
       "\n",
       "    .dataframe thead th {\n",
       "        text-align: right;\n",
       "    }\n",
       "</style>\n",
       "<table border=\"1\" class=\"dataframe\">\n",
       "  <thead>\n",
       "    <tr style=\"text-align: right;\">\n",
       "      <th></th>\n",
       "      <th>sweet</th>\n",
       "      <th>sweet_category</th>\n",
       "      <th>size</th>\n",
       "      <th>AveCO2_7</th>\n",
       "      <th>AveSatu_7</th>\n",
       "      <th>AveDiffTemp_7</th>\n",
       "      <th>size_3</th>\n",
       "      <th>AveDiffTemp_7_3</th>\n",
       "      <th>AveSatu_7_3</th>\n",
       "      <th>AveCO2_7_1.5</th>\n",
       "    </tr>\n",
       "  </thead>\n",
       "  <tbody>\n",
       "    <tr>\n",
       "      <th>0</th>\n",
       "      <td>4.3</td>\n",
       "      <td>1000</td>\n",
       "      <td>7.54</td>\n",
       "      <td>614.28</td>\n",
       "      <td>6.17</td>\n",
       "      <td>7.41</td>\n",
       "      <td>428.661064</td>\n",
       "      <td>406.869021</td>\n",
       "      <td>234.885113</td>\n",
       "      <td>15224.728736</td>\n",
       "    </tr>\n",
       "    <tr>\n",
       "      <th>1</th>\n",
       "      <td>4.5</td>\n",
       "      <td>1000</td>\n",
       "      <td>6.48</td>\n",
       "      <td>614.28</td>\n",
       "      <td>6.17</td>\n",
       "      <td>7.41</td>\n",
       "      <td>272.097792</td>\n",
       "      <td>406.869021</td>\n",
       "      <td>234.885113</td>\n",
       "      <td>15224.728736</td>\n",
       "    </tr>\n",
       "    <tr>\n",
       "      <th>2</th>\n",
       "      <td>4.0</td>\n",
       "      <td>1</td>\n",
       "      <td>8.68</td>\n",
       "      <td>614.28</td>\n",
       "      <td>6.17</td>\n",
       "      <td>7.41</td>\n",
       "      <td>653.972032</td>\n",
       "      <td>406.869021</td>\n",
       "      <td>234.885113</td>\n",
       "      <td>15224.728736</td>\n",
       "    </tr>\n",
       "    <tr>\n",
       "      <th>3</th>\n",
       "      <td>3.5</td>\n",
       "      <td>1</td>\n",
       "      <td>10.50</td>\n",
       "      <td>614.28</td>\n",
       "      <td>6.17</td>\n",
       "      <td>7.41</td>\n",
       "      <td>1157.625000</td>\n",
       "      <td>406.869021</td>\n",
       "      <td>234.885113</td>\n",
       "      <td>15224.728736</td>\n",
       "    </tr>\n",
       "    <tr>\n",
       "      <th>4</th>\n",
       "      <td>4.3</td>\n",
       "      <td>1000</td>\n",
       "      <td>7.00</td>\n",
       "      <td>614.28</td>\n",
       "      <td>6.17</td>\n",
       "      <td>7.41</td>\n",
       "      <td>343.000000</td>\n",
       "      <td>406.869021</td>\n",
       "      <td>234.885113</td>\n",
       "      <td>15224.728736</td>\n",
       "    </tr>\n",
       "  </tbody>\n",
       "</table>\n",
       "</div>"
      ],
      "text/plain": [
       "   sweet  sweet_category   size  AveCO2_7  AveSatu_7  AveDiffTemp_7  \\\n",
       "0    4.3            1000   7.54    614.28       6.17           7.41   \n",
       "1    4.5            1000   6.48    614.28       6.17           7.41   \n",
       "2    4.0               1   8.68    614.28       6.17           7.41   \n",
       "3    3.5               1  10.50    614.28       6.17           7.41   \n",
       "4    4.3            1000   7.00    614.28       6.17           7.41   \n",
       "\n",
       "        size_3  AveDiffTemp_7_3  AveSatu_7_3  AveCO2_7_1.5  \n",
       "0   428.661064       406.869021   234.885113  15224.728736  \n",
       "1   272.097792       406.869021   234.885113  15224.728736  \n",
       "2   653.972032       406.869021   234.885113  15224.728736  \n",
       "3  1157.625000       406.869021   234.885113  15224.728736  \n",
       "4   343.000000       406.869021   234.885113  15224.728736  "
      ]
     },
     "execution_count": 146,
     "metadata": {},
     "output_type": "execute_result"
    }
   ],
   "source": [
    "df.head()"
   ]
  },
  {
   "cell_type": "code",
   "execution_count": 147,
   "metadata": {},
   "outputs": [],
   "source": [
    "df.drop(['size','AveCO2_7', 'AveDiffTemp_7', 'AveSatu_7'], axis=1, inplace=True) #対象の列を削除  <-----------------------------------------\n",
    "\n",
    "y = df[\"sweet_category\"] #目的変数\n",
    "df.drop(['sweet', 'sweet_category'], axis=1, inplace=True) #目的変数の列を削除"
   ]
  },
  {
   "cell_type": "code",
   "execution_count": 148,
   "metadata": {},
   "outputs": [
    {
     "data": {
      "text/html": [
       "<div>\n",
       "<style scoped>\n",
       "    .dataframe tbody tr th:only-of-type {\n",
       "        vertical-align: middle;\n",
       "    }\n",
       "\n",
       "    .dataframe tbody tr th {\n",
       "        vertical-align: top;\n",
       "    }\n",
       "\n",
       "    .dataframe thead th {\n",
       "        text-align: right;\n",
       "    }\n",
       "</style>\n",
       "<table border=\"1\" class=\"dataframe\">\n",
       "  <thead>\n",
       "    <tr style=\"text-align: right;\">\n",
       "      <th></th>\n",
       "      <th>size_3</th>\n",
       "      <th>AveDiffTemp_7_3</th>\n",
       "      <th>AveSatu_7_3</th>\n",
       "      <th>AveCO2_7_1.5</th>\n",
       "    </tr>\n",
       "  </thead>\n",
       "  <tbody>\n",
       "    <tr>\n",
       "      <th>0</th>\n",
       "      <td>428.661064</td>\n",
       "      <td>406.869021</td>\n",
       "      <td>234.885113</td>\n",
       "      <td>15224.728736</td>\n",
       "    </tr>\n",
       "    <tr>\n",
       "      <th>1</th>\n",
       "      <td>272.097792</td>\n",
       "      <td>406.869021</td>\n",
       "      <td>234.885113</td>\n",
       "      <td>15224.728736</td>\n",
       "    </tr>\n",
       "    <tr>\n",
       "      <th>2</th>\n",
       "      <td>653.972032</td>\n",
       "      <td>406.869021</td>\n",
       "      <td>234.885113</td>\n",
       "      <td>15224.728736</td>\n",
       "    </tr>\n",
       "    <tr>\n",
       "      <th>3</th>\n",
       "      <td>1157.625000</td>\n",
       "      <td>406.869021</td>\n",
       "      <td>234.885113</td>\n",
       "      <td>15224.728736</td>\n",
       "    </tr>\n",
       "    <tr>\n",
       "      <th>4</th>\n",
       "      <td>343.000000</td>\n",
       "      <td>406.869021</td>\n",
       "      <td>234.885113</td>\n",
       "      <td>15224.728736</td>\n",
       "    </tr>\n",
       "  </tbody>\n",
       "</table>\n",
       "</div>"
      ],
      "text/plain": [
       "        size_3  AveDiffTemp_7_3  AveSatu_7_3  AveCO2_7_1.5\n",
       "0   428.661064       406.869021   234.885113  15224.728736\n",
       "1   272.097792       406.869021   234.885113  15224.728736\n",
       "2   653.972032       406.869021   234.885113  15224.728736\n",
       "3  1157.625000       406.869021   234.885113  15224.728736\n",
       "4   343.000000       406.869021   234.885113  15224.728736"
      ]
     },
     "execution_count": 148,
     "metadata": {},
     "output_type": "execute_result"
    }
   ],
   "source": [
    "df.head()"
   ]
  },
  {
   "cell_type": "code",
   "execution_count": 149,
   "metadata": {},
   "outputs": [],
   "source": [
    "# 検証データとテストデータに分割\n",
    "#stratify は母集団のカテゴリの割合を保って分割するもので、目的変数を指定するのが一般的\n",
    "from sklearn.model_selection import train_test_split\n",
    "X_trainval, X_test, y_trainval, y_test = train_test_split(df, y, test_size=0.3, random_state=0, stratify=y)"
   ]
  },
  {
   "cell_type": "code",
   "execution_count": 150,
   "metadata": {},
   "outputs": [],
   "source": [
    "# ハイパーパラメータを辞書型\n",
    "params_grid = {'weights': ['uniform', 'distance'], 'n_neighbors':[3,4,5,6,7,8,9,10,11,12,13,14,15,16,17,18,19,20,21]}"
   ]
  },
  {
   "cell_type": "code",
   "execution_count": 151,
   "metadata": {},
   "outputs": [],
   "source": [
    "from sklearn.model_selection import GridSearchCV\n",
    "from sklearn.neighbors import KNeighborsClassifier"
   ]
  },
  {
   "cell_type": "code",
   "execution_count": 152,
   "metadata": {},
   "outputs": [],
   "source": [
    "grid_search = GridSearchCV(KNeighborsClassifier(), params_grid, scoring=\"accuracy\",cv=10, n_jobs=-1)# 上記で用意したパラメーターごとに交差検証を実施"
   ]
  },
  {
   "cell_type": "code",
   "execution_count": 153,
   "metadata": {},
   "outputs": [
    {
     "data": {
      "text/plain": [
       "GridSearchCV(cv=10, error_score='raise-deprecating',\n",
       "       estimator=KNeighborsClassifier(algorithm='auto', leaf_size=30, metric='minkowski',\n",
       "           metric_params=None, n_jobs=None, n_neighbors=5, p=2,\n",
       "           weights='uniform'),\n",
       "       fit_params=None, iid='warn', n_jobs=-1,\n",
       "       param_grid={'weights': ['uniform', 'distance'], 'n_neighbors': [3, 4, 5, 6, 7, 8, 9, 10, 11, 12, 13, 14, 15, 16, 17, 18, 19, 20, 21]},\n",
       "       pre_dispatch='2*n_jobs', refit=True, return_train_score='warn',\n",
       "       scoring='accuracy', verbose=0)"
      ]
     },
     "execution_count": 153,
     "metadata": {},
     "output_type": "execute_result"
    }
   ],
   "source": [
    "grid_search.fit(X_trainval, y_trainval) # 学習"
   ]
  },
  {
   "cell_type": "code",
   "execution_count": 154,
   "metadata": {},
   "outputs": [
    {
     "name": "stdout",
     "output_type": "stream",
     "text": [
      "Best cross-validation: 0.757\n",
      "Best parameters : {'n_neighbors': 4, 'weights': 'uniform'}\n"
     ]
    }
   ],
   "source": [
    "# グリッドサーチの結果\n",
    "print('Best cross-validation: {}'.format(round(grid_search.best_score_, 3)))\n",
    "print('Best parameters : {}'.format(grid_search.best_params_))"
   ]
  },
  {
   "cell_type": "code",
   "execution_count": 155,
   "metadata": {},
   "outputs": [
    {
     "name": "stdout",
     "output_type": "stream",
     "text": [
      "Test set score : 0.779\n"
     ]
    }
   ],
   "source": [
    "print('Test set score : {}'.format(round(grid_search.score(X_test, y_test), 3)))"
   ]
  },
  {
   "cell_type": "code",
   "execution_count": 156,
   "metadata": {},
   "outputs": [
    {
     "name": "stdout",
     "output_type": "stream",
     "text": [
      "[[ 60  16   0   0]\n",
      " [ 19 117  34   0]\n",
      " [  1  26 182  19]\n",
      " [  0   0  29 149]]\n"
     ]
    }
   ],
   "source": [
    "# 多クラス混合行列\n",
    "from sklearn.metrics import confusion_matrix\n",
    "clf = grid_search.best_estimator_\n",
    "pred = clf.predict(X_test)\n",
    "print(confusion_matrix(y_test, pred))"
   ]
  },
  {
   "cell_type": "code",
   "execution_count": null,
   "metadata": {},
   "outputs": [],
   "source": []
  },
  {
   "cell_type": "code",
   "execution_count": null,
   "metadata": {},
   "outputs": [],
   "source": []
  },
  {
   "cell_type": "code",
   "execution_count": null,
   "metadata": {},
   "outputs": [],
   "source": []
  }
 ],
 "metadata": {
  "kernelspec": {
   "display_name": "Python 3",
   "language": "python",
   "name": "python3"
  },
  "language_info": {
   "codemirror_mode": {
    "name": "ipython",
    "version": 3
   },
   "file_extension": ".py",
   "mimetype": "text/x-python",
   "name": "python",
   "nbconvert_exporter": "python",
   "pygments_lexer": "ipython3",
   "version": "3.6.6"
  }
 },
 "nbformat": 4,
 "nbformat_minor": 2
}
