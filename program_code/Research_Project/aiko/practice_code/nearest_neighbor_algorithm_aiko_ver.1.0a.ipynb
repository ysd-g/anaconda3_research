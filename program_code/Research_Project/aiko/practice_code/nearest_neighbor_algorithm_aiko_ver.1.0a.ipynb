{
 "cells": [
  {
   "cell_type": "code",
   "execution_count": 14,
   "metadata": {},
   "outputs": [],
   "source": [
    "#k最近傍法（2018年12月〜2019年6月中旬までの糖度を予測）"
   ]
  },
  {
   "cell_type": "code",
   "execution_count": 15,
   "metadata": {},
   "outputs": [],
   "source": [
    "%matplotlib inline\n",
    "import sys\n",
    "sys.path.append('/home/yoshida/.pyenv/versions/3.6.6/lib/python3.6/site-packages')\n",
    "\n",
    "import numpy as np\n",
    "import pandas as pd\n",
    "import matplotlib.pyplot as plt\n",
    "import matplotlib.pyplot as plt\n",
    "import seaborn as sns\n",
    "plt.style.use('ggplot')\n",
    "\n",
    "from sklearn.neighbors import KNeighborsClassifier\n",
    "from sklearn.model_selection import train_test_split"
   ]
  },
  {
   "cell_type": "code",
   "execution_count": 16,
   "metadata": {},
   "outputs": [],
   "source": [
    "# データの読み込み\n",
    "data = pd.read_csv(\"../src/Aiko_normalization_ver3_aaa.csv\")\n",
    "df = pd.DataFrame(data)"
   ]
  },
  {
   "cell_type": "code",
   "execution_count": 17,
   "metadata": {},
   "outputs": [],
   "source": [
    "df.drop(['No','width','height','seed_date','house','url', 'COL_21'], axis=1, inplace=True) #対象の列を削除"
   ]
  },
  {
   "cell_type": "code",
   "execution_count": 18,
   "metadata": {},
   "outputs": [
    {
     "name": "stdout",
     "output_type": "stream",
     "text": [
      "<class 'pandas.core.frame.DataFrame'>\n",
      "RangeIndex: 2176 entries, 0 to 2175\n",
      "Data columns (total 14 columns):\n",
      "current_date      2176 non-null object\n",
      "sweet             2176 non-null float64\n",
      "sweet_category    2176 non-null int64\n",
      "size              2176 non-null float64\n",
      "AveCO2_7          2176 non-null float64\n",
      "AveSatu_7         2176 non-null float64\n",
      "AveHum_7          2176 non-null float64\n",
      "AveTemp_7         2176 non-null float64\n",
      "AveMaxTemp_7      2176 non-null float64\n",
      "AveMinTemp_7      2176 non-null float64\n",
      "AveDiffTemp_7     2176 non-null float64\n",
      "SumMaxTemp_7      2176 non-null float64\n",
      "SumMinTemp_7      2176 non-null float64\n",
      "SumDiffTemp_7     2176 non-null float64\n",
      "dtypes: float64(12), int64(1), object(1)\n",
      "memory usage: 238.1+ KB\n"
     ]
    }
   ],
   "source": [
    "df.info()"
   ]
  },
  {
   "cell_type": "code",
   "execution_count": 19,
   "metadata": {},
   "outputs": [],
   "source": [
    "# AveDiffTemp_7、AveSatu_7、monthを対象としたい時\n",
    "#df.drop(['AveCO2_7', 'AveSatu_7', 'AveTemp_7', 'AveHum_7', 'AveMinTemp_7', 'AveDiffTemp_7', 'SumMaxTemp_7','SumMinTemp_7','SumDiffTemp_7'], axis=1, inplace=True)"
   ]
  },
  {
   "cell_type": "code",
   "execution_count": 20,
   "metadata": {},
   "outputs": [
    {
     "data": {
      "text/html": [
       "<div>\n",
       "<style scoped>\n",
       "    .dataframe tbody tr th:only-of-type {\n",
       "        vertical-align: middle;\n",
       "    }\n",
       "\n",
       "    .dataframe tbody tr th {\n",
       "        vertical-align: top;\n",
       "    }\n",
       "\n",
       "    .dataframe thead th {\n",
       "        text-align: right;\n",
       "    }\n",
       "</style>\n",
       "<table border=\"1\" class=\"dataframe\">\n",
       "  <thead>\n",
       "    <tr style=\"text-align: right;\">\n",
       "      <th></th>\n",
       "      <th>current_date</th>\n",
       "      <th>sweet</th>\n",
       "      <th>sweet_category</th>\n",
       "      <th>size</th>\n",
       "      <th>AveCO2_7</th>\n",
       "      <th>AveSatu_7</th>\n",
       "      <th>AveHum_7</th>\n",
       "      <th>AveTemp_7</th>\n",
       "      <th>AveMaxTemp_7</th>\n",
       "      <th>AveMinTemp_7</th>\n",
       "      <th>AveDiffTemp_7</th>\n",
       "      <th>SumMaxTemp_7</th>\n",
       "      <th>SumMinTemp_7</th>\n",
       "      <th>SumDiffTemp_7</th>\n",
       "    </tr>\n",
       "  </thead>\n",
       "  <tbody>\n",
       "    <tr>\n",
       "      <th>0</th>\n",
       "      <td>11月28日</td>\n",
       "      <td>4.3</td>\n",
       "      <td>2</td>\n",
       "      <td>7.54</td>\n",
       "      <td>614.28</td>\n",
       "      <td>6.17</td>\n",
       "      <td>66.84</td>\n",
       "      <td>21.14</td>\n",
       "      <td>26.24</td>\n",
       "      <td>18.83</td>\n",
       "      <td>7.41</td>\n",
       "      <td>183.7</td>\n",
       "      <td>131.8</td>\n",
       "      <td>51.9</td>\n",
       "    </tr>\n",
       "    <tr>\n",
       "      <th>1</th>\n",
       "      <td>11月28日</td>\n",
       "      <td>4.5</td>\n",
       "      <td>2</td>\n",
       "      <td>6.48</td>\n",
       "      <td>614.28</td>\n",
       "      <td>6.17</td>\n",
       "      <td>66.84</td>\n",
       "      <td>21.14</td>\n",
       "      <td>26.24</td>\n",
       "      <td>18.83</td>\n",
       "      <td>7.41</td>\n",
       "      <td>183.7</td>\n",
       "      <td>131.8</td>\n",
       "      <td>51.9</td>\n",
       "    </tr>\n",
       "    <tr>\n",
       "      <th>2</th>\n",
       "      <td>11月28日</td>\n",
       "      <td>4.0</td>\n",
       "      <td>1</td>\n",
       "      <td>8.68</td>\n",
       "      <td>614.28</td>\n",
       "      <td>6.17</td>\n",
       "      <td>66.84</td>\n",
       "      <td>21.14</td>\n",
       "      <td>26.24</td>\n",
       "      <td>18.83</td>\n",
       "      <td>7.41</td>\n",
       "      <td>183.7</td>\n",
       "      <td>131.8</td>\n",
       "      <td>51.9</td>\n",
       "    </tr>\n",
       "    <tr>\n",
       "      <th>3</th>\n",
       "      <td>11月28日</td>\n",
       "      <td>3.5</td>\n",
       "      <td>1</td>\n",
       "      <td>10.50</td>\n",
       "      <td>614.28</td>\n",
       "      <td>6.17</td>\n",
       "      <td>66.84</td>\n",
       "      <td>21.14</td>\n",
       "      <td>26.24</td>\n",
       "      <td>18.83</td>\n",
       "      <td>7.41</td>\n",
       "      <td>183.7</td>\n",
       "      <td>131.8</td>\n",
       "      <td>51.9</td>\n",
       "    </tr>\n",
       "    <tr>\n",
       "      <th>4</th>\n",
       "      <td>11月28日</td>\n",
       "      <td>4.3</td>\n",
       "      <td>2</td>\n",
       "      <td>7.00</td>\n",
       "      <td>614.28</td>\n",
       "      <td>6.17</td>\n",
       "      <td>66.84</td>\n",
       "      <td>21.14</td>\n",
       "      <td>26.24</td>\n",
       "      <td>18.83</td>\n",
       "      <td>7.41</td>\n",
       "      <td>183.7</td>\n",
       "      <td>131.8</td>\n",
       "      <td>51.9</td>\n",
       "    </tr>\n",
       "  </tbody>\n",
       "</table>\n",
       "</div>"
      ],
      "text/plain": [
       "  current_date  sweet  sweet_category   size  AveCO2_7  AveSatu_7  AveHum_7  \\\n",
       "0       11月28日    4.3               2   7.54    614.28       6.17     66.84   \n",
       "1       11月28日    4.5               2   6.48    614.28       6.17     66.84   \n",
       "2       11月28日    4.0               1   8.68    614.28       6.17     66.84   \n",
       "3       11月28日    3.5               1  10.50    614.28       6.17     66.84   \n",
       "4       11月28日    4.3               2   7.00    614.28       6.17     66.84   \n",
       "\n",
       "   AveTemp_7  AveMaxTemp_7  AveMinTemp_7  AveDiffTemp_7  SumMaxTemp_7  \\\n",
       "0      21.14         26.24         18.83           7.41         183.7   \n",
       "1      21.14         26.24         18.83           7.41         183.7   \n",
       "2      21.14         26.24         18.83           7.41         183.7   \n",
       "3      21.14         26.24         18.83           7.41         183.7   \n",
       "4      21.14         26.24         18.83           7.41         183.7   \n",
       "\n",
       "   SumMinTemp_7  SumDiffTemp_7  \n",
       "0         131.8           51.9  \n",
       "1         131.8           51.9  \n",
       "2         131.8           51.9  \n",
       "3         131.8           51.9  \n",
       "4         131.8           51.9  "
      ]
     },
     "execution_count": 20,
     "metadata": {},
     "output_type": "execute_result"
    }
   ],
   "source": [
    "df.head()"
   ]
  },
  {
   "cell_type": "code",
   "execution_count": 21,
   "metadata": {},
   "outputs": [],
   "source": [
    "# 'AveCO2_7', 'AveSatu_7', 'AveHum_7', 'AveTemp_7', 'AveMaxTemp_7', 'AveMinTemp_7','AveDiffTemp_7','SumMaxTemp_7','SumMinTemp_7','SumDiffTemp_7'"
   ]
  },
  {
   "cell_type": "code",
   "execution_count": 9,
   "metadata": {},
   "outputs": [
    {
     "name": "stdout",
     "output_type": "stream",
     "text": [
      "(2176, 14)\n"
     ]
    }
   ],
   "source": [
    "df['month'] = df['current_date'].str[:2] # \"11月28日\"とか\"4月3日\"の月日の先頭2文字だけ抽出\n",
    "df['month'] = df['month'].str.strip('月') # このままだと\"4月\"のように\"月\"が入っているので、\"月\"を削除する\n",
    "# 参考：https://deepage.net/features/pandas-str-extract.html\n",
    "# 参考：https://deepage.net/features/pandas-str-replace.html\n",
    "df['month'].isnull().sum() # 欠損値がないかを確認\n",
    "\n",
    "df.drop(['current_date'], axis=1, inplace=True) # current_dateはもう使わない\n",
    "print(df.shape)"
   ]
  },
  {
   "cell_type": "code",
   "execution_count": 10,
   "metadata": {},
   "outputs": [],
   "source": [
    "# 四半期を求める(4~6月:1st、7~9月:2nd、10~12月:3rd、1~3月:4th)(＊＊＊＊使うか使わないか＊＊＊＊)\n",
    "df['quarter'] = df['month'].replace({'4': '1st', '5': '1st', '6': '1st', \n",
    "                                     '7': '2nd', '8': '2nd', '9': '2nd', \n",
    "                                     '10': '3rd', '11': '3rd', '12': '3rd', \n",
    "                                     '1': '4th', '2': '4th', '3': '4th'\n",
    "                                    })"
   ]
  },
  {
   "cell_type": "code",
   "execution_count": 11,
   "metadata": {},
   "outputs": [],
   "source": [
    "# ダミー変数の作成\n",
    "df = pd.get_dummies(df, columns=['quarter'], drop_first=True)"
   ]
  },
  {
   "cell_type": "code",
   "execution_count": 12,
   "metadata": {},
   "outputs": [],
   "source": [
    "df.drop(['month'], axis=1, inplace=True)"
   ]
  },
  {
   "cell_type": "code",
   "execution_count": 22,
   "metadata": {},
   "outputs": [
    {
     "data": {
      "text/html": [
       "<div>\n",
       "<style scoped>\n",
       "    .dataframe tbody tr th:only-of-type {\n",
       "        vertical-align: middle;\n",
       "    }\n",
       "\n",
       "    .dataframe tbody tr th {\n",
       "        vertical-align: top;\n",
       "    }\n",
       "\n",
       "    .dataframe thead th {\n",
       "        text-align: right;\n",
       "    }\n",
       "</style>\n",
       "<table border=\"1\" class=\"dataframe\">\n",
       "  <thead>\n",
       "    <tr style=\"text-align: right;\">\n",
       "      <th></th>\n",
       "      <th>sweet</th>\n",
       "      <th>sweet_category</th>\n",
       "      <th>size</th>\n",
       "      <th>AveCO2_7</th>\n",
       "      <th>AveSatu_7</th>\n",
       "      <th>AveHum_7</th>\n",
       "      <th>AveTemp_7</th>\n",
       "      <th>AveMaxTemp_7</th>\n",
       "      <th>AveMinTemp_7</th>\n",
       "      <th>AveDiffTemp_7</th>\n",
       "      <th>SumMaxTemp_7</th>\n",
       "      <th>SumMinTemp_7</th>\n",
       "      <th>SumDiffTemp_7</th>\n",
       "    </tr>\n",
       "  </thead>\n",
       "  <tbody>\n",
       "    <tr>\n",
       "      <th>count</th>\n",
       "      <td>2176.000000</td>\n",
       "      <td>2176.000000</td>\n",
       "      <td>2176.000000</td>\n",
       "      <td>2176.000000</td>\n",
       "      <td>2176.000000</td>\n",
       "      <td>2176.000000</td>\n",
       "      <td>2176.000000</td>\n",
       "      <td>2176.000000</td>\n",
       "      <td>2176.000000</td>\n",
       "      <td>2176.000000</td>\n",
       "      <td>2176.000000</td>\n",
       "      <td>2176.000000</td>\n",
       "      <td>2176.000000</td>\n",
       "    </tr>\n",
       "    <tr>\n",
       "      <th>mean</th>\n",
       "      <td>4.689890</td>\n",
       "      <td>2.776654</td>\n",
       "      <td>6.568267</td>\n",
       "      <td>534.566678</td>\n",
       "      <td>7.531237</td>\n",
       "      <td>62.433931</td>\n",
       "      <td>21.766846</td>\n",
       "      <td>27.484560</td>\n",
       "      <td>17.887496</td>\n",
       "      <td>9.595469</td>\n",
       "      <td>192.386765</td>\n",
       "      <td>125.213529</td>\n",
       "      <td>67.173456</td>\n",
       "    </tr>\n",
       "    <tr>\n",
       "      <th>std</th>\n",
       "      <td>0.530061</td>\n",
       "      <td>0.977789</td>\n",
       "      <td>1.830271</td>\n",
       "      <td>100.540048</td>\n",
       "      <td>1.402898</td>\n",
       "      <td>3.964303</td>\n",
       "      <td>1.362018</td>\n",
       "      <td>2.714338</td>\n",
       "      <td>1.485614</td>\n",
       "      <td>3.226052</td>\n",
       "      <td>19.002837</td>\n",
       "      <td>10.400903</td>\n",
       "      <td>22.577841</td>\n",
       "    </tr>\n",
       "    <tr>\n",
       "      <th>min</th>\n",
       "      <td>3.000000</td>\n",
       "      <td>1.000000</td>\n",
       "      <td>2.560000</td>\n",
       "      <td>400.770000</td>\n",
       "      <td>5.800000</td>\n",
       "      <td>55.550000</td>\n",
       "      <td>20.250000</td>\n",
       "      <td>22.700000</td>\n",
       "      <td>11.560000</td>\n",
       "      <td>4.590000</td>\n",
       "      <td>158.900000</td>\n",
       "      <td>80.930000</td>\n",
       "      <td>32.100000</td>\n",
       "    </tr>\n",
       "    <tr>\n",
       "      <th>25%</th>\n",
       "      <td>4.300000</td>\n",
       "      <td>2.000000</td>\n",
       "      <td>5.250000</td>\n",
       "      <td>443.180000</td>\n",
       "      <td>6.400000</td>\n",
       "      <td>59.690000</td>\n",
       "      <td>20.760000</td>\n",
       "      <td>25.890000</td>\n",
       "      <td>17.770000</td>\n",
       "      <td>7.740000</td>\n",
       "      <td>181.200000</td>\n",
       "      <td>124.400000</td>\n",
       "      <td>54.200000</td>\n",
       "    </tr>\n",
       "    <tr>\n",
       "      <th>50%</th>\n",
       "      <td>4.700000</td>\n",
       "      <td>3.000000</td>\n",
       "      <td>6.440000</td>\n",
       "      <td>504.820000</td>\n",
       "      <td>7.370000</td>\n",
       "      <td>61.330000</td>\n",
       "      <td>21.390000</td>\n",
       "      <td>26.240000</td>\n",
       "      <td>18.210000</td>\n",
       "      <td>8.160000</td>\n",
       "      <td>183.700000</td>\n",
       "      <td>127.500000</td>\n",
       "      <td>57.100000</td>\n",
       "    </tr>\n",
       "    <tr>\n",
       "      <th>75%</th>\n",
       "      <td>5.100000</td>\n",
       "      <td>4.000000</td>\n",
       "      <td>7.800000</td>\n",
       "      <td>622.340000</td>\n",
       "      <td>8.075000</td>\n",
       "      <td>66.270000</td>\n",
       "      <td>22.410000</td>\n",
       "      <td>29.060000</td>\n",
       "      <td>18.670000</td>\n",
       "      <td>12.250000</td>\n",
       "      <td>203.400000</td>\n",
       "      <td>130.700000</td>\n",
       "      <td>85.750000</td>\n",
       "    </tr>\n",
       "    <tr>\n",
       "      <th>max</th>\n",
       "      <td>6.000000</td>\n",
       "      <td>4.000000</td>\n",
       "      <td>14.000000</td>\n",
       "      <td>760.640000</td>\n",
       "      <td>11.900000</td>\n",
       "      <td>70.810000</td>\n",
       "      <td>25.930000</td>\n",
       "      <td>34.540000</td>\n",
       "      <td>19.630000</td>\n",
       "      <td>17.500000</td>\n",
       "      <td>241.800000</td>\n",
       "      <td>137.400000</td>\n",
       "      <td>122.480000</td>\n",
       "    </tr>\n",
       "  </tbody>\n",
       "</table>\n",
       "</div>"
      ],
      "text/plain": [
       "             sweet  sweet_category         size     AveCO2_7    AveSatu_7  \\\n",
       "count  2176.000000     2176.000000  2176.000000  2176.000000  2176.000000   \n",
       "mean      4.689890        2.776654     6.568267   534.566678     7.531237   \n",
       "std       0.530061        0.977789     1.830271   100.540048     1.402898   \n",
       "min       3.000000        1.000000     2.560000   400.770000     5.800000   \n",
       "25%       4.300000        2.000000     5.250000   443.180000     6.400000   \n",
       "50%       4.700000        3.000000     6.440000   504.820000     7.370000   \n",
       "75%       5.100000        4.000000     7.800000   622.340000     8.075000   \n",
       "max       6.000000        4.000000    14.000000   760.640000    11.900000   \n",
       "\n",
       "          AveHum_7    AveTemp_7  AveMaxTemp_7  AveMinTemp_7  AveDiffTemp_7  \\\n",
       "count  2176.000000  2176.000000   2176.000000   2176.000000    2176.000000   \n",
       "mean     62.433931    21.766846     27.484560     17.887496       9.595469   \n",
       "std       3.964303     1.362018      2.714338      1.485614       3.226052   \n",
       "min      55.550000    20.250000     22.700000     11.560000       4.590000   \n",
       "25%      59.690000    20.760000     25.890000     17.770000       7.740000   \n",
       "50%      61.330000    21.390000     26.240000     18.210000       8.160000   \n",
       "75%      66.270000    22.410000     29.060000     18.670000      12.250000   \n",
       "max      70.810000    25.930000     34.540000     19.630000      17.500000   \n",
       "\n",
       "       SumMaxTemp_7  SumMinTemp_7  SumDiffTemp_7  \n",
       "count   2176.000000   2176.000000    2176.000000  \n",
       "mean     192.386765    125.213529      67.173456  \n",
       "std       19.002837     10.400903      22.577841  \n",
       "min      158.900000     80.930000      32.100000  \n",
       "25%      181.200000    124.400000      54.200000  \n",
       "50%      183.700000    127.500000      57.100000  \n",
       "75%      203.400000    130.700000      85.750000  \n",
       "max      241.800000    137.400000     122.480000  "
      ]
     },
     "execution_count": 22,
     "metadata": {},
     "output_type": "execute_result"
    }
   ],
   "source": [
    "df.describe()"
   ]
  },
  {
   "cell_type": "code",
   "execution_count": 23,
   "metadata": {},
   "outputs": [
    {
     "data": {
      "text/html": [
       "<div>\n",
       "<style scoped>\n",
       "    .dataframe tbody tr th:only-of-type {\n",
       "        vertical-align: middle;\n",
       "    }\n",
       "\n",
       "    .dataframe tbody tr th {\n",
       "        vertical-align: top;\n",
       "    }\n",
       "\n",
       "    .dataframe thead th {\n",
       "        text-align: right;\n",
       "    }\n",
       "</style>\n",
       "<table border=\"1\" class=\"dataframe\">\n",
       "  <thead>\n",
       "    <tr style=\"text-align: right;\">\n",
       "      <th></th>\n",
       "      <th>sweet</th>\n",
       "      <th>sweet_category</th>\n",
       "      <th>size</th>\n",
       "      <th>AveCO2_7</th>\n",
       "      <th>AveSatu_7</th>\n",
       "      <th>AveHum_7</th>\n",
       "      <th>AveTemp_7</th>\n",
       "      <th>AveMaxTemp_7</th>\n",
       "      <th>AveMinTemp_7</th>\n",
       "      <th>AveDiffTemp_7</th>\n",
       "      <th>SumMaxTemp_7</th>\n",
       "      <th>SumMinTemp_7</th>\n",
       "      <th>SumDiffTemp_7</th>\n",
       "    </tr>\n",
       "  </thead>\n",
       "  <tbody>\n",
       "    <tr>\n",
       "      <th>sweet</th>\n",
       "      <td>1.000000</td>\n",
       "      <td>0.948026</td>\n",
       "      <td>-0.845930</td>\n",
       "      <td>0.149696</td>\n",
       "      <td>-0.102477</td>\n",
       "      <td>-0.086414</td>\n",
       "      <td>-0.231788</td>\n",
       "      <td>-0.256549</td>\n",
       "      <td>0.087282</td>\n",
       "      <td>-0.256248</td>\n",
       "      <td>-0.256605</td>\n",
       "      <td>0.087076</td>\n",
       "      <td>-0.256092</td>\n",
       "    </tr>\n",
       "    <tr>\n",
       "      <th>sweet_category</th>\n",
       "      <td>0.948026</td>\n",
       "      <td>1.000000</td>\n",
       "      <td>-0.845716</td>\n",
       "      <td>0.147071</td>\n",
       "      <td>-0.095435</td>\n",
       "      <td>-0.092968</td>\n",
       "      <td>-0.227828</td>\n",
       "      <td>-0.250357</td>\n",
       "      <td>0.088490</td>\n",
       "      <td>-0.251585</td>\n",
       "      <td>-0.250397</td>\n",
       "      <td>0.088279</td>\n",
       "      <td>-0.251422</td>\n",
       "    </tr>\n",
       "    <tr>\n",
       "      <th>size</th>\n",
       "      <td>-0.845930</td>\n",
       "      <td>-0.845716</td>\n",
       "      <td>1.000000</td>\n",
       "      <td>-0.316388</td>\n",
       "      <td>0.270745</td>\n",
       "      <td>-0.005937</td>\n",
       "      <td>0.417896</td>\n",
       "      <td>0.411442</td>\n",
       "      <td>-0.165116</td>\n",
       "      <td>0.422383</td>\n",
       "      <td>0.411474</td>\n",
       "      <td>-0.164920</td>\n",
       "      <td>0.422303</td>\n",
       "    </tr>\n",
       "    <tr>\n",
       "      <th>AveCO2_7</th>\n",
       "      <td>0.149696</td>\n",
       "      <td>0.147071</td>\n",
       "      <td>-0.316388</td>\n",
       "      <td>1.000000</td>\n",
       "      <td>-0.655139</td>\n",
       "      <td>0.406979</td>\n",
       "      <td>-0.700366</td>\n",
       "      <td>-0.647394</td>\n",
       "      <td>0.195133</td>\n",
       "      <td>-0.634566</td>\n",
       "      <td>-0.647212</td>\n",
       "      <td>0.195217</td>\n",
       "      <td>-0.634670</td>\n",
       "    </tr>\n",
       "    <tr>\n",
       "      <th>AveSatu_7</th>\n",
       "      <td>-0.102477</td>\n",
       "      <td>-0.095435</td>\n",
       "      <td>0.270745</td>\n",
       "      <td>-0.655139</td>\n",
       "      <td>1.000000</td>\n",
       "      <td>-0.795076</td>\n",
       "      <td>0.876089</td>\n",
       "      <td>0.728993</td>\n",
       "      <td>0.004405</td>\n",
       "      <td>0.611319</td>\n",
       "      <td>0.728858</td>\n",
       "      <td>0.004476</td>\n",
       "      <td>0.611402</td>\n",
       "    </tr>\n",
       "    <tr>\n",
       "      <th>AveHum_7</th>\n",
       "      <td>-0.086414</td>\n",
       "      <td>-0.092968</td>\n",
       "      <td>-0.005937</td>\n",
       "      <td>0.406979</td>\n",
       "      <td>-0.795076</td>\n",
       "      <td>1.000000</td>\n",
       "      <td>-0.438052</td>\n",
       "      <td>-0.204585</td>\n",
       "      <td>-0.020980</td>\n",
       "      <td>-0.162219</td>\n",
       "      <td>-0.204393</td>\n",
       "      <td>-0.021014</td>\n",
       "      <td>-0.162364</td>\n",
       "    </tr>\n",
       "    <tr>\n",
       "      <th>AveTemp_7</th>\n",
       "      <td>-0.231788</td>\n",
       "      <td>-0.227828</td>\n",
       "      <td>0.417896</td>\n",
       "      <td>-0.700366</td>\n",
       "      <td>0.876089</td>\n",
       "      <td>-0.438052</td>\n",
       "      <td>1.000000</td>\n",
       "      <td>0.875936</td>\n",
       "      <td>-0.003704</td>\n",
       "      <td>0.738866</td>\n",
       "      <td>0.875861</td>\n",
       "      <td>-0.003649</td>\n",
       "      <td>0.738867</td>\n",
       "    </tr>\n",
       "    <tr>\n",
       "      <th>AveMaxTemp_7</th>\n",
       "      <td>-0.256549</td>\n",
       "      <td>-0.250357</td>\n",
       "      <td>0.411442</td>\n",
       "      <td>-0.647394</td>\n",
       "      <td>0.728993</td>\n",
       "      <td>-0.204585</td>\n",
       "      <td>0.875936</td>\n",
       "      <td>1.000000</td>\n",
       "      <td>-0.102683</td>\n",
       "      <td>0.888889</td>\n",
       "      <td>1.000000</td>\n",
       "      <td>-0.102540</td>\n",
       "      <td>0.888901</td>\n",
       "    </tr>\n",
       "    <tr>\n",
       "      <th>AveMinTemp_7</th>\n",
       "      <td>0.087282</td>\n",
       "      <td>0.088490</td>\n",
       "      <td>-0.165116</td>\n",
       "      <td>0.195133</td>\n",
       "      <td>0.004405</td>\n",
       "      <td>-0.020980</td>\n",
       "      <td>-0.003704</td>\n",
       "      <td>-0.102683</td>\n",
       "      <td>1.000000</td>\n",
       "      <td>-0.546973</td>\n",
       "      <td>-0.102467</td>\n",
       "      <td>0.999998</td>\n",
       "      <td>-0.546952</td>\n",
       "    </tr>\n",
       "    <tr>\n",
       "      <th>AveDiffTemp_7</th>\n",
       "      <td>-0.256248</td>\n",
       "      <td>-0.251585</td>\n",
       "      <td>0.422383</td>\n",
       "      <td>-0.634566</td>\n",
       "      <td>0.611319</td>\n",
       "      <td>-0.162219</td>\n",
       "      <td>0.738866</td>\n",
       "      <td>0.888889</td>\n",
       "      <td>-0.546973</td>\n",
       "      <td>1.000000</td>\n",
       "      <td>0.888790</td>\n",
       "      <td>-0.546853</td>\n",
       "      <td>1.000000</td>\n",
       "    </tr>\n",
       "    <tr>\n",
       "      <th>SumMaxTemp_7</th>\n",
       "      <td>-0.256605</td>\n",
       "      <td>-0.250397</td>\n",
       "      <td>0.411474</td>\n",
       "      <td>-0.647212</td>\n",
       "      <td>0.728858</td>\n",
       "      <td>-0.204393</td>\n",
       "      <td>0.875861</td>\n",
       "      <td>1.000000</td>\n",
       "      <td>-0.102467</td>\n",
       "      <td>0.888790</td>\n",
       "      <td>1.000000</td>\n",
       "      <td>-0.102324</td>\n",
       "      <td>0.888802</td>\n",
       "    </tr>\n",
       "    <tr>\n",
       "      <th>SumMinTemp_7</th>\n",
       "      <td>0.087076</td>\n",
       "      <td>0.088279</td>\n",
       "      <td>-0.164920</td>\n",
       "      <td>0.195217</td>\n",
       "      <td>0.004476</td>\n",
       "      <td>-0.021014</td>\n",
       "      <td>-0.003649</td>\n",
       "      <td>-0.102540</td>\n",
       "      <td>0.999998</td>\n",
       "      <td>-0.546853</td>\n",
       "      <td>-0.102324</td>\n",
       "      <td>1.000000</td>\n",
       "      <td>-0.546832</td>\n",
       "    </tr>\n",
       "    <tr>\n",
       "      <th>SumDiffTemp_7</th>\n",
       "      <td>-0.256092</td>\n",
       "      <td>-0.251422</td>\n",
       "      <td>0.422303</td>\n",
       "      <td>-0.634670</td>\n",
       "      <td>0.611402</td>\n",
       "      <td>-0.162364</td>\n",
       "      <td>0.738867</td>\n",
       "      <td>0.888901</td>\n",
       "      <td>-0.546952</td>\n",
       "      <td>1.000000</td>\n",
       "      <td>0.888802</td>\n",
       "      <td>-0.546832</td>\n",
       "      <td>1.000000</td>\n",
       "    </tr>\n",
       "  </tbody>\n",
       "</table>\n",
       "</div>"
      ],
      "text/plain": [
       "                   sweet  sweet_category      size  AveCO2_7  AveSatu_7  \\\n",
       "sweet           1.000000        0.948026 -0.845930  0.149696  -0.102477   \n",
       "sweet_category  0.948026        1.000000 -0.845716  0.147071  -0.095435   \n",
       "size           -0.845930       -0.845716  1.000000 -0.316388   0.270745   \n",
       "AveCO2_7        0.149696        0.147071 -0.316388  1.000000  -0.655139   \n",
       "AveSatu_7      -0.102477       -0.095435  0.270745 -0.655139   1.000000   \n",
       "AveHum_7       -0.086414       -0.092968 -0.005937  0.406979  -0.795076   \n",
       "AveTemp_7      -0.231788       -0.227828  0.417896 -0.700366   0.876089   \n",
       "AveMaxTemp_7   -0.256549       -0.250357  0.411442 -0.647394   0.728993   \n",
       "AveMinTemp_7    0.087282        0.088490 -0.165116  0.195133   0.004405   \n",
       "AveDiffTemp_7  -0.256248       -0.251585  0.422383 -0.634566   0.611319   \n",
       "SumMaxTemp_7   -0.256605       -0.250397  0.411474 -0.647212   0.728858   \n",
       "SumMinTemp_7    0.087076        0.088279 -0.164920  0.195217   0.004476   \n",
       "SumDiffTemp_7  -0.256092       -0.251422  0.422303 -0.634670   0.611402   \n",
       "\n",
       "                AveHum_7  AveTemp_7  AveMaxTemp_7  AveMinTemp_7  \\\n",
       "sweet          -0.086414  -0.231788     -0.256549      0.087282   \n",
       "sweet_category -0.092968  -0.227828     -0.250357      0.088490   \n",
       "size           -0.005937   0.417896      0.411442     -0.165116   \n",
       "AveCO2_7        0.406979  -0.700366     -0.647394      0.195133   \n",
       "AveSatu_7      -0.795076   0.876089      0.728993      0.004405   \n",
       "AveHum_7        1.000000  -0.438052     -0.204585     -0.020980   \n",
       "AveTemp_7      -0.438052   1.000000      0.875936     -0.003704   \n",
       "AveMaxTemp_7   -0.204585   0.875936      1.000000     -0.102683   \n",
       "AveMinTemp_7   -0.020980  -0.003704     -0.102683      1.000000   \n",
       "AveDiffTemp_7  -0.162219   0.738866      0.888889     -0.546973   \n",
       "SumMaxTemp_7   -0.204393   0.875861      1.000000     -0.102467   \n",
       "SumMinTemp_7   -0.021014  -0.003649     -0.102540      0.999998   \n",
       "SumDiffTemp_7  -0.162364   0.738867      0.888901     -0.546952   \n",
       "\n",
       "                AveDiffTemp_7  SumMaxTemp_7  SumMinTemp_7  SumDiffTemp_7  \n",
       "sweet               -0.256248     -0.256605      0.087076      -0.256092  \n",
       "sweet_category      -0.251585     -0.250397      0.088279      -0.251422  \n",
       "size                 0.422383      0.411474     -0.164920       0.422303  \n",
       "AveCO2_7            -0.634566     -0.647212      0.195217      -0.634670  \n",
       "AveSatu_7            0.611319      0.728858      0.004476       0.611402  \n",
       "AveHum_7            -0.162219     -0.204393     -0.021014      -0.162364  \n",
       "AveTemp_7            0.738866      0.875861     -0.003649       0.738867  \n",
       "AveMaxTemp_7         0.888889      1.000000     -0.102540       0.888901  \n",
       "AveMinTemp_7        -0.546973     -0.102467      0.999998      -0.546952  \n",
       "AveDiffTemp_7        1.000000      0.888790     -0.546853       1.000000  \n",
       "SumMaxTemp_7         0.888790      1.000000     -0.102324       0.888802  \n",
       "SumMinTemp_7        -0.546853     -0.102324      1.000000      -0.546832  \n",
       "SumDiffTemp_7        1.000000      0.888802     -0.546832       1.000000  "
      ]
     },
     "execution_count": 23,
     "metadata": {},
     "output_type": "execute_result"
    }
   ],
   "source": [
    "df.corr()"
   ]
  },
  {
   "cell_type": "code",
   "execution_count": 24,
   "metadata": {},
   "outputs": [
    {
     "data": {
      "text/plain": [
       "<matplotlib.axes._subplots.AxesSubplot at 0x7fd1a50fe940>"
      ]
     },
     "execution_count": 24,
     "metadata": {},
     "output_type": "execute_result"
    },
    {
     "data": {
      "image/png": "[encoded data removed]",
      "text/plain": [
       "<Figure size 720x576 with 2 Axes>"
      ]
     },
     "metadata": {},
     "output_type": "display_data"
    }
   ],
   "source": [
    "plt.figure(figsize=(10, 8))\n",
    "sns.heatmap(df.corr(), annot=True, cmap='Blues')"
   ]
  },
  {
   "cell_type": "code",
   "execution_count": 25,
   "metadata": {},
   "outputs": [
    {
     "data": {
      "text/plain": [
       "<matplotlib.axes._subplots.AxesSubplot at 0x7fd1a2f24ba8>"
      ]
     },
     "execution_count": 25,
     "metadata": {},
     "output_type": "execute_result"
    },
    {
     "data": {
      "image/png": "[encoded data removed]",
      "text/plain": [
       "<Figure size 720x720 with 1 Axes>"
      ]
     },
     "metadata": {},
     "output_type": "display_data"
    }
   ],
   "source": [
    "plt.figure(figsize=(10, 10))\n",
    "sns.boxplot(df['sweet'], orient='v', width=0.5)"
   ]
  },
  {
   "cell_type": "code",
   "execution_count": 26,
   "metadata": {},
   "outputs": [
    {
     "data": {
      "text/plain": [
       "<matplotlib.axes._subplots.AxesSubplot at 0x7fd1a2edbc88>"
      ]
     },
     "execution_count": 26,
     "metadata": {},
     "output_type": "execute_result"
    },
    {
     "data": {
      "image/png": "[encoded data removed]",
      "text/plain": [
       "<Figure size 864x576 with 1 Axes>"
      ]
     },
     "metadata": {},
     "output_type": "display_data"
    }
   ],
   "source": [
    "plt.figure(figsize=(12, 8))\n",
    "sns.distplot(df['sweet'])"
   ]
  },
  {
   "cell_type": "code",
   "execution_count": 27,
   "metadata": {},
   "outputs": [
    {
     "name": "stdout",
     "output_type": "stream",
     "text": [
      "Index(['current_date', 'sweet', 'sweet_category', 'size', 'AveCO2_7',\n",
      "       'AveSatu_7', 'AveHum_7', 'AveTemp_7', 'AveMaxTemp_7', 'AveMinTemp_7',\n",
      "       'AveDiffTemp_7', 'SumMaxTemp_7', 'SumMinTemp_7', 'SumDiffTemp_7'],\n",
      "      dtype='object')\n"
     ]
    }
   ],
   "source": [
    "print(df.columns)"
   ]
  },
  {
   "cell_type": "code",
   "execution_count": 28,
   "metadata": {},
   "outputs": [
    {
     "data": {
      "text/plain": [
       "(2176, 14)"
      ]
     },
     "execution_count": 28,
     "metadata": {},
     "output_type": "execute_result"
    }
   ],
   "source": [
    "df.shape"
   ]
  },
  {
   "cell_type": "code",
   "execution_count": 29,
   "metadata": {},
   "outputs": [],
   "source": [
    "# sweet_categoryが1のものについて\n",
    "df_1 = df[(df['sweet_category'] == 1)]"
   ]
  },
  {
   "cell_type": "code",
   "execution_count": 30,
   "metadata": {},
   "outputs": [
    {
     "name": "stdout",
     "output_type": "stream",
     "text": [
      "<class 'pandas.core.frame.DataFrame'>\n",
      "Int64Index: 257 entries, 2 to 2164\n",
      "Data columns (total 14 columns):\n",
      "current_date      257 non-null object\n",
      "sweet             257 non-null float64\n",
      "sweet_category    257 non-null int64\n",
      "size              257 non-null float64\n",
      "AveCO2_7          257 non-null float64\n",
      "AveSatu_7         257 non-null float64\n",
      "AveHum_7          257 non-null float64\n",
      "AveTemp_7         257 non-null float64\n",
      "AveMaxTemp_7      257 non-null float64\n",
      "AveMinTemp_7      257 non-null float64\n",
      "AveDiffTemp_7     257 non-null float64\n",
      "SumMaxTemp_7      257 non-null float64\n",
      "SumMinTemp_7      257 non-null float64\n",
      "SumDiffTemp_7     257 non-null float64\n",
      "dtypes: float64(12), int64(1), object(1)\n",
      "memory usage: 30.1+ KB\n"
     ]
    }
   ],
   "source": [
    "df_1.info()"
   ]
  },
  {
   "cell_type": "code",
   "execution_count": 31,
   "metadata": {},
   "outputs": [
    {
     "data": {
      "text/plain": [
       "<matplotlib.axes._subplots.AxesSubplot at 0x7fd1a1534a58>"
      ]
     },
     "execution_count": 31,
     "metadata": {},
     "output_type": "execute_result"
    },
    {
     "data": {
      "image/png": "[encoded data removed]",
      "text/plain": [
       "<Figure size 720x720 with 1 Axes>"
      ]
     },
     "metadata": {},
     "output_type": "display_data"
    }
   ],
   "source": [
    "plt.figure(figsize=(10, 10))\n",
    "sns.boxplot(df_1['sweet'], orient='v', width=0.5)"
   ]
  },
  {
   "cell_type": "code",
   "execution_count": 32,
   "metadata": {},
   "outputs": [
    {
     "data": {
      "text/plain": [
       "<matplotlib.axes._subplots.AxesSubplot at 0x7fd1a50f80f0>"
      ]
     },
     "execution_count": 32,
     "metadata": {},
     "output_type": "execute_result"
    },
    {
     "data": {
      "image/png": "[encoded data removed]",
      "text/plain": [
       "<Figure size 864x576 with 1 Axes>"
      ]
     },
     "metadata": {},
     "output_type": "display_data"
    }
   ],
   "source": [
    "plt.figure(figsize=(12, 8))\n",
    "sns.distplot(df_1['sweet'])"
   ]
  },
  {
   "cell_type": "code",
   "execution_count": 33,
   "metadata": {},
   "outputs": [],
   "source": [
    "def outlier_iqr(df, columns=None):\n",
    "    if columns == None:\n",
    "        columns = df.columns\n",
    "    for col in columns:\n",
    "        q1 = df[col].describe()['25%']\n",
    "        q3 = df[col].describe()['75%']\n",
    "        # 四分位範囲\n",
    "        iqr = q3 - q1\n",
    "        outlier_min = q1 - iqr * 1.5\n",
    "        outlier_max = q3 + iqr * 1.5\n",
    "        # 範囲から外れている値を除く\n",
    "        df = df[(df[col] >= outlier_min) & (df[col] <= outlier_max)]\n",
    "    return df"
   ]
  },
  {
   "cell_type": "code",
   "execution_count": 34,
   "metadata": {},
   "outputs": [
    {
     "name": "stdout",
     "output_type": "stream",
     "text": [
      "before (257, 14)\n",
      "after (225, 14)\n"
     ]
    }
   ],
   "source": [
    "print(\"before\", df_1.shape)\n",
    "df_1 = outlier_iqr(df_1, ['sweet'])\n",
    "print(\"after\", df_1.shape)"
   ]
  },
  {
   "cell_type": "code",
   "execution_count": 35,
   "metadata": {},
   "outputs": [],
   "source": [
    "def outlier_std(df, thresh=3, columns=None):\n",
    "    if columns == None:\n",
    "        columns = df.columns\n",
    "    print(thresh)\n",
    "    for col in columns:\n",
    "        mean = df[col].mean()\n",
    "        std = df[col].std()\n",
    "        # 平均値から標準偏差の何倍離れているかを計算\n",
    "        border = (np.abs(df[col] - mean)) / std # absは絶対値\n",
    "        # 標準偏差の3倍以上離れているデータを除外\n",
    "        df = df[(border < 3)]\n",
    "    return df"
   ]
  },
  {
   "cell_type": "code",
   "execution_count": 36,
   "metadata": {},
   "outputs": [
    {
     "data": {
      "text/plain": [
       "<matplotlib.axes._subplots.AxesSubplot at 0x7fd1a1475908>"
      ]
     },
     "execution_count": 36,
     "metadata": {},
     "output_type": "execute_result"
    },
    {
     "data": {
      "image/png": "[encoded data removed]",
      "text/plain": [
       "<Figure size 720x720 with 1 Axes>"
      ]
     },
     "metadata": {},
     "output_type": "display_data"
    }
   ],
   "source": [
    "plt.figure(figsize=(10, 10))\n",
    "sns.boxplot(df_1['sweet'], orient='v', width=0.5)"
   ]
  },
  {
   "cell_type": "code",
   "execution_count": 37,
   "metadata": {},
   "outputs": [
    {
     "data": {
      "text/plain": [
       "<matplotlib.axes._subplots.AxesSubplot at 0x7fd1a143d400>"
      ]
     },
     "execution_count": 37,
     "metadata": {},
     "output_type": "execute_result"
    },
    {
     "data": {
      "image/png": "[encoded data removed]",
      "text/plain": [
       "<Figure size 864x576 with 1 Axes>"
      ]
     },
     "metadata": {},
     "output_type": "display_data"
    }
   ],
   "source": [
    "plt.figure(figsize=(12, 8))\n",
    "sns.distplot(df_1['sweet'])"
   ]
  },
  {
   "cell_type": "code",
   "execution_count": 38,
   "metadata": {},
   "outputs": [],
   "source": [
    "# sweet_categoryが2のものについて\n",
    "df_2 = df[(df['sweet_category'] == 2)]"
   ]
  },
  {
   "cell_type": "code",
   "execution_count": 39,
   "metadata": {},
   "outputs": [
    {
     "data": {
      "text/plain": [
       "(566, 14)"
      ]
     },
     "execution_count": 39,
     "metadata": {},
     "output_type": "execute_result"
    }
   ],
   "source": [
    "df_2.shape"
   ]
  },
  {
   "cell_type": "code",
   "execution_count": 40,
   "metadata": {},
   "outputs": [
    {
     "data": {
      "text/plain": [
       "<matplotlib.axes._subplots.AxesSubplot at 0x7fd1a0405c18>"
      ]
     },
     "execution_count": 40,
     "metadata": {},
     "output_type": "execute_result"
    },
    {
     "data": {
      "image/png": "[encoded data removed]",
      "text/plain": [
       "<Figure size 720x720 with 1 Axes>"
      ]
     },
     "metadata": {},
     "output_type": "display_data"
    }
   ],
   "source": [
    "plt.figure(figsize=(10, 10))\n",
    "sns.boxplot(df_2['sweet'], orient='v', width=0.5)"
   ]
  },
  {
   "cell_type": "code",
   "execution_count": 31,
   "metadata": {},
   "outputs": [
    {
     "data": {
      "text/plain": [
       "<matplotlib.axes._subplots.AxesSubplot at 0x7f06002e4f60>"
      ]
     },
     "execution_count": 31,
     "metadata": {},
     "output_type": "execute_result"
    },
    {
     "data": {
      "image/png": "[encoded data removed]",
      "text/plain": [
       "<Figure size 864x576 with 1 Axes>"
      ]
     },
     "metadata": {
      "needs_background": "light"
     },
     "output_type": "display_data"
    }
   ],
   "source": [
    "plt.figure(figsize=(12, 8))\n",
    "sns.distplot(df_2['sweet'])"
   ]
  },
  {
   "cell_type": "code",
   "execution_count": 32,
   "metadata": {},
   "outputs": [
    {
     "name": "stdout",
     "output_type": "stream",
     "text": [
      "before (566, 15)\n",
      "after (566, 15)\n"
     ]
    }
   ],
   "source": [
    "print(\"before\", df_2.shape)\n",
    "df_2 = outlier_iqr(df_2, ['sweet'])\n",
    "print(\"after\", df_2.shape)"
   ]
  },
  {
   "cell_type": "code",
   "execution_count": 33,
   "metadata": {},
   "outputs": [],
   "source": [
    "# sweet_categoryが3のものについて\n",
    "df_3 = df[(df['sweet_category'] == 3)]"
   ]
  },
  {
   "cell_type": "code",
   "execution_count": 34,
   "metadata": {},
   "outputs": [
    {
     "data": {
      "text/plain": [
       "(759, 15)"
      ]
     },
     "execution_count": 34,
     "metadata": {},
     "output_type": "execute_result"
    }
   ],
   "source": [
    "df_3.shape"
   ]
  },
  {
   "cell_type": "code",
   "execution_count": 35,
   "metadata": {},
   "outputs": [
    {
     "data": {
      "text/plain": [
       "<matplotlib.axes._subplots.AxesSubplot at 0x7f0600293b38>"
      ]
     },
     "execution_count": 35,
     "metadata": {},
     "output_type": "execute_result"
    },
    {
     "data": {
      "image/png": "[encoded data removed]",
      "text/plain": [
       "<Figure size 720x720 with 1 Axes>"
      ]
     },
     "metadata": {
      "needs_background": "light"
     },
     "output_type": "display_data"
    }
   ],
   "source": [
    "plt.figure(figsize=(10, 10))\n",
    "sns.boxplot(df_3['sweet'], orient='v', width=0.5)"
   ]
  },
  {
   "cell_type": "code",
   "execution_count": 36,
   "metadata": {},
   "outputs": [
    {
     "data": {
      "text/plain": [
       "<matplotlib.axes._subplots.AxesSubplot at 0x7f0600231048>"
      ]
     },
     "execution_count": 36,
     "metadata": {},
     "output_type": "execute_result"
    },
    {
     "data": {
      "image/png": "[encoded data removed]",
      "text/plain": [
       "<Figure size 864x576 with 1 Axes>"
      ]
     },
     "metadata": {
      "needs_background": "light"
     },
     "output_type": "display_data"
    }
   ],
   "source": [
    "plt.figure(figsize=(12, 8))\n",
    "sns.distplot(df_3['sweet'])"
   ]
  },
  {
   "cell_type": "code",
   "execution_count": 37,
   "metadata": {},
   "outputs": [
    {
     "name": "stdout",
     "output_type": "stream",
     "text": [
      "before (759, 15)\n",
      "after (759, 15)\n"
     ]
    }
   ],
   "source": [
    "print(\"before\", df_3.shape)\n",
    "df_3 = outlier_iqr(df_3, ['sweet'])\n",
    "print(\"after\", df_3.shape)"
   ]
  },
  {
   "cell_type": "code",
   "execution_count": 38,
   "metadata": {},
   "outputs": [],
   "source": [
    "# sweet_categoryが4のものについて\n",
    "df_4 = df[(df['sweet_category'] == 4)]"
   ]
  },
  {
   "cell_type": "code",
   "execution_count": 39,
   "metadata": {},
   "outputs": [
    {
     "data": {
      "text/plain": [
       "(594, 15)"
      ]
     },
     "execution_count": 39,
     "metadata": {},
     "output_type": "execute_result"
    }
   ],
   "source": [
    "df_4.shape"
   ]
  },
  {
   "cell_type": "code",
   "execution_count": 40,
   "metadata": {},
   "outputs": [
    {
     "data": {
      "text/plain": [
       "<matplotlib.axes._subplots.AxesSubplot at 0x7f06001ef940>"
      ]
     },
     "execution_count": 40,
     "metadata": {},
     "output_type": "execute_result"
    },
    {
     "data": {
      "image/png": "[encoded data removed]",
      "text/plain": [
       "<Figure size 720x720 with 1 Axes>"
      ]
     },
     "metadata": {
      "needs_background": "light"
     },
     "output_type": "display_data"
    }
   ],
   "source": [
    "plt.figure(figsize=(10, 10))\n",
    "sns.boxplot(df_4['sweet'], orient='v', width=0.5)"
   ]
  },
  {
   "cell_type": "code",
   "execution_count": 42,
   "metadata": {},
   "outputs": [
    {
     "data": {
      "text/plain": [
       "<matplotlib.axes._subplots.AxesSubplot at 0x7f0600114d30>"
      ]
     },
     "execution_count": 42,
     "metadata": {},
     "output_type": "execute_result"
    },
    {
     "data": {
      "image/png": "[encoded data removed]",
      "text/plain": [
       "<Figure size 864x576 with 1 Axes>"
      ]
     },
     "metadata": {
      "needs_background": "light"
     },
     "output_type": "display_data"
    }
   ],
   "source": [
    "plt.figure(figsize=(12, 8))\n",
    "sns.distplot(df_4['sweet'])"
   ]
  },
  {
   "cell_type": "code",
   "execution_count": 43,
   "metadata": {},
   "outputs": [
    {
     "name": "stdout",
     "output_type": "stream",
     "text": [
      "before (594, 15)\n",
      "after (569, 15)\n"
     ]
    }
   ],
   "source": [
    "print(\"before\", df_4.shape)\n",
    "df_4 = outlier_iqr(df_4, ['sweet'])\n",
    "print(\"after\", df_4.shape)"
   ]
  },
  {
   "cell_type": "code",
   "execution_count": 44,
   "metadata": {},
   "outputs": [
    {
     "data": {
      "text/plain": [
       "<matplotlib.axes._subplots.AxesSubplot at 0x7f0600114240>"
      ]
     },
     "execution_count": 44,
     "metadata": {},
     "output_type": "execute_result"
    },
    {
     "data": {
      "image/png": "[encoded data removed]",
      "text/plain": [
       "<Figure size 864x576 with 1 Axes>"
      ]
     },
     "metadata": {
      "needs_background": "light"
     },
     "output_type": "display_data"
    }
   ],
   "source": [
    "plt.figure(figsize=(12, 8))\n",
    "sns.distplot(df_4['sweet'])"
   ]
  },
  {
   "cell_type": "code",
   "execution_count": 48,
   "metadata": {},
   "outputs": [],
   "source": [
    "# 4つのデータフレームを結合\n",
    "df_new = pd.concat([df_1, df_2, df_3, df_4])\n",
    "# ランダムに並び替える＆indexを再振り\n",
    "df_new = df_new.sample(frac=1).reset_index(drop=True)"
   ]
  },
  {
   "cell_type": "code",
   "execution_count": 49,
   "metadata": {},
   "outputs": [
    {
     "data": {
      "text/html": [
       "<div>\n",
       "<style scoped>\n",
       "    .dataframe tbody tr th:only-of-type {\n",
       "        vertical-align: middle;\n",
       "    }\n",
       "\n",
       "    .dataframe tbody tr th {\n",
       "        vertical-align: top;\n",
       "    }\n",
       "\n",
       "    .dataframe thead th {\n",
       "        text-align: right;\n",
       "    }\n",
       "</style>\n",
       "<table border=\"1\" class=\"dataframe\">\n",
       "  <thead>\n",
       "    <tr style=\"text-align: right;\">\n",
       "      <th></th>\n",
       "      <th>sweet</th>\n",
       "      <th>sweet_category</th>\n",
       "      <th>size</th>\n",
       "      <th>AveCO2_7</th>\n",
       "      <th>AveSatu_7</th>\n",
       "      <th>AveHum_7</th>\n",
       "      <th>AveTemp_7</th>\n",
       "      <th>AveMaxTemp_7</th>\n",
       "      <th>AveMinTemp_7</th>\n",
       "      <th>AveDiffTemp_7</th>\n",
       "      <th>SumMaxTemp_7</th>\n",
       "      <th>SumMinTemp_7</th>\n",
       "      <th>SumDiffTemp_7</th>\n",
       "      <th>quarter_3rd</th>\n",
       "      <th>quarter_4th</th>\n",
       "    </tr>\n",
       "  </thead>\n",
       "  <tbody>\n",
       "    <tr>\n",
       "      <th>0</th>\n",
       "      <td>5.3</td>\n",
       "      <td>4</td>\n",
       "      <td>4.60</td>\n",
       "      <td>712.07</td>\n",
       "      <td>6.64</td>\n",
       "      <td>62.71</td>\n",
       "      <td>20.37</td>\n",
       "      <td>24.66</td>\n",
       "      <td>17.94</td>\n",
       "      <td>6.71</td>\n",
       "      <td>172.6</td>\n",
       "      <td>125.6</td>\n",
       "      <td>47.0</td>\n",
       "      <td>0</td>\n",
       "      <td>1</td>\n",
       "    </tr>\n",
       "    <tr>\n",
       "      <th>1</th>\n",
       "      <td>4.8</td>\n",
       "      <td>3</td>\n",
       "      <td>8.40</td>\n",
       "      <td>428.39</td>\n",
       "      <td>11.90</td>\n",
       "      <td>55.55</td>\n",
       "      <td>25.93</td>\n",
       "      <td>34.54</td>\n",
       "      <td>19.63</td>\n",
       "      <td>14.91</td>\n",
       "      <td>241.8</td>\n",
       "      <td>137.4</td>\n",
       "      <td>104.4</td>\n",
       "      <td>0</td>\n",
       "      <td>0</td>\n",
       "    </tr>\n",
       "    <tr>\n",
       "      <th>2</th>\n",
       "      <td>4.8</td>\n",
       "      <td>3</td>\n",
       "      <td>5.76</td>\n",
       "      <td>481.18</td>\n",
       "      <td>9.62</td>\n",
       "      <td>60.48</td>\n",
       "      <td>23.74</td>\n",
       "      <td>33.84</td>\n",
       "      <td>19.31</td>\n",
       "      <td>14.53</td>\n",
       "      <td>236.9</td>\n",
       "      <td>135.2</td>\n",
       "      <td>101.7</td>\n",
       "      <td>0</td>\n",
       "      <td>0</td>\n",
       "    </tr>\n",
       "    <tr>\n",
       "      <th>3</th>\n",
       "      <td>4.9</td>\n",
       "      <td>3</td>\n",
       "      <td>5.52</td>\n",
       "      <td>531.89</td>\n",
       "      <td>7.70</td>\n",
       "      <td>60.07</td>\n",
       "      <td>21.56</td>\n",
       "      <td>26.07</td>\n",
       "      <td>18.77</td>\n",
       "      <td>7.30</td>\n",
       "      <td>182.5</td>\n",
       "      <td>131.4</td>\n",
       "      <td>51.1</td>\n",
       "      <td>0</td>\n",
       "      <td>0</td>\n",
       "    </tr>\n",
       "    <tr>\n",
       "      <th>4</th>\n",
       "      <td>3.9</td>\n",
       "      <td>1</td>\n",
       "      <td>8.58</td>\n",
       "      <td>719.70</td>\n",
       "      <td>5.92</td>\n",
       "      <td>66.31</td>\n",
       "      <td>20.25</td>\n",
       "      <td>22.70</td>\n",
       "      <td>18.11</td>\n",
       "      <td>4.59</td>\n",
       "      <td>158.9</td>\n",
       "      <td>126.8</td>\n",
       "      <td>32.1</td>\n",
       "      <td>1</td>\n",
       "      <td>0</td>\n",
       "    </tr>\n",
       "  </tbody>\n",
       "</table>\n",
       "</div>"
      ],
      "text/plain": [
       "   sweet  sweet_category  size  AveCO2_7  AveSatu_7  AveHum_7  AveTemp_7  \\\n",
       "0    5.3               4  4.60    712.07       6.64     62.71      20.37   \n",
       "1    4.8               3  8.40    428.39      11.90     55.55      25.93   \n",
       "2    4.8               3  5.76    481.18       9.62     60.48      23.74   \n",
       "3    4.9               3  5.52    531.89       7.70     60.07      21.56   \n",
       "4    3.9               1  8.58    719.70       5.92     66.31      20.25   \n",
       "\n",
       "   AveMaxTemp_7  AveMinTemp_7  AveDiffTemp_7  SumMaxTemp_7  SumMinTemp_7  \\\n",
       "0         24.66         17.94           6.71         172.6         125.6   \n",
       "1         34.54         19.63          14.91         241.8         137.4   \n",
       "2         33.84         19.31          14.53         236.9         135.2   \n",
       "3         26.07         18.77           7.30         182.5         131.4   \n",
       "4         22.70         18.11           4.59         158.9         126.8   \n",
       "\n",
       "   SumDiffTemp_7  quarter_3rd  quarter_4th  \n",
       "0           47.0            0            1  \n",
       "1          104.4            0            0  \n",
       "2          101.7            0            0  \n",
       "3           51.1            0            0  \n",
       "4           32.1            1            0  "
      ]
     },
     "execution_count": 49,
     "metadata": {},
     "output_type": "execute_result"
    }
   ],
   "source": [
    "df_new.head()"
   ]
  },
  {
   "cell_type": "code",
   "execution_count": 50,
   "metadata": {},
   "outputs": [
    {
     "data": {
      "text/plain": [
       "<matplotlib.axes._subplots.AxesSubplot at 0x7f05ef8b3e48>"
      ]
     },
     "execution_count": 50,
     "metadata": {},
     "output_type": "execute_result"
    },
    {
     "data": {
      "image/png": "[encoded data removed]",
      "text/plain": [
       "<Figure size 864x576 with 1 Axes>"
      ]
     },
     "metadata": {
      "needs_background": "light"
     },
     "output_type": "display_data"
    }
   ],
   "source": [
    "plt.figure(figsize=(12, 8))\n",
    "sns.distplot(df_new['sweet'])"
   ]
  },
  {
   "cell_type": "code",
   "execution_count": 51,
   "metadata": {},
   "outputs": [
    {
     "data": {
      "text/plain": [
       "<matplotlib.axes._subplots.AxesSubplot at 0x7f05ef7a6fd0>"
      ]
     },
     "execution_count": 51,
     "metadata": {},
     "output_type": "execute_result"
    },
    {
     "data": {
      "image/png": "[encoded data removed]",
      "text/plain": [
       "<Figure size 864x576 with 1 Axes>"
      ]
     },
     "metadata": {
      "needs_background": "light"
     },
     "output_type": "display_data"
    }
   ],
   "source": [
    "plt.figure(figsize=(12, 8))\n",
    "sns.distplot(df['sweet'])"
   ]
  },
  {
   "cell_type": "code",
   "execution_count": 52,
   "metadata": {},
   "outputs": [],
   "source": []
  },
  {
   "cell_type": "code",
   "execution_count": null,
   "metadata": {},
   "outputs": [],
   "source": []
  },
  {
   "cell_type": "code",
   "execution_count": null,
   "metadata": {},
   "outputs": [],
   "source": []
  },
  {
   "cell_type": "code",
   "execution_count": null,
   "metadata": {},
   "outputs": [],
   "source": []
  },
  {
   "cell_type": "code",
   "execution_count": null,
   "metadata": {},
   "outputs": [],
   "source": []
  },
  {
   "cell_type": "code",
   "execution_count": null,
   "metadata": {},
   "outputs": [],
   "source": []
  },
  {
   "cell_type": "code",
   "execution_count": null,
   "metadata": {},
   "outputs": [],
   "source": []
  },
  {
   "cell_type": "code",
   "execution_count": 103,
   "metadata": {},
   "outputs": [
    {
     "name": "stdout",
     "output_type": "stream",
     "text": [
      "(2176, 5)\n"
     ]
    }
   ],
   "source": [
    "df['month'] = df['current_date'].str[:2] # \"11月28日\"とか\"4月3日\"の月日の先頭2文字だけ抽出\n",
    "df['month'] = df['month'].str.strip('月') # このままだと\"4月\"のように\"月\"が入っているので、\"月\"を削除する\n",
    "# 参考：https://deepage.net/features/pandas-str-extract.html\n",
    "# 参考：https://deepage.net/features/pandas-str-replace.html\n",
    "df['month'].isnull().sum() # 欠損値がないかを確認\n",
    "\n",
    "df.drop(['current_date'], axis=1, inplace=True) # current_dateはもう使わない\n",
    "print(df.shape)"
   ]
  },
  {
   "cell_type": "code",
   "execution_count": 104,
   "metadata": {},
   "outputs": [],
   "source": [
    "# 四半期を求める(4~6月:1st、7~9月:2nd、10~12月:3rd、1~3月:4th)(＊＊＊＊使うか使わないか＊＊＊＊)\n",
    "df['quarter'] = df['month'].replace({'4': '1st', '5': '1st', '6': '1st', \n",
    "                                     '7': '2nd', '8': '2nd', '9': '2nd', \n",
    "                                     '10': '3rd', '11': '3rd', '12': '3rd', \n",
    "                                     '1': '4th', '2': '4th', '3': '4th'\n",
    "                                    })"
   ]
  },
  {
   "cell_type": "code",
   "execution_count": 105,
   "metadata": {},
   "outputs": [
    {
     "data": {
      "text/html": [
       "<div>\n",
       "<style scoped>\n",
       "    .dataframe tbody tr th:only-of-type {\n",
       "        vertical-align: middle;\n",
       "    }\n",
       "\n",
       "    .dataframe tbody tr th {\n",
       "        vertical-align: top;\n",
       "    }\n",
       "\n",
       "    .dataframe thead th {\n",
       "        text-align: right;\n",
       "    }\n",
       "</style>\n",
       "<table border=\"1\" class=\"dataframe\">\n",
       "  <thead>\n",
       "    <tr style=\"text-align: right;\">\n",
       "      <th></th>\n",
       "      <th>sweet</th>\n",
       "      <th>sweet_category</th>\n",
       "      <th>size</th>\n",
       "      <th>AveMaxTemp_7</th>\n",
       "      <th>month</th>\n",
       "      <th>quarter</th>\n",
       "    </tr>\n",
       "  </thead>\n",
       "  <tbody>\n",
       "    <tr>\n",
       "      <th>0</th>\n",
       "      <td>4.3</td>\n",
       "      <td>2</td>\n",
       "      <td>7.54</td>\n",
       "      <td>26.24</td>\n",
       "      <td>11</td>\n",
       "      <td>3rd</td>\n",
       "    </tr>\n",
       "    <tr>\n",
       "      <th>1</th>\n",
       "      <td>4.5</td>\n",
       "      <td>2</td>\n",
       "      <td>6.48</td>\n",
       "      <td>26.24</td>\n",
       "      <td>11</td>\n",
       "      <td>3rd</td>\n",
       "    </tr>\n",
       "    <tr>\n",
       "      <th>2</th>\n",
       "      <td>4.0</td>\n",
       "      <td>1</td>\n",
       "      <td>8.68</td>\n",
       "      <td>26.24</td>\n",
       "      <td>11</td>\n",
       "      <td>3rd</td>\n",
       "    </tr>\n",
       "    <tr>\n",
       "      <th>3</th>\n",
       "      <td>3.5</td>\n",
       "      <td>1</td>\n",
       "      <td>10.50</td>\n",
       "      <td>26.24</td>\n",
       "      <td>11</td>\n",
       "      <td>3rd</td>\n",
       "    </tr>\n",
       "    <tr>\n",
       "      <th>4</th>\n",
       "      <td>4.3</td>\n",
       "      <td>2</td>\n",
       "      <td>7.00</td>\n",
       "      <td>26.24</td>\n",
       "      <td>11</td>\n",
       "      <td>3rd</td>\n",
       "    </tr>\n",
       "  </tbody>\n",
       "</table>\n",
       "</div>"
      ],
      "text/plain": [
       "   sweet  sweet_category   size  AveMaxTemp_7 month quarter\n",
       "0    4.3               2   7.54         26.24    11     3rd\n",
       "1    4.5               2   6.48         26.24    11     3rd\n",
       "2    4.0               1   8.68         26.24    11     3rd\n",
       "3    3.5               1  10.50         26.24    11     3rd\n",
       "4    4.3               2   7.00         26.24    11     3rd"
      ]
     },
     "execution_count": 105,
     "metadata": {},
     "output_type": "execute_result"
    }
   ],
   "source": [
    "df.head(5)"
   ]
  },
  {
   "cell_type": "code",
   "execution_count": 106,
   "metadata": {},
   "outputs": [],
   "source": [
    "# ダミー変数の作成\n",
    "df = pd.get_dummies(df, columns=['quarter'], drop_first=True)"
   ]
  },
  {
   "cell_type": "code",
   "execution_count": 107,
   "metadata": {},
   "outputs": [
    {
     "data": {
      "text/html": [
       "<div>\n",
       "<style scoped>\n",
       "    .dataframe tbody tr th:only-of-type {\n",
       "        vertical-align: middle;\n",
       "    }\n",
       "\n",
       "    .dataframe tbody tr th {\n",
       "        vertical-align: top;\n",
       "    }\n",
       "\n",
       "    .dataframe thead th {\n",
       "        text-align: right;\n",
       "    }\n",
       "</style>\n",
       "<table border=\"1\" class=\"dataframe\">\n",
       "  <thead>\n",
       "    <tr style=\"text-align: right;\">\n",
       "      <th></th>\n",
       "      <th>sweet</th>\n",
       "      <th>sweet_category</th>\n",
       "      <th>size</th>\n",
       "      <th>AveMaxTemp_7</th>\n",
       "      <th>month</th>\n",
       "      <th>quarter_3rd</th>\n",
       "      <th>quarter_4th</th>\n",
       "    </tr>\n",
       "  </thead>\n",
       "  <tbody>\n",
       "    <tr>\n",
       "      <th>0</th>\n",
       "      <td>4.3</td>\n",
       "      <td>2</td>\n",
       "      <td>7.54</td>\n",
       "      <td>26.24</td>\n",
       "      <td>11</td>\n",
       "      <td>1</td>\n",
       "      <td>0</td>\n",
       "    </tr>\n",
       "    <tr>\n",
       "      <th>1</th>\n",
       "      <td>4.5</td>\n",
       "      <td>2</td>\n",
       "      <td>6.48</td>\n",
       "      <td>26.24</td>\n",
       "      <td>11</td>\n",
       "      <td>1</td>\n",
       "      <td>0</td>\n",
       "    </tr>\n",
       "    <tr>\n",
       "      <th>2</th>\n",
       "      <td>4.0</td>\n",
       "      <td>1</td>\n",
       "      <td>8.68</td>\n",
       "      <td>26.24</td>\n",
       "      <td>11</td>\n",
       "      <td>1</td>\n",
       "      <td>0</td>\n",
       "    </tr>\n",
       "    <tr>\n",
       "      <th>3</th>\n",
       "      <td>3.5</td>\n",
       "      <td>1</td>\n",
       "      <td>10.50</td>\n",
       "      <td>26.24</td>\n",
       "      <td>11</td>\n",
       "      <td>1</td>\n",
       "      <td>0</td>\n",
       "    </tr>\n",
       "    <tr>\n",
       "      <th>4</th>\n",
       "      <td>4.3</td>\n",
       "      <td>2</td>\n",
       "      <td>7.00</td>\n",
       "      <td>26.24</td>\n",
       "      <td>11</td>\n",
       "      <td>1</td>\n",
       "      <td>0</td>\n",
       "    </tr>\n",
       "  </tbody>\n",
       "</table>\n",
       "</div>"
      ],
      "text/plain": [
       "   sweet  sweet_category   size  AveMaxTemp_7 month  quarter_3rd  quarter_4th\n",
       "0    4.3               2   7.54         26.24    11            1            0\n",
       "1    4.5               2   6.48         26.24    11            1            0\n",
       "2    4.0               1   8.68         26.24    11            1            0\n",
       "3    3.5               1  10.50         26.24    11            1            0\n",
       "4    4.3               2   7.00         26.24    11            1            0"
      ]
     },
     "execution_count": 107,
     "metadata": {},
     "output_type": "execute_result"
    }
   ],
   "source": [
    "df.head()"
   ]
  },
  {
   "cell_type": "code",
   "execution_count": 108,
   "metadata": {},
   "outputs": [],
   "source": [
    "df.drop(['month'], axis=1, inplace=True)"
   ]
  },
  {
   "cell_type": "code",
   "execution_count": 109,
   "metadata": {},
   "outputs": [
    {
     "name": "stdout",
     "output_type": "stream",
     "text": [
      "(2176, 4)\n"
     ]
    }
   ],
   "source": [
    "y = df[\"sweet_category\"] #目的変数\n",
    "df.drop(['sweet','sweet_category'], axis=1, inplace=True) #目的変数の列を削除\n",
    "print(df.shape)"
   ]
  },
  {
   "cell_type": "code",
   "execution_count": 110,
   "metadata": {},
   "outputs": [
    {
     "data": {
      "text/html": [
       "<div>\n",
       "<style scoped>\n",
       "    .dataframe tbody tr th:only-of-type {\n",
       "        vertical-align: middle;\n",
       "    }\n",
       "\n",
       "    .dataframe tbody tr th {\n",
       "        vertical-align: top;\n",
       "    }\n",
       "\n",
       "    .dataframe thead th {\n",
       "        text-align: right;\n",
       "    }\n",
       "</style>\n",
       "<table border=\"1\" class=\"dataframe\">\n",
       "  <thead>\n",
       "    <tr style=\"text-align: right;\">\n",
       "      <th></th>\n",
       "      <th>size</th>\n",
       "      <th>AveMaxTemp_7</th>\n",
       "      <th>quarter_3rd</th>\n",
       "      <th>quarter_4th</th>\n",
       "    </tr>\n",
       "  </thead>\n",
       "  <tbody>\n",
       "    <tr>\n",
       "      <th>0</th>\n",
       "      <td>7.54</td>\n",
       "      <td>26.24</td>\n",
       "      <td>1</td>\n",
       "      <td>0</td>\n",
       "    </tr>\n",
       "    <tr>\n",
       "      <th>1</th>\n",
       "      <td>6.48</td>\n",
       "      <td>26.24</td>\n",
       "      <td>1</td>\n",
       "      <td>0</td>\n",
       "    </tr>\n",
       "    <tr>\n",
       "      <th>2</th>\n",
       "      <td>8.68</td>\n",
       "      <td>26.24</td>\n",
       "      <td>1</td>\n",
       "      <td>0</td>\n",
       "    </tr>\n",
       "    <tr>\n",
       "      <th>3</th>\n",
       "      <td>10.50</td>\n",
       "      <td>26.24</td>\n",
       "      <td>1</td>\n",
       "      <td>0</td>\n",
       "    </tr>\n",
       "    <tr>\n",
       "      <th>4</th>\n",
       "      <td>7.00</td>\n",
       "      <td>26.24</td>\n",
       "      <td>1</td>\n",
       "      <td>0</td>\n",
       "    </tr>\n",
       "  </tbody>\n",
       "</table>\n",
       "</div>"
      ],
      "text/plain": [
       "    size  AveMaxTemp_7  quarter_3rd  quarter_4th\n",
       "0   7.54         26.24            1            0\n",
       "1   6.48         26.24            1            0\n",
       "2   8.68         26.24            1            0\n",
       "3  10.50         26.24            1            0\n",
       "4   7.00         26.24            1            0"
      ]
     },
     "execution_count": 110,
     "metadata": {},
     "output_type": "execute_result"
    }
   ],
   "source": [
    "df.head()"
   ]
  },
  {
   "cell_type": "code",
   "execution_count": 111,
   "metadata": {},
   "outputs": [
    {
     "name": "stderr",
     "output_type": "stream",
     "text": [
      "/home/yoshida/anaconda3/lib/python3.6/site-packages/ipykernel_launcher.py:3: DataConversionWarning: Data with input dtype uint8, float64 were all converted to float64 by the scale function.\n",
      "  This is separate from the ipykernel package so we can avoid doing imports until\n"
     ]
    }
   ],
   "source": [
    "# 標準化\n",
    "from sklearn import preprocessing\n",
    "df = preprocessing.scale(df)"
   ]
  },
  {
   "cell_type": "code",
   "execution_count": 112,
   "metadata": {},
   "outputs": [],
   "source": [
    "# 訓練セットとテストセットに分割\n",
    "#X_train, X_test, y_train, y_test = train_test_split(df, y, test_size=0.2, stratify=y, random_state=0)\n",
    "#stratify は母集団のカテゴリの割合を保って分割するもので、目的変数を指定するのが一般的\n",
    "from sklearn.model_selection import train_test_split\n",
    "X_trainval, X_test, y_trainval, y_test = train_test_split(df, y, test_size=0.3, random_state=0, stratify=y)"
   ]
  },
  {
   "cell_type": "code",
   "execution_count": 113,
   "metadata": {},
   "outputs": [],
   "source": [
    "# ハイパーパラメータを辞書型\n",
    "params_grid = {'weights': ['uniform', 'distance'], 'n_neighbors':[3,4,5,6,7,8,9,10,11,12,13,14,15,16,17,18,19,20,21]}"
   ]
  },
  {
   "cell_type": "code",
   "execution_count": 114,
   "metadata": {},
   "outputs": [],
   "source": [
    "from sklearn.model_selection import GridSearchCV\n",
    "from sklearn.neighbors import KNeighborsClassifier"
   ]
  },
  {
   "cell_type": "code",
   "execution_count": 115,
   "metadata": {},
   "outputs": [],
   "source": [
    "grid_search = GridSearchCV(KNeighborsClassifier(), params_grid, scoring=\"accuracy\",cv=10, n_jobs=-1)# 上記で用意したパラメーターごとに交差検証を実施"
   ]
  },
  {
   "cell_type": "code",
   "execution_count": 116,
   "metadata": {},
   "outputs": [
    {
     "data": {
      "text/plain": [
       "GridSearchCV(cv=10, error_score='raise-deprecating',\n",
       "       estimator=KNeighborsClassifier(algorithm='auto', leaf_size=30, metric='minkowski',\n",
       "           metric_params=None, n_jobs=None, n_neighbors=5, p=2,\n",
       "           weights='uniform'),\n",
       "       fit_params=None, iid='warn', n_jobs=-1,\n",
       "       param_grid={'weights': ['uniform', 'distance'], 'n_neighbors': [3, 4, 5, 6, 7, 8, 9, 10, 11, 12, 13, 14, 15, 16, 17, 18, 19, 20, 21]},\n",
       "       pre_dispatch='2*n_jobs', refit=True, return_train_score='warn',\n",
       "       scoring='accuracy', verbose=0)"
      ]
     },
     "execution_count": 116,
     "metadata": {},
     "output_type": "execute_result"
    }
   ],
   "source": [
    "grid_search.fit(X_trainval, y_trainval ) # 学習"
   ]
  },
  {
   "cell_type": "code",
   "execution_count": 117,
   "metadata": {},
   "outputs": [
    {
     "name": "stdout",
     "output_type": "stream",
     "text": [
      "Best cross-validation: 0.734\n",
      "Best parameters : {'n_neighbors': 20, 'weights': 'distance'}\n"
     ]
    }
   ],
   "source": [
    "# グリッドサーチの結果\n",
    "print('Best cross-validation: {}'.format(round(grid_search.best_score_, 3)))\n",
    "print('Best parameters : {}'.format(grid_search.best_params_))"
   ]
  },
  {
   "cell_type": "code",
   "execution_count": 118,
   "metadata": {},
   "outputs": [
    {
     "name": "stdout",
     "output_type": "stream",
     "text": [
      "Test set score : 0.74\n"
     ]
    }
   ],
   "source": [
    "print('Test set score : {}'.format(round(grid_search.score(X_test, y_test), 3)))"
   ]
  },
  {
   "cell_type": "code",
   "execution_count": 119,
   "metadata": {},
   "outputs": [],
   "source": [
    "# https://docs.google.com/document/d/1Ke9i88Wi6zBMIs36xYilp6JHD68RX8EZsNMD03imQno/edit\n",
    "# 一番よかったのは、[aveTemp,aveCO2], [aveMaxTemp, aveHum]の2つで、訓練：テストでそれぞれ[74.4, 76.7], [75.0, 76.7]"
   ]
  },
  {
   "cell_type": "code",
   "execution_count": 120,
   "metadata": {},
   "outputs": [],
   "source": [
    "#多クラスの混合行列を作成"
   ]
  },
  {
   "cell_type": "code",
   "execution_count": 121,
   "metadata": {},
   "outputs": [],
   "source": [
    "from sklearn.metrics import confusion_matrix"
   ]
  },
  {
   "cell_type": "code",
   "execution_count": 122,
   "metadata": {},
   "outputs": [],
   "source": [
    "clf = grid_search.best_estimator_"
   ]
  },
  {
   "cell_type": "code",
   "execution_count": 123,
   "metadata": {},
   "outputs": [],
   "source": [
    "pred = clf.predict(X_test)"
   ]
  },
  {
   "cell_type": "code",
   "execution_count": 124,
   "metadata": {},
   "outputs": [
    {
     "name": "stdout",
     "output_type": "stream",
     "text": [
      "[[ 51  25   1   0]\n",
      " [ 18 119  33   0]\n",
      " [  2  30 171  25]\n",
      " [  1   0  35 142]]\n"
     ]
    }
   ],
   "source": [
    "print(confusion_matrix(y_test, pred))"
   ]
  },
  {
   "cell_type": "code",
   "execution_count": null,
   "metadata": {},
   "outputs": [],
   "source": []
  },
  {
   "cell_type": "code",
   "execution_count": null,
   "metadata": {},
   "outputs": [],
   "source": []
  },
  {
   "cell_type": "code",
   "execution_count": null,
   "metadata": {},
   "outputs": [],
   "source": []
  },
  {
   "cell_type": "code",
   "execution_count": null,
   "metadata": {},
   "outputs": [],
   "source": []
  },
  {
   "cell_type": "code",
   "execution_count": null,
   "metadata": {},
   "outputs": [],
   "source": []
  },
  {
   "cell_type": "code",
   "execution_count": null,
   "metadata": {},
   "outputs": [],
   "source": []
  }
 ],
 "metadata": {
  "kernelspec": {
   "display_name": "Python 3",
   "language": "python",
   "name": "python3"
  },
  "language_info": {
   "codemirror_mode": {
    "name": "ipython",
    "version": 3
   },
   "file_extension": ".py",
   "mimetype": "text/x-python",
   "name": "python",
   "nbconvert_exporter": "python",
   "pygments_lexer": "ipython3",
   "version": "3.6.6"
  }
 },
 "nbformat": 4,
 "nbformat_minor": 2
}
