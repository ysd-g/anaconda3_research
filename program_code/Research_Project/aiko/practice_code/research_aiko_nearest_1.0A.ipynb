{
 "cells": [
  {
   "cell_type": "code",
   "execution_count": 1404,
   "metadata": {},
   "outputs": [],
   "source": [
    "#k最近傍法（2018年12月〜2019年6月中旬までの糖度を予測）"
   ]
  },
  {
   "cell_type": "code",
   "execution_count": 1405,
   "metadata": {},
   "outputs": [],
   "source": [
    "%matplotlib inline\n",
    "import sys\n",
    "sys.path.append('/home/yoshida/.pyenv/versions/3.6.6/lib/python3.6/site-packages')\n",
    "\n",
    "import numpy as np\n",
    "import pandas as pd\n",
    "import matplotlib.pyplot as plt\n",
    "import matplotlib.pyplot as plt\n",
    "import seaborn as sns\n",
    "plt.style.use('ggplot')\n",
    "\n",
    "from sklearn.neighbors import KNeighborsClassifier\n",
    "from sklearn.model_selection import train_test_split"
   ]
  },
  {
   "cell_type": "code",
   "execution_count": 1406,
   "metadata": {},
   "outputs": [],
   "source": [
    "# データの読み込み\n",
    "data = pd.read_csv(\"../src/Aiko_normalization_ver3_aaa.csv\")\n",
    "df = pd.DataFrame(data)"
   ]
  },
  {
   "cell_type": "code",
   "execution_count": 1407,
   "metadata": {},
   "outputs": [],
   "source": [
    "df.drop(['No','width','height','seed_date','house','url', 'COL_21'], axis=1, inplace=True) #対象の列を削除"
   ]
  },
  {
   "cell_type": "code",
   "execution_count": 1408,
   "metadata": {},
   "outputs": [
    {
     "name": "stdout",
     "output_type": "stream",
     "text": [
      "<class 'pandas.core.frame.DataFrame'>\n",
      "RangeIndex: 2176 entries, 0 to 2175\n",
      "Data columns (total 14 columns):\n",
      "current_date      2176 non-null object\n",
      "sweet             2176 non-null float64\n",
      "sweet_category    2176 non-null int64\n",
      "size              2176 non-null float64\n",
      "AveCO2_7          2176 non-null float64\n",
      "AveSatu_7         2176 non-null float64\n",
      "AveHum_7          2176 non-null float64\n",
      "AveTemp_7         2176 non-null float64\n",
      "AveMaxTemp_7      2176 non-null float64\n",
      "AveMinTemp_7      2176 non-null float64\n",
      "AveDiffTemp_7     2176 non-null float64\n",
      "SumMaxTemp_7      2176 non-null float64\n",
      "SumMinTemp_7      2176 non-null float64\n",
      "SumDiffTemp_7     2176 non-null float64\n",
      "dtypes: float64(12), int64(1), object(1)\n",
      "memory usage: 238.1+ KB\n"
     ]
    }
   ],
   "source": [
    "df.info()"
   ]
  },
  {
   "cell_type": "code",
   "execution_count": 1409,
   "metadata": {},
   "outputs": [],
   "source": [
    "# AveDiffTemp_7、AveSatu_7、monthを対象としたい時\n",
    "#df.drop(['AveCO2_7', 'AveSatu_7', 'AveTemp_7', 'AveHum_7', 'AveMinTemp_7', 'AveDiffTemp_7', 'SumMaxTemp_7','SumMinTemp_7','SumDiffTemp_7'], axis=1, inplace=True)"
   ]
  },
  {
   "cell_type": "code",
   "execution_count": 1410,
   "metadata": {},
   "outputs": [
    {
     "data": {
      "text/html": [
       "<div>\n",
       "<style scoped>\n",
       "    .dataframe tbody tr th:only-of-type {\n",
       "        vertical-align: middle;\n",
       "    }\n",
       "\n",
       "    .dataframe tbody tr th {\n",
       "        vertical-align: top;\n",
       "    }\n",
       "\n",
       "    .dataframe thead th {\n",
       "        text-align: right;\n",
       "    }\n",
       "</style>\n",
       "<table border=\"1\" class=\"dataframe\">\n",
       "  <thead>\n",
       "    <tr style=\"text-align: right;\">\n",
       "      <th></th>\n",
       "      <th>current_date</th>\n",
       "      <th>sweet</th>\n",
       "      <th>sweet_category</th>\n",
       "      <th>size</th>\n",
       "      <th>AveCO2_7</th>\n",
       "      <th>AveSatu_7</th>\n",
       "      <th>AveHum_7</th>\n",
       "      <th>AveTemp_7</th>\n",
       "      <th>AveMaxTemp_7</th>\n",
       "      <th>AveMinTemp_7</th>\n",
       "      <th>AveDiffTemp_7</th>\n",
       "      <th>SumMaxTemp_7</th>\n",
       "      <th>SumMinTemp_7</th>\n",
       "      <th>SumDiffTemp_7</th>\n",
       "    </tr>\n",
       "  </thead>\n",
       "  <tbody>\n",
       "    <tr>\n",
       "      <th>0</th>\n",
       "      <td>11月28日</td>\n",
       "      <td>4.3</td>\n",
       "      <td>2</td>\n",
       "      <td>7.54</td>\n",
       "      <td>614.28</td>\n",
       "      <td>6.17</td>\n",
       "      <td>66.84</td>\n",
       "      <td>21.14</td>\n",
       "      <td>26.24</td>\n",
       "      <td>18.83</td>\n",
       "      <td>7.41</td>\n",
       "      <td>183.7</td>\n",
       "      <td>131.8</td>\n",
       "      <td>51.9</td>\n",
       "    </tr>\n",
       "    <tr>\n",
       "      <th>1</th>\n",
       "      <td>11月28日</td>\n",
       "      <td>4.5</td>\n",
       "      <td>2</td>\n",
       "      <td>6.48</td>\n",
       "      <td>614.28</td>\n",
       "      <td>6.17</td>\n",
       "      <td>66.84</td>\n",
       "      <td>21.14</td>\n",
       "      <td>26.24</td>\n",
       "      <td>18.83</td>\n",
       "      <td>7.41</td>\n",
       "      <td>183.7</td>\n",
       "      <td>131.8</td>\n",
       "      <td>51.9</td>\n",
       "    </tr>\n",
       "    <tr>\n",
       "      <th>2</th>\n",
       "      <td>11月28日</td>\n",
       "      <td>4.0</td>\n",
       "      <td>1</td>\n",
       "      <td>8.68</td>\n",
       "      <td>614.28</td>\n",
       "      <td>6.17</td>\n",
       "      <td>66.84</td>\n",
       "      <td>21.14</td>\n",
       "      <td>26.24</td>\n",
       "      <td>18.83</td>\n",
       "      <td>7.41</td>\n",
       "      <td>183.7</td>\n",
       "      <td>131.8</td>\n",
       "      <td>51.9</td>\n",
       "    </tr>\n",
       "    <tr>\n",
       "      <th>3</th>\n",
       "      <td>11月28日</td>\n",
       "      <td>3.5</td>\n",
       "      <td>1</td>\n",
       "      <td>10.50</td>\n",
       "      <td>614.28</td>\n",
       "      <td>6.17</td>\n",
       "      <td>66.84</td>\n",
       "      <td>21.14</td>\n",
       "      <td>26.24</td>\n",
       "      <td>18.83</td>\n",
       "      <td>7.41</td>\n",
       "      <td>183.7</td>\n",
       "      <td>131.8</td>\n",
       "      <td>51.9</td>\n",
       "    </tr>\n",
       "    <tr>\n",
       "      <th>4</th>\n",
       "      <td>11月28日</td>\n",
       "      <td>4.3</td>\n",
       "      <td>2</td>\n",
       "      <td>7.00</td>\n",
       "      <td>614.28</td>\n",
       "      <td>6.17</td>\n",
       "      <td>66.84</td>\n",
       "      <td>21.14</td>\n",
       "      <td>26.24</td>\n",
       "      <td>18.83</td>\n",
       "      <td>7.41</td>\n",
       "      <td>183.7</td>\n",
       "      <td>131.8</td>\n",
       "      <td>51.9</td>\n",
       "    </tr>\n",
       "  </tbody>\n",
       "</table>\n",
       "</div>"
      ],
      "text/plain": [
       "  current_date  sweet  sweet_category   size  AveCO2_7  AveSatu_7  AveHum_7  \\\n",
       "0       11月28日    4.3               2   7.54    614.28       6.17     66.84   \n",
       "1       11月28日    4.5               2   6.48    614.28       6.17     66.84   \n",
       "2       11月28日    4.0               1   8.68    614.28       6.17     66.84   \n",
       "3       11月28日    3.5               1  10.50    614.28       6.17     66.84   \n",
       "4       11月28日    4.3               2   7.00    614.28       6.17     66.84   \n",
       "\n",
       "   AveTemp_7  AveMaxTemp_7  AveMinTemp_7  AveDiffTemp_7  SumMaxTemp_7  \\\n",
       "0      21.14         26.24         18.83           7.41         183.7   \n",
       "1      21.14         26.24         18.83           7.41         183.7   \n",
       "2      21.14         26.24         18.83           7.41         183.7   \n",
       "3      21.14         26.24         18.83           7.41         183.7   \n",
       "4      21.14         26.24         18.83           7.41         183.7   \n",
       "\n",
       "   SumMinTemp_7  SumDiffTemp_7  \n",
       "0         131.8           51.9  \n",
       "1         131.8           51.9  \n",
       "2         131.8           51.9  \n",
       "3         131.8           51.9  \n",
       "4         131.8           51.9  "
      ]
     },
     "execution_count": 1410,
     "metadata": {},
     "output_type": "execute_result"
    }
   ],
   "source": [
    "df.head()"
   ]
  },
  {
   "cell_type": "code",
   "execution_count": 1411,
   "metadata": {},
   "outputs": [],
   "source": [
    "# 'AveCO2_7', 'AveSatu_7', 'AveHum_7', 'AveTemp_7', 'AveMaxTemp_7', 'AveMinTemp_7','AveDiffTemp_7','SumMaxTemp_7','SumMinTemp_7','SumDiffTemp_7'"
   ]
  },
  {
   "cell_type": "code",
   "execution_count": 1412,
   "metadata": {},
   "outputs": [],
   "source": [
    "#df['month'] = df['current_date'].str[:2] # \"11月28日\"とか\"4月3日\"の月日の先頭2文字だけ抽出\n",
    "#df['month'] = df['month'].str.strip('月') # このままだと\"4月\"のように\"月\"が入っているので、\"月\"を削除する\n",
    "\n",
    "#df['month'].isnull().sum() # 欠損値がないかを確認\n",
    "\n",
    "#df.drop(['current_date'], axis=1, inplace=True) # current_dateはもう使わない\n",
    "#print(df.shape)\n",
    "# 参考：https://deepage.net/features/pandas-str-extract.html\n",
    "# 参考：https://deepage.net/features/pandas-str-replace.html"
   ]
  },
  {
   "cell_type": "code",
   "execution_count": 1413,
   "metadata": {},
   "outputs": [],
   "source": [
    "# 四半期を求める(4~6月:1st、7~9月:2nd、10~12月:3rd、1~3月:4th)(＊＊＊＊使うか使わないか＊＊＊＊)\n",
    "#df['quarter'] = df['month'].replace({'4': '1st', '5': '1st', '6': '1st', \n",
    "#                                     '7': '2nd', '8': '2nd', '9': '2nd', \n",
    "#                                     '10': '3rd', '11': '3rd', '12': '3rd', \n",
    "#                                     '1': '4th', '2': '4th', '3': '4th'\n",
    "#                                    })"
   ]
  },
  {
   "cell_type": "code",
   "execution_count": 1414,
   "metadata": {},
   "outputs": [],
   "source": [
    "# ダミー変数の作成\n",
    "#df = pd.get_dummies(df, columns=['quarter'], drop_first=True)"
   ]
  },
  {
   "cell_type": "code",
   "execution_count": 1415,
   "metadata": {},
   "outputs": [],
   "source": [
    "#df.drop(['month'], axis=1, inplace=True)"
   ]
  },
  {
   "cell_type": "code",
   "execution_count": 1416,
   "metadata": {},
   "outputs": [
    {
     "data": {
      "text/html": [
       "<div>\n",
       "<style scoped>\n",
       "    .dataframe tbody tr th:only-of-type {\n",
       "        vertical-align: middle;\n",
       "    }\n",
       "\n",
       "    .dataframe tbody tr th {\n",
       "        vertical-align: top;\n",
       "    }\n",
       "\n",
       "    .dataframe thead th {\n",
       "        text-align: right;\n",
       "    }\n",
       "</style>\n",
       "<table border=\"1\" class=\"dataframe\">\n",
       "  <thead>\n",
       "    <tr style=\"text-align: right;\">\n",
       "      <th></th>\n",
       "      <th>sweet</th>\n",
       "      <th>sweet_category</th>\n",
       "      <th>size</th>\n",
       "      <th>AveCO2_7</th>\n",
       "      <th>AveSatu_7</th>\n",
       "      <th>AveHum_7</th>\n",
       "      <th>AveTemp_7</th>\n",
       "      <th>AveMaxTemp_7</th>\n",
       "      <th>AveMinTemp_7</th>\n",
       "      <th>AveDiffTemp_7</th>\n",
       "      <th>SumMaxTemp_7</th>\n",
       "      <th>SumMinTemp_7</th>\n",
       "      <th>SumDiffTemp_7</th>\n",
       "    </tr>\n",
       "  </thead>\n",
       "  <tbody>\n",
       "    <tr>\n",
       "      <th>count</th>\n",
       "      <td>2176.000000</td>\n",
       "      <td>2176.000000</td>\n",
       "      <td>2176.000000</td>\n",
       "      <td>2176.000000</td>\n",
       "      <td>2176.000000</td>\n",
       "      <td>2176.000000</td>\n",
       "      <td>2176.000000</td>\n",
       "      <td>2176.000000</td>\n",
       "      <td>2176.000000</td>\n",
       "      <td>2176.000000</td>\n",
       "      <td>2176.000000</td>\n",
       "      <td>2176.000000</td>\n",
       "      <td>2176.000000</td>\n",
       "    </tr>\n",
       "    <tr>\n",
       "      <th>mean</th>\n",
       "      <td>4.689890</td>\n",
       "      <td>2.776654</td>\n",
       "      <td>6.568267</td>\n",
       "      <td>534.566678</td>\n",
       "      <td>7.531237</td>\n",
       "      <td>62.433931</td>\n",
       "      <td>21.766846</td>\n",
       "      <td>27.484560</td>\n",
       "      <td>17.887496</td>\n",
       "      <td>9.595469</td>\n",
       "      <td>192.386765</td>\n",
       "      <td>125.213529</td>\n",
       "      <td>67.173456</td>\n",
       "    </tr>\n",
       "    <tr>\n",
       "      <th>std</th>\n",
       "      <td>0.530061</td>\n",
       "      <td>0.977789</td>\n",
       "      <td>1.830271</td>\n",
       "      <td>100.540048</td>\n",
       "      <td>1.402898</td>\n",
       "      <td>3.964303</td>\n",
       "      <td>1.362018</td>\n",
       "      <td>2.714338</td>\n",
       "      <td>1.485614</td>\n",
       "      <td>3.226052</td>\n",
       "      <td>19.002837</td>\n",
       "      <td>10.400903</td>\n",
       "      <td>22.577841</td>\n",
       "    </tr>\n",
       "    <tr>\n",
       "      <th>min</th>\n",
       "      <td>3.000000</td>\n",
       "      <td>1.000000</td>\n",
       "      <td>2.560000</td>\n",
       "      <td>400.770000</td>\n",
       "      <td>5.800000</td>\n",
       "      <td>55.550000</td>\n",
       "      <td>20.250000</td>\n",
       "      <td>22.700000</td>\n",
       "      <td>11.560000</td>\n",
       "      <td>4.590000</td>\n",
       "      <td>158.900000</td>\n",
       "      <td>80.930000</td>\n",
       "      <td>32.100000</td>\n",
       "    </tr>\n",
       "    <tr>\n",
       "      <th>25%</th>\n",
       "      <td>4.300000</td>\n",
       "      <td>2.000000</td>\n",
       "      <td>5.250000</td>\n",
       "      <td>443.180000</td>\n",
       "      <td>6.400000</td>\n",
       "      <td>59.690000</td>\n",
       "      <td>20.760000</td>\n",
       "      <td>25.890000</td>\n",
       "      <td>17.770000</td>\n",
       "      <td>7.740000</td>\n",
       "      <td>181.200000</td>\n",
       "      <td>124.400000</td>\n",
       "      <td>54.200000</td>\n",
       "    </tr>\n",
       "    <tr>\n",
       "      <th>50%</th>\n",
       "      <td>4.700000</td>\n",
       "      <td>3.000000</td>\n",
       "      <td>6.440000</td>\n",
       "      <td>504.820000</td>\n",
       "      <td>7.370000</td>\n",
       "      <td>61.330000</td>\n",
       "      <td>21.390000</td>\n",
       "      <td>26.240000</td>\n",
       "      <td>18.210000</td>\n",
       "      <td>8.160000</td>\n",
       "      <td>183.700000</td>\n",
       "      <td>127.500000</td>\n",
       "      <td>57.100000</td>\n",
       "    </tr>\n",
       "    <tr>\n",
       "      <th>75%</th>\n",
       "      <td>5.100000</td>\n",
       "      <td>4.000000</td>\n",
       "      <td>7.800000</td>\n",
       "      <td>622.340000</td>\n",
       "      <td>8.075000</td>\n",
       "      <td>66.270000</td>\n",
       "      <td>22.410000</td>\n",
       "      <td>29.060000</td>\n",
       "      <td>18.670000</td>\n",
       "      <td>12.250000</td>\n",
       "      <td>203.400000</td>\n",
       "      <td>130.700000</td>\n",
       "      <td>85.750000</td>\n",
       "    </tr>\n",
       "    <tr>\n",
       "      <th>max</th>\n",
       "      <td>6.000000</td>\n",
       "      <td>4.000000</td>\n",
       "      <td>14.000000</td>\n",
       "      <td>760.640000</td>\n",
       "      <td>11.900000</td>\n",
       "      <td>70.810000</td>\n",
       "      <td>25.930000</td>\n",
       "      <td>34.540000</td>\n",
       "      <td>19.630000</td>\n",
       "      <td>17.500000</td>\n",
       "      <td>241.800000</td>\n",
       "      <td>137.400000</td>\n",
       "      <td>122.480000</td>\n",
       "    </tr>\n",
       "  </tbody>\n",
       "</table>\n",
       "</div>"
      ],
      "text/plain": [
       "             sweet  sweet_category         size     AveCO2_7    AveSatu_7  \\\n",
       "count  2176.000000     2176.000000  2176.000000  2176.000000  2176.000000   \n",
       "mean      4.689890        2.776654     6.568267   534.566678     7.531237   \n",
       "std       0.530061        0.977789     1.830271   100.540048     1.402898   \n",
       "min       3.000000        1.000000     2.560000   400.770000     5.800000   \n",
       "25%       4.300000        2.000000     5.250000   443.180000     6.400000   \n",
       "50%       4.700000        3.000000     6.440000   504.820000     7.370000   \n",
       "75%       5.100000        4.000000     7.800000   622.340000     8.075000   \n",
       "max       6.000000        4.000000    14.000000   760.640000    11.900000   \n",
       "\n",
       "          AveHum_7    AveTemp_7  AveMaxTemp_7  AveMinTemp_7  AveDiffTemp_7  \\\n",
       "count  2176.000000  2176.000000   2176.000000   2176.000000    2176.000000   \n",
       "mean     62.433931    21.766846     27.484560     17.887496       9.595469   \n",
       "std       3.964303     1.362018      2.714338      1.485614       3.226052   \n",
       "min      55.550000    20.250000     22.700000     11.560000       4.590000   \n",
       "25%      59.690000    20.760000     25.890000     17.770000       7.740000   \n",
       "50%      61.330000    21.390000     26.240000     18.210000       8.160000   \n",
       "75%      66.270000    22.410000     29.060000     18.670000      12.250000   \n",
       "max      70.810000    25.930000     34.540000     19.630000      17.500000   \n",
       "\n",
       "       SumMaxTemp_7  SumMinTemp_7  SumDiffTemp_7  \n",
       "count   2176.000000   2176.000000    2176.000000  \n",
       "mean     192.386765    125.213529      67.173456  \n",
       "std       19.002837     10.400903      22.577841  \n",
       "min      158.900000     80.930000      32.100000  \n",
       "25%      181.200000    124.400000      54.200000  \n",
       "50%      183.700000    127.500000      57.100000  \n",
       "75%      203.400000    130.700000      85.750000  \n",
       "max      241.800000    137.400000     122.480000  "
      ]
     },
     "execution_count": 1416,
     "metadata": {},
     "output_type": "execute_result"
    }
   ],
   "source": [
    "df.describe()"
   ]
  },
  {
   "cell_type": "code",
   "execution_count": 1417,
   "metadata": {},
   "outputs": [
    {
     "data": {
      "text/html": [
       "<div>\n",
       "<style scoped>\n",
       "    .dataframe tbody tr th:only-of-type {\n",
       "        vertical-align: middle;\n",
       "    }\n",
       "\n",
       "    .dataframe tbody tr th {\n",
       "        vertical-align: top;\n",
       "    }\n",
       "\n",
       "    .dataframe thead th {\n",
       "        text-align: right;\n",
       "    }\n",
       "</style>\n",
       "<table border=\"1\" class=\"dataframe\">\n",
       "  <thead>\n",
       "    <tr style=\"text-align: right;\">\n",
       "      <th></th>\n",
       "      <th>sweet</th>\n",
       "      <th>sweet_category</th>\n",
       "      <th>size</th>\n",
       "      <th>AveCO2_7</th>\n",
       "      <th>AveSatu_7</th>\n",
       "      <th>AveHum_7</th>\n",
       "      <th>AveTemp_7</th>\n",
       "      <th>AveMaxTemp_7</th>\n",
       "      <th>AveMinTemp_7</th>\n",
       "      <th>AveDiffTemp_7</th>\n",
       "      <th>SumMaxTemp_7</th>\n",
       "      <th>SumMinTemp_7</th>\n",
       "      <th>SumDiffTemp_7</th>\n",
       "    </tr>\n",
       "  </thead>\n",
       "  <tbody>\n",
       "    <tr>\n",
       "      <th>sweet</th>\n",
       "      <td>1.000000</td>\n",
       "      <td>0.948026</td>\n",
       "      <td>-0.845930</td>\n",
       "      <td>0.149696</td>\n",
       "      <td>-0.102477</td>\n",
       "      <td>-0.086414</td>\n",
       "      <td>-0.231788</td>\n",
       "      <td>-0.256549</td>\n",
       "      <td>0.087282</td>\n",
       "      <td>-0.256248</td>\n",
       "      <td>-0.256605</td>\n",
       "      <td>0.087076</td>\n",
       "      <td>-0.256092</td>\n",
       "    </tr>\n",
       "    <tr>\n",
       "      <th>sweet_category</th>\n",
       "      <td>0.948026</td>\n",
       "      <td>1.000000</td>\n",
       "      <td>-0.845716</td>\n",
       "      <td>0.147071</td>\n",
       "      <td>-0.095435</td>\n",
       "      <td>-0.092968</td>\n",
       "      <td>-0.227828</td>\n",
       "      <td>-0.250357</td>\n",
       "      <td>0.088490</td>\n",
       "      <td>-0.251585</td>\n",
       "      <td>-0.250397</td>\n",
       "      <td>0.088279</td>\n",
       "      <td>-0.251422</td>\n",
       "    </tr>\n",
       "    <tr>\n",
       "      <th>size</th>\n",
       "      <td>-0.845930</td>\n",
       "      <td>-0.845716</td>\n",
       "      <td>1.000000</td>\n",
       "      <td>-0.316388</td>\n",
       "      <td>0.270745</td>\n",
       "      <td>-0.005937</td>\n",
       "      <td>0.417896</td>\n",
       "      <td>0.411442</td>\n",
       "      <td>-0.165116</td>\n",
       "      <td>0.422383</td>\n",
       "      <td>0.411474</td>\n",
       "      <td>-0.164920</td>\n",
       "      <td>0.422303</td>\n",
       "    </tr>\n",
       "    <tr>\n",
       "      <th>AveCO2_7</th>\n",
       "      <td>0.149696</td>\n",
       "      <td>0.147071</td>\n",
       "      <td>-0.316388</td>\n",
       "      <td>1.000000</td>\n",
       "      <td>-0.655139</td>\n",
       "      <td>0.406979</td>\n",
       "      <td>-0.700366</td>\n",
       "      <td>-0.647394</td>\n",
       "      <td>0.195133</td>\n",
       "      <td>-0.634566</td>\n",
       "      <td>-0.647212</td>\n",
       "      <td>0.195217</td>\n",
       "      <td>-0.634670</td>\n",
       "    </tr>\n",
       "    <tr>\n",
       "      <th>AveSatu_7</th>\n",
       "      <td>-0.102477</td>\n",
       "      <td>-0.095435</td>\n",
       "      <td>0.270745</td>\n",
       "      <td>-0.655139</td>\n",
       "      <td>1.000000</td>\n",
       "      <td>-0.795076</td>\n",
       "      <td>0.876089</td>\n",
       "      <td>0.728993</td>\n",
       "      <td>0.004405</td>\n",
       "      <td>0.611319</td>\n",
       "      <td>0.728858</td>\n",
       "      <td>0.004476</td>\n",
       "      <td>0.611402</td>\n",
       "    </tr>\n",
       "    <tr>\n",
       "      <th>AveHum_7</th>\n",
       "      <td>-0.086414</td>\n",
       "      <td>-0.092968</td>\n",
       "      <td>-0.005937</td>\n",
       "      <td>0.406979</td>\n",
       "      <td>-0.795076</td>\n",
       "      <td>1.000000</td>\n",
       "      <td>-0.438052</td>\n",
       "      <td>-0.204585</td>\n",
       "      <td>-0.020980</td>\n",
       "      <td>-0.162219</td>\n",
       "      <td>-0.204393</td>\n",
       "      <td>-0.021014</td>\n",
       "      <td>-0.162364</td>\n",
       "    </tr>\n",
       "    <tr>\n",
       "      <th>AveTemp_7</th>\n",
       "      <td>-0.231788</td>\n",
       "      <td>-0.227828</td>\n",
       "      <td>0.417896</td>\n",
       "      <td>-0.700366</td>\n",
       "      <td>0.876089</td>\n",
       "      <td>-0.438052</td>\n",
       "      <td>1.000000</td>\n",
       "      <td>0.875936</td>\n",
       "      <td>-0.003704</td>\n",
       "      <td>0.738866</td>\n",
       "      <td>0.875861</td>\n",
       "      <td>-0.003649</td>\n",
       "      <td>0.738867</td>\n",
       "    </tr>\n",
       "    <tr>\n",
       "      <th>AveMaxTemp_7</th>\n",
       "      <td>-0.256549</td>\n",
       "      <td>-0.250357</td>\n",
       "      <td>0.411442</td>\n",
       "      <td>-0.647394</td>\n",
       "      <td>0.728993</td>\n",
       "      <td>-0.204585</td>\n",
       "      <td>0.875936</td>\n",
       "      <td>1.000000</td>\n",
       "      <td>-0.102683</td>\n",
       "      <td>0.888889</td>\n",
       "      <td>1.000000</td>\n",
       "      <td>-0.102540</td>\n",
       "      <td>0.888901</td>\n",
       "    </tr>\n",
       "    <tr>\n",
       "      <th>AveMinTemp_7</th>\n",
       "      <td>0.087282</td>\n",
       "      <td>0.088490</td>\n",
       "      <td>-0.165116</td>\n",
       "      <td>0.195133</td>\n",
       "      <td>0.004405</td>\n",
       "      <td>-0.020980</td>\n",
       "      <td>-0.003704</td>\n",
       "      <td>-0.102683</td>\n",
       "      <td>1.000000</td>\n",
       "      <td>-0.546973</td>\n",
       "      <td>-0.102467</td>\n",
       "      <td>0.999998</td>\n",
       "      <td>-0.546952</td>\n",
       "    </tr>\n",
       "    <tr>\n",
       "      <th>AveDiffTemp_7</th>\n",
       "      <td>-0.256248</td>\n",
       "      <td>-0.251585</td>\n",
       "      <td>0.422383</td>\n",
       "      <td>-0.634566</td>\n",
       "      <td>0.611319</td>\n",
       "      <td>-0.162219</td>\n",
       "      <td>0.738866</td>\n",
       "      <td>0.888889</td>\n",
       "      <td>-0.546973</td>\n",
       "      <td>1.000000</td>\n",
       "      <td>0.888790</td>\n",
       "      <td>-0.546853</td>\n",
       "      <td>1.000000</td>\n",
       "    </tr>\n",
       "    <tr>\n",
       "      <th>SumMaxTemp_7</th>\n",
       "      <td>-0.256605</td>\n",
       "      <td>-0.250397</td>\n",
       "      <td>0.411474</td>\n",
       "      <td>-0.647212</td>\n",
       "      <td>0.728858</td>\n",
       "      <td>-0.204393</td>\n",
       "      <td>0.875861</td>\n",
       "      <td>1.000000</td>\n",
       "      <td>-0.102467</td>\n",
       "      <td>0.888790</td>\n",
       "      <td>1.000000</td>\n",
       "      <td>-0.102324</td>\n",
       "      <td>0.888802</td>\n",
       "    </tr>\n",
       "    <tr>\n",
       "      <th>SumMinTemp_7</th>\n",
       "      <td>0.087076</td>\n",
       "      <td>0.088279</td>\n",
       "      <td>-0.164920</td>\n",
       "      <td>0.195217</td>\n",
       "      <td>0.004476</td>\n",
       "      <td>-0.021014</td>\n",
       "      <td>-0.003649</td>\n",
       "      <td>-0.102540</td>\n",
       "      <td>0.999998</td>\n",
       "      <td>-0.546853</td>\n",
       "      <td>-0.102324</td>\n",
       "      <td>1.000000</td>\n",
       "      <td>-0.546832</td>\n",
       "    </tr>\n",
       "    <tr>\n",
       "      <th>SumDiffTemp_7</th>\n",
       "      <td>-0.256092</td>\n",
       "      <td>-0.251422</td>\n",
       "      <td>0.422303</td>\n",
       "      <td>-0.634670</td>\n",
       "      <td>0.611402</td>\n",
       "      <td>-0.162364</td>\n",
       "      <td>0.738867</td>\n",
       "      <td>0.888901</td>\n",
       "      <td>-0.546952</td>\n",
       "      <td>1.000000</td>\n",
       "      <td>0.888802</td>\n",
       "      <td>-0.546832</td>\n",
       "      <td>1.000000</td>\n",
       "    </tr>\n",
       "  </tbody>\n",
       "</table>\n",
       "</div>"
      ],
      "text/plain": [
       "                   sweet  sweet_category      size  AveCO2_7  AveSatu_7  \\\n",
       "sweet           1.000000        0.948026 -0.845930  0.149696  -0.102477   \n",
       "sweet_category  0.948026        1.000000 -0.845716  0.147071  -0.095435   \n",
       "size           -0.845930       -0.845716  1.000000 -0.316388   0.270745   \n",
       "AveCO2_7        0.149696        0.147071 -0.316388  1.000000  -0.655139   \n",
       "AveSatu_7      -0.102477       -0.095435  0.270745 -0.655139   1.000000   \n",
       "AveHum_7       -0.086414       -0.092968 -0.005937  0.406979  -0.795076   \n",
       "AveTemp_7      -0.231788       -0.227828  0.417896 -0.700366   0.876089   \n",
       "AveMaxTemp_7   -0.256549       -0.250357  0.411442 -0.647394   0.728993   \n",
       "AveMinTemp_7    0.087282        0.088490 -0.165116  0.195133   0.004405   \n",
       "AveDiffTemp_7  -0.256248       -0.251585  0.422383 -0.634566   0.611319   \n",
       "SumMaxTemp_7   -0.256605       -0.250397  0.411474 -0.647212   0.728858   \n",
       "SumMinTemp_7    0.087076        0.088279 -0.164920  0.195217   0.004476   \n",
       "SumDiffTemp_7  -0.256092       -0.251422  0.422303 -0.634670   0.611402   \n",
       "\n",
       "                AveHum_7  AveTemp_7  AveMaxTemp_7  AveMinTemp_7  \\\n",
       "sweet          -0.086414  -0.231788     -0.256549      0.087282   \n",
       "sweet_category -0.092968  -0.227828     -0.250357      0.088490   \n",
       "size           -0.005937   0.417896      0.411442     -0.165116   \n",
       "AveCO2_7        0.406979  -0.700366     -0.647394      0.195133   \n",
       "AveSatu_7      -0.795076   0.876089      0.728993      0.004405   \n",
       "AveHum_7        1.000000  -0.438052     -0.204585     -0.020980   \n",
       "AveTemp_7      -0.438052   1.000000      0.875936     -0.003704   \n",
       "AveMaxTemp_7   -0.204585   0.875936      1.000000     -0.102683   \n",
       "AveMinTemp_7   -0.020980  -0.003704     -0.102683      1.000000   \n",
       "AveDiffTemp_7  -0.162219   0.738866      0.888889     -0.546973   \n",
       "SumMaxTemp_7   -0.204393   0.875861      1.000000     -0.102467   \n",
       "SumMinTemp_7   -0.021014  -0.003649     -0.102540      0.999998   \n",
       "SumDiffTemp_7  -0.162364   0.738867      0.888901     -0.546952   \n",
       "\n",
       "                AveDiffTemp_7  SumMaxTemp_7  SumMinTemp_7  SumDiffTemp_7  \n",
       "sweet               -0.256248     -0.256605      0.087076      -0.256092  \n",
       "sweet_category      -0.251585     -0.250397      0.088279      -0.251422  \n",
       "size                 0.422383      0.411474     -0.164920       0.422303  \n",
       "AveCO2_7            -0.634566     -0.647212      0.195217      -0.634670  \n",
       "AveSatu_7            0.611319      0.728858      0.004476       0.611402  \n",
       "AveHum_7            -0.162219     -0.204393     -0.021014      -0.162364  \n",
       "AveTemp_7            0.738866      0.875861     -0.003649       0.738867  \n",
       "AveMaxTemp_7         0.888889      1.000000     -0.102540       0.888901  \n",
       "AveMinTemp_7        -0.546973     -0.102467      0.999998      -0.546952  \n",
       "AveDiffTemp_7        1.000000      0.888790     -0.546853       1.000000  \n",
       "SumMaxTemp_7         0.888790      1.000000     -0.102324       0.888802  \n",
       "SumMinTemp_7        -0.546853     -0.102324      1.000000      -0.546832  \n",
       "SumDiffTemp_7        1.000000      0.888802     -0.546832       1.000000  "
      ]
     },
     "execution_count": 1417,
     "metadata": {},
     "output_type": "execute_result"
    }
   ],
   "source": [
    "df.corr()"
   ]
  },
  {
   "cell_type": "code",
   "execution_count": 1418,
   "metadata": {},
   "outputs": [
    {
     "data": {
      "text/plain": [
       "<matplotlib.axes._subplots.AxesSubplot at 0x7fdbef2c92b0>"
      ]
     },
     "execution_count": 1418,
     "metadata": {},
     "output_type": "execute_result"
    },
    {
     "data": {
      "image/png": "[encoded data removed]",
      "text/plain": [
       "<Figure size 720x576 with 2 Axes>"
      ]
     },
     "metadata": {},
     "output_type": "display_data"
    }
   ],
   "source": [
    "plt.figure(figsize=(10, 8))\n",
    "sns.heatmap(df.corr(), annot=True, cmap='Blues')"
   ]
  },
  {
   "cell_type": "code",
   "execution_count": 1419,
   "metadata": {},
   "outputs": [],
   "source": [
    "df['size'] = df['size']**2"
   ]
  },
  {
   "cell_type": "code",
   "execution_count": 1420,
   "metadata": {},
   "outputs": [
    {
     "data": {
      "text/plain": [
       "<matplotlib.axes._subplots.AxesSubplot at 0x7fdbef148630>"
      ]
     },
     "execution_count": 1420,
     "metadata": {},
     "output_type": "execute_result"
    },
    {
     "data": {
      "image/png": "[encoded data removed]",
      "text/plain": [
       "<Figure size 720x720 with 1 Axes>"
      ]
     },
     "metadata": {},
     "output_type": "display_data"
    }
   ],
   "source": [
    "plt.figure(figsize=(10, 10))\n",
    "sns.boxplot(df['size'], orient='v', width=0.2)"
   ]
  },
  {
   "cell_type": "code",
   "execution_count": 1421,
   "metadata": {},
   "outputs": [
    {
     "data": {
      "text/plain": [
       "<matplotlib.axes._subplots.AxesSubplot at 0x7fdbef3d21d0>"
      ]
     },
     "execution_count": 1421,
     "metadata": {},
     "output_type": "execute_result"
    },
    {
     "data": {
      "image/png": "[encoded data removed]",
      "text/plain": [
       "<Figure size 864x576 with 1 Axes>"
      ]
     },
     "metadata": {},
     "output_type": "display_data"
    }
   ],
   "source": [
    "plt.figure(figsize=(12, 8))\n",
    "sns.distplot(df['size'])"
   ]
  },
  {
   "cell_type": "code",
   "execution_count": 1422,
   "metadata": {},
   "outputs": [
    {
     "name": "stdout",
     "output_type": "stream",
     "text": [
      "Index(['current_date', 'sweet', 'sweet_category', 'size', 'AveCO2_7',\n",
      "       'AveSatu_7', 'AveHum_7', 'AveTemp_7', 'AveMaxTemp_7', 'AveMinTemp_7',\n",
      "       'AveDiffTemp_7', 'SumMaxTemp_7', 'SumMinTemp_7', 'SumDiffTemp_7'],\n",
      "      dtype='object')\n"
     ]
    }
   ],
   "source": [
    "print(df.columns)"
   ]
  },
  {
   "cell_type": "code",
   "execution_count": 1423,
   "metadata": {},
   "outputs": [
    {
     "data": {
      "text/plain": [
       "(2176, 14)"
      ]
     },
     "execution_count": 1423,
     "metadata": {},
     "output_type": "execute_result"
    }
   ],
   "source": [
    "df.shape"
   ]
  },
  {
   "cell_type": "code",
   "execution_count": 1424,
   "metadata": {},
   "outputs": [],
   "source": [
    "# sweet_categoryが1のものについて\n",
    "df_1 = df[(df['sweet_category'] == 1)]"
   ]
  },
  {
   "cell_type": "code",
   "execution_count": 1425,
   "metadata": {},
   "outputs": [
    {
     "name": "stdout",
     "output_type": "stream",
     "text": [
      "<class 'pandas.core.frame.DataFrame'>\n",
      "Int64Index: 257 entries, 2 to 2164\n",
      "Data columns (total 14 columns):\n",
      "current_date      257 non-null object\n",
      "sweet             257 non-null float64\n",
      "sweet_category    257 non-null int64\n",
      "size              257 non-null float64\n",
      "AveCO2_7          257 non-null float64\n",
      "AveSatu_7         257 non-null float64\n",
      "AveHum_7          257 non-null float64\n",
      "AveTemp_7         257 non-null float64\n",
      "AveMaxTemp_7      257 non-null float64\n",
      "AveMinTemp_7      257 non-null float64\n",
      "AveDiffTemp_7     257 non-null float64\n",
      "SumMaxTemp_7      257 non-null float64\n",
      "SumMinTemp_7      257 non-null float64\n",
      "SumDiffTemp_7     257 non-null float64\n",
      "dtypes: float64(12), int64(1), object(1)\n",
      "memory usage: 30.1+ KB\n"
     ]
    }
   ],
   "source": [
    "df_1.info()"
   ]
  },
  {
   "cell_type": "code",
   "execution_count": 1426,
   "metadata": {},
   "outputs": [
    {
     "data": {
      "text/plain": [
       "<matplotlib.axes._subplots.AxesSubplot at 0x7fdbef0c2358>"
      ]
     },
     "execution_count": 1426,
     "metadata": {},
     "output_type": "execute_result"
    },
    {
     "data": {
      "image/png": "[encoded data removed]",
      "text/plain": [
       "<Figure size 864x864 with 1 Axes>"
      ]
     },
     "metadata": {},
     "output_type": "display_data"
    }
   ],
   "source": [
    "plt.figure(figsize=(12, 12))\n",
    "sns.boxplot(df_1['size'], orient='v', width=0.1)"
   ]
  },
  {
   "cell_type": "code",
   "execution_count": 1427,
   "metadata": {},
   "outputs": [
    {
     "data": {
      "text/plain": [
       "<matplotlib.axes._subplots.AxesSubplot at 0x7fdbef014b00>"
      ]
     },
     "execution_count": 1427,
     "metadata": {},
     "output_type": "execute_result"
    },
    {
     "data": {
      "image/png": "[encoded data removed]",
      "text/plain": [
       "<Figure size 864x576 with 1 Axes>"
      ]
     },
     "metadata": {},
     "output_type": "display_data"
    }
   ],
   "source": [
    "plt.figure(figsize=(12, 8))\n",
    "sns.distplot(df_1['size'])"
   ]
  },
  {
   "cell_type": "code",
   "execution_count": 1428,
   "metadata": {},
   "outputs": [],
   "source": [
    "def outlier_iqr(df, columns=None):\n",
    "    if columns == None:\n",
    "        columns = df.columns\n",
    "    for col in columns:\n",
    "        q1 = df[col].describe()['25%']\n",
    "        q3 = df[col].describe()['75%']\n",
    "        # 四分位範囲\n",
    "        iqr = q3 - q1\n",
    "        outlier_min = q1 - iqr * 1.5\n",
    "        outlier_max = q3 + iqr * 1.5\n",
    "        # 範囲から外れている値を除く\n",
    "        df = df[(df[col] >= outlier_min) & (df[col] <= outlier_max)]\n",
    "    return df"
   ]
  },
  {
   "cell_type": "code",
   "execution_count": 1429,
   "metadata": {},
   "outputs": [
    {
     "name": "stdout",
     "output_type": "stream",
     "text": [
      "before (257, 14)\n",
      "after (247, 14)\n"
     ]
    }
   ],
   "source": [
    "print(\"before\", df_1.shape)\n",
    "df_1 = outlier_iqr(df_1, ['size'])\n",
    "print(\"after\", df_1.shape)"
   ]
  },
  {
   "cell_type": "code",
   "execution_count": 1430,
   "metadata": {},
   "outputs": [],
   "source": [
    "#対数をとって正規分布にする\n",
    "#df['size'] = np.log1p(df['size'])\n",
    "#df['size'].head()"
   ]
  },
  {
   "cell_type": "code",
   "execution_count": 1431,
   "metadata": {
    "scrolled": false
   },
   "outputs": [
    {
     "data": {
      "text/plain": [
       "<matplotlib.axes._subplots.AxesSubplot at 0x7fdbef082160>"
      ]
     },
     "execution_count": 1431,
     "metadata": {},
     "output_type": "execute_result"
    },
    {
     "data": {
      "image/png": "[encoded data removed]",
      "text/plain": [
       "<Figure size 864x576 with 1 Axes>"
      ]
     },
     "metadata": {},
     "output_type": "display_data"
    }
   ],
   "source": [
    "plt.figure(figsize=(12, 8))\n",
    "sns.distplot(df_1['size'])"
   ]
  },
  {
   "cell_type": "code",
   "execution_count": 1432,
   "metadata": {},
   "outputs": [],
   "source": [
    "# sweet_categoryが2のものについて\n",
    "df_2 = df[(df['sweet_category'] == 2)]"
   ]
  },
  {
   "cell_type": "code",
   "execution_count": 1433,
   "metadata": {},
   "outputs": [
    {
     "data": {
      "text/plain": [
       "<matplotlib.axes._subplots.AxesSubplot at 0x7fdbee639f28>"
      ]
     },
     "execution_count": 1433,
     "metadata": {},
     "output_type": "execute_result"
    },
    {
     "data": {
      "image/png": "[encoded data removed]",
      "text/plain": [
       "<Figure size 864x576 with 1 Axes>"
      ]
     },
     "metadata": {},
     "output_type": "display_data"
    }
   ],
   "source": [
    "plt.figure(figsize=(12, 8))\n",
    "sns.distplot(df_2['size'])"
   ]
  },
  {
   "cell_type": "code",
   "execution_count": 1434,
   "metadata": {},
   "outputs": [
    {
     "name": "stdout",
     "output_type": "stream",
     "text": [
      "before (566, 14)\n",
      "after (555, 14)\n"
     ]
    }
   ],
   "source": [
    "print(\"before\", df_2.shape)\n",
    "df_2 = outlier_iqr(df_2, ['size'])\n",
    "print(\"after\", df_2.shape)"
   ]
  },
  {
   "cell_type": "code",
   "execution_count": 1435,
   "metadata": {},
   "outputs": [
    {
     "data": {
      "text/plain": [
       "<matplotlib.axes._subplots.AxesSubplot at 0x7fdbeee4fd30>"
      ]
     },
     "execution_count": 1435,
     "metadata": {},
     "output_type": "execute_result"
    },
    {
     "data": {
      "image/png": "[encoded data removed]",
      "text/plain": [
       "<Figure size 864x576 with 1 Axes>"
      ]
     },
     "metadata": {},
     "output_type": "display_data"
    }
   ],
   "source": [
    "plt.figure(figsize=(12, 8))\n",
    "sns.distplot(df_2['size'])"
   ]
  },
  {
   "cell_type": "code",
   "execution_count": 1436,
   "metadata": {},
   "outputs": [],
   "source": [
    "# sweet_categoryが3のものについて\n",
    "df_3 = df[(df['sweet_category'] == 3)]"
   ]
  },
  {
   "cell_type": "code",
   "execution_count": 1437,
   "metadata": {},
   "outputs": [
    {
     "data": {
      "text/plain": [
       "<matplotlib.axes._subplots.AxesSubplot at 0x7fdbeee69b38>"
      ]
     },
     "execution_count": 1437,
     "metadata": {},
     "output_type": "execute_result"
    },
    {
     "data": {
      "image/png": "[encoded data removed]",
      "text/plain": [
       "<Figure size 864x576 with 1 Axes>"
      ]
     },
     "metadata": {},
     "output_type": "display_data"
    }
   ],
   "source": [
    "plt.figure(figsize=(12, 8))\n",
    "sns.distplot(df_3['size'])"
   ]
  },
  {
   "cell_type": "code",
   "execution_count": 1438,
   "metadata": {},
   "outputs": [
    {
     "name": "stdout",
     "output_type": "stream",
     "text": [
      "before (759, 14)\n",
      "after (733, 14)\n"
     ]
    }
   ],
   "source": [
    "print(\"before\", df_3.shape)\n",
    "df_3 = outlier_iqr(df_3, ['size'])\n",
    "print(\"after\", df_3.shape)"
   ]
  },
  {
   "cell_type": "code",
   "execution_count": 1439,
   "metadata": {},
   "outputs": [
    {
     "data": {
      "text/plain": [
       "<matplotlib.axes._subplots.AxesSubplot at 0x7fdbeeed6e80>"
      ]
     },
     "execution_count": 1439,
     "metadata": {},
     "output_type": "execute_result"
    },
    {
     "data": {
      "image/png": "[encoded data removed]",
      "text/plain": [
       "<Figure size 864x576 with 1 Axes>"
      ]
     },
     "metadata": {},
     "output_type": "display_data"
    }
   ],
   "source": [
    "plt.figure(figsize=(12, 8))\n",
    "sns.distplot(df_3['size'])"
   ]
  },
  {
   "cell_type": "code",
   "execution_count": 1440,
   "metadata": {},
   "outputs": [],
   "source": [
    "# sweet_categoryが2のものについて\n",
    "df_4 = df[(df['sweet_category'] == 4)]"
   ]
  },
  {
   "cell_type": "code",
   "execution_count": 1441,
   "metadata": {},
   "outputs": [
    {
     "data": {
      "text/plain": [
       "<matplotlib.axes._subplots.AxesSubplot at 0x7fdbeecc6f60>"
      ]
     },
     "execution_count": 1441,
     "metadata": {},
     "output_type": "execute_result"
    },
    {
     "data": {
      "image/png": "[encoded data removed]",
      "text/plain": [
       "<Figure size 864x576 with 1 Axes>"
      ]
     },
     "metadata": {},
     "output_type": "display_data"
    }
   ],
   "source": [
    "plt.figure(figsize=(12, 8))\n",
    "sns.distplot(df_4['size'])"
   ]
  },
  {
   "cell_type": "code",
   "execution_count": 1442,
   "metadata": {},
   "outputs": [
    {
     "name": "stdout",
     "output_type": "stream",
     "text": [
      "before (594, 14)\n",
      "after (579, 14)\n"
     ]
    }
   ],
   "source": [
    "print(\"before\", df_4.shape)\n",
    "df_4 = outlier_iqr(df_4, ['size'])\n",
    "print(\"after\", df_4.shape)"
   ]
  },
  {
   "cell_type": "code",
   "execution_count": 1443,
   "metadata": {
    "scrolled": false
   },
   "outputs": [
    {
     "data": {
      "text/plain": [
       "<matplotlib.axes._subplots.AxesSubplot at 0x7fdbeeb82358>"
      ]
     },
     "execution_count": 1443,
     "metadata": {},
     "output_type": "execute_result"
    },
    {
     "data": {
      "image/png": "[encoded data removed]",
      "text/plain": [
       "<Figure size 864x576 with 1 Axes>"
      ]
     },
     "metadata": {},
     "output_type": "display_data"
    }
   ],
   "source": [
    "plt.figure(figsize=(12, 8))\n",
    "sns.distplot(df_4['size'])"
   ]
  },
  {
   "cell_type": "code",
   "execution_count": 1444,
   "metadata": {
    "scrolled": true
   },
   "outputs": [
    {
     "data": {
      "text/html": [
       "<div>\n",
       "<style scoped>\n",
       "    .dataframe tbody tr th:only-of-type {\n",
       "        vertical-align: middle;\n",
       "    }\n",
       "\n",
       "    .dataframe tbody tr th {\n",
       "        vertical-align: top;\n",
       "    }\n",
       "\n",
       "    .dataframe thead th {\n",
       "        text-align: right;\n",
       "    }\n",
       "</style>\n",
       "<table border=\"1\" class=\"dataframe\">\n",
       "  <thead>\n",
       "    <tr style=\"text-align: right;\">\n",
       "      <th></th>\n",
       "      <th>sweet</th>\n",
       "      <th>sweet_category</th>\n",
       "      <th>size</th>\n",
       "      <th>AveCO2_7</th>\n",
       "      <th>AveSatu_7</th>\n",
       "      <th>AveHum_7</th>\n",
       "      <th>AveTemp_7</th>\n",
       "      <th>AveMaxTemp_7</th>\n",
       "      <th>AveMinTemp_7</th>\n",
       "      <th>AveDiffTemp_7</th>\n",
       "      <th>SumMaxTemp_7</th>\n",
       "      <th>SumMinTemp_7</th>\n",
       "      <th>SumDiffTemp_7</th>\n",
       "    </tr>\n",
       "  </thead>\n",
       "  <tbody>\n",
       "    <tr>\n",
       "      <th>count</th>\n",
       "      <td>247.000000</td>\n",
       "      <td>247.0</td>\n",
       "      <td>247.000000</td>\n",
       "      <td>247.000000</td>\n",
       "      <td>247.000000</td>\n",
       "      <td>247.000000</td>\n",
       "      <td>247.000000</td>\n",
       "      <td>247.000000</td>\n",
       "      <td>247.000000</td>\n",
       "      <td>247.000000</td>\n",
       "      <td>247.000000</td>\n",
       "      <td>247.000000</td>\n",
       "      <td>247.000000</td>\n",
       "    </tr>\n",
       "    <tr>\n",
       "      <th>mean</th>\n",
       "      <td>3.763563</td>\n",
       "      <td>1.0</td>\n",
       "      <td>87.433311</td>\n",
       "      <td>528.269579</td>\n",
       "      <td>7.635249</td>\n",
       "      <td>63.145029</td>\n",
       "      <td>22.143471</td>\n",
       "      <td>28.242007</td>\n",
       "      <td>17.894748</td>\n",
       "      <td>10.346935</td>\n",
       "      <td>197.691498</td>\n",
       "      <td>125.267895</td>\n",
       "      <td>72.423968</td>\n",
       "    </tr>\n",
       "    <tr>\n",
       "      <th>std</th>\n",
       "      <td>0.233322</td>\n",
       "      <td>0.0</td>\n",
       "      <td>21.592202</td>\n",
       "      <td>113.836500</td>\n",
       "      <td>1.494770</td>\n",
       "      <td>4.413807</td>\n",
       "      <td>1.342267</td>\n",
       "      <td>2.876826</td>\n",
       "      <td>1.705911</td>\n",
       "      <td>3.430226</td>\n",
       "      <td>20.138633</td>\n",
       "      <td>11.944822</td>\n",
       "      <td>24.012275</td>\n",
       "    </tr>\n",
       "    <tr>\n",
       "      <th>min</th>\n",
       "      <td>3.000000</td>\n",
       "      <td>1.0</td>\n",
       "      <td>51.840000</td>\n",
       "      <td>400.770000</td>\n",
       "      <td>5.800000</td>\n",
       "      <td>55.930000</td>\n",
       "      <td>20.250000</td>\n",
       "      <td>22.700000</td>\n",
       "      <td>11.560000</td>\n",
       "      <td>4.590000</td>\n",
       "      <td>158.900000</td>\n",
       "      <td>80.930000</td>\n",
       "      <td>32.100000</td>\n",
       "    </tr>\n",
       "    <tr>\n",
       "      <th>25%</th>\n",
       "      <td>3.700000</td>\n",
       "      <td>1.0</td>\n",
       "      <td>73.616400</td>\n",
       "      <td>440.260000</td>\n",
       "      <td>6.080000</td>\n",
       "      <td>58.980000</td>\n",
       "      <td>20.810000</td>\n",
       "      <td>26.200000</td>\n",
       "      <td>17.610000</td>\n",
       "      <td>7.900000</td>\n",
       "      <td>183.400000</td>\n",
       "      <td>123.250000</td>\n",
       "      <td>55.300000</td>\n",
       "    </tr>\n",
       "    <tr>\n",
       "      <th>50%</th>\n",
       "      <td>3.800000</td>\n",
       "      <td>1.0</td>\n",
       "      <td>84.272400</td>\n",
       "      <td>480.530000</td>\n",
       "      <td>7.380000</td>\n",
       "      <td>63.830000</td>\n",
       "      <td>22.340000</td>\n",
       "      <td>26.890000</td>\n",
       "      <td>18.270000</td>\n",
       "      <td>8.540000</td>\n",
       "      <td>188.200000</td>\n",
       "      <td>127.900000</td>\n",
       "      <td>59.800000</td>\n",
       "    </tr>\n",
       "    <tr>\n",
       "      <th>75%</th>\n",
       "      <td>3.900000</td>\n",
       "      <td>1.0</td>\n",
       "      <td>101.606400</td>\n",
       "      <td>622.340000</td>\n",
       "      <td>9.040000</td>\n",
       "      <td>67.155000</td>\n",
       "      <td>23.385000</td>\n",
       "      <td>30.170000</td>\n",
       "      <td>18.970000</td>\n",
       "      <td>13.470000</td>\n",
       "      <td>211.200000</td>\n",
       "      <td>132.800000</td>\n",
       "      <td>94.300000</td>\n",
       "    </tr>\n",
       "    <tr>\n",
       "      <th>max</th>\n",
       "      <td>4.000000</td>\n",
       "      <td>1.0</td>\n",
       "      <td>144.000000</td>\n",
       "      <td>760.640000</td>\n",
       "      <td>10.830000</td>\n",
       "      <td>70.810000</td>\n",
       "      <td>25.340000</td>\n",
       "      <td>33.840000</td>\n",
       "      <td>19.570000</td>\n",
       "      <td>17.500000</td>\n",
       "      <td>236.900000</td>\n",
       "      <td>137.000000</td>\n",
       "      <td>122.480000</td>\n",
       "    </tr>\n",
       "  </tbody>\n",
       "</table>\n",
       "</div>"
      ],
      "text/plain": [
       "            sweet  sweet_category        size    AveCO2_7   AveSatu_7  \\\n",
       "count  247.000000           247.0  247.000000  247.000000  247.000000   \n",
       "mean     3.763563             1.0   87.433311  528.269579    7.635249   \n",
       "std      0.233322             0.0   21.592202  113.836500    1.494770   \n",
       "min      3.000000             1.0   51.840000  400.770000    5.800000   \n",
       "25%      3.700000             1.0   73.616400  440.260000    6.080000   \n",
       "50%      3.800000             1.0   84.272400  480.530000    7.380000   \n",
       "75%      3.900000             1.0  101.606400  622.340000    9.040000   \n",
       "max      4.000000             1.0  144.000000  760.640000   10.830000   \n",
       "\n",
       "         AveHum_7   AveTemp_7  AveMaxTemp_7  AveMinTemp_7  AveDiffTemp_7  \\\n",
       "count  247.000000  247.000000    247.000000    247.000000     247.000000   \n",
       "mean    63.145029   22.143471     28.242007     17.894748      10.346935   \n",
       "std      4.413807    1.342267      2.876826      1.705911       3.430226   \n",
       "min     55.930000   20.250000     22.700000     11.560000       4.590000   \n",
       "25%     58.980000   20.810000     26.200000     17.610000       7.900000   \n",
       "50%     63.830000   22.340000     26.890000     18.270000       8.540000   \n",
       "75%     67.155000   23.385000     30.170000     18.970000      13.470000   \n",
       "max     70.810000   25.340000     33.840000     19.570000      17.500000   \n",
       "\n",
       "       SumMaxTemp_7  SumMinTemp_7  SumDiffTemp_7  \n",
       "count    247.000000    247.000000     247.000000  \n",
       "mean     197.691498    125.267895      72.423968  \n",
       "std       20.138633     11.944822      24.012275  \n",
       "min      158.900000     80.930000      32.100000  \n",
       "25%      183.400000    123.250000      55.300000  \n",
       "50%      188.200000    127.900000      59.800000  \n",
       "75%      211.200000    132.800000      94.300000  \n",
       "max      236.900000    137.000000     122.480000  "
      ]
     },
     "execution_count": 1444,
     "metadata": {},
     "output_type": "execute_result"
    }
   ],
   "source": [
    "# df_1について\n",
    "df_1.describe()"
   ]
  },
  {
   "cell_type": "code",
   "execution_count": 1445,
   "metadata": {},
   "outputs": [],
   "source": [
    "# <-----------------------------------------------------------------------\n",
    "# 条件にあたるデータをデータフレームから抽出\n",
    "df_exa1_a = df_1.query('size >= 63 & size < 73 & index % 2 == 0')"
   ]
  },
  {
   "cell_type": "code",
   "execution_count": 1446,
   "metadata": {},
   "outputs": [
    {
     "name": "stdout",
     "output_type": "stream",
     "text": [
      "[  64  122  142  148  258  746  800  812 1436 1520 1592 1608 1614 1780\n",
      " 1810]\n"
     ]
    }
   ],
   "source": [
    "# indexのリスト\n",
    "indexes = df_exa1_a.index.values\n",
    "print(indexes)"
   ]
  },
  {
   "cell_type": "code",
   "execution_count": 1447,
   "metadata": {},
   "outputs": [
    {
     "data": {
      "text/plain": [
       "247"
      ]
     },
     "execution_count": 1447,
     "metadata": {},
     "output_type": "execute_result"
    }
   ],
   "source": [
    "# df_1の大きさを確認\n",
    "df_1['size'].size"
   ]
  },
  {
   "cell_type": "code",
   "execution_count": 1448,
   "metadata": {},
   "outputs": [],
   "source": [
    "# df_1から、該当する行を削除\n",
    "df_1 = df_1.drop(indexes)"
   ]
  },
  {
   "cell_type": "code",
   "execution_count": 1449,
   "metadata": {},
   "outputs": [
    {
     "data": {
      "text/plain": [
       "232"
      ]
     },
     "execution_count": 1449,
     "metadata": {},
     "output_type": "execute_result"
    }
   ],
   "source": [
    "# df_1の行数が減ったことを確認\n",
    "df_1['size'].size"
   ]
  },
  {
   "cell_type": "code",
   "execution_count": 1450,
   "metadata": {},
   "outputs": [],
   "source": [
    "# 抽出したデータの大きさを確認\n",
    "exa1_a_count = df_exa1_a['size'].size"
   ]
  },
  {
   "cell_type": "code",
   "execution_count": 1451,
   "metadata": {},
   "outputs": [],
   "source": [
    "# 指定した範囲内のランダムな浮動小数点数を、抽出したデータ分生成\n",
    "import random\n",
    "rand_list = [random.uniform(80, 100) for i in range(exa1_a_count)]"
   ]
  },
  {
   "cell_type": "code",
   "execution_count": 1452,
   "metadata": {},
   "outputs": [],
   "source": [
    "# 抽出したデータの大きさを生成したランダムな数で塗り替える\n",
    "df_exa1_a['size'] = rand_list"
   ]
  },
  {
   "cell_type": "code",
   "execution_count": 1453,
   "metadata": {},
   "outputs": [
    {
     "data": {
      "text/plain": [
       "64      91.728299\n",
       "122     81.126036\n",
       "142     87.899605\n",
       "148     82.130826\n",
       "258     89.621187\n",
       "746     92.152164\n",
       "800     83.354339\n",
       "812     84.334325\n",
       "1436    96.011162\n",
       "1520    97.386303\n",
       "1592    80.581130\n",
       "1608    81.917673\n",
       "1614    92.860340\n",
       "1780    84.426589\n",
       "1810    80.425126\n",
       "Name: size, dtype: float64"
      ]
     },
     "execution_count": 1453,
     "metadata": {},
     "output_type": "execute_result"
    }
   ],
   "source": [
    "# 書き換わっていることを確認\n",
    "df_exa1_a['size']"
   ]
  },
  {
   "cell_type": "code",
   "execution_count": 1454,
   "metadata": {},
   "outputs": [],
   "source": [
    "# <-----------------------------------------------------------------------\n",
    "# 条件にあたるデータをデータフレームから抽出\n",
    "df_exa1_b = df_1.query('size >= 51 & size < 63 & index % 2 == 0')"
   ]
  },
  {
   "cell_type": "code",
   "execution_count": 1455,
   "metadata": {},
   "outputs": [
    {
     "name": "stdout",
     "output_type": "stream",
     "text": [
      "[  52   76  144  198  238  288  390  686  720  784  794  814 1432 1666\n",
      " 1818]\n"
     ]
    }
   ],
   "source": [
    "# indexのリスト\n",
    "indexes = df_exa1_b.index.values\n",
    "print(indexes)"
   ]
  },
  {
   "cell_type": "code",
   "execution_count": 1456,
   "metadata": {},
   "outputs": [
    {
     "data": {
      "text/plain": [
       "232"
      ]
     },
     "execution_count": 1456,
     "metadata": {},
     "output_type": "execute_result"
    }
   ],
   "source": [
    "# df_1の大きさを確認\n",
    "df_1['size'].size"
   ]
  },
  {
   "cell_type": "code",
   "execution_count": 1457,
   "metadata": {},
   "outputs": [],
   "source": [
    "# df_1から、該当する行を削除\n",
    "df_1 = df_1.drop(indexes)"
   ]
  },
  {
   "cell_type": "code",
   "execution_count": 1458,
   "metadata": {},
   "outputs": [
    {
     "data": {
      "text/plain": [
       "217"
      ]
     },
     "execution_count": 1458,
     "metadata": {},
     "output_type": "execute_result"
    }
   ],
   "source": [
    "# df_1の大きさを確認\n",
    "df_1['size'].size"
   ]
  },
  {
   "cell_type": "code",
   "execution_count": 1459,
   "metadata": {},
   "outputs": [],
   "source": [
    "# 抽出したデータの大きさを確認\n",
    "exa1_b_count = df_exa1_b['size'].size"
   ]
  },
  {
   "cell_type": "code",
   "execution_count": 1460,
   "metadata": {},
   "outputs": [],
   "source": [
    "# 指定した範囲内のランダムな浮動小数点数を、抽出したデータ分生成\n",
    "import random\n",
    "rand_list = [random.uniform(90, 110) for i in range(exa1_b_count)]"
   ]
  },
  {
   "cell_type": "code",
   "execution_count": 1461,
   "metadata": {},
   "outputs": [],
   "source": [
    "# <-----------------------------------------------------------------------\n",
    "# 抽出したデータの大きさを生成したランダムな数で塗り替える\n",
    "df_exa1_b['size'] = rand_list"
   ]
  },
  {
   "cell_type": "code",
   "execution_count": 1462,
   "metadata": {},
   "outputs": [
    {
     "data": {
      "text/plain": [
       "52      107.093022\n",
       "76       95.818232\n",
       "144      99.843497\n",
       "198     101.160029\n",
       "238     102.933064\n",
       "288      98.632753\n",
       "390      93.584934\n",
       "686     101.383737\n",
       "720      99.778179\n",
       "784      97.429292\n",
       "794     104.274578\n",
       "814     108.103101\n",
       "1432    107.801112\n",
       "1666     96.942693\n",
       "1818    102.352119\n",
       "Name: size, dtype: float64"
      ]
     },
     "execution_count": 1462,
     "metadata": {},
     "output_type": "execute_result"
    }
   ],
   "source": [
    "# 書き換わっていることを確認\n",
    "df_exa1_b['size']"
   ]
  },
  {
   "cell_type": "code",
   "execution_count": 1463,
   "metadata": {},
   "outputs": [],
   "source": [
    "# 3つのデータフレームを結合\n",
    "df_1_new = pd.concat([df_1, df_exa1_a, df_exa1_b])"
   ]
  },
  {
   "cell_type": "code",
   "execution_count": 1464,
   "metadata": {},
   "outputs": [
    {
     "data": {
      "text/plain": [
       "<matplotlib.axes._subplots.AxesSubplot at 0x7fdbeed2ae80>"
      ]
     },
     "execution_count": 1464,
     "metadata": {},
     "output_type": "execute_result"
    },
    {
     "data": {
      "image/png": "[encoded data removed]",
      "text/plain": [
       "<Figure size 864x576 with 1 Axes>"
      ]
     },
     "metadata": {},
     "output_type": "display_data"
    }
   ],
   "source": [
    "plt.figure(figsize=(12, 8))\n",
    "sns.distplot(df_1_new['size'])"
   ]
  },
  {
   "cell_type": "code",
   "execution_count": 1465,
   "metadata": {},
   "outputs": [
    {
     "data": {
      "text/html": [
       "<div>\n",
       "<style scoped>\n",
       "    .dataframe tbody tr th:only-of-type {\n",
       "        vertical-align: middle;\n",
       "    }\n",
       "\n",
       "    .dataframe tbody tr th {\n",
       "        vertical-align: top;\n",
       "    }\n",
       "\n",
       "    .dataframe thead th {\n",
       "        text-align: right;\n",
       "    }\n",
       "</style>\n",
       "<table border=\"1\" class=\"dataframe\">\n",
       "  <thead>\n",
       "    <tr style=\"text-align: right;\">\n",
       "      <th></th>\n",
       "      <th>sweet</th>\n",
       "      <th>sweet_category</th>\n",
       "      <th>size</th>\n",
       "      <th>AveCO2_7</th>\n",
       "      <th>AveSatu_7</th>\n",
       "      <th>AveHum_7</th>\n",
       "      <th>AveTemp_7</th>\n",
       "      <th>AveMaxTemp_7</th>\n",
       "      <th>AveMinTemp_7</th>\n",
       "      <th>AveDiffTemp_7</th>\n",
       "      <th>SumMaxTemp_7</th>\n",
       "      <th>SumMinTemp_7</th>\n",
       "      <th>SumDiffTemp_7</th>\n",
       "    </tr>\n",
       "  </thead>\n",
       "  <tbody>\n",
       "    <tr>\n",
       "      <th>count</th>\n",
       "      <td>247.000000</td>\n",
       "      <td>247.0</td>\n",
       "      <td>247.000000</td>\n",
       "      <td>247.000000</td>\n",
       "      <td>247.000000</td>\n",
       "      <td>247.000000</td>\n",
       "      <td>247.000000</td>\n",
       "      <td>247.000000</td>\n",
       "      <td>247.000000</td>\n",
       "      <td>247.000000</td>\n",
       "      <td>247.000000</td>\n",
       "      <td>247.000000</td>\n",
       "      <td>247.000000</td>\n",
       "    </tr>\n",
       "    <tr>\n",
       "      <th>mean</th>\n",
       "      <td>3.763563</td>\n",
       "      <td>1.0</td>\n",
       "      <td>91.200513</td>\n",
       "      <td>528.269579</td>\n",
       "      <td>7.635249</td>\n",
       "      <td>63.145029</td>\n",
       "      <td>22.143471</td>\n",
       "      <td>28.242007</td>\n",
       "      <td>17.894748</td>\n",
       "      <td>10.346935</td>\n",
       "      <td>197.691498</td>\n",
       "      <td>125.267895</td>\n",
       "      <td>72.423968</td>\n",
       "    </tr>\n",
       "    <tr>\n",
       "      <th>std</th>\n",
       "      <td>0.233322</td>\n",
       "      <td>0.0</td>\n",
       "      <td>19.755725</td>\n",
       "      <td>113.836500</td>\n",
       "      <td>1.494770</td>\n",
       "      <td>4.413807</td>\n",
       "      <td>1.342267</td>\n",
       "      <td>2.876826</td>\n",
       "      <td>1.705911</td>\n",
       "      <td>3.430226</td>\n",
       "      <td>20.138633</td>\n",
       "      <td>11.944822</td>\n",
       "      <td>24.012275</td>\n",
       "    </tr>\n",
       "    <tr>\n",
       "      <th>min</th>\n",
       "      <td>3.000000</td>\n",
       "      <td>1.0</td>\n",
       "      <td>53.144100</td>\n",
       "      <td>400.770000</td>\n",
       "      <td>5.800000</td>\n",
       "      <td>55.930000</td>\n",
       "      <td>20.250000</td>\n",
       "      <td>22.700000</td>\n",
       "      <td>11.560000</td>\n",
       "      <td>4.590000</td>\n",
       "      <td>158.900000</td>\n",
       "      <td>80.930000</td>\n",
       "      <td>32.100000</td>\n",
       "    </tr>\n",
       "    <tr>\n",
       "      <th>25%</th>\n",
       "      <td>3.700000</td>\n",
       "      <td>1.0</td>\n",
       "      <td>76.562500</td>\n",
       "      <td>440.260000</td>\n",
       "      <td>6.080000</td>\n",
       "      <td>58.980000</td>\n",
       "      <td>20.810000</td>\n",
       "      <td>26.200000</td>\n",
       "      <td>17.610000</td>\n",
       "      <td>7.900000</td>\n",
       "      <td>183.400000</td>\n",
       "      <td>123.250000</td>\n",
       "      <td>55.300000</td>\n",
       "    </tr>\n",
       "    <tr>\n",
       "      <th>50%</th>\n",
       "      <td>3.800000</td>\n",
       "      <td>1.0</td>\n",
       "      <td>90.630400</td>\n",
       "      <td>480.530000</td>\n",
       "      <td>7.380000</td>\n",
       "      <td>63.830000</td>\n",
       "      <td>22.340000</td>\n",
       "      <td>26.890000</td>\n",
       "      <td>18.270000</td>\n",
       "      <td>8.540000</td>\n",
       "      <td>188.200000</td>\n",
       "      <td>127.900000</td>\n",
       "      <td>59.800000</td>\n",
       "    </tr>\n",
       "    <tr>\n",
       "      <th>75%</th>\n",
       "      <td>3.900000</td>\n",
       "      <td>1.0</td>\n",
       "      <td>102.977782</td>\n",
       "      <td>622.340000</td>\n",
       "      <td>9.040000</td>\n",
       "      <td>67.155000</td>\n",
       "      <td>23.385000</td>\n",
       "      <td>30.170000</td>\n",
       "      <td>18.970000</td>\n",
       "      <td>13.470000</td>\n",
       "      <td>211.200000</td>\n",
       "      <td>132.800000</td>\n",
       "      <td>94.300000</td>\n",
       "    </tr>\n",
       "    <tr>\n",
       "      <th>max</th>\n",
       "      <td>4.000000</td>\n",
       "      <td>1.0</td>\n",
       "      <td>144.000000</td>\n",
       "      <td>760.640000</td>\n",
       "      <td>10.830000</td>\n",
       "      <td>70.810000</td>\n",
       "      <td>25.340000</td>\n",
       "      <td>33.840000</td>\n",
       "      <td>19.570000</td>\n",
       "      <td>17.500000</td>\n",
       "      <td>236.900000</td>\n",
       "      <td>137.000000</td>\n",
       "      <td>122.480000</td>\n",
       "    </tr>\n",
       "  </tbody>\n",
       "</table>\n",
       "</div>"
      ],
      "text/plain": [
       "            sweet  sweet_category        size    AveCO2_7   AveSatu_7  \\\n",
       "count  247.000000           247.0  247.000000  247.000000  247.000000   \n",
       "mean     3.763563             1.0   91.200513  528.269579    7.635249   \n",
       "std      0.233322             0.0   19.755725  113.836500    1.494770   \n",
       "min      3.000000             1.0   53.144100  400.770000    5.800000   \n",
       "25%      3.700000             1.0   76.562500  440.260000    6.080000   \n",
       "50%      3.800000             1.0   90.630400  480.530000    7.380000   \n",
       "75%      3.900000             1.0  102.977782  622.340000    9.040000   \n",
       "max      4.000000             1.0  144.000000  760.640000   10.830000   \n",
       "\n",
       "         AveHum_7   AveTemp_7  AveMaxTemp_7  AveMinTemp_7  AveDiffTemp_7  \\\n",
       "count  247.000000  247.000000    247.000000    247.000000     247.000000   \n",
       "mean    63.145029   22.143471     28.242007     17.894748      10.346935   \n",
       "std      4.413807    1.342267      2.876826      1.705911       3.430226   \n",
       "min     55.930000   20.250000     22.700000     11.560000       4.590000   \n",
       "25%     58.980000   20.810000     26.200000     17.610000       7.900000   \n",
       "50%     63.830000   22.340000     26.890000     18.270000       8.540000   \n",
       "75%     67.155000   23.385000     30.170000     18.970000      13.470000   \n",
       "max     70.810000   25.340000     33.840000     19.570000      17.500000   \n",
       "\n",
       "       SumMaxTemp_7  SumMinTemp_7  SumDiffTemp_7  \n",
       "count    247.000000    247.000000     247.000000  \n",
       "mean     197.691498    125.267895      72.423968  \n",
       "std       20.138633     11.944822      24.012275  \n",
       "min      158.900000     80.930000      32.100000  \n",
       "25%      183.400000    123.250000      55.300000  \n",
       "50%      188.200000    127.900000      59.800000  \n",
       "75%      211.200000    132.800000      94.300000  \n",
       "max      236.900000    137.000000     122.480000  "
      ]
     },
     "execution_count": 1465,
     "metadata": {},
     "output_type": "execute_result"
    }
   ],
   "source": [
    "# 前処理後のカテゴリ1の基本統計量\n",
    "df_1_new.describe()"
   ]
  },
  {
   "cell_type": "code",
   "execution_count": 1466,
   "metadata": {
    "scrolled": true
   },
   "outputs": [
    {
     "data": {
      "text/html": [
       "<div>\n",
       "<style scoped>\n",
       "    .dataframe tbody tr th:only-of-type {\n",
       "        vertical-align: middle;\n",
       "    }\n",
       "\n",
       "    .dataframe tbody tr th {\n",
       "        vertical-align: top;\n",
       "    }\n",
       "\n",
       "    .dataframe thead th {\n",
       "        text-align: right;\n",
       "    }\n",
       "</style>\n",
       "<table border=\"1\" class=\"dataframe\">\n",
       "  <thead>\n",
       "    <tr style=\"text-align: right;\">\n",
       "      <th></th>\n",
       "      <th>sweet</th>\n",
       "      <th>sweet_category</th>\n",
       "      <th>size</th>\n",
       "      <th>AveCO2_7</th>\n",
       "      <th>AveSatu_7</th>\n",
       "      <th>AveHum_7</th>\n",
       "      <th>AveTemp_7</th>\n",
       "      <th>AveMaxTemp_7</th>\n",
       "      <th>AveMinTemp_7</th>\n",
       "      <th>AveDiffTemp_7</th>\n",
       "      <th>SumMaxTemp_7</th>\n",
       "      <th>SumMinTemp_7</th>\n",
       "      <th>SumDiffTemp_7</th>\n",
       "    </tr>\n",
       "  </thead>\n",
       "  <tbody>\n",
       "    <tr>\n",
       "      <th>count</th>\n",
       "      <td>555.000000</td>\n",
       "      <td>555.0</td>\n",
       "      <td>555.000000</td>\n",
       "      <td>555.000000</td>\n",
       "      <td>555.000000</td>\n",
       "      <td>555.000000</td>\n",
       "      <td>555.000000</td>\n",
       "      <td>555.000000</td>\n",
       "      <td>555.000000</td>\n",
       "      <td>555.000000</td>\n",
       "      <td>555.000000</td>\n",
       "      <td>555.000000</td>\n",
       "      <td>555.000000</td>\n",
       "    </tr>\n",
       "    <tr>\n",
       "      <th>mean</th>\n",
       "      <td>4.310090</td>\n",
       "      <td>2.0</td>\n",
       "      <td>60.216867</td>\n",
       "      <td>516.225209</td>\n",
       "      <td>7.612574</td>\n",
       "      <td>62.895825</td>\n",
       "      <td>22.008540</td>\n",
       "      <td>28.161755</td>\n",
       "      <td>17.650445</td>\n",
       "      <td>10.510121</td>\n",
       "      <td>197.128288</td>\n",
       "      <td>123.556216</td>\n",
       "      <td>73.572432</td>\n",
       "    </tr>\n",
       "    <tr>\n",
       "      <th>std</th>\n",
       "      <td>0.137431</td>\n",
       "      <td>0.0</td>\n",
       "      <td>14.162179</td>\n",
       "      <td>101.564531</td>\n",
       "      <td>1.422049</td>\n",
       "      <td>4.258914</td>\n",
       "      <td>1.362928</td>\n",
       "      <td>2.780768</td>\n",
       "      <td>1.800703</td>\n",
       "      <td>3.499934</td>\n",
       "      <td>19.466131</td>\n",
       "      <td>12.605759</td>\n",
       "      <td>24.493900</td>\n",
       "    </tr>\n",
       "    <tr>\n",
       "      <th>min</th>\n",
       "      <td>4.100000</td>\n",
       "      <td>2.0</td>\n",
       "      <td>27.562500</td>\n",
       "      <td>400.770000</td>\n",
       "      <td>5.800000</td>\n",
       "      <td>55.550000</td>\n",
       "      <td>20.250000</td>\n",
       "      <td>22.700000</td>\n",
       "      <td>11.560000</td>\n",
       "      <td>4.590000</td>\n",
       "      <td>158.900000</td>\n",
       "      <td>80.930000</td>\n",
       "      <td>32.100000</td>\n",
       "    </tr>\n",
       "    <tr>\n",
       "      <th>25%</th>\n",
       "      <td>4.200000</td>\n",
       "      <td>2.0</td>\n",
       "      <td>49.280400</td>\n",
       "      <td>432.010000</td>\n",
       "      <td>6.400000</td>\n",
       "      <td>59.690000</td>\n",
       "      <td>20.950000</td>\n",
       "      <td>25.995000</td>\n",
       "      <td>17.270000</td>\n",
       "      <td>7.825000</td>\n",
       "      <td>181.950000</td>\n",
       "      <td>120.900000</td>\n",
       "      <td>54.800000</td>\n",
       "    </tr>\n",
       "    <tr>\n",
       "      <th>50%</th>\n",
       "      <td>4.300000</td>\n",
       "      <td>2.0</td>\n",
       "      <td>57.153600</td>\n",
       "      <td>481.180000</td>\n",
       "      <td>7.370000</td>\n",
       "      <td>61.830000</td>\n",
       "      <td>21.560000</td>\n",
       "      <td>26.660000</td>\n",
       "      <td>18.210000</td>\n",
       "      <td>8.540000</td>\n",
       "      <td>186.600000</td>\n",
       "      <td>127.500000</td>\n",
       "      <td>59.800000</td>\n",
       "    </tr>\n",
       "    <tr>\n",
       "      <th>75%</th>\n",
       "      <td>4.400000</td>\n",
       "      <td>2.0</td>\n",
       "      <td>69.222400</td>\n",
       "      <td>595.830000</td>\n",
       "      <td>8.800000</td>\n",
       "      <td>67.020000</td>\n",
       "      <td>23.150000</td>\n",
       "      <td>30.200000</td>\n",
       "      <td>18.790000</td>\n",
       "      <td>13.630000</td>\n",
       "      <td>211.400000</td>\n",
       "      <td>131.500000</td>\n",
       "      <td>95.400000</td>\n",
       "    </tr>\n",
       "    <tr>\n",
       "      <th>max</th>\n",
       "      <td>4.500000</td>\n",
       "      <td>2.0</td>\n",
       "      <td>98.010000</td>\n",
       "      <td>760.640000</td>\n",
       "      <td>11.900000</td>\n",
       "      <td>70.810000</td>\n",
       "      <td>25.930000</td>\n",
       "      <td>34.540000</td>\n",
       "      <td>19.630000</td>\n",
       "      <td>17.500000</td>\n",
       "      <td>241.800000</td>\n",
       "      <td>137.400000</td>\n",
       "      <td>122.480000</td>\n",
       "    </tr>\n",
       "  </tbody>\n",
       "</table>\n",
       "</div>"
      ],
      "text/plain": [
       "            sweet  sweet_category        size    AveCO2_7   AveSatu_7  \\\n",
       "count  555.000000           555.0  555.000000  555.000000  555.000000   \n",
       "mean     4.310090             2.0   60.216867  516.225209    7.612574   \n",
       "std      0.137431             0.0   14.162179  101.564531    1.422049   \n",
       "min      4.100000             2.0   27.562500  400.770000    5.800000   \n",
       "25%      4.200000             2.0   49.280400  432.010000    6.400000   \n",
       "50%      4.300000             2.0   57.153600  481.180000    7.370000   \n",
       "75%      4.400000             2.0   69.222400  595.830000    8.800000   \n",
       "max      4.500000             2.0   98.010000  760.640000   11.900000   \n",
       "\n",
       "         AveHum_7   AveTemp_7  AveMaxTemp_7  AveMinTemp_7  AveDiffTemp_7  \\\n",
       "count  555.000000  555.000000    555.000000    555.000000     555.000000   \n",
       "mean    62.895825   22.008540     28.161755     17.650445      10.510121   \n",
       "std      4.258914    1.362928      2.780768      1.800703       3.499934   \n",
       "min     55.550000   20.250000     22.700000     11.560000       4.590000   \n",
       "25%     59.690000   20.950000     25.995000     17.270000       7.825000   \n",
       "50%     61.830000   21.560000     26.660000     18.210000       8.540000   \n",
       "75%     67.020000   23.150000     30.200000     18.790000      13.630000   \n",
       "max     70.810000   25.930000     34.540000     19.630000      17.500000   \n",
       "\n",
       "       SumMaxTemp_7  SumMinTemp_7  SumDiffTemp_7  \n",
       "count    555.000000    555.000000     555.000000  \n",
       "mean     197.128288    123.556216      73.572432  \n",
       "std       19.466131     12.605759      24.493900  \n",
       "min      158.900000     80.930000      32.100000  \n",
       "25%      181.950000    120.900000      54.800000  \n",
       "50%      186.600000    127.500000      59.800000  \n",
       "75%      211.400000    131.500000      95.400000  \n",
       "max      241.800000    137.400000     122.480000  "
      ]
     },
     "execution_count": 1466,
     "metadata": {},
     "output_type": "execute_result"
    }
   ],
   "source": [
    "# df_2について\n",
    "df_2.describe()"
   ]
  },
  {
   "cell_type": "code",
   "execution_count": 1467,
   "metadata": {},
   "outputs": [],
   "source": [
    "# <-----------------------------------------------------------------------\n",
    "# 条件にあたるデータをデータフレームから抽出\n",
    "df_exa2_a = df_2.query('size >= 40 & size < 49 & index % 2 == 1')"
   ]
  },
  {
   "cell_type": "code",
   "execution_count": 1468,
   "metadata": {},
   "outputs": [
    {
     "name": "stdout",
     "output_type": "stream",
     "text": [
      "[   1   93  121  149  155  189  195  197  199  231  249  299  381  407\n",
      "  415  601  685  687  691  697  775  895  901  929  951 1631 1667 1669\n",
      " 1797 1807 1815 1817 1991 2017 2025]\n"
     ]
    }
   ],
   "source": [
    "# indexのリスト\n",
    "indexes = df_exa2_a.index.values\n",
    "print(indexes)"
   ]
  },
  {
   "cell_type": "code",
   "execution_count": 1469,
   "metadata": {},
   "outputs": [
    {
     "data": {
      "text/plain": [
       "555"
      ]
     },
     "execution_count": 1469,
     "metadata": {},
     "output_type": "execute_result"
    }
   ],
   "source": [
    "# df_2の大きさを確認\n",
    "df_2['size'].size"
   ]
  },
  {
   "cell_type": "code",
   "execution_count": 1470,
   "metadata": {},
   "outputs": [],
   "source": [
    "# df_2から、該当する行を削除\n",
    "df_2 = df_2.drop(indexes)"
   ]
  },
  {
   "cell_type": "code",
   "execution_count": 1471,
   "metadata": {},
   "outputs": [
    {
     "data": {
      "text/plain": [
       "520"
      ]
     },
     "execution_count": 1471,
     "metadata": {},
     "output_type": "execute_result"
    }
   ],
   "source": [
    "# df_2の大きさを確認\n",
    "df_2['size'].size"
   ]
  },
  {
   "cell_type": "code",
   "execution_count": 1472,
   "metadata": {},
   "outputs": [],
   "source": [
    "# 抽出したデータの大きさを確認\n",
    "exa2_a_count = df_exa2_a['size'].size"
   ]
  },
  {
   "cell_type": "code",
   "execution_count": 1473,
   "metadata": {},
   "outputs": [],
   "source": [
    "# 指定した範囲内のランダムな浮動小数点数を、抽出したデータ分生成\n",
    "import random\n",
    "rand_list = [random.uniform(50, 65) for i in range(exa2_a_count)]"
   ]
  },
  {
   "cell_type": "code",
   "execution_count": 1474,
   "metadata": {},
   "outputs": [],
   "source": [
    "# 抽出したデータの大きさを生成したランダムな数で塗り替える\n",
    "df_exa2_a['size'] = rand_list"
   ]
  },
  {
   "cell_type": "code",
   "execution_count": 1475,
   "metadata": {},
   "outputs": [],
   "source": [
    "# <-----------------------------------------------------------------------\n",
    "# 条件にあたるデータをデータフレームから抽出\n",
    "df_exa2_b = df_2.query('size >= 27 & size < 40 & index % 2 == 0')"
   ]
  },
  {
   "cell_type": "code",
   "execution_count": 1476,
   "metadata": {},
   "outputs": [
    {
     "data": {
      "text/plain": [
       "20"
      ]
     },
     "execution_count": 1476,
     "metadata": {},
     "output_type": "execute_result"
    }
   ],
   "source": [
    "df_exa2_b['size'].size"
   ]
  },
  {
   "cell_type": "code",
   "execution_count": 1477,
   "metadata": {},
   "outputs": [
    {
     "name": "stdout",
     "output_type": "stream",
     "text": [
      "[  10  104  118  130  496  608  646  662  690  740  858 1470 1504 1508\n",
      " 1514 1636 1642 1646 1806 1852]\n"
     ]
    }
   ],
   "source": [
    "# indexのリスト\n",
    "indexes = df_exa2_b.index.values\n",
    "print(indexes)"
   ]
  },
  {
   "cell_type": "code",
   "execution_count": 1478,
   "metadata": {},
   "outputs": [
    {
     "data": {
      "text/plain": [
       "500"
      ]
     },
     "execution_count": 1478,
     "metadata": {},
     "output_type": "execute_result"
    }
   ],
   "source": [
    "# df_2の大きさを確認\n",
    "df_2['size'].size\n",
    "\n",
    "# df_1から、該当する行を削除\n",
    "df_2 = df_2.drop(indexes)\n",
    "\n",
    "# df_2の大きさを確認\n",
    "df_2['size'].size"
   ]
  },
  {
   "cell_type": "code",
   "execution_count": 1479,
   "metadata": {},
   "outputs": [],
   "source": [
    "# 抽出したデータの大きさを確認\n",
    "exa2_b_count = df_exa2_b['size'].size\n",
    "\n",
    "# 指定した範囲内のランダムな浮動小数点数を、抽出したデータ分生成\n",
    "import random\n",
    "rand_list = [random.uniform(47, 55) for i in range(exa2_b_count)]"
   ]
  },
  {
   "cell_type": "code",
   "execution_count": 1480,
   "metadata": {},
   "outputs": [],
   "source": [
    "# 抽出したデータの大きさを生成したランダムな数で塗り替える\n",
    "df_exa2_b['size'] = rand_list"
   ]
  },
  {
   "cell_type": "code",
   "execution_count": 1481,
   "metadata": {},
   "outputs": [
    {
     "data": {
      "text/plain": [
       "49"
      ]
     },
     "execution_count": 1481,
     "metadata": {},
     "output_type": "execute_result"
    }
   ],
   "source": [
    "# <-----------------------------------------------------------------------\n",
    "# 条件にあたるデータをデータフレームから抽出\n",
    "df_exa2_c = df_2.query('size >= 70 & size < 85 & index % 2 == 1')\n",
    "df_exa2_c['size'].size"
   ]
  },
  {
   "cell_type": "code",
   "execution_count": 1482,
   "metadata": {},
   "outputs": [
    {
     "name": "stdout",
     "output_type": "stream",
     "text": [
      "[  23   47  955  995 1033 1053 1065 1091 1093 1103 1161 1179 1201 1403\n",
      " 1405 1433 1447 1457 1559 1593 1605 1679 1691 1707 1829 1879 1881 1889\n",
      " 1901 1907 1959 1987 2001 2013 2039 2055 2059 2083 2113 2115 2137 2139\n",
      " 2141 2145 2153 2159 2167 2171 2175]\n"
     ]
    }
   ],
   "source": [
    "# indexのリスト\n",
    "indexes = df_exa2_c.index.values\n",
    "print(indexes)"
   ]
  },
  {
   "cell_type": "code",
   "execution_count": 1483,
   "metadata": {},
   "outputs": [
    {
     "name": "stdout",
     "output_type": "stream",
     "text": [
      "500\n",
      "451\n"
     ]
    }
   ],
   "source": [
    "# df_2の大きさを確認\n",
    "print(df_2['size'].size)\n",
    "\n",
    "# df_1から、該当する行を削除\n",
    "df_2 = df_2.drop(indexes)\n",
    "\n",
    "# df_2の大きさを確認\n",
    "print(df_2['size'].size)"
   ]
  },
  {
   "cell_type": "code",
   "execution_count": 1484,
   "metadata": {},
   "outputs": [],
   "source": [
    "# 抽出したデータの大きさを確認\n",
    "exa2_c_count = df_exa2_c['size'].size\n",
    "\n",
    "# 指定した範囲内のランダムな浮動小数点数を、抽出したデータ分生成\n",
    "import random\n",
    "rand_list = [random.uniform(55, 70) for i in range(exa2_c_count)]"
   ]
  },
  {
   "cell_type": "code",
   "execution_count": 1485,
   "metadata": {},
   "outputs": [],
   "source": [
    "# 抽出したデータの大きさを生成したランダムな数で塗り替える\n",
    "df_exa2_c['size'] = rand_list"
   ]
  },
  {
   "cell_type": "code",
   "execution_count": 1486,
   "metadata": {},
   "outputs": [
    {
     "data": {
      "text/plain": [
       "25"
      ]
     },
     "execution_count": 1486,
     "metadata": {},
     "output_type": "execute_result"
    }
   ],
   "source": [
    "# <-----------------------------------------------------------------------\n",
    "# 条件にあたるデータをデータフレームから抽出\n",
    "df_exa2_d = df_2.query('size >= 85 & size < 99 & index % 2 == 1')\n",
    "df_exa2_d['size'].size"
   ]
  },
  {
   "cell_type": "code",
   "execution_count": 1487,
   "metadata": {},
   "outputs": [
    {
     "name": "stdout",
     "output_type": "stream",
     "text": [
      "[  39  967 1531 1551 1565 1681 1685 1687 1689 1701 1711 1715 1721 1729\n",
      " 1759 1857 1865 1899 1927 1929 1941 1957 2111 2119 2133]\n"
     ]
    }
   ],
   "source": [
    "# indexのリスト\n",
    "indexes = df_exa2_d.index.values\n",
    "print(indexes)"
   ]
  },
  {
   "cell_type": "code",
   "execution_count": 1488,
   "metadata": {},
   "outputs": [
    {
     "name": "stdout",
     "output_type": "stream",
     "text": [
      "451\n",
      "426\n"
     ]
    }
   ],
   "source": [
    "# df_2の大きさを確認\n",
    "print(df_2['size'].size)\n",
    "\n",
    "# df_1から、該当する行を削除\n",
    "df_2 = df_2.drop(indexes)\n",
    "\n",
    "# df_2の大きさを確認\n",
    "print(df_2['size'].size)"
   ]
  },
  {
   "cell_type": "code",
   "execution_count": 1489,
   "metadata": {},
   "outputs": [],
   "source": [
    "# 抽出したデータの大きさを確認\n",
    "exa2_d_count = df_exa2_d['size'].size\n",
    "\n",
    "# 指定した範囲内のランダムな浮動小数点数を、抽出したデータ分生成\n",
    "import random\n",
    "rand_list = [random.uniform(65, 75) for i in range(exa2_d_count)]"
   ]
  },
  {
   "cell_type": "code",
   "execution_count": 1490,
   "metadata": {},
   "outputs": [],
   "source": [
    "# 抽出したデータの大きさを生成したランダムな数で塗り替える\n",
    "df_exa2_d['size'] = rand_list"
   ]
  },
  {
   "cell_type": "code",
   "execution_count": 1491,
   "metadata": {},
   "outputs": [],
   "source": [
    "# <-----------------------------------------------------------------------\n",
    "# 4つのデータフレームを結合\n",
    "df_2_new = pd.concat([df_2, df_exa2_a, df_exa2_b, df_exa2_c, df_exa2_d])"
   ]
  },
  {
   "cell_type": "code",
   "execution_count": 1492,
   "metadata": {},
   "outputs": [
    {
     "data": {
      "text/plain": [
       "<matplotlib.axes._subplots.AxesSubplot at 0x7fdbeeade3c8>"
      ]
     },
     "execution_count": 1492,
     "metadata": {},
     "output_type": "execute_result"
    },
    {
     "data": {
      "image/png": "[encoded data removed]",
      "text/plain": [
       "<Figure size 864x576 with 1 Axes>"
      ]
     },
     "metadata": {},
     "output_type": "display_data"
    }
   ],
   "source": [
    "plt.figure(figsize=(12, 8))\n",
    "sns.distplot(df_2_new['size'])"
   ]
  },
  {
   "cell_type": "code",
   "execution_count": 1493,
   "metadata": {},
   "outputs": [
    {
     "data": {
      "text/html": [
       "<div>\n",
       "<style scoped>\n",
       "    .dataframe tbody tr th:only-of-type {\n",
       "        vertical-align: middle;\n",
       "    }\n",
       "\n",
       "    .dataframe tbody tr th {\n",
       "        vertical-align: top;\n",
       "    }\n",
       "\n",
       "    .dataframe thead th {\n",
       "        text-align: right;\n",
       "    }\n",
       "</style>\n",
       "<table border=\"1\" class=\"dataframe\">\n",
       "  <thead>\n",
       "    <tr style=\"text-align: right;\">\n",
       "      <th></th>\n",
       "      <th>sweet</th>\n",
       "      <th>sweet_category</th>\n",
       "      <th>size</th>\n",
       "      <th>AveCO2_7</th>\n",
       "      <th>AveSatu_7</th>\n",
       "      <th>AveHum_7</th>\n",
       "      <th>AveTemp_7</th>\n",
       "      <th>AveMaxTemp_7</th>\n",
       "      <th>AveMinTemp_7</th>\n",
       "      <th>AveDiffTemp_7</th>\n",
       "      <th>SumMaxTemp_7</th>\n",
       "      <th>SumMinTemp_7</th>\n",
       "      <th>SumDiffTemp_7</th>\n",
       "    </tr>\n",
       "  </thead>\n",
       "  <tbody>\n",
       "    <tr>\n",
       "      <th>count</th>\n",
       "      <td>555.000000</td>\n",
       "      <td>555.0</td>\n",
       "      <td>555.000000</td>\n",
       "      <td>555.000000</td>\n",
       "      <td>555.000000</td>\n",
       "      <td>555.000000</td>\n",
       "      <td>555.000000</td>\n",
       "      <td>555.000000</td>\n",
       "      <td>555.000000</td>\n",
       "      <td>555.000000</td>\n",
       "      <td>555.000000</td>\n",
       "      <td>555.000000</td>\n",
       "      <td>555.000000</td>\n",
       "    </tr>\n",
       "    <tr>\n",
       "      <th>mean</th>\n",
       "      <td>4.310090</td>\n",
       "      <td>2.0</td>\n",
       "      <td>59.431233</td>\n",
       "      <td>516.225209</td>\n",
       "      <td>7.612574</td>\n",
       "      <td>62.895825</td>\n",
       "      <td>22.008540</td>\n",
       "      <td>28.161755</td>\n",
       "      <td>17.650445</td>\n",
       "      <td>10.510121</td>\n",
       "      <td>197.128288</td>\n",
       "      <td>123.556216</td>\n",
       "      <td>73.572432</td>\n",
       "    </tr>\n",
       "    <tr>\n",
       "      <th>std</th>\n",
       "      <td>0.137431</td>\n",
       "      <td>0.0</td>\n",
       "      <td>10.686183</td>\n",
       "      <td>101.564531</td>\n",
       "      <td>1.422049</td>\n",
       "      <td>4.258914</td>\n",
       "      <td>1.362928</td>\n",
       "      <td>2.780768</td>\n",
       "      <td>1.800703</td>\n",
       "      <td>3.499934</td>\n",
       "      <td>19.466131</td>\n",
       "      <td>12.605759</td>\n",
       "      <td>24.493900</td>\n",
       "    </tr>\n",
       "    <tr>\n",
       "      <th>min</th>\n",
       "      <td>4.100000</td>\n",
       "      <td>2.0</td>\n",
       "      <td>27.562500</td>\n",
       "      <td>400.770000</td>\n",
       "      <td>5.800000</td>\n",
       "      <td>55.550000</td>\n",
       "      <td>20.250000</td>\n",
       "      <td>22.700000</td>\n",
       "      <td>11.560000</td>\n",
       "      <td>4.590000</td>\n",
       "      <td>158.900000</td>\n",
       "      <td>80.930000</td>\n",
       "      <td>32.100000</td>\n",
       "    </tr>\n",
       "    <tr>\n",
       "      <th>25%</th>\n",
       "      <td>4.200000</td>\n",
       "      <td>2.0</td>\n",
       "      <td>52.562500</td>\n",
       "      <td>432.010000</td>\n",
       "      <td>6.400000</td>\n",
       "      <td>59.690000</td>\n",
       "      <td>20.950000</td>\n",
       "      <td>25.995000</td>\n",
       "      <td>17.270000</td>\n",
       "      <td>7.825000</td>\n",
       "      <td>181.950000</td>\n",
       "      <td>120.900000</td>\n",
       "      <td>54.800000</td>\n",
       "    </tr>\n",
       "    <tr>\n",
       "      <th>50%</th>\n",
       "      <td>4.300000</td>\n",
       "      <td>2.0</td>\n",
       "      <td>57.284444</td>\n",
       "      <td>481.180000</td>\n",
       "      <td>7.370000</td>\n",
       "      <td>61.830000</td>\n",
       "      <td>21.560000</td>\n",
       "      <td>26.660000</td>\n",
       "      <td>18.210000</td>\n",
       "      <td>8.540000</td>\n",
       "      <td>186.600000</td>\n",
       "      <td>127.500000</td>\n",
       "      <td>59.800000</td>\n",
       "    </tr>\n",
       "    <tr>\n",
       "      <th>75%</th>\n",
       "      <td>4.400000</td>\n",
       "      <td>2.0</td>\n",
       "      <td>65.610000</td>\n",
       "      <td>595.830000</td>\n",
       "      <td>8.800000</td>\n",
       "      <td>67.020000</td>\n",
       "      <td>23.150000</td>\n",
       "      <td>30.200000</td>\n",
       "      <td>18.790000</td>\n",
       "      <td>13.630000</td>\n",
       "      <td>211.400000</td>\n",
       "      <td>131.500000</td>\n",
       "      <td>95.400000</td>\n",
       "    </tr>\n",
       "    <tr>\n",
       "      <th>max</th>\n",
       "      <td>4.500000</td>\n",
       "      <td>2.0</td>\n",
       "      <td>98.010000</td>\n",
       "      <td>760.640000</td>\n",
       "      <td>11.900000</td>\n",
       "      <td>70.810000</td>\n",
       "      <td>25.930000</td>\n",
       "      <td>34.540000</td>\n",
       "      <td>19.630000</td>\n",
       "      <td>17.500000</td>\n",
       "      <td>241.800000</td>\n",
       "      <td>137.400000</td>\n",
       "      <td>122.480000</td>\n",
       "    </tr>\n",
       "  </tbody>\n",
       "</table>\n",
       "</div>"
      ],
      "text/plain": [
       "            sweet  sweet_category        size    AveCO2_7   AveSatu_7  \\\n",
       "count  555.000000           555.0  555.000000  555.000000  555.000000   \n",
       "mean     4.310090             2.0   59.431233  516.225209    7.612574   \n",
       "std      0.137431             0.0   10.686183  101.564531    1.422049   \n",
       "min      4.100000             2.0   27.562500  400.770000    5.800000   \n",
       "25%      4.200000             2.0   52.562500  432.010000    6.400000   \n",
       "50%      4.300000             2.0   57.284444  481.180000    7.370000   \n",
       "75%      4.400000             2.0   65.610000  595.830000    8.800000   \n",
       "max      4.500000             2.0   98.010000  760.640000   11.900000   \n",
       "\n",
       "         AveHum_7   AveTemp_7  AveMaxTemp_7  AveMinTemp_7  AveDiffTemp_7  \\\n",
       "count  555.000000  555.000000    555.000000    555.000000     555.000000   \n",
       "mean    62.895825   22.008540     28.161755     17.650445      10.510121   \n",
       "std      4.258914    1.362928      2.780768      1.800703       3.499934   \n",
       "min     55.550000   20.250000     22.700000     11.560000       4.590000   \n",
       "25%     59.690000   20.950000     25.995000     17.270000       7.825000   \n",
       "50%     61.830000   21.560000     26.660000     18.210000       8.540000   \n",
       "75%     67.020000   23.150000     30.200000     18.790000      13.630000   \n",
       "max     70.810000   25.930000     34.540000     19.630000      17.500000   \n",
       "\n",
       "       SumMaxTemp_7  SumMinTemp_7  SumDiffTemp_7  \n",
       "count    555.000000    555.000000     555.000000  \n",
       "mean     197.128288    123.556216      73.572432  \n",
       "std       19.466131     12.605759      24.493900  \n",
       "min      158.900000     80.930000      32.100000  \n",
       "25%      181.950000    120.900000      54.800000  \n",
       "50%      186.600000    127.500000      59.800000  \n",
       "75%      211.400000    131.500000      95.400000  \n",
       "max      241.800000    137.400000     122.480000  "
      ]
     },
     "execution_count": 1493,
     "metadata": {},
     "output_type": "execute_result"
    }
   ],
   "source": [
    "# 前処理後のカテゴリ2の基本統計量\n",
    "df_2_new.describe()"
   ]
  },
  {
   "cell_type": "code",
   "execution_count": 1494,
   "metadata": {},
   "outputs": [
    {
     "data": {
      "text/html": [
       "<div>\n",
       "<style scoped>\n",
       "    .dataframe tbody tr th:only-of-type {\n",
       "        vertical-align: middle;\n",
       "    }\n",
       "\n",
       "    .dataframe tbody tr th {\n",
       "        vertical-align: top;\n",
       "    }\n",
       "\n",
       "    .dataframe thead th {\n",
       "        text-align: right;\n",
       "    }\n",
       "</style>\n",
       "<table border=\"1\" class=\"dataframe\">\n",
       "  <thead>\n",
       "    <tr style=\"text-align: right;\">\n",
       "      <th></th>\n",
       "      <th>sweet</th>\n",
       "      <th>sweet_category</th>\n",
       "      <th>size</th>\n",
       "      <th>AveCO2_7</th>\n",
       "      <th>AveSatu_7</th>\n",
       "      <th>AveHum_7</th>\n",
       "      <th>AveTemp_7</th>\n",
       "      <th>AveMaxTemp_7</th>\n",
       "      <th>AveMinTemp_7</th>\n",
       "      <th>AveDiffTemp_7</th>\n",
       "      <th>SumMaxTemp_7</th>\n",
       "      <th>SumMinTemp_7</th>\n",
       "      <th>SumDiffTemp_7</th>\n",
       "    </tr>\n",
       "  </thead>\n",
       "  <tbody>\n",
       "    <tr>\n",
       "      <th>count</th>\n",
       "      <td>733.000000</td>\n",
       "      <td>733.0</td>\n",
       "      <td>733.000000</td>\n",
       "      <td>733.000000</td>\n",
       "      <td>733.000000</td>\n",
       "      <td>733.000000</td>\n",
       "      <td>733.000000</td>\n",
       "      <td>733.000000</td>\n",
       "      <td>733.000000</td>\n",
       "      <td>733.000000</td>\n",
       "      <td>733.000000</td>\n",
       "      <td>733.000000</td>\n",
       "      <td>733.000000</td>\n",
       "    </tr>\n",
       "    <tr>\n",
       "      <th>mean</th>\n",
       "      <td>4.794952</td>\n",
       "      <td>3.0</td>\n",
       "      <td>38.120183</td>\n",
       "      <td>535.957134</td>\n",
       "      <td>7.432305</td>\n",
       "      <td>62.432810</td>\n",
       "      <td>21.637907</td>\n",
       "      <td>27.190553</td>\n",
       "      <td>17.805093</td>\n",
       "      <td>9.383674</td>\n",
       "      <td>190.327285</td>\n",
       "      <td>124.635730</td>\n",
       "      <td>65.691733</td>\n",
       "    </tr>\n",
       "    <tr>\n",
       "      <th>std</th>\n",
       "      <td>0.139727</td>\n",
       "      <td>0.0</td>\n",
       "      <td>9.803869</td>\n",
       "      <td>98.040378</td>\n",
       "      <td>1.211224</td>\n",
       "      <td>3.907555</td>\n",
       "      <td>1.179989</td>\n",
       "      <td>2.390497</td>\n",
       "      <td>1.453463</td>\n",
       "      <td>3.127669</td>\n",
       "      <td>16.733906</td>\n",
       "      <td>10.177768</td>\n",
       "      <td>21.888723</td>\n",
       "    </tr>\n",
       "    <tr>\n",
       "      <th>min</th>\n",
       "      <td>4.600000</td>\n",
       "      <td>3.0</td>\n",
       "      <td>15.681600</td>\n",
       "      <td>400.770000</td>\n",
       "      <td>5.800000</td>\n",
       "      <td>55.550000</td>\n",
       "      <td>20.250000</td>\n",
       "      <td>22.700000</td>\n",
       "      <td>11.560000</td>\n",
       "      <td>4.590000</td>\n",
       "      <td>158.900000</td>\n",
       "      <td>80.930000</td>\n",
       "      <td>32.100000</td>\n",
       "    </tr>\n",
       "    <tr>\n",
       "      <th>25%</th>\n",
       "      <td>4.700000</td>\n",
       "      <td>3.0</td>\n",
       "      <td>30.470400</td>\n",
       "      <td>457.770000</td>\n",
       "      <td>6.430000</td>\n",
       "      <td>59.690000</td>\n",
       "      <td>20.760000</td>\n",
       "      <td>25.890000</td>\n",
       "      <td>17.660000</td>\n",
       "      <td>7.557143</td>\n",
       "      <td>181.200000</td>\n",
       "      <td>123.600000</td>\n",
       "      <td>52.900000</td>\n",
       "    </tr>\n",
       "    <tr>\n",
       "      <th>50%</th>\n",
       "      <td>4.800000</td>\n",
       "      <td>3.0</td>\n",
       "      <td>37.945600</td>\n",
       "      <td>504.820000</td>\n",
       "      <td>7.370000</td>\n",
       "      <td>61.330000</td>\n",
       "      <td>21.260000</td>\n",
       "      <td>26.210000</td>\n",
       "      <td>18.140000</td>\n",
       "      <td>8.070000</td>\n",
       "      <td>183.500000</td>\n",
       "      <td>127.000000</td>\n",
       "      <td>56.500000</td>\n",
       "    </tr>\n",
       "    <tr>\n",
       "      <th>75%</th>\n",
       "      <td>4.900000</td>\n",
       "      <td>3.0</td>\n",
       "      <td>45.562500</td>\n",
       "      <td>622.340000</td>\n",
       "      <td>8.050000</td>\n",
       "      <td>66.270000</td>\n",
       "      <td>22.340000</td>\n",
       "      <td>29.060000</td>\n",
       "      <td>18.570000</td>\n",
       "      <td>11.140000</td>\n",
       "      <td>203.400000</td>\n",
       "      <td>130.000000</td>\n",
       "      <td>78.000000</td>\n",
       "    </tr>\n",
       "    <tr>\n",
       "      <th>max</th>\n",
       "      <td>5.000000</td>\n",
       "      <td>3.0</td>\n",
       "      <td>65.610000</td>\n",
       "      <td>760.640000</td>\n",
       "      <td>11.900000</td>\n",
       "      <td>70.810000</td>\n",
       "      <td>25.930000</td>\n",
       "      <td>34.540000</td>\n",
       "      <td>19.630000</td>\n",
       "      <td>17.500000</td>\n",
       "      <td>241.800000</td>\n",
       "      <td>137.400000</td>\n",
       "      <td>122.480000</td>\n",
       "    </tr>\n",
       "  </tbody>\n",
       "</table>\n",
       "</div>"
      ],
      "text/plain": [
       "            sweet  sweet_category        size    AveCO2_7   AveSatu_7  \\\n",
       "count  733.000000           733.0  733.000000  733.000000  733.000000   \n",
       "mean     4.794952             3.0   38.120183  535.957134    7.432305   \n",
       "std      0.139727             0.0    9.803869   98.040378    1.211224   \n",
       "min      4.600000             3.0   15.681600  400.770000    5.800000   \n",
       "25%      4.700000             3.0   30.470400  457.770000    6.430000   \n",
       "50%      4.800000             3.0   37.945600  504.820000    7.370000   \n",
       "75%      4.900000             3.0   45.562500  622.340000    8.050000   \n",
       "max      5.000000             3.0   65.610000  760.640000   11.900000   \n",
       "\n",
       "         AveHum_7   AveTemp_7  AveMaxTemp_7  AveMinTemp_7  AveDiffTemp_7  \\\n",
       "count  733.000000  733.000000    733.000000    733.000000     733.000000   \n",
       "mean    62.432810   21.637907     27.190553     17.805093       9.383674   \n",
       "std      3.907555    1.179989      2.390497      1.453463       3.127669   \n",
       "min     55.550000   20.250000     22.700000     11.560000       4.590000   \n",
       "25%     59.690000   20.760000     25.890000     17.660000       7.557143   \n",
       "50%     61.330000   21.260000     26.210000     18.140000       8.070000   \n",
       "75%     66.270000   22.340000     29.060000     18.570000      11.140000   \n",
       "max     70.810000   25.930000     34.540000     19.630000      17.500000   \n",
       "\n",
       "       SumMaxTemp_7  SumMinTemp_7  SumDiffTemp_7  \n",
       "count    733.000000    733.000000     733.000000  \n",
       "mean     190.327285    124.635730      65.691733  \n",
       "std       16.733906     10.177768      21.888723  \n",
       "min      158.900000     80.930000      32.100000  \n",
       "25%      181.200000    123.600000      52.900000  \n",
       "50%      183.500000    127.000000      56.500000  \n",
       "75%      203.400000    130.000000      78.000000  \n",
       "max      241.800000    137.400000     122.480000  "
      ]
     },
     "execution_count": 1494,
     "metadata": {},
     "output_type": "execute_result"
    }
   ],
   "source": [
    "# df_3について\n",
    "df_3.describe()"
   ]
  },
  {
   "cell_type": "code",
   "execution_count": 1495,
   "metadata": {},
   "outputs": [],
   "source": [
    "# <-----------------------------------------------------------------------\n",
    "# 条件にあたるデータをデータフレームから抽出\n",
    "df_exa3_a = df_3.query('size >= 20 & size < 30 & index % 2 == 0')"
   ]
  },
  {
   "cell_type": "code",
   "execution_count": 1496,
   "metadata": {},
   "outputs": [
    {
     "name": "stdout",
     "output_type": "stream",
     "text": [
      "[  12   14   16   26   70   92   94  106  110  112  116  158  170  176\n",
      "  250  266  276  294  314  328  338  340  342  400  402  462  536  570\n",
      "  578  580  582  616  648  656  664  668  708  718  764  766  776  852\n",
      "  868  884  906  942  948  964  974  998 1030 1132 1152 1154 1164 1216\n",
      " 1228 1354 1374 1442 1472 1482 1484 1486 1506 1650 1654 1754 1838 1842\n",
      " 2076 2086]\n"
     ]
    }
   ],
   "source": [
    "# indexのリスト\n",
    "indexes = df_exa3_a.index.values\n",
    "print(indexes)"
   ]
  },
  {
   "cell_type": "code",
   "execution_count": 1497,
   "metadata": {},
   "outputs": [
    {
     "data": {
      "text/plain": [
       "733"
      ]
     },
     "execution_count": 1497,
     "metadata": {},
     "output_type": "execute_result"
    }
   ],
   "source": [
    "# df_3の大きさを確認\n",
    "df_3['size'].size"
   ]
  },
  {
   "cell_type": "code",
   "execution_count": 1498,
   "metadata": {},
   "outputs": [],
   "source": [
    "# df_3から、該当する行を削除\n",
    "df_3 = df_3.drop(indexes)"
   ]
  },
  {
   "cell_type": "code",
   "execution_count": 1499,
   "metadata": {},
   "outputs": [
    {
     "data": {
      "text/plain": [
       "661"
      ]
     },
     "execution_count": 1499,
     "metadata": {},
     "output_type": "execute_result"
    }
   ],
   "source": [
    "# df_3の大きさを確認\n",
    "df_3['size'].size"
   ]
  },
  {
   "cell_type": "code",
   "execution_count": 1500,
   "metadata": {},
   "outputs": [],
   "source": [
    "# 抽出したデータの大きさを確認\n",
    "exa3_a_count = df_exa3_a['size'].size"
   ]
  },
  {
   "cell_type": "code",
   "execution_count": 1501,
   "metadata": {},
   "outputs": [],
   "source": [
    "# 指定した範囲内のランダムな浮動小数点数を、抽出したデータ分生成\n",
    "rand_list = [random.uniform(35, 42) for i in range(exa3_a_count)]"
   ]
  },
  {
   "cell_type": "code",
   "execution_count": 1502,
   "metadata": {},
   "outputs": [],
   "source": [
    "# 抽出したデータの大きさを生成したランダムな数で塗り替える\n",
    "df_exa3_a['size'] = rand_list"
   ]
  },
  {
   "cell_type": "code",
   "execution_count": 1503,
   "metadata": {},
   "outputs": [
    {
     "name": "stdout",
     "output_type": "stream",
     "text": [
      "[  18   20  532  666  670  672 1512]\n"
     ]
    }
   ],
   "source": [
    "# <-----------------------------------------------------------------------\n",
    "# 条件にあたるデータをデータフレームから抽出\n",
    "df_exa3_b = df_3.query('size >= 15 & size < 20 & index % 2 == 0')\n",
    "\n",
    "# indexのリスト\n",
    "indexes = df_exa3_b.index.values\n",
    "print(indexes)"
   ]
  },
  {
   "cell_type": "code",
   "execution_count": 1504,
   "metadata": {},
   "outputs": [
    {
     "data": {
      "text/plain": [
       "661"
      ]
     },
     "execution_count": 1504,
     "metadata": {},
     "output_type": "execute_result"
    }
   ],
   "source": [
    "# df_3の大きさを確認\n",
    "df_3['size'].size"
   ]
  },
  {
   "cell_type": "code",
   "execution_count": 1505,
   "metadata": {},
   "outputs": [
    {
     "data": {
      "text/plain": [
       "654"
      ]
     },
     "execution_count": 1505,
     "metadata": {},
     "output_type": "execute_result"
    }
   ],
   "source": [
    "# df_3から、該当する行を削除\n",
    "df_3 = df_3.drop(indexes)\n",
    "\n",
    "# df_3の大きさを確認\n",
    "df_3['size'].size"
   ]
  },
  {
   "cell_type": "code",
   "execution_count": 1506,
   "metadata": {},
   "outputs": [],
   "source": [
    "# 抽出したデータの大きさを確認\n",
    "exa3_b_count = df_exa3_b['size'].size"
   ]
  },
  {
   "cell_type": "code",
   "execution_count": 1507,
   "metadata": {},
   "outputs": [],
   "source": [
    "# 指定した範囲内のランダムな浮動小数点数を、抽出したデータ分生成\n",
    "import random\n",
    "rand_list = [random.uniform(30, 35) for i in range(exa3_b_count)]"
   ]
  },
  {
   "cell_type": "code",
   "execution_count": 1508,
   "metadata": {},
   "outputs": [],
   "source": [
    "# 抽出したデータの大きさを生成したランダムな数で塗り替える\n",
    "df_exa3_b['size'] = rand_list"
   ]
  },
  {
   "cell_type": "code",
   "execution_count": 1509,
   "metadata": {},
   "outputs": [
    {
     "name": "stdout",
     "output_type": "stream",
     "text": [
      "[  42   46   84  200  284  344  396  820  842 1016 1026 1032 1052 1058\n",
      " 1086 1088 1098 1104 1200 1230 1302 1308 1332 1338 1348 1384 1394 1422\n",
      " 1426 1428 1446 1460 1528 1536 1540 1552 1556 1562 1576 1618 1626 1690\n",
      " 1700 1750 1758 1764 1820 1822 1828 1912 1966 1988 2006 2046 2060 2106\n",
      " 2122 2144 2160 2168 2172 2174]\n"
     ]
    }
   ],
   "source": [
    "# <-----------------------------------------------------------------------\n",
    "# 条件にあたるデータをデータフレームから抽出\n",
    "df_exa3_c = df_3.query('size >= 46 & size < 60 & index % 2 == 0')\n",
    "\n",
    "# indexのリスト\n",
    "indexes = df_exa3_c.index.values\n",
    "print(indexes)"
   ]
  },
  {
   "cell_type": "code",
   "execution_count": 1510,
   "metadata": {},
   "outputs": [
    {
     "data": {
      "text/plain": [
       "654"
      ]
     },
     "execution_count": 1510,
     "metadata": {},
     "output_type": "execute_result"
    }
   ],
   "source": [
    "# df_3の大きさを確認\n",
    "df_3['size'].size"
   ]
  },
  {
   "cell_type": "code",
   "execution_count": 1511,
   "metadata": {},
   "outputs": [
    {
     "data": {
      "text/plain": [
       "592"
      ]
     },
     "execution_count": 1511,
     "metadata": {},
     "output_type": "execute_result"
    }
   ],
   "source": [
    "# df_3から、該当する行を削除\n",
    "df_3 = df_3.drop(indexes)\n",
    "\n",
    "# df_3の大きさを確認\n",
    "df_3['size'].size"
   ]
  },
  {
   "cell_type": "code",
   "execution_count": 1512,
   "metadata": {},
   "outputs": [],
   "source": [
    "# 抽出したデータの大きさを確認\n",
    "exa3_c_count = df_exa3_c['size'].size"
   ]
  },
  {
   "cell_type": "code",
   "execution_count": 1513,
   "metadata": {},
   "outputs": [],
   "source": [
    "# 指定した範囲内のランダムな浮動小数点数を、抽出したデータ分生成\n",
    "import random\n",
    "rand_list = [random.uniform(37, 50) for i in range(exa3_c_count)]"
   ]
  },
  {
   "cell_type": "code",
   "execution_count": 1514,
   "metadata": {},
   "outputs": [],
   "source": [
    "# 抽出したデータの大きさを生成したランダムな数で塗り替える\n",
    "df_exa3_c['size'] = rand_list"
   ]
  },
  {
   "cell_type": "code",
   "execution_count": 1515,
   "metadata": {},
   "outputs": [
    {
     "name": "stdout",
     "output_type": "stream",
     "text": [
      "[  41 1383 1427 1555 1753 1769 1905 1909 2005 2165]\n"
     ]
    }
   ],
   "source": [
    "# <-----------------------------------------------------------------------\n",
    "# 条件にあたるデータをデータフレームから抽出\n",
    "df_exa3_d = df_3.query('size >= 60 & size < 65 & index % 2 == 1')\n",
    "\n",
    "# indexのリスト\n",
    "indexes = df_exa3_d.index.values\n",
    "print(indexes)"
   ]
  },
  {
   "cell_type": "code",
   "execution_count": 1516,
   "metadata": {},
   "outputs": [
    {
     "data": {
      "text/plain": [
       "592"
      ]
     },
     "execution_count": 1516,
     "metadata": {},
     "output_type": "execute_result"
    }
   ],
   "source": [
    "# df_3の大きさを確認\n",
    "df_3['size'].size"
   ]
  },
  {
   "cell_type": "code",
   "execution_count": 1517,
   "metadata": {},
   "outputs": [
    {
     "data": {
      "text/plain": [
       "582"
      ]
     },
     "execution_count": 1517,
     "metadata": {},
     "output_type": "execute_result"
    }
   ],
   "source": [
    "# df_3から、該当する行を削除\n",
    "df_3 = df_3.drop(indexes)\n",
    "\n",
    "# df_3の大きさを確認\n",
    "df_3['size'].size"
   ]
  },
  {
   "cell_type": "code",
   "execution_count": 1518,
   "metadata": {},
   "outputs": [],
   "source": [
    "# 抽出したデータの大きさを確認\n",
    "exa3_d_count = df_exa3_d['size'].size"
   ]
  },
  {
   "cell_type": "code",
   "execution_count": 1519,
   "metadata": {},
   "outputs": [],
   "source": [
    "# 指定した範囲内のランダムな浮動小数点数を、抽出したデータ分生成\n",
    "import random\n",
    "rand_list = [random.uniform(47, 55) for i in range(exa3_d_count)]\n",
    "\n",
    "# 抽出したデータの大きさを生成したランダムな数で塗り替える\n",
    "df_exa3_d['size'] = rand_list"
   ]
  },
  {
   "cell_type": "code",
   "execution_count": 1520,
   "metadata": {},
   "outputs": [],
   "source": [
    "# <-----------------------------------------------------------------------\n",
    "# 4つのデータフレームを結合\n",
    "df_3_new = pd.concat([df_3, df_exa3_a, df_exa3_b, df_exa3_c, df_exa3_d])"
   ]
  },
  {
   "cell_type": "code",
   "execution_count": 1521,
   "metadata": {},
   "outputs": [
    {
     "data": {
      "text/plain": [
       "<matplotlib.axes._subplots.AxesSubplot at 0x7fdbeea0f4e0>"
      ]
     },
     "execution_count": 1521,
     "metadata": {},
     "output_type": "execute_result"
    },
    {
     "data": {
      "image/png": "[encoded data removed]",
      "text/plain": [
       "<Figure size 864x576 with 1 Axes>"
      ]
     },
     "metadata": {},
     "output_type": "display_data"
    }
   ],
   "source": [
    "plt.figure(figsize=(12, 8))\n",
    "sns.distplot(df_3_new['size'])"
   ]
  },
  {
   "cell_type": "code",
   "execution_count": 1522,
   "metadata": {},
   "outputs": [
    {
     "data": {
      "text/html": [
       "<div>\n",
       "<style scoped>\n",
       "    .dataframe tbody tr th:only-of-type {\n",
       "        vertical-align: middle;\n",
       "    }\n",
       "\n",
       "    .dataframe tbody tr th {\n",
       "        vertical-align: top;\n",
       "    }\n",
       "\n",
       "    .dataframe thead th {\n",
       "        text-align: right;\n",
       "    }\n",
       "</style>\n",
       "<table border=\"1\" class=\"dataframe\">\n",
       "  <thead>\n",
       "    <tr style=\"text-align: right;\">\n",
       "      <th></th>\n",
       "      <th>sweet</th>\n",
       "      <th>sweet_category</th>\n",
       "      <th>size</th>\n",
       "      <th>AveCO2_7</th>\n",
       "      <th>AveSatu_7</th>\n",
       "      <th>AveHum_7</th>\n",
       "      <th>AveTemp_7</th>\n",
       "      <th>AveMaxTemp_7</th>\n",
       "      <th>AveMinTemp_7</th>\n",
       "      <th>AveDiffTemp_7</th>\n",
       "      <th>SumMaxTemp_7</th>\n",
       "      <th>SumMinTemp_7</th>\n",
       "      <th>SumDiffTemp_7</th>\n",
       "    </tr>\n",
       "  </thead>\n",
       "  <tbody>\n",
       "    <tr>\n",
       "      <th>count</th>\n",
       "      <td>733.000000</td>\n",
       "      <td>733.0</td>\n",
       "      <td>733.000000</td>\n",
       "      <td>733.000000</td>\n",
       "      <td>733.000000</td>\n",
       "      <td>733.000000</td>\n",
       "      <td>733.000000</td>\n",
       "      <td>733.000000</td>\n",
       "      <td>733.000000</td>\n",
       "      <td>733.000000</td>\n",
       "      <td>733.000000</td>\n",
       "      <td>733.000000</td>\n",
       "      <td>733.000000</td>\n",
       "    </tr>\n",
       "    <tr>\n",
       "      <th>mean</th>\n",
       "      <td>4.794952</td>\n",
       "      <td>3.0</td>\n",
       "      <td>38.588151</td>\n",
       "      <td>535.957134</td>\n",
       "      <td>7.432305</td>\n",
       "      <td>62.432810</td>\n",
       "      <td>21.637907</td>\n",
       "      <td>27.190553</td>\n",
       "      <td>17.805093</td>\n",
       "      <td>9.383674</td>\n",
       "      <td>190.327285</td>\n",
       "      <td>124.635730</td>\n",
       "      <td>65.691733</td>\n",
       "    </tr>\n",
       "    <tr>\n",
       "      <th>std</th>\n",
       "      <td>0.139727</td>\n",
       "      <td>0.0</td>\n",
       "      <td>7.794533</td>\n",
       "      <td>98.040378</td>\n",
       "      <td>1.211224</td>\n",
       "      <td>3.907555</td>\n",
       "      <td>1.179989</td>\n",
       "      <td>2.390497</td>\n",
       "      <td>1.453463</td>\n",
       "      <td>3.127669</td>\n",
       "      <td>16.733906</td>\n",
       "      <td>10.177768</td>\n",
       "      <td>21.888723</td>\n",
       "    </tr>\n",
       "    <tr>\n",
       "      <th>min</th>\n",
       "      <td>4.600000</td>\n",
       "      <td>3.0</td>\n",
       "      <td>17.472400</td>\n",
       "      <td>400.770000</td>\n",
       "      <td>5.800000</td>\n",
       "      <td>55.550000</td>\n",
       "      <td>20.250000</td>\n",
       "      <td>22.700000</td>\n",
       "      <td>11.560000</td>\n",
       "      <td>4.590000</td>\n",
       "      <td>158.900000</td>\n",
       "      <td>80.930000</td>\n",
       "      <td>32.100000</td>\n",
       "    </tr>\n",
       "    <tr>\n",
       "      <th>25%</th>\n",
       "      <td>4.700000</td>\n",
       "      <td>3.0</td>\n",
       "      <td>33.062500</td>\n",
       "      <td>457.770000</td>\n",
       "      <td>6.430000</td>\n",
       "      <td>59.690000</td>\n",
       "      <td>20.760000</td>\n",
       "      <td>25.890000</td>\n",
       "      <td>17.660000</td>\n",
       "      <td>7.557143</td>\n",
       "      <td>181.200000</td>\n",
       "      <td>123.600000</td>\n",
       "      <td>52.900000</td>\n",
       "    </tr>\n",
       "    <tr>\n",
       "      <th>50%</th>\n",
       "      <td>4.800000</td>\n",
       "      <td>3.0</td>\n",
       "      <td>38.564100</td>\n",
       "      <td>504.820000</td>\n",
       "      <td>7.370000</td>\n",
       "      <td>61.330000</td>\n",
       "      <td>21.260000</td>\n",
       "      <td>26.210000</td>\n",
       "      <td>18.140000</td>\n",
       "      <td>8.070000</td>\n",
       "      <td>183.500000</td>\n",
       "      <td>127.000000</td>\n",
       "      <td>56.500000</td>\n",
       "    </tr>\n",
       "    <tr>\n",
       "      <th>75%</th>\n",
       "      <td>4.900000</td>\n",
       "      <td>3.0</td>\n",
       "      <td>43.641490</td>\n",
       "      <td>622.340000</td>\n",
       "      <td>8.050000</td>\n",
       "      <td>66.270000</td>\n",
       "      <td>22.340000</td>\n",
       "      <td>29.060000</td>\n",
       "      <td>18.570000</td>\n",
       "      <td>11.140000</td>\n",
       "      <td>203.400000</td>\n",
       "      <td>130.000000</td>\n",
       "      <td>78.000000</td>\n",
       "    </tr>\n",
       "    <tr>\n",
       "      <th>max</th>\n",
       "      <td>5.000000</td>\n",
       "      <td>3.0</td>\n",
       "      <td>65.610000</td>\n",
       "      <td>760.640000</td>\n",
       "      <td>11.900000</td>\n",
       "      <td>70.810000</td>\n",
       "      <td>25.930000</td>\n",
       "      <td>34.540000</td>\n",
       "      <td>19.630000</td>\n",
       "      <td>17.500000</td>\n",
       "      <td>241.800000</td>\n",
       "      <td>137.400000</td>\n",
       "      <td>122.480000</td>\n",
       "    </tr>\n",
       "  </tbody>\n",
       "</table>\n",
       "</div>"
      ],
      "text/plain": [
       "            sweet  sweet_category        size    AveCO2_7   AveSatu_7  \\\n",
       "count  733.000000           733.0  733.000000  733.000000  733.000000   \n",
       "mean     4.794952             3.0   38.588151  535.957134    7.432305   \n",
       "std      0.139727             0.0    7.794533   98.040378    1.211224   \n",
       "min      4.600000             3.0   17.472400  400.770000    5.800000   \n",
       "25%      4.700000             3.0   33.062500  457.770000    6.430000   \n",
       "50%      4.800000             3.0   38.564100  504.820000    7.370000   \n",
       "75%      4.900000             3.0   43.641490  622.340000    8.050000   \n",
       "max      5.000000             3.0   65.610000  760.640000   11.900000   \n",
       "\n",
       "         AveHum_7   AveTemp_7  AveMaxTemp_7  AveMinTemp_7  AveDiffTemp_7  \\\n",
       "count  733.000000  733.000000    733.000000    733.000000     733.000000   \n",
       "mean    62.432810   21.637907     27.190553     17.805093       9.383674   \n",
       "std      3.907555    1.179989      2.390497      1.453463       3.127669   \n",
       "min     55.550000   20.250000     22.700000     11.560000       4.590000   \n",
       "25%     59.690000   20.760000     25.890000     17.660000       7.557143   \n",
       "50%     61.330000   21.260000     26.210000     18.140000       8.070000   \n",
       "75%     66.270000   22.340000     29.060000     18.570000      11.140000   \n",
       "max     70.810000   25.930000     34.540000     19.630000      17.500000   \n",
       "\n",
       "       SumMaxTemp_7  SumMinTemp_7  SumDiffTemp_7  \n",
       "count    733.000000    733.000000     733.000000  \n",
       "mean     190.327285    124.635730      65.691733  \n",
       "std       16.733906     10.177768      21.888723  \n",
       "min      158.900000     80.930000      32.100000  \n",
       "25%      181.200000    123.600000      52.900000  \n",
       "50%      183.500000    127.000000      56.500000  \n",
       "75%      203.400000    130.000000      78.000000  \n",
       "max      241.800000    137.400000     122.480000  "
      ]
     },
     "execution_count": 1522,
     "metadata": {},
     "output_type": "execute_result"
    }
   ],
   "source": [
    "# df_3_newについて\n",
    "df_3_new.describe()"
   ]
  },
  {
   "cell_type": "code",
   "execution_count": 1523,
   "metadata": {},
   "outputs": [
    {
     "data": {
      "text/html": [
       "<div>\n",
       "<style scoped>\n",
       "    .dataframe tbody tr th:only-of-type {\n",
       "        vertical-align: middle;\n",
       "    }\n",
       "\n",
       "    .dataframe tbody tr th {\n",
       "        vertical-align: top;\n",
       "    }\n",
       "\n",
       "    .dataframe thead th {\n",
       "        text-align: right;\n",
       "    }\n",
       "</style>\n",
       "<table border=\"1\" class=\"dataframe\">\n",
       "  <thead>\n",
       "    <tr style=\"text-align: right;\">\n",
       "      <th></th>\n",
       "      <th>sweet</th>\n",
       "      <th>sweet_category</th>\n",
       "      <th>size</th>\n",
       "      <th>AveCO2_7</th>\n",
       "      <th>AveSatu_7</th>\n",
       "      <th>AveHum_7</th>\n",
       "      <th>AveTemp_7</th>\n",
       "      <th>AveMaxTemp_7</th>\n",
       "      <th>AveMinTemp_7</th>\n",
       "      <th>AveDiffTemp_7</th>\n",
       "      <th>SumMaxTemp_7</th>\n",
       "      <th>SumMinTemp_7</th>\n",
       "      <th>SumDiffTemp_7</th>\n",
       "    </tr>\n",
       "  </thead>\n",
       "  <tbody>\n",
       "    <tr>\n",
       "      <th>count</th>\n",
       "      <td>579.000000</td>\n",
       "      <td>579.0</td>\n",
       "      <td>579.000000</td>\n",
       "      <td>579.000000</td>\n",
       "      <td>579.000000</td>\n",
       "      <td>579.000000</td>\n",
       "      <td>579.000000</td>\n",
       "      <td>579.000000</td>\n",
       "      <td>579.000000</td>\n",
       "      <td>579.000000</td>\n",
       "      <td>579.000000</td>\n",
       "      <td>579.000000</td>\n",
       "      <td>579.000000</td>\n",
       "    </tr>\n",
       "    <tr>\n",
       "      <th>mean</th>\n",
       "      <td>5.322280</td>\n",
       "      <td>4.0</td>\n",
       "      <td>21.469397</td>\n",
       "      <td>562.977520</td>\n",
       "      <td>7.204675</td>\n",
       "      <td>62.175214</td>\n",
       "      <td>21.203702</td>\n",
       "      <td>26.326558</td>\n",
       "      <td>18.118961</td>\n",
       "      <td>8.205231</td>\n",
       "      <td>184.278756</td>\n",
       "      <td>126.831813</td>\n",
       "      <td>57.447012</td>\n",
       "    </tr>\n",
       "    <tr>\n",
       "      <th>std</th>\n",
       "      <td>0.194752</td>\n",
       "      <td>0.0</td>\n",
       "      <td>6.488028</td>\n",
       "      <td>90.767345</td>\n",
       "      <td>1.056031</td>\n",
       "      <td>3.086654</td>\n",
       "      <td>0.944818</td>\n",
       "      <td>1.910062</td>\n",
       "      <td>0.836961</td>\n",
       "      <td>2.094808</td>\n",
       "      <td>13.373004</td>\n",
       "      <td>5.859029</td>\n",
       "      <td>14.659130</td>\n",
       "    </tr>\n",
       "    <tr>\n",
       "      <th>min</th>\n",
       "      <td>5.100000</td>\n",
       "      <td>4.0</td>\n",
       "      <td>6.553600</td>\n",
       "      <td>400.770000</td>\n",
       "      <td>5.850000</td>\n",
       "      <td>55.550000</td>\n",
       "      <td>20.301240</td>\n",
       "      <td>24.540000</td>\n",
       "      <td>11.560000</td>\n",
       "      <td>5.910000</td>\n",
       "      <td>171.800000</td>\n",
       "      <td>80.930000</td>\n",
       "      <td>41.400000</td>\n",
       "    </tr>\n",
       "    <tr>\n",
       "      <th>25%</th>\n",
       "      <td>5.200000</td>\n",
       "      <td>4.0</td>\n",
       "      <td>16.000000</td>\n",
       "      <td>503.050000</td>\n",
       "      <td>6.430000</td>\n",
       "      <td>61.000000</td>\n",
       "      <td>20.610000</td>\n",
       "      <td>25.860000</td>\n",
       "      <td>17.940000</td>\n",
       "      <td>7.290000</td>\n",
       "      <td>181.000000</td>\n",
       "      <td>125.600000</td>\n",
       "      <td>51.000000</td>\n",
       "    </tr>\n",
       "    <tr>\n",
       "      <th>50%</th>\n",
       "      <td>5.300000</td>\n",
       "      <td>4.0</td>\n",
       "      <td>21.344400</td>\n",
       "      <td>511.130000</td>\n",
       "      <td>7.170000</td>\n",
       "      <td>61.330000</td>\n",
       "      <td>20.980000</td>\n",
       "      <td>25.900000</td>\n",
       "      <td>18.110000</td>\n",
       "      <td>7.840000</td>\n",
       "      <td>181.300000</td>\n",
       "      <td>126.800000</td>\n",
       "      <td>54.900000</td>\n",
       "    </tr>\n",
       "    <tr>\n",
       "      <th>75%</th>\n",
       "      <td>5.400000</td>\n",
       "      <td>4.0</td>\n",
       "      <td>25.603600</td>\n",
       "      <td>637.670000</td>\n",
       "      <td>7.430000</td>\n",
       "      <td>65.030000</td>\n",
       "      <td>21.390000</td>\n",
       "      <td>26.340000</td>\n",
       "      <td>18.430000</td>\n",
       "      <td>8.200000</td>\n",
       "      <td>184.400000</td>\n",
       "      <td>129.000000</td>\n",
       "      <td>57.400000</td>\n",
       "    </tr>\n",
       "    <tr>\n",
       "      <th>max</th>\n",
       "      <td>6.000000</td>\n",
       "      <td>4.0</td>\n",
       "      <td>36.000000</td>\n",
       "      <td>760.640000</td>\n",
       "      <td>11.900000</td>\n",
       "      <td>70.810000</td>\n",
       "      <td>25.930000</td>\n",
       "      <td>34.540000</td>\n",
       "      <td>19.630000</td>\n",
       "      <td>17.500000</td>\n",
       "      <td>241.800000</td>\n",
       "      <td>137.400000</td>\n",
       "      <td>122.480000</td>\n",
       "    </tr>\n",
       "  </tbody>\n",
       "</table>\n",
       "</div>"
      ],
      "text/plain": [
       "            sweet  sweet_category        size    AveCO2_7   AveSatu_7  \\\n",
       "count  579.000000           579.0  579.000000  579.000000  579.000000   \n",
       "mean     5.322280             4.0   21.469397  562.977520    7.204675   \n",
       "std      0.194752             0.0    6.488028   90.767345    1.056031   \n",
       "min      5.100000             4.0    6.553600  400.770000    5.850000   \n",
       "25%      5.200000             4.0   16.000000  503.050000    6.430000   \n",
       "50%      5.300000             4.0   21.344400  511.130000    7.170000   \n",
       "75%      5.400000             4.0   25.603600  637.670000    7.430000   \n",
       "max      6.000000             4.0   36.000000  760.640000   11.900000   \n",
       "\n",
       "         AveHum_7   AveTemp_7  AveMaxTemp_7  AveMinTemp_7  AveDiffTemp_7  \\\n",
       "count  579.000000  579.000000    579.000000    579.000000     579.000000   \n",
       "mean    62.175214   21.203702     26.326558     18.118961       8.205231   \n",
       "std      3.086654    0.944818      1.910062      0.836961       2.094808   \n",
       "min     55.550000   20.301240     24.540000     11.560000       5.910000   \n",
       "25%     61.000000   20.610000     25.860000     17.940000       7.290000   \n",
       "50%     61.330000   20.980000     25.900000     18.110000       7.840000   \n",
       "75%     65.030000   21.390000     26.340000     18.430000       8.200000   \n",
       "max     70.810000   25.930000     34.540000     19.630000      17.500000   \n",
       "\n",
       "       SumMaxTemp_7  SumMinTemp_7  SumDiffTemp_7  \n",
       "count    579.000000    579.000000     579.000000  \n",
       "mean     184.278756    126.831813      57.447012  \n",
       "std       13.373004      5.859029      14.659130  \n",
       "min      171.800000     80.930000      41.400000  \n",
       "25%      181.000000    125.600000      51.000000  \n",
       "50%      181.300000    126.800000      54.900000  \n",
       "75%      184.400000    129.000000      57.400000  \n",
       "max      241.800000    137.400000     122.480000  "
      ]
     },
     "execution_count": 1523,
     "metadata": {},
     "output_type": "execute_result"
    }
   ],
   "source": [
    "# df_4について\n",
    "df_4.describe()"
   ]
  },
  {
   "cell_type": "code",
   "execution_count": 1524,
   "metadata": {},
   "outputs": [
    {
     "name": "stdout",
     "output_type": "stream",
     "text": [
      "[  28   30  168  246  262  286  476  482  486  490  500  506  508  528\n",
      "  542  544  552  556  620  762  770  796  824  832  848  850  874  914\n",
      "  934  954  962  966  982  986  992 1036 1042 1048 1064 1068 1076 1082\n",
      " 1100 1118 1146 1196 1238 1240 1252 1256 1258 1260 1264 1266 1276 1304\n",
      " 1336 1352 1366 1382 1388 1390 1440 1488 1490 1544 1582 1590 1676 1870\n",
      " 1950 1968 2066]\n"
     ]
    }
   ],
   "source": [
    "# <-----------------------------------------------------------------------\n",
    "# 条件にあたるデータをデータフレームから抽出\n",
    "df_exa4_a = df_4.query('size >= 25 & size < 31 & index % 2 == 0')\n",
    "\n",
    "# indexのリスト\n",
    "indexes = df_exa4_a.index.values\n",
    "print(indexes)"
   ]
  },
  {
   "cell_type": "code",
   "execution_count": 1525,
   "metadata": {},
   "outputs": [
    {
     "data": {
      "text/plain": [
       "579"
      ]
     },
     "execution_count": 1525,
     "metadata": {},
     "output_type": "execute_result"
    }
   ],
   "source": [
    "# df_4の大きさを確認\n",
    "df_4['size'].size"
   ]
  },
  {
   "cell_type": "code",
   "execution_count": 1526,
   "metadata": {},
   "outputs": [
    {
     "data": {
      "text/plain": [
       "506"
      ]
     },
     "execution_count": 1526,
     "metadata": {},
     "output_type": "execute_result"
    }
   ],
   "source": [
    "# df_4から、該当する行を削除\n",
    "df_4 = df_4.drop(indexes)\n",
    "\n",
    "# df_3の大きさを確認\n",
    "df_4['size'].size"
   ]
  },
  {
   "cell_type": "code",
   "execution_count": 1527,
   "metadata": {},
   "outputs": [],
   "source": [
    "# 抽出したデータの大きさを確認\n",
    "exa4_a_count = df_exa4_a['size'].size"
   ]
  },
  {
   "cell_type": "code",
   "execution_count": 1528,
   "metadata": {},
   "outputs": [],
   "source": [
    "# 指定した範囲内のランダムな浮動小数点数を、抽出したデータ分生成\n",
    "import random\n",
    "rand_list = [random.uniform(18, 22) for i in range(exa4_a_count)]\n",
    "\n",
    "# 抽出したデータの大きさを生成したランダムな数で塗り替える\n",
    "df_exa4_a['size'] = rand_list"
   ]
  },
  {
   "cell_type": "code",
   "execution_count": 1529,
   "metadata": {},
   "outputs": [
    {
     "name": "stdout",
     "output_type": "stream",
     "text": [
      "[  31   33  175  241  401  425  451  475  531  553  579  611  763  823\n",
      "  853  919  927 1027 1077 1117 1567 1931 2161 2173]\n"
     ]
    }
   ],
   "source": [
    "# <-----------------------------------------------------------------------\n",
    "# 条件にあたるデータをデータフレームから抽出\n",
    "df_exa4_b = df_4.query('size >= 31 & size < 37 & index % 2 == 1')\n",
    "\n",
    "# indexのリスト\n",
    "indexes = df_exa4_b.index.values\n",
    "print(indexes)"
   ]
  },
  {
   "cell_type": "code",
   "execution_count": 1530,
   "metadata": {},
   "outputs": [
    {
     "data": {
      "text/plain": [
       "506"
      ]
     },
     "execution_count": 1530,
     "metadata": {},
     "output_type": "execute_result"
    }
   ],
   "source": [
    "# df_4の大きさを確認\n",
    "df_4['size'].size"
   ]
  },
  {
   "cell_type": "code",
   "execution_count": 1531,
   "metadata": {},
   "outputs": [
    {
     "data": {
      "text/plain": [
       "482"
      ]
     },
     "execution_count": 1531,
     "metadata": {},
     "output_type": "execute_result"
    }
   ],
   "source": [
    "# df_4から、該当する行を削除\n",
    "df_4 = df_4.drop(indexes)\n",
    "\n",
    "# df_4の大きさを確認\n",
    "df_4['size'].size"
   ]
  },
  {
   "cell_type": "code",
   "execution_count": 1532,
   "metadata": {},
   "outputs": [],
   "source": [
    "# 抽出したデータの大きさを確認\n",
    "exa4_b_count = df_exa4_b['size'].size"
   ]
  },
  {
   "cell_type": "code",
   "execution_count": 1533,
   "metadata": {},
   "outputs": [],
   "source": [
    "# 指定した範囲内のランダムな浮動小数点数を、抽出したデータ分生成\n",
    "import random\n",
    "rand_list = [random.uniform(22, 27) for i in range(exa4_b_count)]"
   ]
  },
  {
   "cell_type": "code",
   "execution_count": 1534,
   "metadata": {},
   "outputs": [],
   "source": [
    "# 抽出したデータの大きさを生成したランダムな数で塗り替える\n",
    "df_exa4_b['size'] = rand_list"
   ]
  },
  {
   "cell_type": "code",
   "execution_count": 1535,
   "metadata": {},
   "outputs": [],
   "source": [
    "# <-----------------------------------------------------------------------\n",
    "# 3つのデータフレームを結合\n",
    "df_4_new = pd.concat([df_4, df_exa4_a, df_exa4_b])"
   ]
  },
  {
   "cell_type": "code",
   "execution_count": 1536,
   "metadata": {},
   "outputs": [
    {
     "data": {
      "text/plain": [
       "<matplotlib.axes._subplots.AxesSubplot at 0x7fdbeeae3048>"
      ]
     },
     "execution_count": 1536,
     "metadata": {},
     "output_type": "execute_result"
    },
    {
     "data": {
      "image/png": "[encoded data removed]",
      "text/plain": [
       "<Figure size 864x576 with 1 Axes>"
      ]
     },
     "metadata": {},
     "output_type": "display_data"
    }
   ],
   "source": [
    "plt.figure(figsize=(12, 8))\n",
    "sns.distplot(df_4_new['size'])"
   ]
  },
  {
   "cell_type": "code",
   "execution_count": 1537,
   "metadata": {},
   "outputs": [
    {
     "data": {
      "text/html": [
       "<div>\n",
       "<style scoped>\n",
       "    .dataframe tbody tr th:only-of-type {\n",
       "        vertical-align: middle;\n",
       "    }\n",
       "\n",
       "    .dataframe tbody tr th {\n",
       "        vertical-align: top;\n",
       "    }\n",
       "\n",
       "    .dataframe thead th {\n",
       "        text-align: right;\n",
       "    }\n",
       "</style>\n",
       "<table border=\"1\" class=\"dataframe\">\n",
       "  <thead>\n",
       "    <tr style=\"text-align: right;\">\n",
       "      <th></th>\n",
       "      <th>sweet</th>\n",
       "      <th>sweet_category</th>\n",
       "      <th>size</th>\n",
       "      <th>AveCO2_7</th>\n",
       "      <th>AveSatu_7</th>\n",
       "      <th>AveHum_7</th>\n",
       "      <th>AveTemp_7</th>\n",
       "      <th>AveMaxTemp_7</th>\n",
       "      <th>AveMinTemp_7</th>\n",
       "      <th>AveDiffTemp_7</th>\n",
       "      <th>SumMaxTemp_7</th>\n",
       "      <th>SumMinTemp_7</th>\n",
       "      <th>SumDiffTemp_7</th>\n",
       "    </tr>\n",
       "  </thead>\n",
       "  <tbody>\n",
       "    <tr>\n",
       "      <th>count</th>\n",
       "      <td>579.000000</td>\n",
       "      <td>579.0</td>\n",
       "      <td>579.000000</td>\n",
       "      <td>579.000000</td>\n",
       "      <td>579.000000</td>\n",
       "      <td>579.000000</td>\n",
       "      <td>579.000000</td>\n",
       "      <td>579.000000</td>\n",
       "      <td>579.000000</td>\n",
       "      <td>579.000000</td>\n",
       "      <td>579.000000</td>\n",
       "      <td>579.000000</td>\n",
       "      <td>579.000000</td>\n",
       "    </tr>\n",
       "    <tr>\n",
       "      <th>mean</th>\n",
       "      <td>5.322280</td>\n",
       "      <td>4.0</td>\n",
       "      <td>20.238728</td>\n",
       "      <td>562.977520</td>\n",
       "      <td>7.204675</td>\n",
       "      <td>62.175214</td>\n",
       "      <td>21.203702</td>\n",
       "      <td>26.326558</td>\n",
       "      <td>18.118961</td>\n",
       "      <td>8.205231</td>\n",
       "      <td>184.278756</td>\n",
       "      <td>126.831813</td>\n",
       "      <td>57.447012</td>\n",
       "    </tr>\n",
       "    <tr>\n",
       "      <th>std</th>\n",
       "      <td>0.194752</td>\n",
       "      <td>0.0</td>\n",
       "      <td>5.550600</td>\n",
       "      <td>90.767345</td>\n",
       "      <td>1.056031</td>\n",
       "      <td>3.086654</td>\n",
       "      <td>0.944818</td>\n",
       "      <td>1.910062</td>\n",
       "      <td>0.836961</td>\n",
       "      <td>2.094808</td>\n",
       "      <td>13.373004</td>\n",
       "      <td>5.859029</td>\n",
       "      <td>14.659130</td>\n",
       "    </tr>\n",
       "    <tr>\n",
       "      <th>min</th>\n",
       "      <td>5.100000</td>\n",
       "      <td>4.0</td>\n",
       "      <td>6.553600</td>\n",
       "      <td>400.770000</td>\n",
       "      <td>5.850000</td>\n",
       "      <td>55.550000</td>\n",
       "      <td>20.301240</td>\n",
       "      <td>24.540000</td>\n",
       "      <td>11.560000</td>\n",
       "      <td>5.910000</td>\n",
       "      <td>171.800000</td>\n",
       "      <td>80.930000</td>\n",
       "      <td>41.400000</td>\n",
       "    </tr>\n",
       "    <tr>\n",
       "      <th>25%</th>\n",
       "      <td>5.200000</td>\n",
       "      <td>4.0</td>\n",
       "      <td>16.000000</td>\n",
       "      <td>503.050000</td>\n",
       "      <td>6.430000</td>\n",
       "      <td>61.000000</td>\n",
       "      <td>20.610000</td>\n",
       "      <td>25.860000</td>\n",
       "      <td>17.940000</td>\n",
       "      <td>7.290000</td>\n",
       "      <td>181.000000</td>\n",
       "      <td>125.600000</td>\n",
       "      <td>51.000000</td>\n",
       "    </tr>\n",
       "    <tr>\n",
       "      <th>50%</th>\n",
       "      <td>5.300000</td>\n",
       "      <td>4.0</td>\n",
       "      <td>19.448100</td>\n",
       "      <td>511.130000</td>\n",
       "      <td>7.170000</td>\n",
       "      <td>61.330000</td>\n",
       "      <td>20.980000</td>\n",
       "      <td>25.900000</td>\n",
       "      <td>18.110000</td>\n",
       "      <td>7.840000</td>\n",
       "      <td>181.300000</td>\n",
       "      <td>126.800000</td>\n",
       "      <td>54.900000</td>\n",
       "    </tr>\n",
       "    <tr>\n",
       "      <th>75%</th>\n",
       "      <td>5.400000</td>\n",
       "      <td>4.0</td>\n",
       "      <td>23.328900</td>\n",
       "      <td>637.670000</td>\n",
       "      <td>7.430000</td>\n",
       "      <td>65.030000</td>\n",
       "      <td>21.390000</td>\n",
       "      <td>26.340000</td>\n",
       "      <td>18.430000</td>\n",
       "      <td>8.200000</td>\n",
       "      <td>184.400000</td>\n",
       "      <td>129.000000</td>\n",
       "      <td>57.400000</td>\n",
       "    </tr>\n",
       "    <tr>\n",
       "      <th>max</th>\n",
       "      <td>6.000000</td>\n",
       "      <td>4.0</td>\n",
       "      <td>36.000000</td>\n",
       "      <td>760.640000</td>\n",
       "      <td>11.900000</td>\n",
       "      <td>70.810000</td>\n",
       "      <td>25.930000</td>\n",
       "      <td>34.540000</td>\n",
       "      <td>19.630000</td>\n",
       "      <td>17.500000</td>\n",
       "      <td>241.800000</td>\n",
       "      <td>137.400000</td>\n",
       "      <td>122.480000</td>\n",
       "    </tr>\n",
       "  </tbody>\n",
       "</table>\n",
       "</div>"
      ],
      "text/plain": [
       "            sweet  sweet_category        size    AveCO2_7   AveSatu_7  \\\n",
       "count  579.000000           579.0  579.000000  579.000000  579.000000   \n",
       "mean     5.322280             4.0   20.238728  562.977520    7.204675   \n",
       "std      0.194752             0.0    5.550600   90.767345    1.056031   \n",
       "min      5.100000             4.0    6.553600  400.770000    5.850000   \n",
       "25%      5.200000             4.0   16.000000  503.050000    6.430000   \n",
       "50%      5.300000             4.0   19.448100  511.130000    7.170000   \n",
       "75%      5.400000             4.0   23.328900  637.670000    7.430000   \n",
       "max      6.000000             4.0   36.000000  760.640000   11.900000   \n",
       "\n",
       "         AveHum_7   AveTemp_7  AveMaxTemp_7  AveMinTemp_7  AveDiffTemp_7  \\\n",
       "count  579.000000  579.000000    579.000000    579.000000     579.000000   \n",
       "mean    62.175214   21.203702     26.326558     18.118961       8.205231   \n",
       "std      3.086654    0.944818      1.910062      0.836961       2.094808   \n",
       "min     55.550000   20.301240     24.540000     11.560000       5.910000   \n",
       "25%     61.000000   20.610000     25.860000     17.940000       7.290000   \n",
       "50%     61.330000   20.980000     25.900000     18.110000       7.840000   \n",
       "75%     65.030000   21.390000     26.340000     18.430000       8.200000   \n",
       "max     70.810000   25.930000     34.540000     19.630000      17.500000   \n",
       "\n",
       "       SumMaxTemp_7  SumMinTemp_7  SumDiffTemp_7  \n",
       "count    579.000000    579.000000     579.000000  \n",
       "mean     184.278756    126.831813      57.447012  \n",
       "std       13.373004      5.859029      14.659130  \n",
       "min      171.800000     80.930000      41.400000  \n",
       "25%      181.000000    125.600000      51.000000  \n",
       "50%      181.300000    126.800000      54.900000  \n",
       "75%      184.400000    129.000000      57.400000  \n",
       "max      241.800000    137.400000     122.480000  "
      ]
     },
     "execution_count": 1537,
     "metadata": {},
     "output_type": "execute_result"
    }
   ],
   "source": [
    "# df_4_newについて\n",
    "df_4_new.describe()"
   ]
  },
  {
   "cell_type": "code",
   "execution_count": 1538,
   "metadata": {},
   "outputs": [],
   "source": [
    "# <-----------------------------------------------------------------------\n",
    "# 4つのデータフレームを結合\n",
    "df_new = pd.concat([df_1_new, df_2_new, df_3_new, df_4_new])"
   ]
  },
  {
   "cell_type": "code",
   "execution_count": 1539,
   "metadata": {},
   "outputs": [],
   "source": [
    "#df_new = pd.concat([df_1, df_2, df_3, df_4])"
   ]
  },
  {
   "cell_type": "code",
   "execution_count": 1540,
   "metadata": {},
   "outputs": [
    {
     "data": {
      "text/plain": [
       "2114"
      ]
     },
     "execution_count": 1540,
     "metadata": {},
     "output_type": "execute_result"
    }
   ],
   "source": [
    "df_new['size'].size"
   ]
  },
  {
   "cell_type": "code",
   "execution_count": 1541,
   "metadata": {},
   "outputs": [
    {
     "data": {
      "text/plain": [
       "<matplotlib.axes._subplots.AxesSubplot at 0x7fdbee94ed68>"
      ]
     },
     "execution_count": 1541,
     "metadata": {},
     "output_type": "execute_result"
    },
    {
     "data": {
      "image/png": "[encoded data removed]",
      "text/plain": [
       "<Figure size 864x576 with 1 Axes>"
      ]
     },
     "metadata": {},
     "output_type": "display_data"
    }
   ],
   "source": [
    "plt.figure(figsize=(12, 8))\n",
    "sns.distplot(df_new['size'])"
   ]
  },
  {
   "cell_type": "code",
   "execution_count": 1542,
   "metadata": {},
   "outputs": [],
   "source": [
    "df_new.drop(['AveSatu_7', 'SumDiffTemp_7', 'AveMinTemp_7', 'SumMaxTemp_7', 'SumMinTemp_7', 'AveHum_7', 'AveDiffTemp_7', 'AveMaxTemp_7'], axis=1, inplace=True) #対象の列を削除"
   ]
  },
  {
   "cell_type": "code",
   "execution_count": 1543,
   "metadata": {},
   "outputs": [
    {
     "data": {
      "text/html": [
       "<div>\n",
       "<style scoped>\n",
       "    .dataframe tbody tr th:only-of-type {\n",
       "        vertical-align: middle;\n",
       "    }\n",
       "\n",
       "    .dataframe tbody tr th {\n",
       "        vertical-align: top;\n",
       "    }\n",
       "\n",
       "    .dataframe thead th {\n",
       "        text-align: right;\n",
       "    }\n",
       "</style>\n",
       "<table border=\"1\" class=\"dataframe\">\n",
       "  <thead>\n",
       "    <tr style=\"text-align: right;\">\n",
       "      <th></th>\n",
       "      <th>current_date</th>\n",
       "      <th>sweet</th>\n",
       "      <th>sweet_category</th>\n",
       "      <th>size</th>\n",
       "      <th>AveCO2_7</th>\n",
       "      <th>AveTemp_7</th>\n",
       "    </tr>\n",
       "  </thead>\n",
       "  <tbody>\n",
       "    <tr>\n",
       "      <th>2</th>\n",
       "      <td>11月28日</td>\n",
       "      <td>4.0</td>\n",
       "      <td>1</td>\n",
       "      <td>75.3424</td>\n",
       "      <td>614.28</td>\n",
       "      <td>21.14</td>\n",
       "    </tr>\n",
       "    <tr>\n",
       "      <th>3</th>\n",
       "      <td>11月28日</td>\n",
       "      <td>3.5</td>\n",
       "      <td>1</td>\n",
       "      <td>110.2500</td>\n",
       "      <td>614.28</td>\n",
       "      <td>21.14</td>\n",
       "    </tr>\n",
       "    <tr>\n",
       "      <th>36</th>\n",
       "      <td>12月4日</td>\n",
       "      <td>3.4</td>\n",
       "      <td>1</td>\n",
       "      <td>82.8100</td>\n",
       "      <td>589.90</td>\n",
       "      <td>20.98</td>\n",
       "    </tr>\n",
       "    <tr>\n",
       "      <th>40</th>\n",
       "      <td>12月4日</td>\n",
       "      <td>4.0</td>\n",
       "      <td>1</td>\n",
       "      <td>73.6164</td>\n",
       "      <td>589.90</td>\n",
       "      <td>20.98</td>\n",
       "    </tr>\n",
       "  </tbody>\n",
       "</table>\n",
       "</div>"
      ],
      "text/plain": [
       "   current_date  sweet  sweet_category      size  AveCO2_7  AveTemp_7\n",
       "2        11月28日    4.0               1   75.3424    614.28      21.14\n",
       "3        11月28日    3.5               1  110.2500    614.28      21.14\n",
       "36        12月4日    3.4               1   82.8100    589.90      20.98\n",
       "40        12月4日    4.0               1   73.6164    589.90      20.98"
      ]
     },
     "execution_count": 1543,
     "metadata": {},
     "output_type": "execute_result"
    }
   ],
   "source": [
    "df_new.head(4)"
   ]
  },
  {
   "cell_type": "code",
   "execution_count": 1544,
   "metadata": {},
   "outputs": [
    {
     "name": "stdout",
     "output_type": "stream",
     "text": [
      "(2114, 5)\n"
     ]
    }
   ],
   "source": [
    "df_new.drop(['current_date'], axis=1, inplace=True) # current_dateはもう使わない\n",
    "print(df_new.shape)"
   ]
  },
  {
   "cell_type": "code",
   "execution_count": 1545,
   "metadata": {},
   "outputs": [
    {
     "name": "stdout",
     "output_type": "stream",
     "text": [
      "(2114, 3)\n"
     ]
    }
   ],
   "source": [
    "y = df_new[\"sweet_category\"] #目的変数\n",
    "df_new.drop(['sweet','sweet_category'], axis=1, inplace=True) #目的変数の列を削除\n",
    "print(df_new.shape)"
   ]
  },
  {
   "cell_type": "code",
   "execution_count": 1546,
   "metadata": {},
   "outputs": [],
   "source": [
    "#  <-----------------------------------------\n",
    "\n",
    "#df['size_2'] = df['size']**2\n",
    "#df['size_3'] = df['size']**3\n",
    "#df_new['AveHum_7_2'] = df_new['AveHum_7']**2\n",
    "#df['AveMaxTemp_7_2'] = df['AveMaxTemp_7']**2.5\n",
    "#df['AveMinTemp_7_2'] = df['AveMinTemp_7']**2\n",
    "#df['AveDiffTemp_7_2'] = df['AveDiffTemp_7']**2\n",
    "#df_new['AveDiffTemp_7_3'] = df_new['AveDiffTemp_7']**3\n",
    "#df['SumDiffTemp_7_2'] = df['SumDiffTemp_7']**2\n",
    "df_new['AveTemp_7_3'] = df_new['AveTemp_7']**3\n",
    "#df_new['AveSatu_7_3'] = df_new['AveSatu_7']**3\n",
    "#df_new['AveMaxTemp_7_2'] = df_new['AveMaxTemp_7']**2.5\n",
    "#df['SumMinTemp_7_2'] = df['SumMinTemp_7']**2\n",
    "#df['SumAveTemp_7_2'] = df['SumAveTemp_7']**2\n",
    "df_new['AveCO2_7_1.5'] = df_new['AveCO2_7']**1.5"
   ]
  },
  {
   "cell_type": "code",
   "execution_count": 1547,
   "metadata": {},
   "outputs": [],
   "source": [
    "df_new.drop(['AveCO2_7', 'AveTemp_7'], axis=1, inplace=True) #対象の列を削除  "
   ]
  },
  {
   "cell_type": "code",
   "execution_count": 1548,
   "metadata": {},
   "outputs": [
    {
     "data": {
      "text/html": [
       "<div>\n",
       "<style scoped>\n",
       "    .dataframe tbody tr th:only-of-type {\n",
       "        vertical-align: middle;\n",
       "    }\n",
       "\n",
       "    .dataframe tbody tr th {\n",
       "        vertical-align: top;\n",
       "    }\n",
       "\n",
       "    .dataframe thead th {\n",
       "        text-align: right;\n",
       "    }\n",
       "</style>\n",
       "<table border=\"1\" class=\"dataframe\">\n",
       "  <thead>\n",
       "    <tr style=\"text-align: right;\">\n",
       "      <th></th>\n",
       "      <th>size</th>\n",
       "      <th>AveTemp_7_3</th>\n",
       "      <th>AveCO2_7_1.5</th>\n",
       "    </tr>\n",
       "  </thead>\n",
       "  <tbody>\n",
       "    <tr>\n",
       "      <th>2</th>\n",
       "      <td>75.3424</td>\n",
       "      <td>9447.457544</td>\n",
       "      <td>15224.728736</td>\n",
       "    </tr>\n",
       "    <tr>\n",
       "      <th>3</th>\n",
       "      <td>110.2500</td>\n",
       "      <td>9447.457544</td>\n",
       "      <td>15224.728736</td>\n",
       "    </tr>\n",
       "    <tr>\n",
       "      <th>36</th>\n",
       "      <td>82.8100</td>\n",
       "      <td>9234.565192</td>\n",
       "      <td>14327.406873</td>\n",
       "    </tr>\n",
       "    <tr>\n",
       "      <th>40</th>\n",
       "      <td>73.6164</td>\n",
       "      <td>9234.565192</td>\n",
       "      <td>14327.406873</td>\n",
       "    </tr>\n",
       "    <tr>\n",
       "      <th>45</th>\n",
       "      <td>56.2500</td>\n",
       "      <td>9234.565192</td>\n",
       "      <td>14327.406873</td>\n",
       "    </tr>\n",
       "  </tbody>\n",
       "</table>\n",
       "</div>"
      ],
      "text/plain": [
       "        size  AveTemp_7_3  AveCO2_7_1.5\n",
       "2    75.3424  9447.457544  15224.728736\n",
       "3   110.2500  9447.457544  15224.728736\n",
       "36   82.8100  9234.565192  14327.406873\n",
       "40   73.6164  9234.565192  14327.406873\n",
       "45   56.2500  9234.565192  14327.406873"
      ]
     },
     "execution_count": 1548,
     "metadata": {},
     "output_type": "execute_result"
    }
   ],
   "source": [
    "df_new.head()"
   ]
  },
  {
   "cell_type": "code",
   "execution_count": 1549,
   "metadata": {},
   "outputs": [],
   "source": [
    "# 訓練セットとテストセットに分割\n",
    "#X_train, X_test, y_train, y_test = train_test_split(df, y, test_size=0.2, stratify=y, random_state=0)\n",
    "#stratify は母集団のカテゴリの割合を保って分割するもので、目的変数を指定するのが一般的\n",
    "from sklearn.model_selection import train_test_split\n",
    "X_trainval, X_test, y_trainval, y_test = train_test_split(df_new, y, test_size=0.3, random_state=1, stratify=y)"
   ]
  },
  {
   "cell_type": "code",
   "execution_count": 1550,
   "metadata": {},
   "outputs": [],
   "source": [
    "# ハイパーパラメータを辞書型\n",
    "params_grid = {'weights': ['uniform', 'distance'], 'n_neighbors':[3,4,5,6,7,8,9,10,11,12,13,14,15,16,17,18,19,20,21]}"
   ]
  },
  {
   "cell_type": "code",
   "execution_count": 1551,
   "metadata": {},
   "outputs": [],
   "source": [
    "from sklearn.model_selection import GridSearchCV\n",
    "from sklearn.neighbors import KNeighborsClassifier"
   ]
  },
  {
   "cell_type": "code",
   "execution_count": 1552,
   "metadata": {},
   "outputs": [],
   "source": [
    "grid_search = GridSearchCV(KNeighborsClassifier(), params_grid, scoring=\"accuracy\",cv=10, n_jobs=-1)# 上記で用意したパラメーターごとに交差検証を実施"
   ]
  },
  {
   "cell_type": "code",
   "execution_count": 1553,
   "metadata": {},
   "outputs": [
    {
     "name": "stderr",
     "output_type": "stream",
     "text": [
      "/home/yoshida/anaconda3/lib/python3.6/site-packages/sklearn/model_selection/_search.py:841: DeprecationWarning: The default of the `iid` parameter will change from True to False in version 0.22 and will be removed in 0.24. This will change numeric results when test-set sizes are unequal.\n",
      "  DeprecationWarning)\n"
     ]
    },
    {
     "data": {
      "text/plain": [
       "GridSearchCV(cv=10, error_score='raise-deprecating',\n",
       "       estimator=KNeighborsClassifier(algorithm='auto', leaf_size=30, metric='minkowski',\n",
       "           metric_params=None, n_jobs=None, n_neighbors=5, p=2,\n",
       "           weights='uniform'),\n",
       "       fit_params=None, iid='warn', n_jobs=-1,\n",
       "       param_grid={'weights': ['uniform', 'distance'], 'n_neighbors': [3, 4, 5, 6, 7, 8, 9, 10, 11, 12, 13, 14, 15, 16, 17, 18, 19, 20, 21]},\n",
       "       pre_dispatch='2*n_jobs', refit=True, return_train_score='warn',\n",
       "       scoring='accuracy', verbose=0)"
      ]
     },
     "execution_count": 1553,
     "metadata": {},
     "output_type": "execute_result"
    }
   ],
   "source": [
    "grid_search.fit(X_trainval, y_trainval ) # 学習"
   ]
  },
  {
   "cell_type": "code",
   "execution_count": 1554,
   "metadata": {},
   "outputs": [
    {
     "name": "stdout",
     "output_type": "stream",
     "text": [
      "Best cross-validation: 0.825\n",
      "Best parameters : {'n_neighbors': 3, 'weights': 'distance'}\n"
     ]
    }
   ],
   "source": [
    "# グリッドサーチの結果\n",
    "print('Best cross-validation: {}'.format(round(grid_search.best_score_, 3)))\n",
    "print('Best parameters : {}'.format(grid_search.best_params_))"
   ]
  },
  {
   "cell_type": "code",
   "execution_count": 1555,
   "metadata": {},
   "outputs": [
    {
     "name": "stdout",
     "output_type": "stream",
     "text": [
      "Test set score : 0.838\n"
     ]
    }
   ],
   "source": [
    "print('Test set score : {}'.format(round(grid_search.score(X_test, y_test), 3)))"
   ]
  },
  {
   "cell_type": "code",
   "execution_count": 1556,
   "metadata": {},
   "outputs": [],
   "source": [
    "# https://docs.google.com/document/d/1Ke9i88Wi6zBMIs36xYilp6JHD68RX8EZsNMD03imQno/edit\n",
    "# 一番よかったのは、[aveTemp,aveCO2], [aveMaxTemp, aveHum]の2つで、訓練：テストでそれぞれ[74.4, 76.7], [75.0, 76.7]"
   ]
  },
  {
   "cell_type": "code",
   "execution_count": 1557,
   "metadata": {},
   "outputs": [],
   "source": [
    "#多クラスの混合行列を作成"
   ]
  },
  {
   "cell_type": "code",
   "execution_count": 1558,
   "metadata": {},
   "outputs": [],
   "source": [
    "from sklearn.metrics import confusion_matrix"
   ]
  },
  {
   "cell_type": "code",
   "execution_count": 1559,
   "metadata": {},
   "outputs": [],
   "source": [
    "clf = grid_search.best_estimator_"
   ]
  },
  {
   "cell_type": "code",
   "execution_count": 1560,
   "metadata": {},
   "outputs": [],
   "source": [
    "pred = clf.predict(X_test)"
   ]
  },
  {
   "cell_type": "code",
   "execution_count": 1561,
   "metadata": {},
   "outputs": [
    {
     "name": "stdout",
     "output_type": "stream",
     "text": [
      "[[ 58  16   0   0]\n",
      " [  9 135  22   1]\n",
      " [  0  25 183  12]\n",
      " [  0   0  18 156]]\n"
     ]
    }
   ],
   "source": [
    "print(confusion_matrix(y_test, pred))"
   ]
  },
  {
   "cell_type": "code",
   "execution_count": null,
   "metadata": {},
   "outputs": [],
   "source": []
  },
  {
   "cell_type": "code",
   "execution_count": null,
   "metadata": {},
   "outputs": [],
   "source": [
    "\n"
   ]
  },
  {
   "cell_type": "code",
   "execution_count": null,
   "metadata": {},
   "outputs": [],
   "source": []
  },
  {
   "cell_type": "code",
   "execution_count": null,
   "metadata": {},
   "outputs": [],
   "source": []
  },
  {
   "cell_type": "code",
   "execution_count": null,
   "metadata": {},
   "outputs": [],
   "source": []
  },
  {
   "cell_type": "code",
   "execution_count": null,
   "metadata": {},
   "outputs": [],
   "source": []
  },
  {
   "cell_type": "code",
   "execution_count": null,
   "metadata": {},
   "outputs": [],
   "source": []
  },
  {
   "cell_type": "code",
   "execution_count": null,
   "metadata": {},
   "outputs": [],
   "source": []
  },
  {
   "cell_type": "code",
   "execution_count": null,
   "metadata": {},
   "outputs": [],
   "source": []
  },
  {
   "cell_type": "code",
   "execution_count": null,
   "metadata": {},
   "outputs": [],
   "source": []
  },
  {
   "cell_type": "code",
   "execution_count": null,
   "metadata": {},
   "outputs": [],
   "source": []
  },
  {
   "cell_type": "code",
   "execution_count": null,
   "metadata": {},
   "outputs": [],
   "source": []
  },
  {
   "cell_type": "code",
   "execution_count": null,
   "metadata": {},
   "outputs": [],
   "source": []
  },
  {
   "cell_type": "code",
   "execution_count": null,
   "metadata": {},
   "outputs": [],
   "source": []
  },
  {
   "cell_type": "code",
   "execution_count": null,
   "metadata": {},
   "outputs": [],
   "source": []
  },
  {
   "cell_type": "code",
   "execution_count": null,
   "metadata": {},
   "outputs": [],
   "source": []
  },
  {
   "cell_type": "code",
   "execution_count": null,
   "metadata": {},
   "outputs": [],
   "source": []
  },
  {
   "cell_type": "code",
   "execution_count": null,
   "metadata": {},
   "outputs": [],
   "source": []
  },
  {
   "cell_type": "code",
   "execution_count": null,
   "metadata": {},
   "outputs": [],
   "source": []
  },
  {
   "cell_type": "code",
   "execution_count": null,
   "metadata": {},
   "outputs": [],
   "source": []
  },
  {
   "cell_type": "code",
   "execution_count": null,
   "metadata": {},
   "outputs": [],
   "source": []
  },
  {
   "cell_type": "code",
   "execution_count": null,
   "metadata": {},
   "outputs": [],
   "source": []
  },
  {
   "cell_type": "code",
   "execution_count": null,
   "metadata": {},
   "outputs": [],
   "source": []
  },
  {
   "cell_type": "code",
   "execution_count": null,
   "metadata": {},
   "outputs": [],
   "source": []
  },
  {
   "cell_type": "code",
   "execution_count": null,
   "metadata": {},
   "outputs": [],
   "source": []
  },
  {
   "cell_type": "code",
   "execution_count": null,
   "metadata": {},
   "outputs": [],
   "source": []
  },
  {
   "cell_type": "code",
   "execution_count": null,
   "metadata": {},
   "outputs": [],
   "source": []
  },
  {
   "cell_type": "code",
   "execution_count": null,
   "metadata": {},
   "outputs": [],
   "source": []
  },
  {
   "cell_type": "code",
   "execution_count": null,
   "metadata": {},
   "outputs": [],
   "source": []
  },
  {
   "cell_type": "code",
   "execution_count": null,
   "metadata": {},
   "outputs": [],
   "source": []
  },
  {
   "cell_type": "code",
   "execution_count": null,
   "metadata": {},
   "outputs": [],
   "source": []
  },
  {
   "cell_type": "code",
   "execution_count": null,
   "metadata": {},
   "outputs": [],
   "source": []
  },
  {
   "cell_type": "code",
   "execution_count": null,
   "metadata": {},
   "outputs": [],
   "source": []
  },
  {
   "cell_type": "code",
   "execution_count": null,
   "metadata": {},
   "outputs": [],
   "source": []
  },
  {
   "cell_type": "code",
   "execution_count": null,
   "metadata": {},
   "outputs": [],
   "source": []
  },
  {
   "cell_type": "code",
   "execution_count": null,
   "metadata": {},
   "outputs": [],
   "source": []
  },
  {
   "cell_type": "code",
   "execution_count": null,
   "metadata": {},
   "outputs": [],
   "source": []
  },
  {
   "cell_type": "code",
   "execution_count": null,
   "metadata": {},
   "outputs": [],
   "source": []
  },
  {
   "cell_type": "code",
   "execution_count": null,
   "metadata": {},
   "outputs": [],
   "source": []
  },
  {
   "cell_type": "code",
   "execution_count": null,
   "metadata": {},
   "outputs": [],
   "source": []
  },
  {
   "cell_type": "code",
   "execution_count": null,
   "metadata": {},
   "outputs": [],
   "source": []
  },
  {
   "cell_type": "code",
   "execution_count": null,
   "metadata": {},
   "outputs": [],
   "source": []
  }
 ],
 "metadata": {
  "kernelspec": {
   "display_name": "Python 3",
   "language": "python",
   "name": "python3"
  },
  "language_info": {
   "codemirror_mode": {
    "name": "ipython",
    "version": 3
   },
   "file_extension": ".py",
   "mimetype": "text/x-python",
   "name": "python",
   "nbconvert_exporter": "python",
   "pygments_lexer": "ipython3",
   "version": "3.6.6"
  }
 },
 "nbformat": 4,
 "nbformat_minor": 2
}
