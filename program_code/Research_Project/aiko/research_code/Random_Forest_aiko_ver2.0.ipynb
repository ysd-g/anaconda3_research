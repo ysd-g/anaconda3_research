{
 "cells": [
  {
   "cell_type": "code",
   "execution_count": 162,
   "metadata": {},
   "outputs": [],
   "source": [
    "#決定木とランダムフォレスト（2018年12月〜2019年6月中旬までの糖度を予測）"
   ]
  },
  {
   "cell_type": "code",
   "execution_count": 1,
   "metadata": {},
   "outputs": [],
   "source": [
    "%matplotlib inline\n",
    "import sys\n",
    "sys.path.append('/home/yoshida/.pyenv/versions/3.6.6/lib/python3.6/site-packages')\n",
    "\n",
    "import numpy as np\n",
    "import pandas as pd\n",
    "import matplotlib.pyplot as plt\n",
    "import matplotlib.pyplot as plt\n",
    "import seaborn as sns\n",
    "plt.style.use('ggplot')\n",
    "\n",
    "from sklearn.model_selection import train_test_split"
   ]
  },
  {
   "cell_type": "code",
   "execution_count": 2,
   "metadata": {},
   "outputs": [],
   "source": [
    "from sklearn.tree import DecisionTreeClassifier # 決定木\n",
    "from sklearn.ensemble import RandomForestClassifier # ランダムフォレスト"
   ]
  },
  {
   "cell_type": "code",
   "execution_count": 3,
   "metadata": {},
   "outputs": [],
   "source": [
    "# データの読み込み\n",
    "data = pd.read_csv(\"../src/Aiko_normalization_ver3_aaa.csv\")\n",
    "df = pd.DataFrame(data)"
   ]
  },
  {
   "cell_type": "code",
   "execution_count": 4,
   "metadata": {
    "scrolled": true
   },
   "outputs": [
    {
     "data": {
      "text/html": [
       "<div>\n",
       "<style scoped>\n",
       "    .dataframe tbody tr th:only-of-type {\n",
       "        vertical-align: middle;\n",
       "    }\n",
       "\n",
       "    .dataframe tbody tr th {\n",
       "        vertical-align: top;\n",
       "    }\n",
       "\n",
       "    .dataframe thead th {\n",
       "        text-align: right;\n",
       "    }\n",
       "</style>\n",
       "<table border=\"1\" class=\"dataframe\">\n",
       "  <thead>\n",
       "    <tr style=\"text-align: right;\">\n",
       "      <th></th>\n",
       "      <th>No</th>\n",
       "      <th>current_date</th>\n",
       "      <th>seed_date</th>\n",
       "      <th>house</th>\n",
       "      <th>sweet</th>\n",
       "      <th>sweet_category</th>\n",
       "      <th>width</th>\n",
       "      <th>height</th>\n",
       "      <th>size</th>\n",
       "      <th>url</th>\n",
       "      <th>...</th>\n",
       "      <th>AveSatu_7</th>\n",
       "      <th>AveHum_7</th>\n",
       "      <th>AveTemp_7</th>\n",
       "      <th>AveMaxTemp_7</th>\n",
       "      <th>AveMinTemp_7</th>\n",
       "      <th>AveDiffTemp_7</th>\n",
       "      <th>SumMaxTemp_7</th>\n",
       "      <th>SumMinTemp_7</th>\n",
       "      <th>SumDiffTemp_7</th>\n",
       "      <th>COL_21</th>\n",
       "    </tr>\n",
       "  </thead>\n",
       "  <tbody>\n",
       "    <tr>\n",
       "      <th>0</th>\n",
       "      <td>1</td>\n",
       "      <td>11月28日</td>\n",
       "      <td>3月13日</td>\n",
       "      <td>2</td>\n",
       "      <td>4.3</td>\n",
       "      <td>2</td>\n",
       "      <td>2.6</td>\n",
       "      <td>2.9</td>\n",
       "      <td>7.54</td>\n",
       "      <td>https://firebasestorage.googleapis.com/v0/b/ap...</td>\n",
       "      <td>...</td>\n",
       "      <td>6.17</td>\n",
       "      <td>66.84</td>\n",
       "      <td>21.14</td>\n",
       "      <td>26.24</td>\n",
       "      <td>18.83</td>\n",
       "      <td>7.41</td>\n",
       "      <td>183.7</td>\n",
       "      <td>131.8</td>\n",
       "      <td>51.9</td>\n",
       "      <td>NaN</td>\n",
       "    </tr>\n",
       "    <tr>\n",
       "      <th>1</th>\n",
       "      <td>2</td>\n",
       "      <td>11月28日</td>\n",
       "      <td>3月13日</td>\n",
       "      <td>2</td>\n",
       "      <td>4.5</td>\n",
       "      <td>2</td>\n",
       "      <td>2.4</td>\n",
       "      <td>2.7</td>\n",
       "      <td>6.48</td>\n",
       "      <td>https://firebasestorage.googleapis.com/v0/b/ap...</td>\n",
       "      <td>...</td>\n",
       "      <td>6.17</td>\n",
       "      <td>66.84</td>\n",
       "      <td>21.14</td>\n",
       "      <td>26.24</td>\n",
       "      <td>18.83</td>\n",
       "      <td>7.41</td>\n",
       "      <td>183.7</td>\n",
       "      <td>131.8</td>\n",
       "      <td>51.9</td>\n",
       "      <td>NaN</td>\n",
       "    </tr>\n",
       "    <tr>\n",
       "      <th>2</th>\n",
       "      <td>3</td>\n",
       "      <td>11月28日</td>\n",
       "      <td>3月13日</td>\n",
       "      <td>2</td>\n",
       "      <td>4.0</td>\n",
       "      <td>1</td>\n",
       "      <td>2.8</td>\n",
       "      <td>3.1</td>\n",
       "      <td>8.68</td>\n",
       "      <td>https://firebasestorage.googleapis.com/v0/b/ap...</td>\n",
       "      <td>...</td>\n",
       "      <td>6.17</td>\n",
       "      <td>66.84</td>\n",
       "      <td>21.14</td>\n",
       "      <td>26.24</td>\n",
       "      <td>18.83</td>\n",
       "      <td>7.41</td>\n",
       "      <td>183.7</td>\n",
       "      <td>131.8</td>\n",
       "      <td>51.9</td>\n",
       "      <td>NaN</td>\n",
       "    </tr>\n",
       "    <tr>\n",
       "      <th>3</th>\n",
       "      <td>4</td>\n",
       "      <td>11月28日</td>\n",
       "      <td>3月13日</td>\n",
       "      <td>2</td>\n",
       "      <td>3.5</td>\n",
       "      <td>1</td>\n",
       "      <td>3.0</td>\n",
       "      <td>3.5</td>\n",
       "      <td>10.50</td>\n",
       "      <td>https://firebasestorage.googleapis.com/v0/b/ap...</td>\n",
       "      <td>...</td>\n",
       "      <td>6.17</td>\n",
       "      <td>66.84</td>\n",
       "      <td>21.14</td>\n",
       "      <td>26.24</td>\n",
       "      <td>18.83</td>\n",
       "      <td>7.41</td>\n",
       "      <td>183.7</td>\n",
       "      <td>131.8</td>\n",
       "      <td>51.9</td>\n",
       "      <td>NaN</td>\n",
       "    </tr>\n",
       "    <tr>\n",
       "      <th>4</th>\n",
       "      <td>5</td>\n",
       "      <td>11月28日</td>\n",
       "      <td>3月13日</td>\n",
       "      <td>2</td>\n",
       "      <td>4.3</td>\n",
       "      <td>2</td>\n",
       "      <td>2.5</td>\n",
       "      <td>2.8</td>\n",
       "      <td>7.00</td>\n",
       "      <td>https://firebasestorage.googleapis.com/v0/b/ap...</td>\n",
       "      <td>...</td>\n",
       "      <td>6.17</td>\n",
       "      <td>66.84</td>\n",
       "      <td>21.14</td>\n",
       "      <td>26.24</td>\n",
       "      <td>18.83</td>\n",
       "      <td>7.41</td>\n",
       "      <td>183.7</td>\n",
       "      <td>131.8</td>\n",
       "      <td>51.9</td>\n",
       "      <td>NaN</td>\n",
       "    </tr>\n",
       "  </tbody>\n",
       "</table>\n",
       "<p>5 rows × 21 columns</p>\n",
       "</div>"
      ],
      "text/plain": [
       "   No current_date seed_date  house  sweet  sweet_category  width  height  \\\n",
       "0   1       11月28日     3月13日      2    4.3               2    2.6     2.9   \n",
       "1   2       11月28日     3月13日      2    4.5               2    2.4     2.7   \n",
       "2   3       11月28日     3月13日      2    4.0               1    2.8     3.1   \n",
       "3   4       11月28日     3月13日      2    3.5               1    3.0     3.5   \n",
       "4   5       11月28日     3月13日      2    4.3               2    2.5     2.8   \n",
       "\n",
       "    size                                                url   ...    \\\n",
       "0   7.54  https://firebasestorage.googleapis.com/v0/b/ap...   ...     \n",
       "1   6.48  https://firebasestorage.googleapis.com/v0/b/ap...   ...     \n",
       "2   8.68  https://firebasestorage.googleapis.com/v0/b/ap...   ...     \n",
       "3  10.50  https://firebasestorage.googleapis.com/v0/b/ap...   ...     \n",
       "4   7.00  https://firebasestorage.googleapis.com/v0/b/ap...   ...     \n",
       "\n",
       "   AveSatu_7  AveHum_7  AveTemp_7  AveMaxTemp_7  AveMinTemp_7  AveDiffTemp_7  \\\n",
       "0       6.17     66.84      21.14         26.24         18.83           7.41   \n",
       "1       6.17     66.84      21.14         26.24         18.83           7.41   \n",
       "2       6.17     66.84      21.14         26.24         18.83           7.41   \n",
       "3       6.17     66.84      21.14         26.24         18.83           7.41   \n",
       "4       6.17     66.84      21.14         26.24         18.83           7.41   \n",
       "\n",
       "   SumMaxTemp_7  SumMinTemp_7  SumDiffTemp_7  COL_21  \n",
       "0         183.7         131.8           51.9     NaN  \n",
       "1         183.7         131.8           51.9     NaN  \n",
       "2         183.7         131.8           51.9     NaN  \n",
       "3         183.7         131.8           51.9     NaN  \n",
       "4         183.7         131.8           51.9     NaN  \n",
       "\n",
       "[5 rows x 21 columns]"
      ]
     },
     "execution_count": 4,
     "metadata": {},
     "output_type": "execute_result"
    }
   ],
   "source": [
    "df.head(5)"
   ]
  },
  {
   "cell_type": "code",
   "execution_count": 5,
   "metadata": {},
   "outputs": [],
   "source": [
    "# 'AveCO2_7', 'AveSatu_7', 'AveHum_7', 'AveTemp_7', 'AveMaxTemp_7', 'AveMinTemp_7','AveDiffTemp_7','SumMaxTemp_7','SumMinTemp_7','SumDiffTemp_7'"
   ]
  },
  {
   "cell_type": "code",
   "execution_count": 6,
   "metadata": {},
   "outputs": [],
   "source": [
    "df.drop(['No','width','height','seed_date','house','url', 'COL_21'], axis=1, inplace=True) #対象の列を削除"
   ]
  },
  {
   "cell_type": "code",
   "execution_count": 7,
   "metadata": {},
   "outputs": [],
   "source": [
    "# AveDiffTemp_7、AveSatu_7、monthを対象としたい時\n",
    "df.drop(['AveDiffTemp_7', 'AveCO2_7', 'AveSatu_7', 'AveMaxTemp_7', 'AveMinTemp_7', 'SumMaxTemp_7','SumMinTemp_7','SumDiffTemp_7'], axis=1, inplace=True)"
   ]
  },
  {
   "cell_type": "code",
   "execution_count": 8,
   "metadata": {},
   "outputs": [
    {
     "data": {
      "text/html": [
       "<div>\n",
       "<style scoped>\n",
       "    .dataframe tbody tr th:only-of-type {\n",
       "        vertical-align: middle;\n",
       "    }\n",
       "\n",
       "    .dataframe tbody tr th {\n",
       "        vertical-align: top;\n",
       "    }\n",
       "\n",
       "    .dataframe thead th {\n",
       "        text-align: right;\n",
       "    }\n",
       "</style>\n",
       "<table border=\"1\" class=\"dataframe\">\n",
       "  <thead>\n",
       "    <tr style=\"text-align: right;\">\n",
       "      <th></th>\n",
       "      <th>current_date</th>\n",
       "      <th>sweet</th>\n",
       "      <th>sweet_category</th>\n",
       "      <th>size</th>\n",
       "      <th>AveHum_7</th>\n",
       "      <th>AveTemp_7</th>\n",
       "    </tr>\n",
       "  </thead>\n",
       "  <tbody>\n",
       "    <tr>\n",
       "      <th>0</th>\n",
       "      <td>11月28日</td>\n",
       "      <td>4.3</td>\n",
       "      <td>2</td>\n",
       "      <td>7.54</td>\n",
       "      <td>66.84</td>\n",
       "      <td>21.14</td>\n",
       "    </tr>\n",
       "    <tr>\n",
       "      <th>1</th>\n",
       "      <td>11月28日</td>\n",
       "      <td>4.5</td>\n",
       "      <td>2</td>\n",
       "      <td>6.48</td>\n",
       "      <td>66.84</td>\n",
       "      <td>21.14</td>\n",
       "    </tr>\n",
       "    <tr>\n",
       "      <th>2</th>\n",
       "      <td>11月28日</td>\n",
       "      <td>4.0</td>\n",
       "      <td>1</td>\n",
       "      <td>8.68</td>\n",
       "      <td>66.84</td>\n",
       "      <td>21.14</td>\n",
       "    </tr>\n",
       "    <tr>\n",
       "      <th>3</th>\n",
       "      <td>11月28日</td>\n",
       "      <td>3.5</td>\n",
       "      <td>1</td>\n",
       "      <td>10.50</td>\n",
       "      <td>66.84</td>\n",
       "      <td>21.14</td>\n",
       "    </tr>\n",
       "    <tr>\n",
       "      <th>4</th>\n",
       "      <td>11月28日</td>\n",
       "      <td>4.3</td>\n",
       "      <td>2</td>\n",
       "      <td>7.00</td>\n",
       "      <td>66.84</td>\n",
       "      <td>21.14</td>\n",
       "    </tr>\n",
       "  </tbody>\n",
       "</table>\n",
       "</div>"
      ],
      "text/plain": [
       "  current_date  sweet  sweet_category   size  AveHum_7  AveTemp_7\n",
       "0       11月28日    4.3               2   7.54     66.84      21.14\n",
       "1       11月28日    4.5               2   6.48     66.84      21.14\n",
       "2       11月28日    4.0               1   8.68     66.84      21.14\n",
       "3       11月28日    3.5               1  10.50     66.84      21.14\n",
       "4       11月28日    4.3               2   7.00     66.84      21.14"
      ]
     },
     "execution_count": 8,
     "metadata": {},
     "output_type": "execute_result"
    }
   ],
   "source": [
    "df.head()"
   ]
  },
  {
   "cell_type": "code",
   "execution_count": 9,
   "metadata": {},
   "outputs": [
    {
     "name": "stdout",
     "output_type": "stream",
     "text": [
      "(2176, 6)\n"
     ]
    }
   ],
   "source": [
    "df['month'] = df['current_date'].str[:2] # \"11月28日\"とか\"4月3日\"の月日の先頭2文字だけ抽出\n",
    "df['month'] = df['month'].str.strip('月') # このままだと\"4月\"のように\"月\"が入っているので、\"月\"を削除する\n",
    "# 参考：https://deepage.net/features/pandas-str-extract.html\n",
    "# 参考：https://deepage.net/features/pandas-str-replace.html\n",
    "df['month'].isnull().sum() # 欠損値がないかを確認\n",
    "\n",
    "df.drop(['current_date'], axis=1, inplace=True) # current_dateはもう使わない\n",
    "print(df.shape)"
   ]
  },
  {
   "cell_type": "code",
   "execution_count": 10,
   "metadata": {},
   "outputs": [],
   "source": [
    "# 四半期を求める(4~6月:1st、7~9月:2nd、10~12月:3rd、1~3月:4th)(＊＊＊＊使うか使わないか＊＊＊＊)\n",
    "df['quarter'] = df['month'].replace({'4': '1st', '5': '1st', '6': '1st', \n",
    "                                     '7': '2nd', '8': '2nd', '9': '2nd', \n",
    "                                     '10': '3rd', '11': '3rd', '12': '3rd', \n",
    "                                     '1': '4th', '2': '4th', '3': '4th'\n",
    "                                    })"
   ]
  },
  {
   "cell_type": "code",
   "execution_count": 11,
   "metadata": {},
   "outputs": [
    {
     "data": {
      "text/html": [
       "<div>\n",
       "<style scoped>\n",
       "    .dataframe tbody tr th:only-of-type {\n",
       "        vertical-align: middle;\n",
       "    }\n",
       "\n",
       "    .dataframe tbody tr th {\n",
       "        vertical-align: top;\n",
       "    }\n",
       "\n",
       "    .dataframe thead th {\n",
       "        text-align: right;\n",
       "    }\n",
       "</style>\n",
       "<table border=\"1\" class=\"dataframe\">\n",
       "  <thead>\n",
       "    <tr style=\"text-align: right;\">\n",
       "      <th></th>\n",
       "      <th>sweet</th>\n",
       "      <th>sweet_category</th>\n",
       "      <th>size</th>\n",
       "      <th>AveHum_7</th>\n",
       "      <th>AveTemp_7</th>\n",
       "      <th>month</th>\n",
       "      <th>quarter</th>\n",
       "    </tr>\n",
       "  </thead>\n",
       "  <tbody>\n",
       "    <tr>\n",
       "      <th>0</th>\n",
       "      <td>4.3</td>\n",
       "      <td>2</td>\n",
       "      <td>7.54</td>\n",
       "      <td>66.84</td>\n",
       "      <td>21.14</td>\n",
       "      <td>11</td>\n",
       "      <td>3rd</td>\n",
       "    </tr>\n",
       "    <tr>\n",
       "      <th>1</th>\n",
       "      <td>4.5</td>\n",
       "      <td>2</td>\n",
       "      <td>6.48</td>\n",
       "      <td>66.84</td>\n",
       "      <td>21.14</td>\n",
       "      <td>11</td>\n",
       "      <td>3rd</td>\n",
       "    </tr>\n",
       "    <tr>\n",
       "      <th>2</th>\n",
       "      <td>4.0</td>\n",
       "      <td>1</td>\n",
       "      <td>8.68</td>\n",
       "      <td>66.84</td>\n",
       "      <td>21.14</td>\n",
       "      <td>11</td>\n",
       "      <td>3rd</td>\n",
       "    </tr>\n",
       "  </tbody>\n",
       "</table>\n",
       "</div>"
      ],
      "text/plain": [
       "   sweet  sweet_category  size  AveHum_7  AveTemp_7 month quarter\n",
       "0    4.3               2  7.54     66.84      21.14    11     3rd\n",
       "1    4.5               2  6.48     66.84      21.14    11     3rd\n",
       "2    4.0               1  8.68     66.84      21.14    11     3rd"
      ]
     },
     "execution_count": 11,
     "metadata": {},
     "output_type": "execute_result"
    }
   ],
   "source": [
    "df.head(3)"
   ]
  },
  {
   "cell_type": "code",
   "execution_count": 12,
   "metadata": {},
   "outputs": [],
   "source": [
    "# ダミー変数の作成\n",
    "df = pd.get_dummies(df, columns=['quarter'], drop_first=True)"
   ]
  },
  {
   "cell_type": "code",
   "execution_count": 13,
   "metadata": {},
   "outputs": [
    {
     "data": {
      "text/html": [
       "<div>\n",
       "<style scoped>\n",
       "    .dataframe tbody tr th:only-of-type {\n",
       "        vertical-align: middle;\n",
       "    }\n",
       "\n",
       "    .dataframe tbody tr th {\n",
       "        vertical-align: top;\n",
       "    }\n",
       "\n",
       "    .dataframe thead th {\n",
       "        text-align: right;\n",
       "    }\n",
       "</style>\n",
       "<table border=\"1\" class=\"dataframe\">\n",
       "  <thead>\n",
       "    <tr style=\"text-align: right;\">\n",
       "      <th></th>\n",
       "      <th>sweet</th>\n",
       "      <th>sweet_category</th>\n",
       "      <th>size</th>\n",
       "      <th>AveHum_7</th>\n",
       "      <th>AveTemp_7</th>\n",
       "      <th>month</th>\n",
       "      <th>quarter_3rd</th>\n",
       "      <th>quarter_4th</th>\n",
       "    </tr>\n",
       "  </thead>\n",
       "  <tbody>\n",
       "    <tr>\n",
       "      <th>0</th>\n",
       "      <td>4.3</td>\n",
       "      <td>2</td>\n",
       "      <td>7.54</td>\n",
       "      <td>66.84</td>\n",
       "      <td>21.14</td>\n",
       "      <td>11</td>\n",
       "      <td>1</td>\n",
       "      <td>0</td>\n",
       "    </tr>\n",
       "    <tr>\n",
       "      <th>1</th>\n",
       "      <td>4.5</td>\n",
       "      <td>2</td>\n",
       "      <td>6.48</td>\n",
       "      <td>66.84</td>\n",
       "      <td>21.14</td>\n",
       "      <td>11</td>\n",
       "      <td>1</td>\n",
       "      <td>0</td>\n",
       "    </tr>\n",
       "    <tr>\n",
       "      <th>2</th>\n",
       "      <td>4.0</td>\n",
       "      <td>1</td>\n",
       "      <td>8.68</td>\n",
       "      <td>66.84</td>\n",
       "      <td>21.14</td>\n",
       "      <td>11</td>\n",
       "      <td>1</td>\n",
       "      <td>0</td>\n",
       "    </tr>\n",
       "    <tr>\n",
       "      <th>3</th>\n",
       "      <td>3.5</td>\n",
       "      <td>1</td>\n",
       "      <td>10.50</td>\n",
       "      <td>66.84</td>\n",
       "      <td>21.14</td>\n",
       "      <td>11</td>\n",
       "      <td>1</td>\n",
       "      <td>0</td>\n",
       "    </tr>\n",
       "    <tr>\n",
       "      <th>4</th>\n",
       "      <td>4.3</td>\n",
       "      <td>2</td>\n",
       "      <td>7.00</td>\n",
       "      <td>66.84</td>\n",
       "      <td>21.14</td>\n",
       "      <td>11</td>\n",
       "      <td>1</td>\n",
       "      <td>0</td>\n",
       "    </tr>\n",
       "  </tbody>\n",
       "</table>\n",
       "</div>"
      ],
      "text/plain": [
       "   sweet  sweet_category   size  AveHum_7  AveTemp_7 month  quarter_3rd  \\\n",
       "0    4.3               2   7.54     66.84      21.14    11            1   \n",
       "1    4.5               2   6.48     66.84      21.14    11            1   \n",
       "2    4.0               1   8.68     66.84      21.14    11            1   \n",
       "3    3.5               1  10.50     66.84      21.14    11            1   \n",
       "4    4.3               2   7.00     66.84      21.14    11            1   \n",
       "\n",
       "   quarter_4th  \n",
       "0            0  \n",
       "1            0  \n",
       "2            0  \n",
       "3            0  \n",
       "4            0  "
      ]
     },
     "execution_count": 13,
     "metadata": {},
     "output_type": "execute_result"
    }
   ],
   "source": [
    "df.head()"
   ]
  },
  {
   "cell_type": "code",
   "execution_count": 14,
   "metadata": {},
   "outputs": [
    {
     "name": "stdout",
     "output_type": "stream",
     "text": [
      "(2176, 6)\n"
     ]
    }
   ],
   "source": [
    "y = df[\"sweet_category\"] #目的変数\n",
    "df.drop(['sweet','sweet_category'], axis=1, inplace=True) #目的変数の列を削除\n",
    "print(df.shape)"
   ]
  },
  {
   "cell_type": "code",
   "execution_count": 15,
   "metadata": {},
   "outputs": [],
   "source": [
    "df.drop(['month'], axis=1, inplace=True)"
   ]
  },
  {
   "cell_type": "code",
   "execution_count": 16,
   "metadata": {},
   "outputs": [],
   "source": [
    "# 訓練セットとテストセットに分割\n",
    "#X_train, X_test, y_train, y_test = train_test_split(df, y, test_size=0.2, stratify=y, random_state=0)\n",
    "#stratify は母集団のカテゴリの割合を保って分割するもので、目的変数を指定するのが一般的\n",
    "from sklearn.model_selection import train_test_split\n",
    "X_trainval, X_test, y_trainval, y_test = train_test_split(df, y, test_size=0.3, random_state=0, stratify=y)"
   ]
  },
  {
   "cell_type": "code",
   "execution_count": 17,
   "metadata": {},
   "outputs": [],
   "source": [
    "# ハイパーパラメータ\n",
    "params = {'n_estimators' : [3, 10, 100, 1000], 'max_depth' : [2, 4, 6, 8], 'n_jobs': [-1]}"
   ]
  },
  {
   "cell_type": "code",
   "execution_count": 18,
   "metadata": {},
   "outputs": [],
   "source": [
    "# モデルのインスタンス生成\n",
    "rf = RandomForestClassifier()"
   ]
  },
  {
   "cell_type": "code",
   "execution_count": 19,
   "metadata": {},
   "outputs": [
    {
     "name": "stderr",
     "output_type": "stream",
     "text": [
      "/home/yoshida/anaconda3/lib/python3.6/site-packages/sklearn/model_selection/_search.py:841: DeprecationWarning: The default of the `iid` parameter will change from True to False in version 0.22 and will be removed in 0.24. This will change numeric results when test-set sizes are unequal.\n",
      "  DeprecationWarning)\n"
     ]
    },
    {
     "data": {
      "text/plain": [
       "GridSearchCV(cv=10, error_score='raise-deprecating',\n",
       "       estimator=RandomForestClassifier(bootstrap=True, class_weight=None, criterion='gini',\n",
       "            max_depth=None, max_features='auto', max_leaf_nodes=None,\n",
       "            min_impurity_decrease=0.0, min_impurity_split=None,\n",
       "            min_samples_leaf=1, min_samples_split=2,\n",
       "            min_weight_fraction_leaf=0.0, n_estimators='warn', n_jobs=None,\n",
       "            oob_score=False, random_state=None, verbose=0,\n",
       "            warm_start=False),\n",
       "       fit_params=None, iid='warn', n_jobs=-1,\n",
       "       param_grid={'n_estimators': [3, 10, 100, 1000], 'max_depth': [2, 4, 6, 8], 'n_jobs': [-1]},\n",
       "       pre_dispatch='2*n_jobs', refit=True, return_train_score='warn',\n",
       "       scoring='accuracy', verbose=0)"
      ]
     },
     "execution_count": 19,
     "metadata": {},
     "output_type": "execute_result"
    }
   ],
   "source": [
    "from sklearn.model_selection import GridSearchCV\n",
    "# ハイパーパラメータ探索\n",
    "grid_search = GridSearchCV(rf, params, cv=10, scoring='accuracy', n_jobs=-1)\n",
    "grid_search.fit(X_trainval, y_trainval)"
   ]
  },
  {
   "cell_type": "code",
   "execution_count": 20,
   "metadata": {},
   "outputs": [
    {
     "name": "stdout",
     "output_type": "stream",
     "text": [
      "Best cross-validation: 0.754\n",
      "Best parameters : {'max_depth': 8, 'n_estimators': 1000, 'n_jobs': -1}\n",
      "Test set score : 0.763\n"
     ]
    }
   ],
   "source": [
    "# グリッドサーチの結果\n",
    "print('Best cross-validation: {}'.format(round(grid_search.best_score_, 3)))\n",
    "print('Best parameters : {}'.format(grid_search.best_params_))\n",
    "print('Test set score : {}'.format(round(grid_search.score(X_test, y_test), 3)))"
   ]
  },
  {
   "cell_type": "code",
   "execution_count": null,
   "metadata": {},
   "outputs": [],
   "source": []
  },
  {
   "cell_type": "code",
   "execution_count": null,
   "metadata": {},
   "outputs": [],
   "source": []
  },
  {
   "cell_type": "code",
   "execution_count": null,
   "metadata": {},
   "outputs": [],
   "source": []
  },
  {
   "cell_type": "code",
   "execution_count": null,
   "metadata": {},
   "outputs": [],
   "source": []
  },
  {
   "cell_type": "code",
   "execution_count": 20,
   "metadata": {},
   "outputs": [
    {
     "data": {
      "image/png": "[encoded data removed]",
      "text/plain": [
       "<Figure size 432x432 with 1 Axes>"
      ]
     },
     "metadata": {
      "needs_background": "light"
     },
     "output_type": "display_data"
    }
   ],
   "source": [
    "# ランダムフォレストには、特徴量の重要度を取得するツールがあるので、それを使ってグラフ化する\n",
    "features = X_train.columns #Index(['Pclass', 'Sex', 'Age', 'SibSp', 'Parch', 'Fare', 'Embarked'], dtype='object')\n",
    "importance = rnd_forest.feature_importances_\n",
    "indices = np.argsort(importance)\n",
    "\n",
    "plt.figure(figsize = (6, 6))\n",
    "plt.barh(range(len(indices)), importance[indices], color='b', align='center')\n",
    "plt.yticks(range(len(indices)), features[indices], fontsize=15)\n",
    "plt.xlabel(\"Feature importances\", fontsize=20)\n",
    "plt.show()"
   ]
  },
  {
   "cell_type": "code",
   "execution_count": 21,
   "metadata": {},
   "outputs": [],
   "source": [
    "# ランダムフォレストでは、AveSatu_7、AveHum_7、AveDiffTemp_7、monthを使ったときに、一番精度がよくなった（67.0%、66.9%）\n",
    "# しかし、以下のヒートマップからわかるように、AveSatu_7とAveHum_7は一緒に使ってはいけない(相関が大きすぎるから)\n",
    "# AveSatu_7、AveDiffTemp_7、monthを使ったときの精度（66.1%、66.6%）\n",
    "# AveHum_7、AveDiffTemp_7、monthを使ったときの精度（66.3%、66.6%）\n",
    "# 正直どっちもそんなに変わらなかった"
   ]
  },
  {
   "cell_type": "code",
   "execution_count": null,
   "metadata": {},
   "outputs": [],
   "source": []
  },
  {
   "cell_type": "code",
   "execution_count": null,
   "metadata": {},
   "outputs": [],
   "source": []
  },
  {
   "cell_type": "code",
   "execution_count": null,
   "metadata": {},
   "outputs": [],
   "source": []
  },
  {
   "cell_type": "code",
   "execution_count": null,
   "metadata": {},
   "outputs": [],
   "source": []
  },
  {
   "cell_type": "code",
   "execution_count": null,
   "metadata": {},
   "outputs": [],
   "source": []
  },
  {
   "cell_type": "code",
   "execution_count": null,
   "metadata": {},
   "outputs": [],
   "source": []
  },
  {
   "cell_type": "code",
   "execution_count": null,
   "metadata": {},
   "outputs": [],
   "source": []
  },
  {
   "cell_type": "code",
   "execution_count": null,
   "metadata": {},
   "outputs": [],
   "source": []
  },
  {
   "cell_type": "code",
   "execution_count": 22,
   "metadata": {},
   "outputs": [
    {
     "data": {
      "text/plain": [
       "<matplotlib.axes._subplots.AxesSubplot at 0x7f91390df5f8>"
      ]
     },
     "execution_count": 22,
     "metadata": {},
     "output_type": "execute_result"
    },
    {
     "data": {
      "image/png": "[encoded data removed]",
      "text/plain": [
       "<Figure size 1008x864 with 2 Axes>"
      ]
     },
     "metadata": {
      "needs_background": "light"
     },
     "output_type": "display_data"
    }
   ],
   "source": [
    "# 特徴量同士の相関をヒートマップで確認\n",
    "# ヒートマップを見れば解るが、\"Parch\"と\"FamilySize\"が比較的相関が高めであるが、そのままにしておく\n",
    "\n",
    "colormap = plt.cm.RdBu\n",
    "plt.figure(figsize=(14,12))\n",
    "plt.title('Environment Factors and Size of Tomatos', y=1.05, size=15)\n",
    "sns.heatmap(df.astype(float).corr(),linewidths=0.1,vmax=1.0, \n",
    "            square=True, cmap=colormap, linecolor='white', annot=True)"
   ]
  },
  {
   "cell_type": "code",
   "execution_count": null,
   "metadata": {},
   "outputs": [],
   "source": []
  },
  {
   "cell_type": "code",
   "execution_count": null,
   "metadata": {},
   "outputs": [],
   "source": []
  }
 ],
 "metadata": {
  "kernelspec": {
   "display_name": "Python 3",
   "language": "python",
   "name": "python3"
  },
  "language_info": {
   "codemirror_mode": {
    "name": "ipython",
    "version": 3
   },
   "file_extension": ".py",
   "mimetype": "text/x-python",
   "name": "python",
   "nbconvert_exporter": "python",
   "pygments_lexer": "ipython3",
   "version": "3.6.6"
  }
 },
 "nbformat": 4,
 "nbformat_minor": 2
}
